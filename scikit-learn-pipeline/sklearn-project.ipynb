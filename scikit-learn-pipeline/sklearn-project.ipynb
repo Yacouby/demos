{
 "cells": [
  {
   "cell_type": "markdown",
   "metadata": {},
   "source": [
    "# Demonstrate Local Or Remote Functions And Full Pipelines\n",
    "  --------------------------------------------------------------------\n",
    "\n",
    "Creating a local function, running predefined functions, creating and running a full ML pipeline with local and library functions.\n",
    "\n",
    "#### **notebook how-to's**\n",
    "* Create and test a simple function\n",
    "* Examine data using serverless (containarized) `describe` function\n",
    "* Create an automated ML pipeline from various library functions\n",
    "* Running and tracking the pipeline results and artifacts"
   ]
  },
  {
   "cell_type": "markdown",
   "metadata": {},
   "source": [
    "## Create and Test a Local Function (Iris Data Generator)\n",
    "Import nuclio SDK and magics, <b>do not remove the cell and comment !!!</b>"
   ]
  },
  {
   "cell_type": "code",
   "execution_count": 1,
   "metadata": {},
   "outputs": [],
   "source": [
    "# nuclio: ignore\n",
    "import mlrun"
   ]
  },
  {
   "cell_type": "markdown",
   "metadata": {},
   "source": [
    "#### Function code\n",
    "Generate the iris dataset and log the dataframe (as csv or parquet file)"
   ]
  },
  {
   "cell_type": "code",
   "execution_count": 2,
   "metadata": {},
   "outputs": [],
   "source": [
    "import os\n",
    "from sklearn.datasets import load_iris\n",
    "from sklearn.model_selection import train_test_split\n",
    "import numpy as np\n",
    "from sklearn.metrics import accuracy_score\n",
    "from mlrun.artifacts import TableArtifact, PlotArtifact\n",
    "import pandas as pd\n",
    "\n",
    "def iris_generator(context, format='csv'):\n",
    "    iris = load_iris()\n",
    "    iris_dataset = pd.DataFrame(data=iris.data, columns=iris.feature_names)\n",
    "    iris_labels = pd.DataFrame(data=iris.target, columns=['label'])\n",
    "    iris_dataset = pd.concat([iris_dataset, iris_labels], axis=1)\n",
    "    \n",
    "    context.logger.info('saving iris dataframe to {}'.format(context.artifact_path))\n",
    "    context.log_dataset('iris_dataset', df=iris_dataset, format=format, index=False)\n"
   ]
  },
  {
   "cell_type": "markdown",
   "metadata": {},
   "source": [
    "The following end-code annotation tells ```nuclio-jupyter``` parser to stop parsing the notebook from this cell. _**Please do not remove this cell**_:"
   ]
  },
  {
   "cell_type": "code",
   "execution_count": 3,
   "metadata": {},
   "outputs": [],
   "source": [
    "# nuclio: end-code\n",
    "# marks the end of a code section"
   ]
  },
  {
   "cell_type": "markdown",
   "metadata": {},
   "source": [
    "## Create a project to host our functions, jobs and artifacts\n",
    "\n",
    "Projects are used to package multiple functions, workflows, and artifacts. We usually store project code and definitions in a Git archive.\n",
    "\n",
    "The following code creates a new project in a local dir and initialize git tracking on that"
   ]
  },
  {
   "cell_type": "code",
   "execution_count": 4,
   "metadata": {},
   "outputs": [],
   "source": [
    "from os import path\n",
    "from mlrun import NewTask, import_function, mount_v3io, new_project, code_to_function\n",
    "\n",
    "\n",
    "# set the default environment configuration\n",
    "project_name_base = 'sk-project'\n",
    "project_name, artifact_path = mlrun.set_environment(project=project_name_base, artifact_path='./', user_project=True)\n",
    "\n",
    "# Create the project\n",
    "project_dir = './project'\n",
    "skproj = new_project(project_name, project_dir, init_git=True)"
   ]
  },
  {
   "cell_type": "markdown",
   "metadata": {},
   "source": [
    "<a id='test-locally'></a>\n",
    "### Run the data generator function locally\n",
    "\n",
    "The functions above can be tested locally. Parameters, inputs, and outputs can be specified in the API or the `Task` object.<br>\n",
    "when using `run_local()` the function inputs and outputs are automatically recorded by MLRun experiment and data tracking DB.\n",
    "\n",
    "In each run we can specify the function, inputs, parameters/hyper-parameters, etc... For more details, see the [mlrun_basics notebook](../getting-started-tutorial/01-mlrun-basics.ipynb)."
   ]
  },
  {
   "cell_type": "code",
   "execution_count": 5,
   "metadata": {},
   "outputs": [
    {
     "name": "stdout",
     "output_type": "stream",
     "text": [
      "> 2021-09-29 11:19:40,182 [info] starting run iris_gen uid=a7bf8c8011ad465787157d4829795688 DB=http://mlrun-api:8080\n",
      "> 2021-09-29 11:19:40,276 [info] saving iris dataframe to /User/test/demos/scikit-learn-pipeline/data\n"
     ]
    },
    {
     "data": {
      "text/html": [
       "<style>\n",
       ".dictlist {\n",
       "  background-color: #4EC64B;\n",
       "  text-align: center;\n",
       "  margin: 4px;\n",
       "  border-radius: 3px; padding: 0px 3px 1px 3px; display: inline-block;}\n",
       ".artifact {\n",
       "  cursor: pointer;\n",
       "  background-color: #4EC64B;\n",
       "  text-align: left;\n",
       "  margin: 4px; border-radius: 3px; padding: 0px 3px 1px 3px; display: inline-block;\n",
       "}\n",
       "div.block.hidden {\n",
       "  display: none;\n",
       "}\n",
       ".clickable {\n",
       "  cursor: pointer;\n",
       "}\n",
       ".ellipsis {\n",
       "  display: inline-block;\n",
       "  max-width: 60px;\n",
       "  white-space: nowrap;\n",
       "  overflow: hidden;\n",
       "  text-overflow: ellipsis;\n",
       "}\n",
       ".master-wrapper {\n",
       "  display: flex;\n",
       "  flex-flow: row nowrap;\n",
       "  justify-content: flex-start;\n",
       "  align-items: stretch;\n",
       "}\n",
       ".master-tbl {\n",
       "  flex: 3\n",
       "}\n",
       ".master-wrapper > div {\n",
       "  margin: 4px;\n",
       "  padding: 10px;\n",
       "}\n",
       "iframe.fileview {\n",
       "  border: 0 none;\n",
       "  height: 100%;\n",
       "  width: 100%;\n",
       "  white-space: pre-wrap;\n",
       "}\n",
       ".pane-header-title {\n",
       "  width: 80%;\n",
       "  font-weight: 500;\n",
       "}\n",
       ".pane-header {\n",
       "  line-height: 1;\n",
       "  background-color: #4EC64B;\n",
       "  padding: 3px;\n",
       "}\n",
       ".pane-header .close {\n",
       "  font-size: 20px;\n",
       "  font-weight: 700;\n",
       "  float: right;\n",
       "  margin-top: -5px;\n",
       "}\n",
       ".master-wrapper .right-pane {\n",
       "  border: 1px inset silver;\n",
       "  width: 40%;\n",
       "  min-height: 300px;\n",
       "  flex: 3\n",
       "  min-width: 500px;\n",
       "}\n",
       ".master-wrapper * {\n",
       "  box-sizing: border-box;\n",
       "}\n",
       "</style><script>\n",
       "function copyToClipboard(fld) {\n",
       "    if (document.queryCommandSupported && document.queryCommandSupported('copy')) {\n",
       "        var textarea = document.createElement('textarea');\n",
       "        textarea.textContent = fld.innerHTML;\n",
       "        textarea.style.position = 'fixed';\n",
       "        document.body.appendChild(textarea);\n",
       "        textarea.select();\n",
       "\n",
       "        try {\n",
       "            return document.execCommand('copy'); // Security exception may be thrown by some browsers.\n",
       "        } catch (ex) {\n",
       "\n",
       "        } finally {\n",
       "            document.body.removeChild(textarea);\n",
       "        }\n",
       "    }\n",
       "}\n",
       "function expandPanel(el) {\n",
       "  const panelName = \"#\" + el.getAttribute('paneName');\n",
       "  console.log(el.title);\n",
       "\n",
       "  document.querySelector(panelName + \"-title\").innerHTML = el.title\n",
       "  iframe = document.querySelector(panelName + \"-body\");\n",
       "\n",
       "  const tblcss = `<style> body { font-family: Arial, Helvetica, sans-serif;}\n",
       "    #csv { margin-bottom: 15px; }\n",
       "    #csv table { border-collapse: collapse;}\n",
       "    #csv table td { padding: 4px 8px; border: 1px solid silver;} </style>`;\n",
       "\n",
       "  function csvToHtmlTable(str) {\n",
       "    return '<div id=\"csv\"><table><tr><td>' +  str.replace(/[\\n\\r]+$/g, '').replace(/[\\n\\r]+/g, '</td></tr><tr><td>')\n",
       "      .replace(/,/g, '</td><td>') + '</td></tr></table></div>';\n",
       "  }\n",
       "\n",
       "  function reqListener () {\n",
       "    if (el.title.endsWith(\".csv\")) {\n",
       "      iframe.setAttribute(\"srcdoc\", tblcss + csvToHtmlTable(this.responseText));\n",
       "    } else {\n",
       "      iframe.setAttribute(\"srcdoc\", this.responseText);\n",
       "    }\n",
       "    console.log(this.responseText);\n",
       "  }\n",
       "\n",
       "  const oReq = new XMLHttpRequest();\n",
       "  oReq.addEventListener(\"load\", reqListener);\n",
       "  oReq.open(\"GET\", el.title);\n",
       "  oReq.send();\n",
       "\n",
       "\n",
       "  //iframe.src = el.title;\n",
       "  const resultPane = document.querySelector(panelName + \"-pane\");\n",
       "  if (resultPane.classList.contains(\"hidden\")) {\n",
       "    resultPane.classList.remove(\"hidden\");\n",
       "  }\n",
       "}\n",
       "function closePanel(el) {\n",
       "  const panelName = \"#\" + el.getAttribute('paneName')\n",
       "  const resultPane = document.querySelector(panelName + \"-pane\");\n",
       "  if (!resultPane.classList.contains(\"hidden\")) {\n",
       "    resultPane.classList.add(\"hidden\");\n",
       "  }\n",
       "}\n",
       "\n",
       "</script>\n",
       "<div class=\"master-wrapper\">\n",
       "  <div class=\"block master-tbl\"><div>\n",
       "<style scoped>\n",
       "    .dataframe tbody tr th:only-of-type {\n",
       "        vertical-align: middle;\n",
       "    }\n",
       "\n",
       "    .dataframe tbody tr th {\n",
       "        vertical-align: top;\n",
       "    }\n",
       "\n",
       "    .dataframe thead th {\n",
       "        text-align: right;\n",
       "    }\n",
       "</style>\n",
       "<table border=\"1\" class=\"dataframe\">\n",
       "  <thead>\n",
       "    <tr style=\"text-align: right;\">\n",
       "      <th>project</th>\n",
       "      <th>uid</th>\n",
       "      <th>iter</th>\n",
       "      <th>start</th>\n",
       "      <th>state</th>\n",
       "      <th>name</th>\n",
       "      <th>labels</th>\n",
       "      <th>inputs</th>\n",
       "      <th>parameters</th>\n",
       "      <th>results</th>\n",
       "      <th>artifacts</th>\n",
       "    </tr>\n",
       "  </thead>\n",
       "  <tbody>\n",
       "    <tr>\n",
       "      <td>sk-project-dani</td>\n",
       "      <td><div title=\"a7bf8c8011ad465787157d4829795688\"><a href=\"https://dashboard.default-tenant.app.dev8.lab.iguazeng.com/mlprojects/sk-project-dani/jobs/monitor/a7bf8c8011ad465787157d4829795688/overview\" target=\"_blank\" >...29795688</a></div></td>\n",
       "      <td>0</td>\n",
       "      <td>Sep 29 11:19:40</td>\n",
       "      <td>completed</td>\n",
       "      <td>iris_gen</td>\n",
       "      <td><div class=\"dictlist\">v3io_user=dani</div><div class=\"dictlist\">kind=handler</div><div class=\"dictlist\">owner=dani</div><div class=\"dictlist\">host=jupyter-dani-86575fbc89-k9xvr</div></td>\n",
       "      <td></td>\n",
       "      <td></td>\n",
       "      <td></td>\n",
       "      <td><div class=\"artifact\" onclick=\"expandPanel(this)\" paneName=\"result21e58677\" title=\"/files/test/demos/scikit-learn-pipeline/data/iris_dataset.csv\">iris_dataset</div></td>\n",
       "    </tr>\n",
       "  </tbody>\n",
       "</table>\n",
       "</div></div>\n",
       "  <div id=\"result21e58677-pane\" class=\"right-pane block hidden\">\n",
       "    <div class=\"pane-header\">\n",
       "      <span id=\"result21e58677-title\" class=\"pane-header-title\">Title</span>\n",
       "      <span onclick=\"closePanel(this)\" paneName=\"result21e58677\" class=\"close clickable\">&times;</span>\n",
       "    </div>\n",
       "    <iframe class=\"fileview\" id=\"result21e58677-body\"></iframe>\n",
       "  </div>\n",
       "</div>\n"
      ],
      "text/plain": [
       "<IPython.core.display.HTML object>"
      ]
     },
     "metadata": {},
     "output_type": "display_data"
    },
    {
     "name": "stdout",
     "output_type": "stream",
     "text": [
      "\n"
     ]
    },
    {
     "data": {
      "text/html": [
       "<b> > to track results use the .show() or .logs() methods  or <a href=\"https://dashboard.default-tenant.app.dev8.lab.iguazeng.com/mlprojects/sk-project-dani/jobs/monitor/a7bf8c8011ad465787157d4829795688/overview\" target=\"_blank\">click here</a> to open in UI</b>"
      ],
      "text/plain": [
       "<IPython.core.display.HTML object>"
      ]
     },
     "metadata": {},
     "output_type": "display_data"
    },
    {
     "name": "stdout",
     "output_type": "stream",
     "text": [
      "> 2021-09-29 11:19:40,410 [info] run executed, status=completed\n"
     ]
    }
   ],
   "source": [
    "# run the function locally\n",
    "gen = mlrun.run_local(name='iris_gen', handler=iris_generator, \n",
    "                      artifact_path=path.join(artifact_path, 'data')) "
   ]
  },
  {
   "cell_type": "markdown",
   "metadata": {},
   "source": [
    "#### Convert our local code to a distributed serverless function object "
   ]
  },
  {
   "cell_type": "code",
   "execution_count": 6,
   "metadata": {},
   "outputs": [
    {
     "data": {
      "text/plain": [
       "<mlrun.runtimes.kubejob.KubejobRuntime at 0x7f458bf96b90>"
      ]
     },
     "execution_count": 6,
     "metadata": {},
     "output_type": "execute_result"
    }
   ],
   "source": [
    "gen_func = code_to_function(name='gen_iris', kind='job')\n",
    "gen_func.spec.build.commands = ['pip install sklearn', 'pip install pyarrow']\n",
    "skproj.set_function(gen_func,image='mlrun/mlrun')"
   ]
  },
  {
   "cell_type": "markdown",
   "metadata": {},
   "source": [
    "## Load and run a library function (visualize dataset features and stats)\n",
    "\n",
    "<b>Step 1:</b> load the function object from the function hub (marketplace) into our project<br>\n",
    "> note: the function marketplace location is configurable, by default it points to `mlrun/functions` git\n"
   ]
  },
  {
   "cell_type": "code",
   "execution_count": 7,
   "metadata": {},
   "outputs": [],
   "source": [
    "describe = skproj.set_function('hub://describe')"
   ]
  },
  {
   "cell_type": "code",
   "execution_count": 8,
   "metadata": {},
   "outputs": [
    {
     "name": "stdout",
     "output_type": "stream",
     "text": [
      "function: describe\n",
      "describe and visualizes dataset stats\n",
      "default handler: summarize\n",
      "entry points:\n",
      "  summarize: Summarize a table\n",
      "    context(MLClientCtx)  - the function context, default=\n",
      "    table(DataItem)  - MLRun input pointing to pandas dataframe (csv/parquet file path), default=\n",
      "    label_column(str)  - ground truth column label, default=None\n",
      "    class_labels(List[str])  - label for each class in tables and plots, default=[]\n",
      "    plot_hist(bool)  - (True) set this to False for large tables, default=True\n",
      "    plots_dest(str)  - destination folder of summary plots (relative to artifact_path), default=plots\n",
      "    update_dataset  - when the table is a registered dataset update the charts in-place, default=False\n"
     ]
    }
   ],
   "source": [
    "# read the remote function doc, params, usage\n",
    "describe.doc()"
   ]
  },
  {
   "cell_type": "markdown",
   "metadata": {},
   "source": [
    "<b>Step 2:</b> Run the describe function as a Kubernetes job with specified parameters.\n",
    "\n",
    "> `mount_v3io()` vonnect our function to v3io shared file system and allow us to pass the data and get back the results (plots) directly to our notebook, we can choose other mount options to use NFS or object storage"
   ]
  },
  {
   "cell_type": "code",
   "execution_count": 9,
   "metadata": {},
   "outputs": [
    {
     "name": "stdout",
     "output_type": "stream",
     "text": [
      "> 2021-09-29 11:19:44,895 [info] starting run describe-summarize uid=b96fe534b27441c68eed09ff8360aa10 DB=http://mlrun-api:8080\n",
      "> 2021-09-29 11:19:45,017 [info] Job is running in the background, pod: describe-summarize-bzt8m\n",
      "> 2021-09-29 11:19:57,842 [info] run executed, status=completed\n",
      "final state: completed\n"
     ]
    },
    {
     "data": {
      "text/html": [
       "<style>\n",
       ".dictlist {\n",
       "  background-color: #4EC64B;\n",
       "  text-align: center;\n",
       "  margin: 4px;\n",
       "  border-radius: 3px; padding: 0px 3px 1px 3px; display: inline-block;}\n",
       ".artifact {\n",
       "  cursor: pointer;\n",
       "  background-color: #4EC64B;\n",
       "  text-align: left;\n",
       "  margin: 4px; border-radius: 3px; padding: 0px 3px 1px 3px; display: inline-block;\n",
       "}\n",
       "div.block.hidden {\n",
       "  display: none;\n",
       "}\n",
       ".clickable {\n",
       "  cursor: pointer;\n",
       "}\n",
       ".ellipsis {\n",
       "  display: inline-block;\n",
       "  max-width: 60px;\n",
       "  white-space: nowrap;\n",
       "  overflow: hidden;\n",
       "  text-overflow: ellipsis;\n",
       "}\n",
       ".master-wrapper {\n",
       "  display: flex;\n",
       "  flex-flow: row nowrap;\n",
       "  justify-content: flex-start;\n",
       "  align-items: stretch;\n",
       "}\n",
       ".master-tbl {\n",
       "  flex: 3\n",
       "}\n",
       ".master-wrapper > div {\n",
       "  margin: 4px;\n",
       "  padding: 10px;\n",
       "}\n",
       "iframe.fileview {\n",
       "  border: 0 none;\n",
       "  height: 100%;\n",
       "  width: 100%;\n",
       "  white-space: pre-wrap;\n",
       "}\n",
       ".pane-header-title {\n",
       "  width: 80%;\n",
       "  font-weight: 500;\n",
       "}\n",
       ".pane-header {\n",
       "  line-height: 1;\n",
       "  background-color: #4EC64B;\n",
       "  padding: 3px;\n",
       "}\n",
       ".pane-header .close {\n",
       "  font-size: 20px;\n",
       "  font-weight: 700;\n",
       "  float: right;\n",
       "  margin-top: -5px;\n",
       "}\n",
       ".master-wrapper .right-pane {\n",
       "  border: 1px inset silver;\n",
       "  width: 40%;\n",
       "  min-height: 300px;\n",
       "  flex: 3\n",
       "  min-width: 500px;\n",
       "}\n",
       ".master-wrapper * {\n",
       "  box-sizing: border-box;\n",
       "}\n",
       "</style><script>\n",
       "function copyToClipboard(fld) {\n",
       "    if (document.queryCommandSupported && document.queryCommandSupported('copy')) {\n",
       "        var textarea = document.createElement('textarea');\n",
       "        textarea.textContent = fld.innerHTML;\n",
       "        textarea.style.position = 'fixed';\n",
       "        document.body.appendChild(textarea);\n",
       "        textarea.select();\n",
       "\n",
       "        try {\n",
       "            return document.execCommand('copy'); // Security exception may be thrown by some browsers.\n",
       "        } catch (ex) {\n",
       "\n",
       "        } finally {\n",
       "            document.body.removeChild(textarea);\n",
       "        }\n",
       "    }\n",
       "}\n",
       "function expandPanel(el) {\n",
       "  const panelName = \"#\" + el.getAttribute('paneName');\n",
       "  console.log(el.title);\n",
       "\n",
       "  document.querySelector(panelName + \"-title\").innerHTML = el.title\n",
       "  iframe = document.querySelector(panelName + \"-body\");\n",
       "\n",
       "  const tblcss = `<style> body { font-family: Arial, Helvetica, sans-serif;}\n",
       "    #csv { margin-bottom: 15px; }\n",
       "    #csv table { border-collapse: collapse;}\n",
       "    #csv table td { padding: 4px 8px; border: 1px solid silver;} </style>`;\n",
       "\n",
       "  function csvToHtmlTable(str) {\n",
       "    return '<div id=\"csv\"><table><tr><td>' +  str.replace(/[\\n\\r]+$/g, '').replace(/[\\n\\r]+/g, '</td></tr><tr><td>')\n",
       "      .replace(/,/g, '</td><td>') + '</td></tr></table></div>';\n",
       "  }\n",
       "\n",
       "  function reqListener () {\n",
       "    if (el.title.endsWith(\".csv\")) {\n",
       "      iframe.setAttribute(\"srcdoc\", tblcss + csvToHtmlTable(this.responseText));\n",
       "    } else {\n",
       "      iframe.setAttribute(\"srcdoc\", this.responseText);\n",
       "    }\n",
       "    console.log(this.responseText);\n",
       "  }\n",
       "\n",
       "  const oReq = new XMLHttpRequest();\n",
       "  oReq.addEventListener(\"load\", reqListener);\n",
       "  oReq.open(\"GET\", el.title);\n",
       "  oReq.send();\n",
       "\n",
       "\n",
       "  //iframe.src = el.title;\n",
       "  const resultPane = document.querySelector(panelName + \"-pane\");\n",
       "  if (resultPane.classList.contains(\"hidden\")) {\n",
       "    resultPane.classList.remove(\"hidden\");\n",
       "  }\n",
       "}\n",
       "function closePanel(el) {\n",
       "  const panelName = \"#\" + el.getAttribute('paneName')\n",
       "  const resultPane = document.querySelector(panelName + \"-pane\");\n",
       "  if (!resultPane.classList.contains(\"hidden\")) {\n",
       "    resultPane.classList.add(\"hidden\");\n",
       "  }\n",
       "}\n",
       "\n",
       "</script>\n",
       "<div class=\"master-wrapper\">\n",
       "  <div class=\"block master-tbl\"><div>\n",
       "<style scoped>\n",
       "    .dataframe tbody tr th:only-of-type {\n",
       "        vertical-align: middle;\n",
       "    }\n",
       "\n",
       "    .dataframe tbody tr th {\n",
       "        vertical-align: top;\n",
       "    }\n",
       "\n",
       "    .dataframe thead th {\n",
       "        text-align: right;\n",
       "    }\n",
       "</style>\n",
       "<table border=\"1\" class=\"dataframe\">\n",
       "  <thead>\n",
       "    <tr style=\"text-align: right;\">\n",
       "      <th>project</th>\n",
       "      <th>uid</th>\n",
       "      <th>iter</th>\n",
       "      <th>start</th>\n",
       "      <th>state</th>\n",
       "      <th>name</th>\n",
       "      <th>labels</th>\n",
       "      <th>inputs</th>\n",
       "      <th>parameters</th>\n",
       "      <th>results</th>\n",
       "      <th>artifacts</th>\n",
       "    </tr>\n",
       "  </thead>\n",
       "  <tbody>\n",
       "    <tr>\n",
       "      <td>sk-project-dani</td>\n",
       "      <td><div title=\"b96fe534b27441c68eed09ff8360aa10\"><a href=\"https://dashboard.default-tenant.app.dev8.lab.iguazeng.com/mlprojects/sk-project-dani/jobs/monitor/b96fe534b27441c68eed09ff8360aa10/overview\" target=\"_blank\" >...8360aa10</a></div></td>\n",
       "      <td>0</td>\n",
       "      <td>Sep 29 11:19:51</td>\n",
       "      <td>completed</td>\n",
       "      <td>describe-summarize</td>\n",
       "      <td><div class=\"dictlist\">v3io_user=dani</div><div class=\"dictlist\">kind=job</div><div class=\"dictlist\">owner=dani</div><div class=\"dictlist\">host=describe-summarize-bzt8m</div></td>\n",
       "      <td><div title=\"store://artifacts/sk-project-dani/iris_gen_iris_dataset:a7bf8c8011ad465787157d4829795688\">table</div></td>\n",
       "      <td><div class=\"dictlist\">label_column=label</div></td>\n",
       "      <td></td>\n",
       "      <td><div class=\"artifact\" onclick=\"expandPanel(this)\" paneName=\"result5ca881b6\" title=\"/files/test/demos/scikit-learn-pipeline/plots/hist.html\">histograms</div><div class=\"artifact\" onclick=\"expandPanel(this)\" paneName=\"result5ca881b6\" title=\"/files/test/demos/scikit-learn-pipeline/plots/violin.html\">violin</div><div class=\"artifact\" onclick=\"expandPanel(this)\" paneName=\"result5ca881b6\" title=\"/files/test/demos/scikit-learn-pipeline/plots/imbalance.html\">imbalance</div><div class=\"artifact\" onclick=\"expandPanel(this)\" paneName=\"result5ca881b6\" title=\"/files/test/demos/scikit-learn-pipeline/plots/imbalance-weights-vec.csv\">imbalance-weights-vec</div><div class=\"artifact\" onclick=\"expandPanel(this)\" paneName=\"result5ca881b6\" title=\"/files/test/demos/scikit-learn-pipeline/plots/correlation-matrix.csv\">correlation-matrix</div><div class=\"artifact\" onclick=\"expandPanel(this)\" paneName=\"result5ca881b6\" title=\"/files/test/demos/scikit-learn-pipeline/plots/corr.html\">correlation</div></td>\n",
       "    </tr>\n",
       "  </tbody>\n",
       "</table>\n",
       "</div></div>\n",
       "  <div id=\"result5ca881b6-pane\" class=\"right-pane block hidden\">\n",
       "    <div class=\"pane-header\">\n",
       "      <span id=\"result5ca881b6-title\" class=\"pane-header-title\">Title</span>\n",
       "      <span onclick=\"closePanel(this)\" paneName=\"result5ca881b6\" class=\"close clickable\">&times;</span>\n",
       "    </div>\n",
       "    <iframe class=\"fileview\" id=\"result5ca881b6-body\"></iframe>\n",
       "  </div>\n",
       "</div>\n"
      ],
      "text/plain": [
       "<IPython.core.display.HTML object>"
      ]
     },
     "metadata": {},
     "output_type": "display_data"
    },
    {
     "name": "stdout",
     "output_type": "stream",
     "text": [
      "\n"
     ]
    },
    {
     "data": {
      "text/html": [
       "<b> > to track results use the .show() or .logs() methods  or <a href=\"https://dashboard.default-tenant.app.dev8.lab.iguazeng.com/mlprojects/sk-project-dani/jobs/monitor/b96fe534b27441c68eed09ff8360aa10/overview\" target=\"_blank\">click here</a> to open in UI</b>"
      ],
      "text/plain": [
       "<IPython.core.display.HTML object>"
      ]
     },
     "metadata": {},
     "output_type": "display_data"
    },
    {
     "name": "stdout",
     "output_type": "stream",
     "text": [
      "> 2021-09-29 11:20:04,420 [info] run executed, status=completed\n"
     ]
    },
    {
     "data": {
      "text/plain": [
       "<mlrun.model.RunObject at 0x7f458c6030d0>"
      ]
     },
     "execution_count": 9,
     "metadata": {},
     "output_type": "execute_result"
    }
   ],
   "source": [
    "describe.apply(mount_v3io()).run(params={'label_column': 'label'}, \n",
    "                                          inputs={\"table\": gen.outputs['iris_dataset']}, \n",
    "                                          artifact_path=artifact_path)"
   ]
  },
  {
   "cell_type": "markdown",
   "metadata": {},
   "source": [
    "## Create a Fully Automated ML Pipeline\n",
    "\n",
    "#### Add more functions to our project to be used in our pipeline (from the functions hub/marketplace)\n",
    "\n",
    "AutoML training (classifier), Model validation (test_classifier), Real-time model server, and Model REST API Tester"
   ]
  },
  {
   "cell_type": "code",
   "execution_count": 10,
   "metadata": {},
   "outputs": [
    {
     "data": {
      "text/plain": [
       "<mlrun.runtimes.kubejob.KubejobRuntime at 0x7f4597b895d0>"
      ]
     },
     "execution_count": 10,
     "metadata": {},
     "output_type": "execute_result"
    }
   ],
   "source": [
    "skproj.set_function('hub://sklearn_classifier', 'train')\n",
    "skproj.set_function('hub://test_classifier', 'test')\n",
    "skproj.set_function('hub://v2_model_server', 'serving')\n",
    "skproj.set_function('hub://v2_model_tester', 'live_tester')\n",
    "#print(skproj.to_yaml())"
   ]
  },
  {
   "cell_type": "markdown",
   "metadata": {},
   "source": [
    "#### Define and save a pipeline \n",
    "\n",
    "The following workflow definition will be written into a file, it describes a Kubeflow execution graph (DAG)<br>\n",
    "and how functions and data are connected  to form an end to end pipeline. \n",
    "\n",
    "* Build the iris generator (ingest) function container \n",
    "* Ingest the iris data\n",
    "* Analyze the dataset (describe)\n",
    "* Train and test the model\n",
    "* Deploy the model as a real-time serverless function\n",
    "* Test the serverless function REST API with test dataset\n",
    "\n",
    "Check the code below to see how functions objects are initialized and used (by name) inside the workflow.<br>\n",
    "The `workflow.py` file has two parts, initialize the function objects and define pipeline dsl (connect the function inputs and outputs).\n",
    "\n",
    "> Note: the pipeline can include CI steps like building container images and deploying models as illustrated  in the following example.\n"
   ]
  },
  {
   "cell_type": "code",
   "execution_count": 11,
   "metadata": {},
   "outputs": [
    {
     "name": "stdout",
     "output_type": "stream",
     "text": [
      "Overwriting project/workflow.py\n"
     ]
    }
   ],
   "source": [
    "%%writefile project/workflow.py\n",
    "from kfp import dsl\n",
    "from mlrun import mount_v3io\n",
    "\n",
    "funcs = {}\n",
    "DATASET = 'iris_dataset'\n",
    "LABELS  = \"label\"\n",
    "\n",
    "\n",
    "# init functions is used to configure function resources and local settings\n",
    "def init_functions(functions: dict, project=None, secrets=None):\n",
    "    for f in functions.values():\n",
    "        f.apply(mount_v3io())\n",
    "     \n",
    "    # uncomment this line to collect the inference results into a stream\n",
    "    # and specify a path in V3IO (<datacontainer>/<subpath>)\n",
    "    # functions['serving'].set_tracking(f'projects/{project.name}/model_stream')\n",
    "\n",
    "    \n",
    "@dsl.pipeline(\n",
    "    name=\"Demo training pipeline\",\n",
    "    description=\"Shows how to use mlrun.\"\n",
    ")\n",
    "def kfpipeline():\n",
    "    \n",
    "    # build our ingestion function (container image)\n",
    "    builder = funcs['gen-iris'].deploy_step(skip_deployed=True)\n",
    "    \n",
    "    # run the ingestion function with the new image and params\n",
    "    ingest = funcs['gen-iris'].as_step(\n",
    "        name=\"get-data\",\n",
    "        handler='iris_generator',\n",
    "        image=builder.outputs['image'],\n",
    "        params={'format': 'pq'},\n",
    "        outputs=[DATASET])\n",
    "\n",
    "    # analyze our dataset\n",
    "    describe = funcs[\"describe\"].as_step(\n",
    "        name=\"summary\",\n",
    "        params={\"label_column\": LABELS},\n",
    "        inputs={\"table\": ingest.outputs[DATASET]})\n",
    "    \n",
    "    # train with hyper-paremeters \n",
    "    train = funcs[\"train\"].as_step(\n",
    "        name=\"train\",\n",
    "        params={\"sample\"          : -1, \n",
    "                \"label_column\"    : LABELS,\n",
    "                \"test_size\"       : 0.10},\n",
    "        hyperparams={'model_pkg_class': [\"sklearn.ensemble.RandomForestClassifier\", \n",
    "                                         \"sklearn.linear_model.LogisticRegression\",\n",
    "                                         \"sklearn.ensemble.AdaBoostClassifier\"]},\n",
    "        selector='max.accuracy',\n",
    "        inputs={\"dataset\"         : ingest.outputs[DATASET]},\n",
    "        outputs=['model', 'test_set'])\n",
    "\n",
    "    # test and visualize our model\n",
    "    test = funcs[\"test\"].as_step(\n",
    "        name=\"test\",\n",
    "        params={\"label_column\": LABELS},\n",
    "        inputs={\"models_path\" : train.outputs['model'],\n",
    "                \"test_set\"    : train.outputs['test_set']})\n",
    "\n",
    "    # deploy our model as a serverless function, we can pass a list of models to serve \n",
    "    deploy = funcs[\"serving\"].deploy_step(models=[{\"key\": f\"{DATASET}:v1\", \"model_path\": train.outputs['model']}])\n",
    "    \n",
    "    # test out new model server (via REST API calls)\n",
    "    tester = funcs[\"live_tester\"].as_step(name='model-tester',\n",
    "        params={'addr': deploy.outputs['endpoint'], 'model': f\"{DATASET}:v1\"},\n",
    "        inputs={'table': train.outputs['test_set']})\n"
   ]
  },
  {
   "cell_type": "code",
   "execution_count": 12,
   "metadata": {},
   "outputs": [],
   "source": [
    "# register the workflow file as \"main\", embed the workflow code into the project YAML\n",
    "skproj.set_workflow('main', 'workflow.py', embed=True)"
   ]
  },
  {
   "cell_type": "markdown",
   "metadata": {},
   "source": [
    "Save the project definitions to a file (project.yaml), it is recommended to commit all changes to a Git repo."
   ]
  },
  {
   "cell_type": "code",
   "execution_count": 13,
   "metadata": {},
   "outputs": [],
   "source": [
    "skproj.save()"
   ]
  },
  {
   "cell_type": "markdown",
   "metadata": {},
   "source": [
    "<a id='run-pipeline'></a>\n",
    "## Run a pipeline workflow\n",
    "use the `run` method to execute a workflow, you can provide alternative arguments and specify the default target for workflow artifacts.<br>\n",
    "The workflow ID is returned and can be used to track the progress or you can use the hyperlinks\n",
    "\n",
    "> Note: The same command can be issued through CLI commands:<br>\n",
    "    `mlrun project my-proj/ -r main -p \"v3io:///users/admin/mlrun/kfp/{{workflow.uid}}/\"`\n",
    "\n",
    "The `dirty` flag allow us to run a project with uncommited changes (when the notebook is in the same git dir it will always be dirty)<br>\n",
    "The `watch` flag will wait for the pipeline to complete and print results\n",
    "\n",
    "In this cell we will run the `main` workflow via `KubeFlow Pipelines` on top of our cluster.  \n",
    "Running the pipeline may take some time. Due to possible jupyter timeout, it's best to track the pipeline's progress via KFP or the MLRun UI."
   ]
  },
  {
   "cell_type": "code",
   "execution_count": null,
   "metadata": {},
   "outputs": [
    {
     "data": {
      "image/svg+xml": [
       "<?xml version=\"1.0\" encoding=\"UTF-8\" standalone=\"no\"?>\n",
       "<!DOCTYPE svg PUBLIC \"-//W3C//DTD SVG 1.1//EN\"\n",
       " \"http://www.w3.org/Graphics/SVG/1.1/DTD/svg11.dtd\">\n",
       "<!-- Generated by graphviz version 2.40.1 (20161225.0304)\n",
       " -->\n",
       "<!-- Title: kfp Pages: 1 -->\n",
       "<svg width=\"200pt\" height=\"188pt\"\n",
       " viewBox=\"0.00 0.00 200.09 188.00\" xmlns=\"http://www.w3.org/2000/svg\" xmlns:xlink=\"http://www.w3.org/1999/xlink\">\n",
       "<g id=\"graph0\" class=\"graph\" transform=\"scale(1 1) rotate(0) translate(4 184)\">\n",
       "<title>kfp</title>\n",
       "<polygon fill=\"#ffffff\" stroke=\"transparent\" points=\"-4,4 -4,-184 196.0923,-184 196.0923,4 -4,4\"/>\n",
       "<!-- demo&#45;training&#45;pipeline&#45;l7s6d&#45;13221413 -->\n",
       "<g id=\"node1\" class=\"node\">\n",
       "<title>demo&#45;training&#45;pipeline&#45;l7s6d&#45;13221413</title>\n",
       "<ellipse fill=\"#d3d3d3\" stroke=\"#000000\" cx=\"33.1471\" cy=\"-18\" rx=\"33.2948\" ry=\"18\"/>\n",
       "<text text-anchor=\"middle\" x=\"33.1471\" y=\"-14.3\" font-family=\"Times,serif\" font-size=\"14.00\" fill=\"#000000\">train</text>\n",
       "</g>\n",
       "<!-- demo&#45;training&#45;pipeline&#45;l7s6d&#45;158443727 -->\n",
       "<g id=\"node2\" class=\"node\">\n",
       "<title>demo&#45;training&#45;pipeline&#45;l7s6d&#45;158443727</title>\n",
       "<polygon fill=\"#00ff00\" stroke=\"#000000\" points=\"146.1471,-180 24.1471,-180 24.1471,-144 146.1471,-144 146.1471,-180\"/>\n",
       "<text text-anchor=\"middle\" x=\"85.1471\" y=\"-158.3\" font-family=\"Times,serif\" font-size=\"14.00\" fill=\"#000000\">deploy&#45;gen&#45;iris</text>\n",
       "</g>\n",
       "<!-- demo&#45;training&#45;pipeline&#45;l7s6d&#45;2611183026 -->\n",
       "<g id=\"node3\" class=\"node\">\n",
       "<title>demo&#45;training&#45;pipeline&#45;l7s6d&#45;2611183026</title>\n",
       "<ellipse fill=\"#00ff00\" stroke=\"#000000\" cx=\"85.1471\" cy=\"-90\" rx=\"49.2915\" ry=\"18\"/>\n",
       "<text text-anchor=\"middle\" x=\"85.1471\" y=\"-86.3\" font-family=\"Times,serif\" font-size=\"14.00\" fill=\"#000000\">get&#45;data</text>\n",
       "</g>\n",
       "<!-- demo&#45;training&#45;pipeline&#45;l7s6d&#45;158443727&#45;&gt;demo&#45;training&#45;pipeline&#45;l7s6d&#45;2611183026 -->\n",
       "<g id=\"edge1\" class=\"edge\">\n",
       "<title>demo&#45;training&#45;pipeline&#45;l7s6d&#45;158443727&#45;&gt;demo&#45;training&#45;pipeline&#45;l7s6d&#45;2611183026</title>\n",
       "<path fill=\"none\" stroke=\"#000000\" d=\"M85.1471,-143.8314C85.1471,-136.131 85.1471,-126.9743 85.1471,-118.4166\"/>\n",
       "<polygon fill=\"#000000\" stroke=\"#000000\" points=\"88.6472,-118.4132 85.1471,-108.4133 81.6472,-118.4133 88.6472,-118.4132\"/>\n",
       "</g>\n",
       "<!-- demo&#45;training&#45;pipeline&#45;l7s6d&#45;2611183026&#45;&gt;demo&#45;training&#45;pipeline&#45;l7s6d&#45;13221413 -->\n",
       "<g id=\"edge2\" class=\"edge\">\n",
       "<title>demo&#45;training&#45;pipeline&#45;l7s6d&#45;2611183026&#45;&gt;demo&#45;training&#45;pipeline&#45;l7s6d&#45;13221413</title>\n",
       "<path fill=\"none\" stroke=\"#000000\" d=\"M72.5593,-72.5708C66.1429,-63.6866 58.2258,-52.7245 51.1748,-42.9615\"/>\n",
       "<polygon fill=\"#000000\" stroke=\"#000000\" points=\"53.9532,-40.8305 45.2608,-34.7729 48.2784,-44.929 53.9532,-40.8305\"/>\n",
       "</g>\n",
       "<!-- demo&#45;training&#45;pipeline&#45;l7s6d&#45;180514743 -->\n",
       "<g id=\"node4\" class=\"node\">\n",
       "<title>demo&#45;training&#45;pipeline&#45;l7s6d&#45;180514743</title>\n",
       "<ellipse fill=\"#d3d3d3\" stroke=\"#000000\" cx=\"138.1471\" cy=\"-18\" rx=\"53.8905\" ry=\"18\"/>\n",
       "<text text-anchor=\"middle\" x=\"138.1471\" y=\"-14.3\" font-family=\"Times,serif\" font-size=\"14.00\" fill=\"#000000\">summary</text>\n",
       "</g>\n",
       "<!-- demo&#45;training&#45;pipeline&#45;l7s6d&#45;2611183026&#45;&gt;demo&#45;training&#45;pipeline&#45;l7s6d&#45;180514743 -->\n",
       "<g id=\"edge3\" class=\"edge\">\n",
       "<title>demo&#45;training&#45;pipeline&#45;l7s6d&#45;2611183026&#45;&gt;demo&#45;training&#45;pipeline&#45;l7s6d&#45;180514743</title>\n",
       "<path fill=\"none\" stroke=\"#000000\" d=\"M97.9769,-72.5708C104.3745,-63.8797 112.2359,-53.2001 119.3027,-43.5998\"/>\n",
       "<polygon fill=\"#000000\" stroke=\"#000000\" points=\"122.1422,-45.6465 125.2517,-35.5182 116.5048,-41.4968 122.1422,-45.6465\"/>\n",
       "</g>\n",
       "</g>\n",
       "</svg>\n"
      ],
      "text/plain": [
       "<graphviz.dot.Digraph at 0x7f458bb7cd10>"
      ]
     },
     "metadata": {},
     "output_type": "display_data"
    }
   ],
   "source": [
    "artifact_path = path.abspath('./pipe/{{workflow.uid}}')\n",
    "run_id = skproj.run(\n",
    "    'main',\n",
    "    arguments={}, \n",
    "    artifact_path=artifact_path, \n",
    "    dirty=True, watch=True)"
   ]
  },
  {
   "cell_type": "markdown",
   "metadata": {},
   "source": [
    "**[back to top](#top)**"
   ]
  }
 ],
 "metadata": {
  "kernelspec": {
   "display_name": "Python 3",
   "language": "python",
   "name": "python3"
  },
  "language_info": {
   "codemirror_mode": {
    "name": "ipython",
    "version": 3
   },
   "file_extension": ".py",
   "mimetype": "text/x-python",
   "name": "python",
   "nbconvert_exporter": "python",
   "pygments_lexer": "ipython3",
   "version": "3.7.6"
  }
 },
 "nbformat": 4,
 "nbformat_minor": 4
}
