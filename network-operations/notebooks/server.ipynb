{
 "cells": [
  {
   "cell_type": "markdown",
   "metadata": {},
   "source": [
    "# Model Server"
   ]
  },
  {
   "cell_type": "markdown",
   "metadata": {},
   "source": [
    "## Environment"
   ]
  },
  {
   "cell_type": "code",
   "execution_count": 72,
   "metadata": {},
   "outputs": [],
   "source": [
    "import nuclio"
   ]
  },
  {
   "cell_type": "code",
   "execution_count": 83,
   "metadata": {},
   "outputs": [],
   "source": [
    "import os\n",
    "\n",
    "base_path = os.path.abspath('../')\n",
    "data_path = os.path.join(base_path, 'data')\n",
    "src_path = os.path.join(base_path, 'src')\n",
    "streaming_path = os.path.join(base_path, 'streaming')\n",
    "\n",
    "os.environ['base_path'] = base_path\n",
    "os.environ['data_path'] = data_path\n",
    "os.environ['src_path'] = src_path\n",
    "os.environ['streaming_path'] = streaming_path\n",
    "\n",
    "os.environ['METRICS_TABLE'] = streaming_path\n",
    "os.environ['FEATURES_TABLE'] = streaming_path+'/metrics'\n",
    "os.environ['PREDICTIONS_TABLE'] = streaming_path+'/predictions'\n",
    "os.environ['BATCHES_TO_GENERATE'] = '20'\n",
    "os.environ['model_path'] = os.path.abspath('../') + '/artifacts/model/1/model.pkl'\n",
    "os.environ['model_name'] = 'netops_predictor_v1'\n",
    "os.environ['model_class'] = 'MLRunModel'\n",
    "os.environ['model_col'] = 'model'\n",
    "os.environ['model_class_col'] = 'class'\n",
    "os.environ['prediction_col'] = 'predictions'\n",
    "os.environ['worker_col'] = 'worker'\n",
    "os.environ['hostname_col'] = 'hostname'\n",
    "os.environ['timestamp_col'] = 'when'\n",
    "os.environ['orig_timestamp_col'] = 'timestamp'"
   ]
  },
  {
   "cell_type": "markdown",
   "metadata": {},
   "source": [
    "## Function"
   ]
  },
  {
   "cell_type": "code",
   "execution_count": 52,
   "metadata": {},
   "outputs": [],
   "source": [
    "# nuclio: start-code"
   ]
  },
  {
   "cell_type": "code",
   "execution_count": 53,
   "metadata": {},
   "outputs": [],
   "source": [
    "import os\n",
    "import pandas as pd\n",
    "import cloudpickle\n",
    "import numpy as np\n",
    "import json\n",
    "from mlrun import get_or_create_ctx\n",
    "import socket"
   ]
  },
  {
   "cell_type": "code",
   "execution_count": 54,
   "metadata": {},
   "outputs": [],
   "source": [
    "def get_data_parquet(context):\n",
    "    mpath = [os.path.join(context.features_table, file) for file in os.listdir(context.features_table) if file.endswith(('parquet', 'pq'))]\n",
    "    files_by_updated = sorted(mpath, key=os.path.getmtime, reverse=True)\n",
    "    return pd.read_parquet(files_by_updated[:1][0])"
   ]
  },
  {
   "cell_type": "code",
   "execution_count": 55,
   "metadata": {},
   "outputs": [],
   "source": [
    "def save_to_parquet(context, df: pd.DataFrame):\n",
    "    print('Saving features to Parquet')\n",
    "    \n",
    "    # Need to fix timestamps from ns to ms if we write to parquet \n",
    "    # And add this model name to indexes\n",
    "    keys = list([name if name != context.orig_timestamp_col else context.timestamp_col for name in df.index.names]) + [context.model_col, context.model_class_col, context.worker_col, context.hostname_col]\n",
    "    df = df.reset_index()\n",
    "    df[context.timestamp_col] = df.pop(context.orig_timestamp_col).astype('datetime64[ms]')\n",
    "    \n",
    "    # Fix indexes\n",
    "    df = df.set_index(keys)\n",
    "    \n",
    "    # Save parquet\n",
    "    first_timestamp = df.index[0][0].strftime('%Y%m%dT%H%M%S')\n",
    "    last_timestamp = df.index[-1][0].strftime('%Y%m%dT%H%M%S')\n",
    "    filename = first_timestamp + '-' + last_timestamp + '.parquet'\n",
    "    filepath = os.path.join(context.predictions_table, filename)\n",
    "    with open(filepath, 'wb+') as f:\n",
    "        df.to_parquet(f)"
   ]
  },
  {
   "cell_type": "code",
   "execution_count": 56,
   "metadata": {},
   "outputs": [],
   "source": [
    "def init_context(context):\n",
    "    \n",
    "    # How many batches to create? (-1 will run forever)\n",
    "    batches_to_generate = int(os.getenv('BATCHES_TO_GENERATE', 20))\n",
    "    setattr(context, 'batches_to_generate', batches_to_generate)\n",
    "    setattr(context, 'batches_generated', 0)\n",
    "    \n",
    "    # Set vars from env\n",
    "    setattr(context, 'model_name', os.getenv('model_name', 'netops_model'))\n",
    "    setattr(context, 'model_col', os.getenv('model_col', 'model'))\n",
    "    setattr(context, 'model_class_col', os.getenv('model_class_col', 'class'))\n",
    "    setattr(context, 'worker_col', os.getenv('worker_col', 'worker'))\n",
    "    setattr(context, 'hostname_col', os.getenv('hostname_col', 'hostname'))\n",
    "    setattr(context, 'timestamp_col', os.getenv('timestamp_col', 'when'))\n",
    "    setattr(context, 'orig_timestamp_col', os.getenv('orig_timestamp_col', 'timestamp'))\n",
    "    setattr(context, 'features_table', os.getenv('FEATURES_TABLE', 'netops_features'))\n",
    "    setattr(context, 'predictions_table', os.getenv('PREDICTIONS_TABLE', 'netops_predictions'))\n",
    "    setattr(context, 'prediction_col', os.getenv('prediction_col', 'prediction'))\n",
    "    \n",
    "    # Load model\n",
    "    model_path = os.environ['model_path']\n",
    "    if model_path.startswith('store://'):\n",
    "        mlctx = get_or_create_ctx('inference')\n",
    "        model = mlctx.get_dataitem(model_path)\n",
    "        model_path = os.path.join(model.url, 'model.pkl')\n",
    "    with open(model_path, 'rb') as f:\n",
    "        model = cloudpickle.load(f)\n",
    "    setattr(context, 'model', model)\n",
    "    setattr(context, 'model_class', type(model).__name__)\n",
    "    \n",
    "     # Create saving directory if needed\n",
    "    filepath = os.path.join(context.predictions_table)\n",
    "    if not os.path.exists(filepath):\n",
    "        os.makedirs(filepath)"
   ]
  },
  {
   "cell_type": "code",
   "execution_count": 97,
   "metadata": {},
   "outputs": [],
   "source": [
    "def handler(context, event):\n",
    "    \n",
    "    # Limit the number of generated batches to save cluster resources\n",
    "    # for people forgetting the demo running\n",
    "    if (context.batches_to_generate == -1) or (context.batches_generated <= context.batches_to_generate):\n",
    "    \n",
    "        if getattr(event.trigger, 'kind', 'cron') == 'cron':\n",
    "            # Get latest parquets\n",
    "            df = get_data_parquet(context)\n",
    "            \n",
    "            # Predict\n",
    "            if('is_error' in df.columns):\n",
    "                df[context.prediction_col] = context.model.predict(df.drop(['is_error'],axis=1).values)\n",
    "            else:\n",
    "                df[context.prediction_col] = context.model.predict(df.values)\n",
    "\n",
    "            # Add server metadata\n",
    "            df[context.model_col] = context.model_name\n",
    "            df[context.model_class_col] = context.model_class\n",
    "            df[context.worker_col] = context.worker_id\n",
    "            df[context.hostname_col] = socket.gethostname()\n",
    "\n",
    "            # Save\n",
    "            save_to_parquet(context, df)\n",
    "        else:\n",
    "            body = json.loads(event.body)\n",
    "            feats = np.asarray(body['instances'])\n",
    "            result: np.ndarray = context.model.predict(feats)\n",
    "            return result.tolist()\n",
    "        \n",
    "        # Update batches count\n",
    "        context.batches_generated += 1"
   ]
  },
  {
   "cell_type": "code",
   "execution_count": 58,
   "metadata": {},
   "outputs": [],
   "source": [
    "# nuclio: end-code"
   ]
  },
  {
   "cell_type": "markdown",
   "metadata": {},
   "source": [
    "## Local test"
   ]
  },
  {
   "cell_type": "code",
   "execution_count": 27,
   "metadata": {},
   "outputs": [],
   "source": [
    "import mlrun\n",
    "import os \n",
    "\n",
    "fn = mlrun.import_function('hub:///sklearn_classifier')\n",
    "fn.apply(mlrun.platforms.v3io_cred())\n",
    "fn.apply(mlrun.mount_v3io())\n",
    "fn.spec.build.base_image = 'mlrun/ml-models'\n",
    "fn.spec.build.commands = ['pip install scikit-learn==0.24.2']\n",
    "sample_size = -1\n",
    "test_size = 0.1\n",
    "train_val_split = 0.75\n",
    "label_column = 'is_error'\n",
    "\n",
    "task = mlrun.new_task(name='train',\n",
    "               params={\"sample\"          : sample_size,\n",
    "                       \"label_column\"    : label_column,\n",
    "                       \"test_size\"       : test_size,\n",
    "                       \"train_val_split\" : train_val_split},\n",
    "               inputs={\"dataset\"         : os.path.abspath('../')+'/data' + '/' + [x for x in os.listdir(os.path.abspath('../')+'/data') if x.endswith('parquet')][0]},\n",
    "               hyper_params={'model_pkg_class': [\"sklearn.ensemble.RandomForestClassifier\", \n",
    "                                                \"sklearn.linear_model.LogisticRegression\",\n",
    "                                                \"sklearn.ensemble.AdaBoostClassifier\"]},\n",
    "               selector='max.accuracy',\n",
    "               outputs=['model', 'test_set'],\n",
    "               out_path = os.path.abspath('../')+'/artifacts')"
   ]
  },
  {
   "cell_type": "code",
   "execution_count": null,
   "metadata": {},
   "outputs": [],
   "source": [
    "fn.deploy()"
   ]
  },
  {
   "cell_type": "code",
   "execution_count": 29,
   "metadata": {},
   "outputs": [
    {
     "name": "stdout",
     "output_type": "stream",
     "text": [
      "> 2021-10-04 08:43:42,204 [info] starting run train uid=43e2941011b24a9b943444900de13986 DB=http://mlrun-api:8080\n",
      "> 2021-10-04 08:43:42,329 [info] Job is running in the background, pod: train-x5872\n",
      "> 2021-10-04 08:43:54,973 [info] best iteration=1, used criteria max.accuracy\n",
      "> 2021-10-04 08:43:55,282 [info] run executed, status=completed\n",
      "Converting input from bool to <class 'numpy.uint8'> for compatibility.\n",
      "Converting input from bool to <class 'numpy.uint8'> for compatibility.\n",
      "Converting input from bool to <class 'numpy.uint8'> for compatibility.\n",
      "lbfgs failed to converge (status=1):\n",
      "STOP: TOTAL NO. of ITERATIONS REACHED LIMIT.\n",
      "\n",
      "Increase the number of iterations (max_iter) or scale the data as shown in:\n",
      "    https://scikit-learn.org/stable/modules/preprocessing.html\n",
      "Please also refer to the documentation for alternative solver options:\n",
      "    https://scikit-learn.org/stable/modules/linear_model.html#logistic-regression\n",
      "Converting input from bool to <class 'numpy.uint8'> for compatibility.\n",
      "Converting input from bool to <class 'numpy.uint8'> for compatibility.\n",
      "Converting input from bool to <class 'numpy.uint8'> for compatibility.\n",
      "final state: completed\n"
     ]
    },
    {
     "data": {
      "text/html": [
       "<style>\n",
       ".dictlist {\n",
       "  background-color: #4EC64B;\n",
       "  text-align: center;\n",
       "  margin: 4px;\n",
       "  border-radius: 3px; padding: 0px 3px 1px 3px; display: inline-block;}\n",
       ".artifact {\n",
       "  cursor: pointer;\n",
       "  background-color: #4EC64B;\n",
       "  text-align: left;\n",
       "  margin: 4px; border-radius: 3px; padding: 0px 3px 1px 3px; display: inline-block;\n",
       "}\n",
       "div.block.hidden {\n",
       "  display: none;\n",
       "}\n",
       ".clickable {\n",
       "  cursor: pointer;\n",
       "}\n",
       ".ellipsis {\n",
       "  display: inline-block;\n",
       "  max-width: 60px;\n",
       "  white-space: nowrap;\n",
       "  overflow: hidden;\n",
       "  text-overflow: ellipsis;\n",
       "}\n",
       ".master-wrapper {\n",
       "  display: flex;\n",
       "  flex-flow: row nowrap;\n",
       "  justify-content: flex-start;\n",
       "  align-items: stretch;\n",
       "}\n",
       ".master-tbl {\n",
       "  flex: 3\n",
       "}\n",
       ".master-wrapper > div {\n",
       "  margin: 4px;\n",
       "  padding: 10px;\n",
       "}\n",
       "iframe.fileview {\n",
       "  border: 0 none;\n",
       "  height: 100%;\n",
       "  width: 100%;\n",
       "  white-space: pre-wrap;\n",
       "}\n",
       ".pane-header-title {\n",
       "  width: 80%;\n",
       "  font-weight: 500;\n",
       "}\n",
       ".pane-header {\n",
       "  line-height: 1;\n",
       "  background-color: #4EC64B;\n",
       "  padding: 3px;\n",
       "}\n",
       ".pane-header .close {\n",
       "  font-size: 20px;\n",
       "  font-weight: 700;\n",
       "  float: right;\n",
       "  margin-top: -5px;\n",
       "}\n",
       ".master-wrapper .right-pane {\n",
       "  border: 1px inset silver;\n",
       "  width: 40%;\n",
       "  min-height: 300px;\n",
       "  flex: 3\n",
       "  min-width: 500px;\n",
       "}\n",
       ".master-wrapper * {\n",
       "  box-sizing: border-box;\n",
       "}\n",
       "</style><script>\n",
       "function copyToClipboard(fld) {\n",
       "    if (document.queryCommandSupported && document.queryCommandSupported('copy')) {\n",
       "        var textarea = document.createElement('textarea');\n",
       "        textarea.textContent = fld.innerHTML;\n",
       "        textarea.style.position = 'fixed';\n",
       "        document.body.appendChild(textarea);\n",
       "        textarea.select();\n",
       "\n",
       "        try {\n",
       "            return document.execCommand('copy'); // Security exception may be thrown by some browsers.\n",
       "        } catch (ex) {\n",
       "\n",
       "        } finally {\n",
       "            document.body.removeChild(textarea);\n",
       "        }\n",
       "    }\n",
       "}\n",
       "function expandPanel(el) {\n",
       "  const panelName = \"#\" + el.getAttribute('paneName');\n",
       "  console.log(el.title);\n",
       "\n",
       "  document.querySelector(panelName + \"-title\").innerHTML = el.title\n",
       "  iframe = document.querySelector(panelName + \"-body\");\n",
       "\n",
       "  const tblcss = `<style> body { font-family: Arial, Helvetica, sans-serif;}\n",
       "    #csv { margin-bottom: 15px; }\n",
       "    #csv table { border-collapse: collapse;}\n",
       "    #csv table td { padding: 4px 8px; border: 1px solid silver;} </style>`;\n",
       "\n",
       "  function csvToHtmlTable(str) {\n",
       "    return '<div id=\"csv\"><table><tr><td>' +  str.replace(/[\\n\\r]+$/g, '').replace(/[\\n\\r]+/g, '</td></tr><tr><td>')\n",
       "      .replace(/,/g, '</td><td>') + '</td></tr></table></div>';\n",
       "  }\n",
       "\n",
       "  function reqListener () {\n",
       "    if (el.title.endsWith(\".csv\")) {\n",
       "      iframe.setAttribute(\"srcdoc\", tblcss + csvToHtmlTable(this.responseText));\n",
       "    } else {\n",
       "      iframe.setAttribute(\"srcdoc\", this.responseText);\n",
       "    }\n",
       "    console.log(this.responseText);\n",
       "  }\n",
       "\n",
       "  const oReq = new XMLHttpRequest();\n",
       "  oReq.addEventListener(\"load\", reqListener);\n",
       "  oReq.open(\"GET\", el.title);\n",
       "  oReq.send();\n",
       "\n",
       "\n",
       "  //iframe.src = el.title;\n",
       "  const resultPane = document.querySelector(panelName + \"-pane\");\n",
       "  if (resultPane.classList.contains(\"hidden\")) {\n",
       "    resultPane.classList.remove(\"hidden\");\n",
       "  }\n",
       "}\n",
       "function closePanel(el) {\n",
       "  const panelName = \"#\" + el.getAttribute('paneName')\n",
       "  const resultPane = document.querySelector(panelName + \"-pane\");\n",
       "  if (!resultPane.classList.contains(\"hidden\")) {\n",
       "    resultPane.classList.add(\"hidden\");\n",
       "  }\n",
       "}\n",
       "\n",
       "</script>\n",
       "<div class=\"master-wrapper\">\n",
       "  <div class=\"block master-tbl\"><div>\n",
       "<style scoped>\n",
       "    .dataframe tbody tr th:only-of-type {\n",
       "        vertical-align: middle;\n",
       "    }\n",
       "\n",
       "    .dataframe tbody tr th {\n",
       "        vertical-align: top;\n",
       "    }\n",
       "\n",
       "    .dataframe thead th {\n",
       "        text-align: right;\n",
       "    }\n",
       "</style>\n",
       "<table border=\"1\" class=\"dataframe\">\n",
       "  <thead>\n",
       "    <tr style=\"text-align: right;\">\n",
       "      <th>project</th>\n",
       "      <th>uid</th>\n",
       "      <th>iter</th>\n",
       "      <th>start</th>\n",
       "      <th>state</th>\n",
       "      <th>name</th>\n",
       "      <th>labels</th>\n",
       "      <th>inputs</th>\n",
       "      <th>parameters</th>\n",
       "      <th>results</th>\n",
       "      <th>artifacts</th>\n",
       "    </tr>\n",
       "  </thead>\n",
       "  <tbody>\n",
       "    <tr>\n",
       "      <td>default</td>\n",
       "      <td><div title=\"43e2941011b24a9b943444900de13986\"><a href=\"https://dashboard.default-tenant.app.dev8.lab.iguazeng.com/mlprojects/default/jobs/monitor/43e2941011b24a9b943444900de13986/overview\" target=\"_blank\" >...0de13986</a></div></td>\n",
       "      <td>0</td>\n",
       "      <td>Oct 04 08:43:49</td>\n",
       "      <td>completed</td>\n",
       "      <td>train</td>\n",
       "      <td><div class=\"dictlist\">v3io_user=dani</div><div class=\"dictlist\">kind=job</div><div class=\"dictlist\">owner=dani</div></td>\n",
       "      <td><div title=\"/User/test/demos/network-operations/data/20211004T074509-20211004T084509.parquet\">dataset</div></td>\n",
       "      <td><div class=\"dictlist\">sample=-1</div><div class=\"dictlist\">label_column=is_error</div><div class=\"dictlist\">test_size=0.1</div><div class=\"dictlist\">train_val_split=0.75</div></td>\n",
       "      <td><div class=\"dictlist\">best_iteration=1</div><div class=\"dictlist\">accuracy=1.0</div><div class=\"dictlist\">test-error=0.0</div><div class=\"dictlist\">rocauc=1.0</div><div class=\"dictlist\">brier_score=0.0</div><div class=\"dictlist\">f1-score=1.0</div><div class=\"dictlist\">precision_score=1.0</div><div class=\"dictlist\">recall_score=1.0</div></td>\n",
       "      <td><div title=\"/User/test/demos/network-operations/artifacts/data/1/test_set.parquet\">test_set</div><div class=\"artifact\" onclick=\"expandPanel(this)\" paneName=\"result09753aeb\" title=\"/files/test/demos/network-operations/artifacts/model/plots/1/probability-calibration.html\">probability-calibration</div><div class=\"artifact\" onclick=\"expandPanel(this)\" paneName=\"result09753aeb\" title=\"/files/test/demos/network-operations/artifacts/model/plots/1/confusion-matrix.html\">confusion-matrix</div><div class=\"artifact\" onclick=\"expandPanel(this)\" paneName=\"result09753aeb\" title=\"/files/test/demos/network-operations/artifacts/model/plots/1/feature-importances.html\">feature-importances</div><div class=\"artifact\" onclick=\"expandPanel(this)\" paneName=\"result09753aeb\" title=\"/files/test/demos/network-operations/artifacts/model/plots/1/precision-recall-binary.html\">precision-recall-binary</div><div class=\"artifact\" onclick=\"expandPanel(this)\" paneName=\"result09753aeb\" title=\"/files/test/demos/network-operations/artifacts/model/plots/1/roc-binary.html\">roc-binary</div><div title=\"/User/test/demos/network-operations/artifacts/model/1\">model</div><div class=\"artifact\" onclick=\"expandPanel(this)\" paneName=\"result09753aeb\" title=\"/files/test/demos/network-operations/artifacts/iteration_results.csv\">iteration_results</div></td>\n",
       "    </tr>\n",
       "  </tbody>\n",
       "</table>\n",
       "</div></div>\n",
       "  <div id=\"result09753aeb-pane\" class=\"right-pane block hidden\">\n",
       "    <div class=\"pane-header\">\n",
       "      <span id=\"result09753aeb-title\" class=\"pane-header-title\">Title</span>\n",
       "      <span onclick=\"closePanel(this)\" paneName=\"result09753aeb\" class=\"close clickable\">&times;</span>\n",
       "    </div>\n",
       "    <iframe class=\"fileview\" id=\"result09753aeb-body\"></iframe>\n",
       "  </div>\n",
       "</div>\n"
      ],
      "text/plain": [
       "<IPython.core.display.HTML object>"
      ]
     },
     "metadata": {},
     "output_type": "display_data"
    },
    {
     "name": "stdout",
     "output_type": "stream",
     "text": [
      "\n"
     ]
    },
    {
     "data": {
      "text/html": [
       "<b> > to track results use the .show() or .logs() methods  or <a href=\"https://dashboard.default-tenant.app.dev8.lab.iguazeng.com/mlprojects/default/jobs/monitor/43e2941011b24a9b943444900de13986/overview\" target=\"_blank\">click here</a> to open in UI</b>"
      ],
      "text/plain": [
       "<IPython.core.display.HTML object>"
      ]
     },
     "metadata": {},
     "output_type": "display_data"
    },
    {
     "name": "stdout",
     "output_type": "stream",
     "text": [
      "> 2021-10-04 08:44:01,541 [info] run executed, status=completed\n"
     ]
    },
    {
     "data": {
      "text/plain": [
       "<mlrun.model.RunObject at 0x7feb03c4be50>"
      ]
     },
     "execution_count": 29,
     "metadata": {},
     "output_type": "execute_result"
    }
   ],
   "source": [
    "fn.run(task)"
   ]
  },
  {
   "cell_type": "code",
   "execution_count": 98,
   "metadata": {},
   "outputs": [
    {
     "name": "stderr",
     "output_type": "stream",
     "text": [
      "Trying to unpickle estimator DecisionTreeClassifier from version 0.24.2 when using version 0.23.2. This might lead to breaking code or invalid results. Use at your own risk.\n",
      "Trying to unpickle estimator RandomForestClassifier from version 0.24.2 when using version 0.23.2. This might lead to breaking code or invalid results. Use at your own risk.\n"
     ]
    }
   ],
   "source": [
    "init_context(context)"
   ]
  },
  {
   "cell_type": "code",
   "execution_count": 99,
   "metadata": {},
   "outputs": [
    {
     "name": "stdout",
     "output_type": "stream",
     "text": [
      "Saving features to Parquet\n"
     ]
    }
   ],
   "source": [
    "event = nuclio.Event(body='', trigger={'kind': 'cron'})\n",
    "out = handler(context, event)\n",
    "out"
   ]
  },
  {
   "cell_type": "markdown",
   "metadata": {},
   "source": [
    "## Test"
   ]
  },
  {
   "cell_type": "code",
   "execution_count": 101,
   "metadata": {},
   "outputs": [],
   "source": [
    "from mlrun import code_to_function, mount_v3io\n",
    "import os\n",
    "\n",
    "base_path = os.path.abspath('../')\n",
    "data_path = os.path.join(base_path, 'data')\n",
    "src_path = os.path.join(base_path, 'src')\n",
    "streaming_path = base_path"
   ]
  },
  {
   "cell_type": "code",
   "execution_count": 102,
   "metadata": {},
   "outputs": [
    {
     "data": {
      "text/plain": [
       "<mlrun.runtimes.function.RemoteRuntime at 0x7feaa9935e10>"
      ]
     },
     "execution_count": 102,
     "metadata": {},
     "output_type": "execute_result"
    }
   ],
   "source": [
    "fn = code_to_function('inference-server',\n",
    "                      kind='nuclio',\n",
    "                      project='network-operations', image='mlrun/ml-models')\n",
    "fn.set_envs({'METRICS_TABLE' : data_path,\n",
    "             'FEATURES_TABLE' : streaming_path+'/metrics',\n",
    "             'PREDICTIONS_TABLE' : streaming_path +'/predictions',\n",
    "             'BATCHES_TO_GENERATE' : '20',\n",
    "             'model_path' : os.path.abspath('../') + '/artifacts/model/1/model.pkl',\n",
    "             'model_name' : 'netops_predictor_v1',\n",
    "             'model_class' : 'MLRunModel',\n",
    "             'model_col' : 'model',\n",
    "             'model_class_col' : 'class',\n",
    "             'prediction_col' : 'predictions',\n",
    "             'worker_col' : 'worker',\n",
    "             'hostname_col' : 'hostname',\n",
    "             'timestamp_col' : 'when',\n",
    "             'orig_timestamp_col' : 'timestamp'})\n",
    "\n",
    "fn.apply(mount_v3io())\n",
    "fn.add_trigger('cron', nuclio.triggers.CronTrigger(interval='1m'))"
   ]
  },
  {
   "cell_type": "code",
   "execution_count": null,
   "metadata": {},
   "outputs": [],
   "source": [
    "fn.save()\n",
    "fn.export('../src/inference-server.yaml')"
   ]
  },
  {
   "cell_type": "code",
   "execution_count": 103,
   "metadata": {},
   "outputs": [
    {
     "name": "stdout",
     "output_type": "stream",
     "text": [
      "> 2021-10-04 09:27:41,874 [info] Starting remote function deploy\n",
      "2021-10-04 09:27:41  (info) Deploying function\n",
      "2021-10-04 09:27:41  (info) Building\n",
      "2021-10-04 09:27:42  (info) Staging files and preparing base images\n",
      "2021-10-04 09:27:42  (info) Building processor image\n",
      "2021-10-04 09:27:47  (info) Build complete\n",
      "2021-10-04 09:27:59  (info) Function deploy complete\n",
      "> 2021-10-04 09:28:00,176 [info] successfully deployed function: {'internal_invocation_urls': ['nuclio-network-operations-inference-server.default-tenant.svc.cluster.local:8080'], 'external_invocation_urls': ['default-tenant.app.dev8.lab.iguazeng.com:30368']}\n"
     ]
    },
    {
     "data": {
      "text/plain": [
       "'http://default-tenant.app.dev8.lab.iguazeng.com:30368'"
      ]
     },
     "execution_count": 103,
     "metadata": {},
     "output_type": "execute_result"
    }
   ],
   "source": [
    "fn.deploy(project='network-operations')"
   ]
  },
  {
   "cell_type": "code",
   "execution_count": null,
   "metadata": {},
   "outputs": [],
   "source": []
  }
 ],
 "metadata": {
  "kernelspec": {
   "display_name": "Python 3",
   "language": "python",
   "name": "python3"
  },
  "language_info": {
   "codemirror_mode": {
    "name": "ipython",
    "version": 3
   },
   "file_extension": ".py",
   "mimetype": "text/x-python",
   "name": "python",
   "nbconvert_exporter": "python",
   "pygments_lexer": "ipython3",
   "version": "3.7.6"
  }
 },
 "nbformat": 4,
 "nbformat_minor": 4
}
