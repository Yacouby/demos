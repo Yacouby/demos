{
 "cells": [
  {
   "cell_type": "markdown",
   "metadata": {},
   "source": [
    "# Model Server"
   ]
  },
  {
   "cell_type": "markdown",
   "metadata": {},
   "source": [
    "## Environment"
   ]
  },
  {
   "cell_type": "code",
   "execution_count": 1,
   "metadata": {},
   "outputs": [],
   "source": [
    "import nuclio"
   ]
  },
  {
   "cell_type": "code",
   "execution_count": 2,
   "metadata": {},
   "outputs": [],
   "source": [
    "import os\n",
    "\n",
    "base_path = os.path.abspath('../')\n",
    "data_path = os.path.join(base_path, 'data')\n",
    "src_path = os.path.join(base_path, 'src')\n",
    "streaming_path = os.path.join(base_path, 'streaming')\n",
    "\n",
    "os.environ['base_path'] = base_path\n",
    "os.environ['data_path'] = data_path\n",
    "os.environ['src_path'] = src_path\n",
    "os.environ['streaming_path'] = streaming_path\n",
    "\n",
    "os.environ['METRICS_TABLE'] = data_path\n",
    "os.environ['FEATURES_TABLE'] = base_path+'/features'\n",
    "os.environ['PREDICTIONS_TABLE'] = streaming_path+'/predictions'\n",
    "os.environ['BATCHES_TO_GENERATE'] = '20'\n",
    "os.environ['model_path'] = os.path.abspath('../') + '/artifacts/model/1/model.pkl'\n",
    "os.environ['model_name'] = 'netops_predictor_v1'\n",
    "os.environ['model_class'] = 'MLRunModel'\n",
    "os.environ['model_col'] = 'model'\n",
    "os.environ['model_class_col'] = 'class'\n",
    "os.environ['prediction_col'] = 'predictions'\n",
    "os.environ['worker_col'] = 'worker'\n",
    "os.environ['hostname_col'] = 'hostname'\n",
    "os.environ['timestamp_col'] = 'when'\n",
    "os.environ['orig_timestamp_col'] = 'timestamp'"
   ]
  },
  {
   "cell_type": "markdown",
   "metadata": {},
   "source": [
    "## Function"
   ]
  },
  {
   "cell_type": "code",
   "execution_count": 3,
   "metadata": {},
   "outputs": [],
   "source": [
    "# nuclio: start-code"
   ]
  },
  {
   "cell_type": "code",
   "execution_count": 4,
   "metadata": {},
   "outputs": [],
   "source": [
    "import os\n",
    "import pandas as pd\n",
    "import cloudpickle\n",
    "import numpy as np\n",
    "import json\n",
    "from mlrun import get_or_create_ctx\n",
    "import socket"
   ]
  },
  {
   "cell_type": "code",
   "execution_count": 5,
   "metadata": {},
   "outputs": [],
   "source": [
    "def get_data_parquet(context):\n",
    "    mpath = [os.path.join(context.features_table, file) for file in os.listdir(context.features_table) if file.endswith(('parquet', 'pq'))]\n",
    "    files_by_updated = sorted(mpath, key=os.path.getmtime, reverse=True)\n",
    "    return pd.read_parquet(files_by_updated[:1][0])"
   ]
  },
  {
   "cell_type": "code",
   "execution_count": 6,
   "metadata": {},
   "outputs": [],
   "source": [
    "def save_to_parquet(context, df: pd.DataFrame):\n",
    "    print('Saving features to Parquet')\n",
    "    \n",
    "    # Need to fix timestamps from ns to ms if we write to parquet \n",
    "    # And add this model name to indexes\n",
    "    keys = list([name if name != context.orig_timestamp_col else context.timestamp_col for name in df.index.names]) + [context.model_col, context.model_class_col, context.worker_col, context.hostname_col]\n",
    "    df = df.reset_index()\n",
    "    df[context.timestamp_col] = df.pop(context.orig_timestamp_col).astype('datetime64[ms]')\n",
    "    \n",
    "    # Fix indexes\n",
    "    df = df.set_index(keys)\n",
    "    \n",
    "    # Save parquet\n",
    "    first_timestamp = df.index[0][0].strftime('%Y%m%dT%H%M%S')\n",
    "    last_timestamp = df.index[-1][0].strftime('%Y%m%dT%H%M%S')\n",
    "    filename = first_timestamp + '-' + last_timestamp + '.parquet'\n",
    "    filepath = os.path.join(context.predictions_table, filename)\n",
    "    with open(filepath, 'wb+') as f:\n",
    "        df.to_parquet(f)"
   ]
  },
  {
   "cell_type": "code",
   "execution_count": 7,
   "metadata": {},
   "outputs": [],
   "source": [
    "def init_context(context):\n",
    "    \n",
    "    # How many batches to create? (-1 will run forever)\n",
    "    batches_to_generate = int(os.getenv('BATCHES_TO_GENERATE', 20))\n",
    "    setattr(context, 'batches_to_generate', batches_to_generate)\n",
    "    setattr(context, 'batches_generated', 0)\n",
    "    \n",
    "    # Set vars from env\n",
    "    setattr(context, 'model_name', os.getenv('model_name', 'netops_model'))\n",
    "    setattr(context, 'model_col', os.getenv('model_col', 'model'))\n",
    "    setattr(context, 'model_class_col', os.getenv('model_class_col', 'class'))\n",
    "    setattr(context, 'worker_col', os.getenv('worker_col', 'worker'))\n",
    "    setattr(context, 'hostname_col', os.getenv('hostname_col', 'hostname'))\n",
    "    setattr(context, 'timestamp_col', os.getenv('timestamp_col', 'when'))\n",
    "    setattr(context, 'orig_timestamp_col', os.getenv('orig_timestamp_col', 'timestamp'))\n",
    "    setattr(context, 'features_table', os.getenv('FEATURES_TABLE', 'netops_features'))\n",
    "    setattr(context, 'predictions_table', os.getenv('PREDICTIONS_TABLE', 'netops_predictions'))\n",
    "    setattr(context, 'prediction_col', os.getenv('prediction_col', 'prediction'))\n",
    "    \n",
    "    # Load model\n",
    "    model_path = os.environ['model_path']\n",
    "    if model_path.startswith('store://'):\n",
    "        mlctx = get_or_create_ctx('inference')\n",
    "        model = mlctx.get_dataitem(model_path)\n",
    "        model_path = os.path.join(model.url, 'model.pkl')\n",
    "    with open(model_path, 'rb') as f:\n",
    "        model = cloudpickle.load(f)\n",
    "    setattr(context, 'model', model)\n",
    "    setattr(context, 'model_class', type(model).__name__)\n",
    "    \n",
    "     # Create saving directory if needed\n",
    "    filepath = os.path.join(context.predictions_table)\n",
    "    if not os.path.exists(filepath):\n",
    "        os.makedirs(filepath)"
   ]
  },
  {
   "cell_type": "code",
   "execution_count": 8,
   "metadata": {},
   "outputs": [],
   "source": [
    "def handler(context, event):\n",
    "    \n",
    "    # Limit the number of generated batches to save cluster resources\n",
    "    # for people forgetting the demo running\n",
    "    if (context.batches_to_generate == -1) or (context.batches_generated <= context.batches_to_generate):\n",
    "    \n",
    "        if getattr(event.trigger, 'kind', 'cron') == 'cron':\n",
    "            # Get latest parquets\n",
    "            df = get_data_parquet(context)\n",
    "\n",
    "            # Predict\n",
    "            df[context.prediction_col] = context.model.predict(df.values)\n",
    "\n",
    "            # Add server metadata\n",
    "            df[context.model_col] = context.model_name\n",
    "            df[context.model_class_col] = context.model_class\n",
    "            df[context.worker_col] = context.worker_id\n",
    "            df[context.hostname_col] = socket.gethostname()\n",
    "\n",
    "            # Save\n",
    "            save_to_parquet(context, df)\n",
    "        else:\n",
    "            body = json.loads(event.body)\n",
    "            feats = np.asarray(body['instances'])\n",
    "            result: np.ndarray = context.model.predict(feats)\n",
    "            return result.tolist()\n",
    "        \n",
    "        # Update batches count\n",
    "        context.batches_generated += 1"
   ]
  },
  {
   "cell_type": "code",
   "execution_count": 9,
   "metadata": {},
   "outputs": [],
   "source": [
    "# nuclio: end-code"
   ]
  },
  {
   "cell_type": "markdown",
   "metadata": {},
   "source": [
    "## Local test"
   ]
  },
  {
   "cell_type": "code",
   "execution_count": 10,
   "metadata": {},
   "outputs": [],
   "source": [
    "import mlrun\n",
    "import os \n",
    "\n",
    "fn = mlrun.import_function('hub:///sklearn_classifier')\n",
    "fn.apply(mlrun.platforms.v3io_cred())\n",
    "fn.apply(mlrun.mount_v3io())\n",
    "fn.spec.build.base_image = 'mlrun/ml-models'\n",
    "fn.spec.build.commands = ['pip install scikit-learn==0.24.2']\n",
    "sample_size = -1\n",
    "test_size = 0.1\n",
    "train_val_split = 0.75\n",
    "label_column = 'is_error'\n",
    "\n",
    "task = mlrun.new_task(name='train',\n",
    "               params={\"sample\"          : sample_size,\n",
    "                       \"label_column\"    : label_column,\n",
    "                       \"test_size\"       : test_size,\n",
    "                       \"train_val_split\" : train_val_split},\n",
    "               inputs={\"dataset\"         : os.path.abspath('../')+'/data' + '/' + os.listdir(os.path.abspath('../')+'/features')[-1]},\n",
    "               hyper_params={'model_pkg_class': [\"sklearn.ensemble.RandomForestClassifier\", \n",
    "                                                \"sklearn.linear_model.LogisticRegression\",\n",
    "                                                \"sklearn.ensemble.AdaBoostClassifier\"]},\n",
    "               selector='max.accuracy',\n",
    "               outputs=['model', 'test_set'],\n",
    "               out_path = os.path.abspath('../')+'/artifacts')"
   ]
  },
  {
   "cell_type": "code",
   "execution_count": 11,
   "metadata": {},
   "outputs": [
    {
     "name": "stdout",
     "output_type": "stream",
     "text": [
      "> 2021-10-03 14:05:06,938 [info] Started building image: .mlrun/func-default-sklearn-classifier:latest\n",
      "E1003 14:05:49.703079       1 aws_credentials.go:77] while getting AWS credentials NoCredentialProviders: no valid providers in chain. Deprecated.\n",
      "\tFor verbose messaging see aws.Config.CredentialsChainVerboseErrors\n",
      "\u001b[36mINFO\u001b[0m[0040] Retrieving image manifest mlrun/ml-models:0.7.0-rc7 \n",
      "\u001b[36mINFO\u001b[0m[0043] Retrieving image manifest mlrun/ml-models:0.7.0-rc7 \n",
      "\u001b[36mINFO\u001b[0m[0045] Built cross stage deps: map[]                \n",
      "\u001b[36mINFO\u001b[0m[0045] Retrieving image manifest mlrun/ml-models:0.7.0-rc7 \n",
      "\u001b[36mINFO\u001b[0m[0047] Retrieving image manifest mlrun/ml-models:0.7.0-rc7 \n",
      "\u001b[36mINFO\u001b[0m[0049] Executing 0 build triggers                   \n",
      "\u001b[36mINFO\u001b[0m[0049] Unpacking rootfs as cmd RUN pip install scikit-learn==0.24.2 requires it. \n",
      "\u001b[36mINFO\u001b[0m[0143] RUN pip install scikit-learn==0.24.2         \n",
      "\u001b[36mINFO\u001b[0m[0143] Taking snapshot of full filesystem...        \n",
      "\u001b[36mINFO\u001b[0m[0167] cmd: /bin/sh                                 \n",
      "\u001b[36mINFO\u001b[0m[0167] args: [-c pip install scikit-learn==0.24.2]  \n",
      "\u001b[36mINFO\u001b[0m[0167] Running: [/bin/sh -c pip install scikit-learn==0.24.2] \n",
      "Collecting scikit-learn==0.24.2\n",
      "  Downloading scikit_learn-0.24.2-cp37-cp37m-manylinux2010_x86_64.whl (22.3 MB)\n",
      "Requirement already satisfied: threadpoolctl>=2.0.0 in /opt/conda/lib/python3.7/site-packages (from scikit-learn==0.24.2) (2.2.0)\n",
      "Requirement already satisfied: numpy>=1.13.3 in /opt/conda/lib/python3.7/site-packages (from scikit-learn==0.24.2) (1.19.5)\n",
      "Requirement already satisfied: scipy>=0.19.1 in /opt/conda/lib/python3.7/site-packages (from scikit-learn==0.24.2) (1.4.1)\n",
      "Requirement already satisfied: joblib>=0.11 in /opt/conda/lib/python3.7/site-packages (from scikit-learn==0.24.2) (1.0.1)\n",
      "Installing collected packages: scikit-learn\n",
      "  Attempting uninstall: scikit-learn\n",
      "    Found existing installation: scikit-learn 0.23.2\n",
      "    Uninstalling scikit-learn-0.23.2:\n",
      "      Successfully uninstalled scikit-learn-0.23.2\n",
      "Successfully installed scikit-learn-0.24.2\n",
      "\u001b[36mINFO\u001b[0m[0174] Taking snapshot of full filesystem...        \n",
      "\u001b[36mINFO\u001b[0m[0181] RUN python -m pip install \"mlrun[complete]==0.7.0-rc7\" \n",
      "\u001b[36mINFO\u001b[0m[0181] cmd: /bin/sh                                 \n",
      "\u001b[36mINFO\u001b[0m[0181] args: [-c python -m pip install \"mlrun[complete]==0.7.0-rc7\"] \n",
      "\u001b[36mINFO\u001b[0m[0181] Running: [/bin/sh -c python -m pip install \"mlrun[complete]==0.7.0-rc7\"] \n",
      "Requirement already satisfied: mlrun[complete]==0.7.0-rc7 in /opt/conda/lib/python3.7/site-packages (0.7.0rc7)\n",
      "Requirement already satisfied: requests~=2.22 in /opt/conda/lib/python3.7/site-packages (from mlrun[complete]==0.7.0-rc7) (2.25.1)\n",
      "Requirement already satisfied: mergedeep~=1.3 in /opt/conda/lib/python3.7/site-packages (from mlrun[complete]==0.7.0-rc7) (1.3.4)\n",
      "Requirement already satisfied: pyyaml~=5.1 in /opt/conda/lib/python3.7/site-packages (from mlrun[complete]==0.7.0-rc7) (5.4.1)\n",
      "Requirement already satisfied: ipykernel~=5.0 in /opt/conda/lib/python3.7/site-packages (from mlrun[complete]==0.7.0-rc7) (5.5.5)\n",
      "Requirement already satisfied: storey~=0.7.3; python_version >= \"3.7\" in /opt/conda/lib/python3.7/site-packages (from mlrun[complete]==0.7.0-rc7) (0.7.3)\n",
      "Requirement already satisfied: kubernetes~=11.0 in /opt/conda/lib/python3.7/site-packages (from mlrun[complete]==0.7.0-rc7) (11.0.0)\n",
      "Requirement already satisfied: sqlalchemy~=1.3 in /opt/conda/lib/python3.7/site-packages (from mlrun[complete]==0.7.0-rc7) (1.4.22)\n",
      "Requirement already satisfied: nuclio-jupyter~=0.8.18 in /opt/conda/lib/python3.7/site-packages (from mlrun[complete]==0.7.0-rc7) (0.8.18)\n",
      "Requirement already satisfied: pydantic~=1.5 in /opt/conda/lib/python3.7/site-packages (from mlrun[complete]==0.7.0-rc7) (1.8.2)\n",
      "Requirement already satisfied: nest-asyncio~=1.0 in /opt/conda/lib/python3.7/site-packages (from mlrun[complete]==0.7.0-rc7) (1.5.1)\n",
      "Requirement already satisfied: pandas~=1.2; python_version >= \"3.7\" in /opt/conda/lib/python3.7/site-packages (from mlrun[complete]==0.7.0-rc7) (1.3.2)\n",
      "Requirement already satisfied: ipython<7.17,>=5.5 in /opt/conda/lib/python3.7/site-packages (from mlrun[complete]==0.7.0-rc7) (7.16.1)\n",
      "Requirement already satisfied: v3io-frames~=0.8.5 in /opt/conda/lib/python3.7/site-packages (from mlrun[complete]==0.7.0-rc7) (0.8.17)\n",
      "Requirement already satisfied: dask~=2.12 in /opt/conda/lib/python3.7/site-packages (from mlrun[complete]==0.7.0-rc7) (2.30.0)\n",
      "Requirement already satisfied: numpy<1.20.0,>=1.16.5 in /opt/conda/lib/python3.7/site-packages (from mlrun[complete]==0.7.0-rc7) (1.19.5)\n",
      "Requirement already satisfied: v3io~=0.5.8 in /opt/conda/lib/python3.7/site-packages (from mlrun[complete]==0.7.0-rc7) (0.5.8)\n",
      "Requirement already satisfied: GitPython~=3.0 in /opt/conda/lib/python3.7/site-packages (from mlrun[complete]==0.7.0-rc7) (3.1.18)\n",
      "Requirement already satisfied: alembic<1.6.0,~=1.4 in /opt/conda/lib/python3.7/site-packages (from mlrun[complete]==0.7.0-rc7) (1.5.8)\n",
      "Requirement already satisfied: distributed<3,>=2.23 in /opt/conda/lib/python3.7/site-packages (from mlrun[complete]==0.7.0-rc7) (2.30.1)\n",
      "Requirement already satisfied: semver~=2.13 in /opt/conda/lib/python3.7/site-packages (from mlrun[complete]==0.7.0-rc7) (2.13.0)\n",
      "Requirement already satisfied: pyarrow~=1.0 in /opt/conda/lib/python3.7/site-packages (from mlrun[complete]==0.7.0-rc7) (1.0.1)\n",
      "Requirement already satisfied: fastapi~=0.62.0 in /opt/conda/lib/python3.7/site-packages (from mlrun[complete]==0.7.0-rc7) (0.62.0)\n",
      "Requirement already satisfied: click~=7.0 in /opt/conda/lib/python3.7/site-packages (from mlrun[complete]==0.7.0-rc7) (7.1.2)\n",
      "Requirement already satisfied: humanfriendly~=8.2 in /opt/conda/lib/python3.7/site-packages (from mlrun[complete]==0.7.0-rc7) (8.2)\n",
      "Requirement already satisfied: aiohttp~=3.6 in /opt/conda/lib/python3.7/site-packages (from mlrun[complete]==0.7.0-rc7) (3.7.4.post0)\n",
      "Requirement already satisfied: orjson<3.4,>=3 in /opt/conda/lib/python3.7/site-packages (from mlrun[complete]==0.7.0-rc7) (3.3.1)\n",
      "Requirement already satisfied: tabulate<=0.8.3,>=0.8.0 in /opt/conda/lib/python3.7/site-packages (from mlrun[complete]==0.7.0-rc7) (0.8.3)\n",
      "Requirement already satisfied: cryptography~=3.3.2 in /opt/conda/lib/python3.7/site-packages (from mlrun[complete]==0.7.0-rc7) (3.3.2)\n",
      "Requirement already satisfied: fsspec~=0.9.0 in /opt/conda/lib/python3.7/site-packages (from mlrun[complete]==0.7.0-rc7) (0.9.0)\n",
      "Requirement already satisfied: v3iofs~=0.1.7 in /opt/conda/lib/python3.7/site-packages (from mlrun[complete]==0.7.0-rc7) (0.1.7)\n",
      "Requirement already satisfied: chardet<4.0,>=3.0.2 in /opt/conda/lib/python3.7/site-packages (from mlrun[complete]==0.7.0-rc7) (3.0.4)\n",
      "Requirement already satisfied: google-auth<2.0dev,>=1.25.0 in /opt/conda/lib/python3.7/site-packages (from mlrun[complete]==0.7.0-rc7) (1.35.0)\n",
      "Requirement already satisfied: urllib3<1.27,>=1.25.4 in /opt/conda/lib/python3.7/site-packages (from mlrun[complete]==0.7.0-rc7) (1.26.6)\n",
      "Requirement already satisfied: kfp~=1.0.1 in /opt/conda/lib/python3.7/site-packages (from mlrun[complete]==0.7.0-rc7) (1.0.4)\n",
      "Requirement already satisfied: s3fs<=0.6.0,>=0.5.0; extra == \"complete\" in /opt/conda/lib/python3.7/site-packages (from mlrun[complete]==0.7.0-rc7) (0.6.0)\n",
      "Requirement already satisfied: aiobotocore<=1.3.1; extra == \"complete\" in /opt/conda/lib/python3.7/site-packages (from mlrun[complete]==0.7.0-rc7) (1.3.1)\n",
      "Requirement already satisfied: adlfs~=0.7.1; extra == \"complete\" in /opt/conda/lib/python3.7/site-packages (from mlrun[complete]==0.7.0-rc7) (0.7.7)\n",
      "Requirement already satisfied: botocore<1.20.50,>=1.20.49; extra == \"complete\" in /opt/conda/lib/python3.7/site-packages (from mlrun[complete]==0.7.0-rc7) (1.20.49)\n",
      "Requirement already satisfied: bokeh~=2.3; extra == \"complete\" in /opt/conda/lib/python3.7/site-packages (from mlrun[complete]==0.7.0-rc7) (2.3.3)\n",
      "Requirement already satisfied: boto3<1.17.50,~=1.9; extra == \"complete\" in /opt/conda/lib/python3.7/site-packages (from mlrun[complete]==0.7.0-rc7) (1.17.49)\n",
      "Requirement already satisfied: azure-keyvault-secrets~=4.2; extra == \"complete\" in /opt/conda/lib/python3.7/site-packages (from mlrun[complete]==0.7.0-rc7) (4.3.0)\n",
      "Requirement already satisfied: azure-identity~=1.5; extra == \"complete\" in /opt/conda/lib/python3.7/site-packages (from mlrun[complete]==0.7.0-rc7) (1.6.0)\n",
      "Requirement already satisfied: azure-storage-blob<12.7.0,~=12.0; extra == \"complete\" in /opt/conda/lib/python3.7/site-packages (from mlrun[complete]==0.7.0-rc7) (12.6.0)\n",
      "Requirement already satisfied: idna<3,>=2.5 in /opt/conda/lib/python3.7/site-packages (from requests~=2.22->mlrun[complete]==0.7.0-rc7) (2.10)\n",
      "Requirement already satisfied: certifi>=2017.4.17 in /opt/conda/lib/python3.7/site-packages (from requests~=2.22->mlrun[complete]==0.7.0-rc7) (2021.5.30)\n",
      "Requirement already satisfied: tornado>=4.2 in /opt/conda/lib/python3.7/site-packages (from ipykernel~=5.0->mlrun[complete]==0.7.0-rc7) (6.1)\n",
      "Requirement already satisfied: traitlets>=4.1.0 in /opt/conda/lib/python3.7/site-packages (from ipykernel~=5.0->mlrun[complete]==0.7.0-rc7) (5.0.5)\n",
      "Requirement already satisfied: jupyter-client in /opt/conda/lib/python3.7/site-packages (from ipykernel~=5.0->mlrun[complete]==0.7.0-rc7) (6.1.12)\n",
      "Requirement already satisfied: grpcio<1.33,>=1.30 in /opt/conda/lib/python3.7/site-packages (from storey~=0.7.3; python_version >= \"3.7\"->mlrun[complete]==0.7.0-rc7) (1.32.0)\n",
      "Requirement already satisfied: grpcio-tools<1.33,>=1.30 in /opt/conda/lib/python3.7/site-packages (from storey~=0.7.3; python_version >= \"3.7\"->mlrun[complete]==0.7.0-rc7) (1.32.0)\n",
      "Requirement already satisfied: requests-oauthlib in /opt/conda/lib/python3.7/site-packages (from kubernetes~=11.0->mlrun[complete]==0.7.0-rc7) (1.3.0)\n",
      "Requirement already satisfied: python-dateutil>=2.5.3 in /opt/conda/lib/python3.7/site-packages (from kubernetes~=11.0->mlrun[complete]==0.7.0-rc7) (2.8.2)\n",
      "Requirement already satisfied: setuptools>=21.0.0 in /opt/conda/lib/python3.7/site-packages (from kubernetes~=11.0->mlrun[complete]==0.7.0-rc7) (52.0.0.post20210125)\n",
      "Requirement already satisfied: six>=1.9.0 in /opt/conda/lib/python3.7/site-packages (from kubernetes~=11.0->mlrun[complete]==0.7.0-rc7) (1.16.0)\n",
      "Requirement already satisfied: websocket-client!=0.40.0,!=0.41.*,!=0.42.*,>=0.32.0 in /opt/conda/lib/python3.7/site-packages (from kubernetes~=11.0->mlrun[complete]==0.7.0-rc7) (1.2.1)\n",
      "Requirement already satisfied: greenlet!=0.4.17; python_version >= \"3\" in /opt/conda/lib/python3.7/site-packages (from sqlalchemy~=1.3->mlrun[complete]==0.7.0-rc7) (1.1.1)\n",
      "Requirement already satisfied: importlib-metadata; python_version < \"3.8\" in /opt/conda/lib/python3.7/site-packages (from sqlalchemy~=1.3->mlrun[complete]==0.7.0-rc7) (4.6.4)\n",
      "Requirement already satisfied: notebook>=5.2.0 in /opt/conda/lib/python3.7/site-packages (from nuclio-jupyter~=0.8.18->mlrun[complete]==0.7.0-rc7) (6.4.3)\n",
      "Requirement already satisfied: nbconvert>=5.4 in /opt/conda/lib/python3.7/site-packages (from nuclio-jupyter~=0.8.18->mlrun[complete]==0.7.0-rc7) (6.1.0)\n",
      "Requirement already satisfied: typing-extensions>=3.7.4.3 in /opt/conda/lib/python3.7/site-packages (from pydantic~=1.5->mlrun[complete]==0.7.0-rc7) (3.10.0.0)\n",
      "Requirement already satisfied: pytz>=2017.3 in /opt/conda/lib/python3.7/site-packages (from pandas~=1.2; python_version >= \"3.7\"->mlrun[complete]==0.7.0-rc7) (2021.1)\n",
      "Requirement already satisfied: pickleshare in /opt/conda/lib/python3.7/site-packages (from ipython<7.17,>=5.5->mlrun[complete]==0.7.0-rc7) (0.7.5)\n",
      "Requirement already satisfied: backcall in /opt/conda/lib/python3.7/site-packages (from ipython<7.17,>=5.5->mlrun[complete]==0.7.0-rc7) (0.2.0)\n",
      "Requirement already satisfied: decorator in /opt/conda/lib/python3.7/site-packages (from ipython<7.17,>=5.5->mlrun[complete]==0.7.0-rc7) (5.0.9)\n",
      "Requirement already satisfied: prompt-toolkit!=3.0.0,!=3.0.1,<3.1.0,>=2.0.0 in /opt/conda/lib/python3.7/site-packages (from ipython<7.17,>=5.5->mlrun[complete]==0.7.0-rc7) (3.0.19)\n",
      "Requirement already satisfied: pygments in /opt/conda/lib/python3.7/site-packages (from ipython<7.17,>=5.5->mlrun[complete]==0.7.0-rc7) (2.10.0)\n",
      "Requirement already satisfied: jedi>=0.10 in /opt/conda/lib/python3.7/site-packages (from ipython<7.17,>=5.5->mlrun[complete]==0.7.0-rc7) (0.18.0)\n",
      "Requirement already satisfied: pexpect; sys_platform != \"win32\" in /opt/conda/lib/python3.7/site-packages (from ipython<7.17,>=5.5->mlrun[complete]==0.7.0-rc7) (4.8.0)\n",
      "Requirement already satisfied: googleapis-common-protos>=1.5.3 in /opt/conda/lib/python3.7/site-packages (from v3io-frames~=0.8.5->mlrun[complete]==0.7.0-rc7) (1.53.0)\n",
      "Requirement already satisfied: future>=0.18.2 in /opt/conda/lib/python3.7/site-packages (from v3io~=0.5.8->mlrun[complete]==0.7.0-rc7) (0.18.2)\n",
      "Requirement already satisfied: ujson>=3.0.0 in /opt/conda/lib/python3.7/site-packages (from v3io~=0.5.8->mlrun[complete]==0.7.0-rc7) (4.1.0)\n",
      "Requirement already satisfied: gitdb<5,>=4.0.1 in /opt/conda/lib/python3.7/site-packages (from GitPython~=3.0->mlrun[complete]==0.7.0-rc7) (4.0.7)\n",
      "Requirement already satisfied: Mako in /opt/conda/lib/python3.7/site-packages (from alembic<1.6.0,~=1.4->mlrun[complete]==0.7.0-rc7) (1.1.4)\n",
      "Requirement already satisfied: python-editor>=0.3 in /opt/conda/lib/python3.7/site-packages (from alembic<1.6.0,~=1.4->mlrun[complete]==0.7.0-rc7) (1.0.4)\n",
      "Requirement already satisfied: psutil>=5.0 in /opt/conda/lib/python3.7/site-packages (from distributed<3,>=2.23->mlrun[complete]==0.7.0-rc7) (5.8.0)\n",
      "Requirement already satisfied: zict>=0.1.3 in /opt/conda/lib/python3.7/site-packages (from distributed<3,>=2.23->mlrun[complete]==0.7.0-rc7) (2.0.0)\n",
      "Requirement already satisfied: cloudpickle>=1.5.0 in /opt/conda/lib/python3.7/site-packages (from distributed<3,>=2.23->mlrun[complete]==0.7.0-rc7) (1.6.0)\n",
      "Requirement already satisfied: msgpack>=0.6.0 in /opt/conda/lib/python3.7/site-packages (from distributed<3,>=2.23->mlrun[complete]==0.7.0-rc7) (1.0.2)\n",
      "Requirement already satisfied: toolz>=0.8.2 in /opt/conda/lib/python3.7/site-packages (from distributed<3,>=2.23->mlrun[complete]==0.7.0-rc7) (0.11.1)\n",
      "Requirement already satisfied: sortedcontainers!=2.0.0,!=2.0.1 in /opt/conda/lib/python3.7/site-packages (from distributed<3,>=2.23->mlrun[complete]==0.7.0-rc7) (2.4.0)\n",
      "Requirement already satisfied: tblib>=1.6.0 in /opt/conda/lib/python3.7/site-packages (from distributed<3,>=2.23->mlrun[complete]==0.7.0-rc7) (1.7.0)\n",
      "Requirement already satisfied: starlette==0.13.6 in /opt/conda/lib/python3.7/site-packages (from fastapi~=0.62.0->mlrun[complete]==0.7.0-rc7) (0.13.6)\n",
      "Requirement already satisfied: attrs>=17.3.0 in /opt/conda/lib/python3.7/site-packages (from aiohttp~=3.6->mlrun[complete]==0.7.0-rc7) (21.2.0)\n",
      "Requirement already satisfied: async-timeout<4.0,>=3.0 in /opt/conda/lib/python3.7/site-packages (from aiohttp~=3.6->mlrun[complete]==0.7.0-rc7) (3.0.1)\n",
      "Requirement already satisfied: multidict<7.0,>=4.5 in /opt/conda/lib/python3.7/site-packages (from aiohttp~=3.6->mlrun[complete]==0.7.0-rc7) (5.1.0)\n",
      "Requirement already satisfied: yarl<2.0,>=1.0 in /opt/conda/lib/python3.7/site-packages (from aiohttp~=3.6->mlrun[complete]==0.7.0-rc7) (1.6.3)\n",
      "Requirement already satisfied: cffi>=1.12 in /opt/conda/lib/python3.7/site-packages (from cryptography~=3.3.2->mlrun[complete]==0.7.0-rc7) (1.14.6)\n",
      "Requirement already satisfied: pyasn1-modules>=0.2.1 in /opt/conda/lib/python3.7/site-packages (from google-auth<2.0dev,>=1.25.0->mlrun[complete]==0.7.0-rc7) (0.2.8)\n",
      "Requirement already satisfied: rsa<5,>=3.1.4; python_version >= \"3.6\" in /opt/conda/lib/python3.7/site-packages (from google-auth<2.0dev,>=1.25.0->mlrun[complete]==0.7.0-rc7) (4.7.2)\n",
      "Requirement already satisfied: cachetools<5.0,>=2.0.0 in /opt/conda/lib/python3.7/site-packages (from google-auth<2.0dev,>=1.25.0->mlrun[complete]==0.7.0-rc7) (4.2.2)\n",
      "Requirement already satisfied: requests-toolbelt>=0.8.0 in /opt/conda/lib/python3.7/site-packages (from kfp~=1.0.1->mlrun[complete]==0.7.0-rc7) (0.9.1)\n",
      "Requirement already satisfied: jsonschema>=3.0.1 in /opt/conda/lib/python3.7/site-packages (from kfp~=1.0.1->mlrun[complete]==0.7.0-rc7) (3.2.0)\n",
      "Requirement already satisfied: strip-hints in /opt/conda/lib/python3.7/site-packages (from kfp~=1.0.1->mlrun[complete]==0.7.0-rc7) (0.1.10)\n",
      "Requirement already satisfied: Deprecated in /opt/conda/lib/python3.7/site-packages (from kfp~=1.0.1->mlrun[complete]==0.7.0-rc7) (1.2.12)\n",
      "Requirement already satisfied: kfp-server-api<2.0.0,>=0.2.5 in /opt/conda/lib/python3.7/site-packages (from kfp~=1.0.1->mlrun[complete]==0.7.0-rc7) (1.6.0)\n",
      "Requirement already satisfied: google-cloud-storage>=1.13.0 in /opt/conda/lib/python3.7/site-packages (from kfp~=1.0.1->mlrun[complete]==0.7.0-rc7) (1.42.0)\n",
      "Requirement already satisfied: aioitertools>=0.5.1 in /opt/conda/lib/python3.7/site-packages (from aiobotocore<=1.3.1; extra == \"complete\"->mlrun[complete]==0.7.0-rc7) (0.8.0)\n",
      "Requirement already satisfied: wrapt>=1.10.10 in /opt/conda/lib/python3.7/site-packages (from aiobotocore<=1.3.1; extra == \"complete\"->mlrun[complete]==0.7.0-rc7) (1.12.1)\n",
      "Requirement already satisfied: azure-core>=1.7.0 in /opt/conda/lib/python3.7/site-packages (from adlfs~=0.7.1; extra == \"complete\"->mlrun[complete]==0.7.0-rc7) (1.17.0)\n",
      "Requirement already satisfied: azure-datalake-store<0.1,>=0.0.46 in /opt/conda/lib/python3.7/site-packages (from adlfs~=0.7.1; extra == \"complete\"->mlrun[complete]==0.7.0-rc7) (0.0.52)\n",
      "Requirement already satisfied: jmespath<1.0.0,>=0.7.1 in /opt/conda/lib/python3.7/site-packages (from botocore<1.20.50,>=1.20.49; extra == \"complete\"->mlrun[complete]==0.7.0-rc7) (0.10.0)\n",
      "Requirement already satisfied: Jinja2>=2.9 in /opt/conda/lib/python3.7/site-packages (from bokeh~=2.3; extra == \"complete\"->mlrun[complete]==0.7.0-rc7) (3.0.1)\n",
      "Requirement already satisfied: packaging>=16.8 in /opt/conda/lib/python3.7/site-packages (from bokeh~=2.3; extra == \"complete\"->mlrun[complete]==0.7.0-rc7) (21.0)\n",
      "Requirement already satisfied: pillow>=7.1.0 in /opt/conda/lib/python3.7/site-packages (from bokeh~=2.3; extra == \"complete\"->mlrun[complete]==0.7.0-rc7) (8.3.1)\n",
      "Requirement already satisfied: s3transfer<0.4.0,>=0.3.0 in /opt/conda/lib/python3.7/site-packages (from boto3<1.17.50,~=1.9; extra == \"complete\"->mlrun[complete]==0.7.0-rc7) (0.3.7)\n",
      "Requirement already satisfied: msrest>=0.6.21 in /opt/conda/lib/python3.7/site-packages (from azure-keyvault-secrets~=4.2; extra == \"complete\"->mlrun[complete]==0.7.0-rc7) (0.6.21)\n",
      "Requirement already satisfied: azure-common~=1.1 in /opt/conda/lib/python3.7/site-packages (from azure-keyvault-secrets~=4.2; extra == \"complete\"->mlrun[complete]==0.7.0-rc7) (1.1.27)\n",
      "Requirement already satisfied: msal-extensions~=0.3.0 in /opt/conda/lib/python3.7/site-packages (from azure-identity~=1.5; extra == \"complete\"->mlrun[complete]==0.7.0-rc7) (0.3.0)\n",
      "Requirement already satisfied: msal<2.0.0,>=1.7.0 in /opt/conda/lib/python3.7/site-packages (from azure-identity~=1.5; extra == \"complete\"->mlrun[complete]==0.7.0-rc7) (1.13.0)\n",
      "Requirement already satisfied: ipython-genutils in /opt/conda/lib/python3.7/site-packages (from traitlets>=4.1.0->ipykernel~=5.0->mlrun[complete]==0.7.0-rc7) (0.2.0)\n",
      "Requirement already satisfied: pyzmq>=13 in /opt/conda/lib/python3.7/site-packages (from jupyter-client->ipykernel~=5.0->mlrun[complete]==0.7.0-rc7) (22.2.1)\n",
      "Requirement already satisfied: jupyter-core>=4.6.0 in /opt/conda/lib/python3.7/site-packages (from jupyter-client->ipykernel~=5.0->mlrun[complete]==0.7.0-rc7) (4.7.1)\n",
      "Requirement already satisfied: protobuf<4.0dev,>=3.5.0.post1 in /opt/conda/lib/python3.7/site-packages (from grpcio-tools<1.33,>=1.30->storey~=0.7.3; python_version >= \"3.7\"->mlrun[complete]==0.7.0-rc7) (3.17.3)\n",
      "Requirement already satisfied: oauthlib>=3.0.0 in /opt/conda/lib/python3.7/site-packages (from requests-oauthlib->kubernetes~=11.0->mlrun[complete]==0.7.0-rc7) (3.1.1)\n",
      "Requirement already satisfied: zipp>=0.5 in /opt/conda/lib/python3.7/site-packages (from importlib-metadata; python_version < \"3.8\"->sqlalchemy~=1.3->mlrun[complete]==0.7.0-rc7) (3.5.0)\n",
      "Requirement already satisfied: nbformat in /opt/conda/lib/python3.7/site-packages (from notebook>=5.2.0->nuclio-jupyter~=0.8.18->mlrun[complete]==0.7.0-rc7) (5.1.3)\n",
      "Requirement already satisfied: Send2Trash>=1.5.0 in /opt/conda/lib/python3.7/site-packages (from notebook>=5.2.0->nuclio-jupyter~=0.8.18->mlrun[complete]==0.7.0-rc7) (1.8.0)\n",
      "Requirement already satisfied: terminado>=0.8.3 in /opt/conda/lib/python3.7/site-packages (from notebook>=5.2.0->nuclio-jupyter~=0.8.18->mlrun[complete]==0.7.0-rc7) (0.11.0)\n",
      "Requirement already satisfied: prometheus-client in /opt/conda/lib/python3.7/site-packages (from notebook>=5.2.0->nuclio-jupyter~=0.8.18->mlrun[complete]==0.7.0-rc7) (0.11.0)\n",
      "Requirement already satisfied: argon2-cffi in /opt/conda/lib/python3.7/site-packages (from notebook>=5.2.0->nuclio-jupyter~=0.8.18->mlrun[complete]==0.7.0-rc7) (20.1.0)\n",
      "Requirement already satisfied: nbclient<0.6.0,>=0.5.0 in /opt/conda/lib/python3.7/site-packages (from nbconvert>=5.4->nuclio-jupyter~=0.8.18->mlrun[complete]==0.7.0-rc7) (0.5.4)\n",
      "Requirement already satisfied: defusedxml in /opt/conda/lib/python3.7/site-packages (from nbconvert>=5.4->nuclio-jupyter~=0.8.18->mlrun[complete]==0.7.0-rc7) (0.7.1)\n",
      "Requirement already satisfied: testpath in /opt/conda/lib/python3.7/site-packages (from nbconvert>=5.4->nuclio-jupyter~=0.8.18->mlrun[complete]==0.7.0-rc7) (0.5.0)\n",
      "Requirement already satisfied: pandocfilters>=1.4.1 in /opt/conda/lib/python3.7/site-packages (from nbconvert>=5.4->nuclio-jupyter~=0.8.18->mlrun[complete]==0.7.0-rc7) (1.4.3)\n",
      "Requirement already satisfied: mistune<2,>=0.8.1 in /opt/conda/lib/python3.7/site-packages (from nbconvert>=5.4->nuclio-jupyter~=0.8.18->mlrun[complete]==0.7.0-rc7) (0.8.4)\n",
      "Requirement already satisfied: entrypoints>=0.2.2 in /opt/conda/lib/python3.7/site-packages (from nbconvert>=5.4->nuclio-jupyter~=0.8.18->mlrun[complete]==0.7.0-rc7) (0.3)\n",
      "Requirement already satisfied: bleach in /opt/conda/lib/python3.7/site-packages (from nbconvert>=5.4->nuclio-jupyter~=0.8.18->mlrun[complete]==0.7.0-rc7) (4.0.0)\n",
      "Requirement already satisfied: jupyterlab-pygments in /opt/conda/lib/python3.7/site-packages (from nbconvert>=5.4->nuclio-jupyter~=0.8.18->mlrun[complete]==0.7.0-rc7) (0.1.2)\n",
      "Requirement already satisfied: wcwidth in /opt/conda/lib/python3.7/site-packages (from prompt-toolkit!=3.0.0,!=3.0.1,<3.1.0,>=2.0.0->ipython<7.17,>=5.5->mlrun[complete]==0.7.0-rc7) (0.2.5)\n",
      "Requirement already satisfied: parso<0.9.0,>=0.8.0 in /opt/conda/lib/python3.7/site-packages (from jedi>=0.10->ipython<7.17,>=5.5->mlrun[complete]==0.7.0-rc7) (0.8.2)\n",
      "Requirement already satisfied: ptyprocess>=0.5 in /opt/conda/lib/python3.7/site-packages (from pexpect; sys_platform != \"win32\"->ipython<7.17,>=5.5->mlrun[complete]==0.7.0-rc7) (0.7.0)\n",
      "Requirement already satisfied: smmap<5,>=3.0.1 in /opt/conda/lib/python3.7/site-packages (from gitdb<5,>=4.0.1->GitPython~=3.0->mlrun[complete]==0.7.0-rc7) (4.0.0)\n",
      "Requirement already satisfied: MarkupSafe>=0.9.2 in /opt/conda/lib/python3.7/site-packages (from Mako->alembic<1.6.0,~=1.4->mlrun[complete]==0.7.0-rc7) (2.0.1)\n",
      "Requirement already satisfied: heapdict in /opt/conda/lib/python3.7/site-packages (from zict>=0.1.3->distributed<3,>=2.23->mlrun[complete]==0.7.0-rc7) (1.0.1)\n",
      "Requirement already satisfied: pycparser in /opt/conda/lib/python3.7/site-packages (from cffi>=1.12->cryptography~=3.3.2->mlrun[complete]==0.7.0-rc7) (2.20)\n",
      "Requirement already satisfied: pyasn1<0.5.0,>=0.4.6 in /opt/conda/lib/python3.7/site-packages (from pyasn1-modules>=0.2.1->google-auth<2.0dev,>=1.25.0->mlrun[complete]==0.7.0-rc7) (0.4.8)\n",
      "Requirement already satisfied: pyrsistent>=0.14.0 in /opt/conda/lib/python3.7/site-packages (from jsonschema>=3.0.1->kfp~=1.0.1->mlrun[complete]==0.7.0-rc7) (0.18.0)\n",
      "Requirement already satisfied: wheel in /opt/conda/lib/python3.7/site-packages (from strip-hints->kfp~=1.0.1->mlrun[complete]==0.7.0-rc7) (0.36.2)\n",
      "Requirement already satisfied: google-cloud-core<3.0dev,>=1.6.0; python_version >= \"3.6\" in /opt/conda/lib/python3.7/site-packages (from google-cloud-storage>=1.13.0->kfp~=1.0.1->mlrun[complete]==0.7.0-rc7) (1.7.2)\n",
      "Requirement already satisfied: google-resumable-media<3.0dev,>=1.3.0; python_version >= \"3.6\" in /opt/conda/lib/python3.7/site-packages (from google-cloud-storage>=1.13.0->kfp~=1.0.1->mlrun[complete]==0.7.0-rc7) (1.3.3)\n",
      "Requirement already satisfied: google-api-core<3.0dev,>=1.29.0; python_version >= \"3.6\" in /opt/conda/lib/python3.7/site-packages (from google-cloud-storage>=1.13.0->kfp~=1.0.1->mlrun[complete]==0.7.0-rc7) (1.31.2)\n",
      "Requirement already satisfied: adal>=0.4.2 in /opt/conda/lib/python3.7/site-packages (from azure-datalake-store<0.1,>=0.0.46->adlfs~=0.7.1; extra == \"complete\"->mlrun[complete]==0.7.0-rc7) (1.2.7)\n",
      "Requirement already satisfied: pyparsing>=2.0.2 in /opt/conda/lib/python3.7/site-packages (from packaging>=16.8->bokeh~=2.3; extra == \"complete\"->mlrun[complete]==0.7.0-rc7) (2.4.7)\n",
      "Requirement already satisfied: isodate>=0.6.0 in /opt/conda/lib/python3.7/site-packages (from msrest>=0.6.21->azure-keyvault-secrets~=4.2; extra == \"complete\"->mlrun[complete]==0.7.0-rc7) (0.6.0)\n",
      "Requirement already satisfied: portalocker~=1.0; platform_system != \"Windows\" in /opt/conda/lib/python3.7/site-packages (from msal-extensions~=0.3.0->azure-identity~=1.5; extra == \"complete\"->mlrun[complete]==0.7.0-rc7) (1.7.1)\n",
      "Requirement already satisfied: PyJWT[crypto]<3,>=1.0.0 in /opt/conda/lib/python3.7/site-packages (from msal<2.0.0,>=1.7.0->azure-identity~=1.5; extra == \"complete\"->mlrun[complete]==0.7.0-rc7) (2.1.0)\n",
      "Requirement already satisfied: webencodings in /opt/conda/lib/python3.7/site-packages (from bleach->nbconvert>=5.4->nuclio-jupyter~=0.8.18->mlrun[complete]==0.7.0-rc7) (0.5.1)\n",
      "Requirement already satisfied: google-crc32c<2.0dev,>=1.0; python_version >= \"3.5\" in /opt/conda/lib/python3.7/site-packages (from google-resumable-media<3.0dev,>=1.3.0; python_version >= \"3.6\"->google-cloud-storage>=1.13.0->kfp~=1.0.1->mlrun[complete]==0.7.0-rc7) (1.1.2)\n",
      "\u001b[36mINFO\u001b[0m[0184] Taking snapshot of full filesystem...        \n"
     ]
    },
    {
     "data": {
      "text/plain": [
       "True"
      ]
     },
     "execution_count": 11,
     "metadata": {},
     "output_type": "execute_result"
    }
   ],
   "source": [
    "fn.deploy()"
   ]
  },
  {
   "cell_type": "code",
   "execution_count": 12,
   "metadata": {},
   "outputs": [
    {
     "name": "stdout",
     "output_type": "stream",
     "text": [
      "> 2021-10-03 14:08:23,928 [info] starting run train uid=5c0dfea1f6c14c9f9a05f52fd324ea9e DB=http://mlrun-api:8080\n",
      "> 2021-10-03 14:08:24,066 [info] Job is running in the background, pod: train-pg6kr\n",
      "> 2021-10-03 14:08:36,274 [info] best iteration=1, used criteria max.accuracy\n",
      "> 2021-10-03 14:08:36,573 [info] run executed, status=completed\n",
      "Converting input from bool to <class 'numpy.uint8'> for compatibility.\n",
      "Converting input from bool to <class 'numpy.uint8'> for compatibility.\n",
      "Converting input from bool to <class 'numpy.uint8'> for compatibility.\n",
      "lbfgs failed to converge (status=1):\n",
      "STOP: TOTAL NO. of ITERATIONS REACHED LIMIT.\n",
      "\n",
      "Increase the number of iterations (max_iter) or scale the data as shown in:\n",
      "    https://scikit-learn.org/stable/modules/preprocessing.html\n",
      "Please also refer to the documentation for alternative solver options:\n",
      "    https://scikit-learn.org/stable/modules/linear_model.html#logistic-regression\n",
      "Converting input from bool to <class 'numpy.uint8'> for compatibility.\n",
      "Converting input from bool to <class 'numpy.uint8'> for compatibility.\n",
      "Converting input from bool to <class 'numpy.uint8'> for compatibility.\n",
      "final state: completed\n"
     ]
    },
    {
     "data": {
      "text/html": [
       "<style>\n",
       ".dictlist {\n",
       "  background-color: #4EC64B;\n",
       "  text-align: center;\n",
       "  margin: 4px;\n",
       "  border-radius: 3px; padding: 0px 3px 1px 3px; display: inline-block;}\n",
       ".artifact {\n",
       "  cursor: pointer;\n",
       "  background-color: #4EC64B;\n",
       "  text-align: left;\n",
       "  margin: 4px; border-radius: 3px; padding: 0px 3px 1px 3px; display: inline-block;\n",
       "}\n",
       "div.block.hidden {\n",
       "  display: none;\n",
       "}\n",
       ".clickable {\n",
       "  cursor: pointer;\n",
       "}\n",
       ".ellipsis {\n",
       "  display: inline-block;\n",
       "  max-width: 60px;\n",
       "  white-space: nowrap;\n",
       "  overflow: hidden;\n",
       "  text-overflow: ellipsis;\n",
       "}\n",
       ".master-wrapper {\n",
       "  display: flex;\n",
       "  flex-flow: row nowrap;\n",
       "  justify-content: flex-start;\n",
       "  align-items: stretch;\n",
       "}\n",
       ".master-tbl {\n",
       "  flex: 3\n",
       "}\n",
       ".master-wrapper > div {\n",
       "  margin: 4px;\n",
       "  padding: 10px;\n",
       "}\n",
       "iframe.fileview {\n",
       "  border: 0 none;\n",
       "  height: 100%;\n",
       "  width: 100%;\n",
       "  white-space: pre-wrap;\n",
       "}\n",
       ".pane-header-title {\n",
       "  width: 80%;\n",
       "  font-weight: 500;\n",
       "}\n",
       ".pane-header {\n",
       "  line-height: 1;\n",
       "  background-color: #4EC64B;\n",
       "  padding: 3px;\n",
       "}\n",
       ".pane-header .close {\n",
       "  font-size: 20px;\n",
       "  font-weight: 700;\n",
       "  float: right;\n",
       "  margin-top: -5px;\n",
       "}\n",
       ".master-wrapper .right-pane {\n",
       "  border: 1px inset silver;\n",
       "  width: 40%;\n",
       "  min-height: 300px;\n",
       "  flex: 3\n",
       "  min-width: 500px;\n",
       "}\n",
       ".master-wrapper * {\n",
       "  box-sizing: border-box;\n",
       "}\n",
       "</style><script>\n",
       "function copyToClipboard(fld) {\n",
       "    if (document.queryCommandSupported && document.queryCommandSupported('copy')) {\n",
       "        var textarea = document.createElement('textarea');\n",
       "        textarea.textContent = fld.innerHTML;\n",
       "        textarea.style.position = 'fixed';\n",
       "        document.body.appendChild(textarea);\n",
       "        textarea.select();\n",
       "\n",
       "        try {\n",
       "            return document.execCommand('copy'); // Security exception may be thrown by some browsers.\n",
       "        } catch (ex) {\n",
       "\n",
       "        } finally {\n",
       "            document.body.removeChild(textarea);\n",
       "        }\n",
       "    }\n",
       "}\n",
       "function expandPanel(el) {\n",
       "  const panelName = \"#\" + el.getAttribute('paneName');\n",
       "  console.log(el.title);\n",
       "\n",
       "  document.querySelector(panelName + \"-title\").innerHTML = el.title\n",
       "  iframe = document.querySelector(panelName + \"-body\");\n",
       "\n",
       "  const tblcss = `<style> body { font-family: Arial, Helvetica, sans-serif;}\n",
       "    #csv { margin-bottom: 15px; }\n",
       "    #csv table { border-collapse: collapse;}\n",
       "    #csv table td { padding: 4px 8px; border: 1px solid silver;} </style>`;\n",
       "\n",
       "  function csvToHtmlTable(str) {\n",
       "    return '<div id=\"csv\"><table><tr><td>' +  str.replace(/[\\n\\r]+$/g, '').replace(/[\\n\\r]+/g, '</td></tr><tr><td>')\n",
       "      .replace(/,/g, '</td><td>') + '</td></tr></table></div>';\n",
       "  }\n",
       "\n",
       "  function reqListener () {\n",
       "    if (el.title.endsWith(\".csv\")) {\n",
       "      iframe.setAttribute(\"srcdoc\", tblcss + csvToHtmlTable(this.responseText));\n",
       "    } else {\n",
       "      iframe.setAttribute(\"srcdoc\", this.responseText);\n",
       "    }\n",
       "    console.log(this.responseText);\n",
       "  }\n",
       "\n",
       "  const oReq = new XMLHttpRequest();\n",
       "  oReq.addEventListener(\"load\", reqListener);\n",
       "  oReq.open(\"GET\", el.title);\n",
       "  oReq.send();\n",
       "\n",
       "\n",
       "  //iframe.src = el.title;\n",
       "  const resultPane = document.querySelector(panelName + \"-pane\");\n",
       "  if (resultPane.classList.contains(\"hidden\")) {\n",
       "    resultPane.classList.remove(\"hidden\");\n",
       "  }\n",
       "}\n",
       "function closePanel(el) {\n",
       "  const panelName = \"#\" + el.getAttribute('paneName')\n",
       "  const resultPane = document.querySelector(panelName + \"-pane\");\n",
       "  if (!resultPane.classList.contains(\"hidden\")) {\n",
       "    resultPane.classList.add(\"hidden\");\n",
       "  }\n",
       "}\n",
       "\n",
       "</script>\n",
       "<div class=\"master-wrapper\">\n",
       "  <div class=\"block master-tbl\"><div>\n",
       "<style scoped>\n",
       "    .dataframe tbody tr th:only-of-type {\n",
       "        vertical-align: middle;\n",
       "    }\n",
       "\n",
       "    .dataframe tbody tr th {\n",
       "        vertical-align: top;\n",
       "    }\n",
       "\n",
       "    .dataframe thead th {\n",
       "        text-align: right;\n",
       "    }\n",
       "</style>\n",
       "<table border=\"1\" class=\"dataframe\">\n",
       "  <thead>\n",
       "    <tr style=\"text-align: right;\">\n",
       "      <th>project</th>\n",
       "      <th>uid</th>\n",
       "      <th>iter</th>\n",
       "      <th>start</th>\n",
       "      <th>state</th>\n",
       "      <th>name</th>\n",
       "      <th>labels</th>\n",
       "      <th>inputs</th>\n",
       "      <th>parameters</th>\n",
       "      <th>results</th>\n",
       "      <th>artifacts</th>\n",
       "    </tr>\n",
       "  </thead>\n",
       "  <tbody>\n",
       "    <tr>\n",
       "      <td>default</td>\n",
       "      <td><div title=\"5c0dfea1f6c14c9f9a05f52fd324ea9e\"><a href=\"https://dashboard.default-tenant.app.dev8.lab.iguazeng.com/mlprojects/default/jobs/monitor/5c0dfea1f6c14c9f9a05f52fd324ea9e/overview\" target=\"_blank\" >...d324ea9e</a></div></td>\n",
       "      <td>0</td>\n",
       "      <td>Oct 03 14:08:31</td>\n",
       "      <td>completed</td>\n",
       "      <td>train</td>\n",
       "      <td><div class=\"dictlist\">v3io_user=dani</div><div class=\"dictlist\">kind=job</div><div class=\"dictlist\">owner=dani</div></td>\n",
       "      <td><div title=\"/User/test/demos/network-operations/data/20211003T135320-20211003T145320.parquet\">dataset</div></td>\n",
       "      <td><div class=\"dictlist\">sample=-1</div><div class=\"dictlist\">label_column=is_error</div><div class=\"dictlist\">test_size=0.1</div><div class=\"dictlist\">train_val_split=0.75</div></td>\n",
       "      <td><div class=\"dictlist\">best_iteration=1</div><div class=\"dictlist\">accuracy=1.0</div><div class=\"dictlist\">test-error=0.0</div><div class=\"dictlist\">rocauc=1.0</div><div class=\"dictlist\">brier_score=0.0</div><div class=\"dictlist\">f1-score=1.0</div><div class=\"dictlist\">precision_score=1.0</div><div class=\"dictlist\">recall_score=1.0</div></td>\n",
       "      <td><div title=\"/User/test/demos/network-operations/artifacts/data/1/test_set.parquet\">test_set</div><div class=\"artifact\" onclick=\"expandPanel(this)\" paneName=\"resulte736f9b3\" title=\"/files/test/demos/network-operations/artifacts/model/plots/1/probability-calibration.html\">probability-calibration</div><div class=\"artifact\" onclick=\"expandPanel(this)\" paneName=\"resulte736f9b3\" title=\"/files/test/demos/network-operations/artifacts/model/plots/1/confusion-matrix.html\">confusion-matrix</div><div class=\"artifact\" onclick=\"expandPanel(this)\" paneName=\"resulte736f9b3\" title=\"/files/test/demos/network-operations/artifacts/model/plots/1/feature-importances.html\">feature-importances</div><div class=\"artifact\" onclick=\"expandPanel(this)\" paneName=\"resulte736f9b3\" title=\"/files/test/demos/network-operations/artifacts/model/plots/1/precision-recall-binary.html\">precision-recall-binary</div><div class=\"artifact\" onclick=\"expandPanel(this)\" paneName=\"resulte736f9b3\" title=\"/files/test/demos/network-operations/artifacts/model/plots/1/roc-binary.html\">roc-binary</div><div title=\"/User/test/demos/network-operations/artifacts/model/1\">model</div><div class=\"artifact\" onclick=\"expandPanel(this)\" paneName=\"resulte736f9b3\" title=\"/files/test/demos/network-operations/artifacts/iteration_results.csv\">iteration_results</div></td>\n",
       "    </tr>\n",
       "  </tbody>\n",
       "</table>\n",
       "</div></div>\n",
       "  <div id=\"resulte736f9b3-pane\" class=\"right-pane block hidden\">\n",
       "    <div class=\"pane-header\">\n",
       "      <span id=\"resulte736f9b3-title\" class=\"pane-header-title\">Title</span>\n",
       "      <span onclick=\"closePanel(this)\" paneName=\"resulte736f9b3\" class=\"close clickable\">&times;</span>\n",
       "    </div>\n",
       "    <iframe class=\"fileview\" id=\"resulte736f9b3-body\"></iframe>\n",
       "  </div>\n",
       "</div>\n"
      ],
      "text/plain": [
       "<IPython.core.display.HTML object>"
      ]
     },
     "metadata": {},
     "output_type": "display_data"
    },
    {
     "name": "stdout",
     "output_type": "stream",
     "text": [
      "\n"
     ]
    },
    {
     "data": {
      "text/html": [
       "<b> > to track results use the .show() or .logs() methods  or <a href=\"https://dashboard.default-tenant.app.dev8.lab.iguazeng.com/mlprojects/default/jobs/monitor/5c0dfea1f6c14c9f9a05f52fd324ea9e/overview\" target=\"_blank\">click here</a> to open in UI</b>"
      ],
      "text/plain": [
       "<IPython.core.display.HTML object>"
      ]
     },
     "metadata": {},
     "output_type": "display_data"
    },
    {
     "name": "stdout",
     "output_type": "stream",
     "text": [
      "> 2021-10-03 14:08:43,313 [info] run executed, status=completed\n"
     ]
    }
   ],
   "source": [
    "models = fn.run(task)"
   ]
  },
  {
   "cell_type": "code",
   "execution_count": 13,
   "metadata": {},
   "outputs": [
    {
     "name": "stderr",
     "output_type": "stream",
     "text": [
      "Trying to unpickle estimator DecisionTreeClassifier from version 0.24.2 when using version 0.23.2. This might lead to breaking code or invalid results. Use at your own risk.\n",
      "Trying to unpickle estimator RandomForestClassifier from version 0.24.2 when using version 0.23.2. This might lead to breaking code or invalid results. Use at your own risk.\n"
     ]
    }
   ],
   "source": [
    "init_context(context)"
   ]
  },
  {
   "cell_type": "code",
   "execution_count": 14,
   "metadata": {},
   "outputs": [
    {
     "name": "stdout",
     "output_type": "stream",
     "text": [
      "Saving features to Parquet\n"
     ]
    }
   ],
   "source": [
    "event = nuclio.Event(body='', trigger={'kind': 'cron'})\n",
    "out = handler(context, event)\n",
    "out"
   ]
  },
  {
   "cell_type": "markdown",
   "metadata": {},
   "source": [
    "## Test"
   ]
  },
  {
   "cell_type": "code",
   "execution_count": 99,
   "metadata": {},
   "outputs": [],
   "source": [
    "from mlrun import code_to_function, mount_v3io\n",
    "import os\n",
    "\n",
    "base_path = os.path.abspath('../')\n",
    "data_path = os.path.join(base_path, 'data')\n",
    "src_path = os.path.join(base_path, 'src')\n",
    "streaming_path = base_path"
   ]
  },
  {
   "cell_type": "code",
   "execution_count": 100,
   "metadata": {},
   "outputs": [
    {
     "data": {
      "text/plain": [
       "<mlrun.runtimes.function.RemoteRuntime at 0x7f17b8c05790>"
      ]
     },
     "execution_count": 100,
     "metadata": {},
     "output_type": "execute_result"
    }
   ],
   "source": [
    "fn = code_to_function('inference-server',\n",
    "                      kind='nuclio',\n",
    "                      project='network-operations', image='mlrun/ml-models')\n",
    "fn.set_envs({'METRICS_TABLE' : data_path,\n",
    "             'FEATURES_TABLE' : base_path+'/features'\n",
    "             'PREDICTIONS_TABLE' : streaming_path+'/predictions',\n",
    "             'BATCHES_TO_GENERATE' : '20',\n",
    "             'model_path' : os.path.abspath('../') + '/artifacts/model/1/model.pkl',\n",
    "             'model_name' : 'netops_predictor_v1',\n",
    "             'model_class' : 'MLRunModel',\n",
    "             'model_col' : 'model',\n",
    "             'model_class_col' : 'class',\n",
    "             'prediction_col' : 'predictions',\n",
    "             'worker_col' : 'worker',\n",
    "             'hostname_col' : 'hostname',\n",
    "             'timestamp_col' : 'when',\n",
    "             'orig_timestamp_col' : 'timestamp'})\n",
    "\n",
    "fn.apply(mount_v3io())\n",
    "fn.add_trigger('cron', nuclio.triggers.CronTrigger(interval='1m'))"
   ]
  },
  {
   "cell_type": "code",
   "execution_count": 101,
   "metadata": {},
   "outputs": [
    {
     "name": "stdout",
     "output_type": "stream",
     "text": [
      "> 2021-10-03 13:19:45,306 [info] function spec saved to path: ../src/inference-server.yaml\n"
     ]
    },
    {
     "data": {
      "text/plain": [
       "<mlrun.runtimes.function.RemoteRuntime at 0x7f17b8c05790>"
      ]
     },
     "execution_count": 101,
     "metadata": {},
     "output_type": "execute_result"
    }
   ],
   "source": [
    "fn.save()\n",
    "fn.export('../src/inference-server.yaml')"
   ]
  },
  {
   "cell_type": "code",
   "execution_count": 102,
   "metadata": {},
   "outputs": [
    {
     "name": "stdout",
     "output_type": "stream",
     "text": [
      "> 2021-10-03 13:19:45,312 [info] Starting remote function deploy\n",
      "2021-10-03 13:19:45  (info) Deploying function\n",
      "2021-10-03 13:19:45  (info) Building\n",
      "2021-10-03 13:19:45  (info) Staging files and preparing base images\n",
      "2021-10-03 13:19:45  (info) Building processor image\n",
      "2021-10-03 13:19:51  (info) Build complete\n",
      "> 2021-10-03 13:19:59,560 [info] successfully deployed function: {'internal_invocation_urls': ['nuclio-network-operations-inference-server.default-tenant.svc.cluster.local:8080'], 'external_invocation_urls': ['default-tenant.app.dev8.lab.iguazeng.com:30932']}\n"
     ]
    },
    {
     "data": {
      "text/plain": [
       "'http://default-tenant.app.dev8.lab.iguazeng.com:30932'"
      ]
     },
     "execution_count": 102,
     "metadata": {},
     "output_type": "execute_result"
    }
   ],
   "source": [
    "fn.deploy(project='network-operations')"
   ]
  },
  {
   "cell_type": "code",
   "execution_count": null,
   "metadata": {},
   "outputs": [],
   "source": []
  }
 ],
 "metadata": {
  "kernelspec": {
   "display_name": "Python 3",
   "language": "python",
   "name": "python3"
  },
  "language_info": {
   "codemirror_mode": {
    "name": "ipython",
    "version": 3
   },
   "file_extension": ".py",
   "mimetype": "text/x-python",
   "name": "python",
   "nbconvert_exporter": "python",
   "pygments_lexer": "ipython3",
   "version": "3.7.6"
  }
 },
 "nbformat": 4,
 "nbformat_minor": 4
}
