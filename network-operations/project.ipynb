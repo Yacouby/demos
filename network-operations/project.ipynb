{
 "cells": [
  {
   "cell_type": "markdown",
   "metadata": {},
   "source": [
    "# Network Operations\n",
    "\n",
    "In this notebook we will assemble our project.  We will explore different functions on our dataset and compile them into a workflow ready for production.\n",
    "\n",
    "The functions we will use will be a mix of `hub` based functions from our [MLRun Functions](http://github.com/mlrun/functions) repo, local and git based notebooks.\n",
    "\n",
    "> The notebook should be run after generating the data in the [Generator Notebook](./notebooks/generator.ipynb)\n"
   ]
  },
  {
   "cell_type": "markdown",
   "metadata": {},
   "source": [
    "we will start by setting up our environment, Loading MLRun and some utilities we will need"
   ]
  },
  {
   "cell_type": "code",
   "execution_count": 1,
   "metadata": {},
   "outputs": [],
   "source": [
    "# Utils\n",
    "import os\n",
    "import json\n",
    "import urllib\n",
    "import numpy as np\n",
    "\n",
    "# MLRun imports\n",
    "from mlrun import mlconf"
   ]
  },
  {
   "cell_type": "markdown",
   "metadata": {},
   "source": [
    "> If you are using another version of our `hub://` please set it up in the following cell.\n",
    "* The url can parse {name} and {tag} to the given url"
   ]
  },
  {
   "cell_type": "code",
   "execution_count": 2,
   "metadata": {},
   "outputs": [],
   "source": [
    "# Set Hub URL address if using a local version\n",
    "# mlconf.hub_url = '/User/functions/{name}/function.yaml'"
   ]
  },
  {
   "cell_type": "markdown",
   "metadata": {},
   "source": [
    "Now lets define our current project "
   ]
  },
  {
   "cell_type": "markdown",
   "metadata": {},
   "source": [
    "## Create a project from a git repository"
   ]
  },
  {
   "cell_type": "code",
   "execution_count": 3,
   "metadata": {},
   "outputs": [],
   "source": [
    "from mlrun import new_project, set_environment\n",
    "\n",
    "# Setup project definitions including name, base path and\n",
    "# artifacts path\n",
    "project_name_base = 'network-operations'\n",
    "project_dir = os.path.abspath('./')\n",
    "project_name, artifact_path = set_environment(artifact_path=os.path.abspath('./artifacts'), project=project_name_base, user_project=True)\n",
    "\n",
    "# Create the project\n",
    "newproj = new_project(project_name, project_dir, init_git=False)\n",
    "\n",
    "# We can update our project directory to the latest status by running\n",
    "# newproj.pull()"
   ]
  },
  {
   "cell_type": "markdown",
   "metadata": {},
   "source": [
    "## Create and run functions"
   ]
  },
  {
   "cell_type": "markdown",
   "metadata": {},
   "source": [
    "As we receive a new dataset, the first thing we would like to do is to explore it a bit, we can do that using our `describe` function in `mlrun/functions`"
   ]
  },
  {
   "cell_type": "code",
   "execution_count": 4,
   "metadata": {},
   "outputs": [],
   "source": [
    "from mlrun import mount_v3io, new_model_server"
   ]
  },
  {
   "cell_type": "code",
   "execution_count": 5,
   "metadata": {},
   "outputs": [
    {
     "data": {
      "text/plain": [
       "<mlrun.runtimes.function.RemoteRuntime at 0x7fb6002c3250>"
      ]
     },
     "execution_count": 5,
     "metadata": {},
     "output_type": "execute_result"
    }
   ],
   "source": [
    "# Import the functions\n",
    "# Functions From hub\n",
    "tag = 'master'\n",
    "newproj.set_function(func=f'hub://aggregate:{tag}', name='aggregate')\n",
    "newproj.set_function(func=f'hub://describe:{tag}', name='describe')\n",
    "newproj.set_function(func=f'hub://feature_selection:{tag}', name=\"feature_selection\")\n",
    "newproj.set_function(func=f'hub://sklearn_classifier:{tag}', name='train')\n",
    "newproj.set_function(func=f'hub://test_classifier:{tag}', name='test')\n",
    "newproj.set_function(func=f'hub://model_server_tester:{tag}', name=\"model_server-tester\")\n",
    "newproj.set_function(func=f'hub://concept_drift:{tag}', name=\"concept_drift\")\n",
    "newproj.set_function(func=f'hub://stream_to_parquet:{tag}', name=\"s2p\")\n",
    "newproj.set_function(func=f'hub://virtual_drift:{tag}', name=\"virtual_drift\")\n",
    "\n",
    "# Streaming\n",
    "src_path = os.path.abspath('notebooks/')\n",
    "newproj.set_function(func=os.path.join(src_path, 'generator.ipynb'), name='generator',image='mlrun/ml-models',kind='nuclio')\n",
    "newproj.set_function(func=os.path.join(src_path, 'preprocessor.ipynb'), name='create_feature_vector', kind='nuclio', image='mlrun/ml-models')\n",
    "newproj.set_function(func=os.path.join(src_path, 'server.ipynb'), name=\"serving\", kind='nuclio', image='mlrun/ml-models')\n",
    "newproj.set_function(func=os.path.join(src_path, 'labeled_stream_creator.ipynb'), name=\"labeled_stream\", image='mlrun/ml-models',kind='nuclio')"
   ]
  },
  {
   "cell_type": "markdown",
   "metadata": {},
   "source": [
    "## Generate the dataset\n",
    "If needed go to [Generator](notebooks/generator.ipynb) and run the local workflow to generate the metrics dataset to `data/metrics`"
   ]
  },
  {
   "cell_type": "markdown",
   "metadata": {},
   "source": [
    "## Run the functions locally to develop the workflow"
   ]
  },
  {
   "cell_type": "markdown",
   "metadata": {},
   "source": [
    "now we can **Run** the function locally on our sample data, we would like to get some details on our `raw` data"
   ]
  },
  {
   "cell_type": "markdown",
   "metadata": {},
   "source": [
    "## Register raw data as project level artifact"
   ]
  },
  {
   "cell_type": "code",
   "execution_count": 6,
   "metadata": {},
   "outputs": [
    {
     "name": "stdout",
     "output_type": "stream",
     "text": [
      "Selected /User/test/demos/network-operations/data/20211004T124304-20211004T134304.parquet as base dataset, Prepearing dataset\n",
      "Finished prepearing dataset (5768, 5), logging artifact to store://network-operations-dani/netops-project_metrics\n",
      "> 2021-10-05 05:20:27,633 [info] logging run results to: http://mlrun-api:8080\n"
     ]
    },
    {
     "name": "stderr",
     "output_type": "stream",
     "text": [
      "Converting input from bool to <class 'numpy.uint8'> for compatibility.\n"
     ]
    },
    {
     "data": {
      "text/plain": [
       "<mlrun.artifacts.dataset.DatasetArtifact at 0x7fb6002852d0>"
      ]
     },
     "execution_count": 6,
     "metadata": {},
     "output_type": "execute_result"
    }
   ],
   "source": [
    "# Define base Dataset\n",
    "import random\n",
    "data_dir = os.path.join(os.path.abspath(newproj.context), 'data')\n",
    "dataset_filename = random.choice(list(filter(lambda x: (x.endswith('pq') or x.endswith('parquet')), os.listdir(data_dir))))\n",
    "metrics_path = os.path.join(data_dir, dataset_filename)\n",
    "print(f'Selected {metrics_path} as base dataset, Prepearing dataset')\n",
    "\n",
    "import pandas as pd\n",
    "# Drop alternate error columns\n",
    "label_column = 'is_error'\n",
    "raw = pd.read_parquet(metrics_path)\n",
    "raw = raw.drop([col for col in raw.columns if (col != label_column) & (col.endswith(label_column))], axis=1)\n",
    "dataset_path = os.path.join(data_dir, 'metrics.pq')\n",
    "raw.to_parquet(dataset_path)\n",
    "print(f'Finished prepearing dataset {raw.shape}, logging artifact to store://{newproj.name}/netops-project_metrics')\n",
    "\n",
    "# Add to the project as a Dataset Artifact\n",
    "from mlrun.artifacts import DatasetArtifact\n",
    "from mlrun import get_or_create_ctx\n",
    "mlctx = get_or_create_ctx('netops-project')\n",
    "mlctx._project = project_name\n",
    "mlctx.log_dataset(key='metrics', df=raw, format='parquet', target_path=dataset_path)"
   ]
  },
  {
   "cell_type": "markdown",
   "metadata": {},
   "source": [
    "### Get statistics about the metrics data"
   ]
  },
  {
   "cell_type": "code",
   "execution_count": 7,
   "metadata": {},
   "outputs": [],
   "source": [
    "from mlrun import NewTask\n",
    "from mlrun.platforms import auto_mount"
   ]
  },
  {
   "cell_type": "code",
   "execution_count": 8,
   "metadata": {},
   "outputs": [],
   "source": [
    "describe_task = NewTask(\n",
    "    name=\"describe\", \n",
    "    handler=\"summarize\",  \n",
    "    params={\"key\": \"summary\", \n",
    "            \"label_column\": label_column, \n",
    "            'class_labels': ['0', '1'],\n",
    "            'plot_hist': True,\n",
    "            'plot_dest': 'plots-metrics'},\n",
    "    inputs={\"table\": metrics_path},\n",
    "    artifact_path=artifact_path)"
   ]
  },
  {
   "cell_type": "code",
   "execution_count": 9,
   "metadata": {},
   "outputs": [
    {
     "name": "stdout",
     "output_type": "stream",
     "text": [
      "> 2021-10-05 05:20:27,816 [info] starting run describe uid=0636b5e7d376484a907ff4bf690a1542 DB=http://mlrun-api:8080\n",
      "> 2021-10-05 05:20:27,930 [info] Job is running in the background, pod: describe-4j9nh\n",
      "> 2021-10-05 05:20:38,595 [error] Failed to create pairplot histograms due to: No loop matching the specified signature and casting was found for ufunc add\n",
      "> 2021-10-05 05:20:43,549 [info] run executed, status=completed\n",
      "final state: completed\n"
     ]
    },
    {
     "data": {
      "text/html": [
       "<style>\n",
       ".dictlist {\n",
       "  background-color: #4EC64B;\n",
       "  text-align: center;\n",
       "  margin: 4px;\n",
       "  border-radius: 3px; padding: 0px 3px 1px 3px; display: inline-block;}\n",
       ".artifact {\n",
       "  cursor: pointer;\n",
       "  background-color: #4EC64B;\n",
       "  text-align: left;\n",
       "  margin: 4px; border-radius: 3px; padding: 0px 3px 1px 3px; display: inline-block;\n",
       "}\n",
       "div.block.hidden {\n",
       "  display: none;\n",
       "}\n",
       ".clickable {\n",
       "  cursor: pointer;\n",
       "}\n",
       ".ellipsis {\n",
       "  display: inline-block;\n",
       "  max-width: 60px;\n",
       "  white-space: nowrap;\n",
       "  overflow: hidden;\n",
       "  text-overflow: ellipsis;\n",
       "}\n",
       ".master-wrapper {\n",
       "  display: flex;\n",
       "  flex-flow: row nowrap;\n",
       "  justify-content: flex-start;\n",
       "  align-items: stretch;\n",
       "}\n",
       ".master-tbl {\n",
       "  flex: 3\n",
       "}\n",
       ".master-wrapper > div {\n",
       "  margin: 4px;\n",
       "  padding: 10px;\n",
       "}\n",
       "iframe.fileview {\n",
       "  border: 0 none;\n",
       "  height: 100%;\n",
       "  width: 100%;\n",
       "  white-space: pre-wrap;\n",
       "}\n",
       ".pane-header-title {\n",
       "  width: 80%;\n",
       "  font-weight: 500;\n",
       "}\n",
       ".pane-header {\n",
       "  line-height: 1;\n",
       "  background-color: #4EC64B;\n",
       "  padding: 3px;\n",
       "}\n",
       ".pane-header .close {\n",
       "  font-size: 20px;\n",
       "  font-weight: 700;\n",
       "  float: right;\n",
       "  margin-top: -5px;\n",
       "}\n",
       ".master-wrapper .right-pane {\n",
       "  border: 1px inset silver;\n",
       "  width: 40%;\n",
       "  min-height: 300px;\n",
       "  flex: 3\n",
       "  min-width: 500px;\n",
       "}\n",
       ".master-wrapper * {\n",
       "  box-sizing: border-box;\n",
       "}\n",
       "</style><script>\n",
       "function copyToClipboard(fld) {\n",
       "    if (document.queryCommandSupported && document.queryCommandSupported('copy')) {\n",
       "        var textarea = document.createElement('textarea');\n",
       "        textarea.textContent = fld.innerHTML;\n",
       "        textarea.style.position = 'fixed';\n",
       "        document.body.appendChild(textarea);\n",
       "        textarea.select();\n",
       "\n",
       "        try {\n",
       "            return document.execCommand('copy'); // Security exception may be thrown by some browsers.\n",
       "        } catch (ex) {\n",
       "\n",
       "        } finally {\n",
       "            document.body.removeChild(textarea);\n",
       "        }\n",
       "    }\n",
       "}\n",
       "function expandPanel(el) {\n",
       "  const panelName = \"#\" + el.getAttribute('paneName');\n",
       "  console.log(el.title);\n",
       "\n",
       "  document.querySelector(panelName + \"-title\").innerHTML = el.title\n",
       "  iframe = document.querySelector(panelName + \"-body\");\n",
       "\n",
       "  const tblcss = `<style> body { font-family: Arial, Helvetica, sans-serif;}\n",
       "    #csv { margin-bottom: 15px; }\n",
       "    #csv table { border-collapse: collapse;}\n",
       "    #csv table td { padding: 4px 8px; border: 1px solid silver;} </style>`;\n",
       "\n",
       "  function csvToHtmlTable(str) {\n",
       "    return '<div id=\"csv\"><table><tr><td>' +  str.replace(/[\\n\\r]+$/g, '').replace(/[\\n\\r]+/g, '</td></tr><tr><td>')\n",
       "      .replace(/,/g, '</td><td>') + '</td></tr></table></div>';\n",
       "  }\n",
       "\n",
       "  function reqListener () {\n",
       "    if (el.title.endsWith(\".csv\")) {\n",
       "      iframe.setAttribute(\"srcdoc\", tblcss + csvToHtmlTable(this.responseText));\n",
       "    } else {\n",
       "      iframe.setAttribute(\"srcdoc\", this.responseText);\n",
       "    }\n",
       "    console.log(this.responseText);\n",
       "  }\n",
       "\n",
       "  const oReq = new XMLHttpRequest();\n",
       "  oReq.addEventListener(\"load\", reqListener);\n",
       "  oReq.open(\"GET\", el.title);\n",
       "  oReq.send();\n",
       "\n",
       "\n",
       "  //iframe.src = el.title;\n",
       "  const resultPane = document.querySelector(panelName + \"-pane\");\n",
       "  if (resultPane.classList.contains(\"hidden\")) {\n",
       "    resultPane.classList.remove(\"hidden\");\n",
       "  }\n",
       "}\n",
       "function closePanel(el) {\n",
       "  const panelName = \"#\" + el.getAttribute('paneName')\n",
       "  const resultPane = document.querySelector(panelName + \"-pane\");\n",
       "  if (!resultPane.classList.contains(\"hidden\")) {\n",
       "    resultPane.classList.add(\"hidden\");\n",
       "  }\n",
       "}\n",
       "\n",
       "</script>\n",
       "<div class=\"master-wrapper\">\n",
       "  <div class=\"block master-tbl\"><div>\n",
       "<style scoped>\n",
       "    .dataframe tbody tr th:only-of-type {\n",
       "        vertical-align: middle;\n",
       "    }\n",
       "\n",
       "    .dataframe tbody tr th {\n",
       "        vertical-align: top;\n",
       "    }\n",
       "\n",
       "    .dataframe thead th {\n",
       "        text-align: right;\n",
       "    }\n",
       "</style>\n",
       "<table border=\"1\" class=\"dataframe\">\n",
       "  <thead>\n",
       "    <tr style=\"text-align: right;\">\n",
       "      <th>project</th>\n",
       "      <th>uid</th>\n",
       "      <th>iter</th>\n",
       "      <th>start</th>\n",
       "      <th>state</th>\n",
       "      <th>name</th>\n",
       "      <th>labels</th>\n",
       "      <th>inputs</th>\n",
       "      <th>parameters</th>\n",
       "      <th>results</th>\n",
       "      <th>artifacts</th>\n",
       "    </tr>\n",
       "  </thead>\n",
       "  <tbody>\n",
       "    <tr>\n",
       "      <td>network-operations-dani</td>\n",
       "      <td><div title=\"0636b5e7d376484a907ff4bf690a1542\"><a href=\"https://dashboard.default-tenant.app.dev8.lab.iguazeng.com/mlprojects/network-operations-dani/jobs/monitor/0636b5e7d376484a907ff4bf690a1542/overview\" target=\"_blank\" >...690a1542</a></div></td>\n",
       "      <td>0</td>\n",
       "      <td>Oct 05 05:20:34</td>\n",
       "      <td>completed</td>\n",
       "      <td>describe</td>\n",
       "      <td><div class=\"dictlist\">v3io_user=dani</div><div class=\"dictlist\">kind=job</div><div class=\"dictlist\">owner=dani</div><div class=\"dictlist\">host=describe-4j9nh</div></td>\n",
       "      <td><div title=\"/User/test/demos/network-operations/data/20211004T124304-20211004T134304.parquet\">table</div></td>\n",
       "      <td><div class=\"dictlist\">key=summary</div><div class=\"dictlist\">label_column=is_error</div><div class=\"dictlist\">class_labels=['0', '1']</div><div class=\"dictlist\">plot_hist=True</div><div class=\"dictlist\">plot_dest=plots-metrics</div></td>\n",
       "      <td></td>\n",
       "      <td><div class=\"artifact\" onclick=\"expandPanel(this)\" paneName=\"result1caed550\" title=\"/files/test/demos/network-operations/artifacts/plots/violin.html\">violin</div><div class=\"artifact\" onclick=\"expandPanel(this)\" paneName=\"result1caed550\" title=\"/files/test/demos/network-operations/artifacts/plots/imbalance.html\">imbalance</div><div class=\"artifact\" onclick=\"expandPanel(this)\" paneName=\"result1caed550\" title=\"/files/test/demos/network-operations/artifacts/plots/imbalance-weights-vec.csv\">imbalance-weights-vec</div><div class=\"artifact\" onclick=\"expandPanel(this)\" paneName=\"result1caed550\" title=\"/files/test/demos/network-operations/artifacts/plots/correlation-matrix.csv\">correlation-matrix</div><div class=\"artifact\" onclick=\"expandPanel(this)\" paneName=\"result1caed550\" title=\"/files/test/demos/network-operations/artifacts/plots/corr.html\">correlation</div></td>\n",
       "    </tr>\n",
       "  </tbody>\n",
       "</table>\n",
       "</div></div>\n",
       "  <div id=\"result1caed550-pane\" class=\"right-pane block hidden\">\n",
       "    <div class=\"pane-header\">\n",
       "      <span id=\"result1caed550-title\" class=\"pane-header-title\">Title</span>\n",
       "      <span onclick=\"closePanel(this)\" paneName=\"result1caed550\" class=\"close clickable\">&times;</span>\n",
       "    </div>\n",
       "    <iframe class=\"fileview\" id=\"result1caed550-body\"></iframe>\n",
       "  </div>\n",
       "</div>\n"
      ],
      "text/plain": [
       "<IPython.core.display.HTML object>"
      ]
     },
     "metadata": {},
     "output_type": "display_data"
    },
    {
     "name": "stdout",
     "output_type": "stream",
     "text": [
      "\n"
     ]
    },
    {
     "data": {
      "text/html": [
       "<b> > to track results use the .show() or .logs() methods  or <a href=\"https://dashboard.default-tenant.app.dev8.lab.iguazeng.com/mlprojects/network-operations-dani/jobs/monitor/0636b5e7d376484a907ff4bf690a1542/overview\" target=\"_blank\">click here</a> to open in UI</b>"
      ],
      "text/plain": [
       "<IPython.core.display.HTML object>"
      ]
     },
     "metadata": {},
     "output_type": "display_data"
    },
    {
     "name": "stdout",
     "output_type": "stream",
     "text": [
      "> 2021-10-05 05:20:47,144 [info] run executed, status=completed\n"
     ]
    }
   ],
   "source": [
    "decsribe_run = newproj.func('describe').apply(auto_mount()).run(describe_task)"
   ]
  },
  {
   "cell_type": "markdown",
   "metadata": {},
   "source": [
    "### Create the feature vector"
   ]
  },
  {
   "cell_type": "markdown",
   "metadata": {},
   "source": [
    "We will use our [Aggregate](https://github.com/mlrun/functions/blob/master/aggregate/aggregate.ipynb) function to create rolling window features for our feature vector.\n",
    "\n",
    "In doing so we hope that we could help our algorithms identify local errors by using a windowed trend"
   ]
  },
  {
   "cell_type": "code",
   "execution_count": 10,
   "metadata": {},
   "outputs": [],
   "source": [
    "# Define aggregate task\n",
    "from mlrun import NewTask\n",
    "aggregate_task = NewTask(\n",
    "    name='aggregate',\n",
    "    params={'metrics': ['cpu_utilization', 'throughput', 'packet_loss', 'latency'],\n",
    "            'metric_aggs': ['mean', 'sum', 'std', 'var', 'min', 'max', 'median'],\n",
    "            'suffix': 'daily',\n",
    "            'append_to_df': True,\n",
    "            'window': 20,\n",
    "            'center': False,\n",
    "            'save_to': os.path.join('data', 'aggregate.pq'),\n",
    "            'drop_na': True},\n",
    "    inputs={'df_artifact': f'store://{newproj.name}/netops-project_metrics'},\n",
    "    handler='aggregate')"
   ]
  },
  {
   "cell_type": "code",
   "execution_count": 11,
   "metadata": {},
   "outputs": [
    {
     "name": "stdout",
     "output_type": "stream",
     "text": [
      "> 2021-10-05 05:20:47,161 [info] starting run aggregate uid=35c47dd36e1c429582b06ae329496987 DB=http://mlrun-api:8080\n",
      "> 2021-10-05 05:20:47,278 [info] Job is running in the background, pod: aggregate-vrdcn\n",
      "> 2021-10-05 05:20:52,485 [info] Aggregating /User/test/demos/network-operations/data/metrics.pq\n",
      "> 2021-10-05 05:20:52,703 [info] Logging artifact\n",
      "> 2021-10-05 05:20:52,969 [info] run executed, status=completed\n",
      "Converting input from bool to <class 'numpy.uint8'> for compatibility.\n",
      "final state: completed\n"
     ]
    },
    {
     "data": {
      "text/html": [
       "<style>\n",
       ".dictlist {\n",
       "  background-color: #4EC64B;\n",
       "  text-align: center;\n",
       "  margin: 4px;\n",
       "  border-radius: 3px; padding: 0px 3px 1px 3px; display: inline-block;}\n",
       ".artifact {\n",
       "  cursor: pointer;\n",
       "  background-color: #4EC64B;\n",
       "  text-align: left;\n",
       "  margin: 4px; border-radius: 3px; padding: 0px 3px 1px 3px; display: inline-block;\n",
       "}\n",
       "div.block.hidden {\n",
       "  display: none;\n",
       "}\n",
       ".clickable {\n",
       "  cursor: pointer;\n",
       "}\n",
       ".ellipsis {\n",
       "  display: inline-block;\n",
       "  max-width: 60px;\n",
       "  white-space: nowrap;\n",
       "  overflow: hidden;\n",
       "  text-overflow: ellipsis;\n",
       "}\n",
       ".master-wrapper {\n",
       "  display: flex;\n",
       "  flex-flow: row nowrap;\n",
       "  justify-content: flex-start;\n",
       "  align-items: stretch;\n",
       "}\n",
       ".master-tbl {\n",
       "  flex: 3\n",
       "}\n",
       ".master-wrapper > div {\n",
       "  margin: 4px;\n",
       "  padding: 10px;\n",
       "}\n",
       "iframe.fileview {\n",
       "  border: 0 none;\n",
       "  height: 100%;\n",
       "  width: 100%;\n",
       "  white-space: pre-wrap;\n",
       "}\n",
       ".pane-header-title {\n",
       "  width: 80%;\n",
       "  font-weight: 500;\n",
       "}\n",
       ".pane-header {\n",
       "  line-height: 1;\n",
       "  background-color: #4EC64B;\n",
       "  padding: 3px;\n",
       "}\n",
       ".pane-header .close {\n",
       "  font-size: 20px;\n",
       "  font-weight: 700;\n",
       "  float: right;\n",
       "  margin-top: -5px;\n",
       "}\n",
       ".master-wrapper .right-pane {\n",
       "  border: 1px inset silver;\n",
       "  width: 40%;\n",
       "  min-height: 300px;\n",
       "  flex: 3\n",
       "  min-width: 500px;\n",
       "}\n",
       ".master-wrapper * {\n",
       "  box-sizing: border-box;\n",
       "}\n",
       "</style><script>\n",
       "function copyToClipboard(fld) {\n",
       "    if (document.queryCommandSupported && document.queryCommandSupported('copy')) {\n",
       "        var textarea = document.createElement('textarea');\n",
       "        textarea.textContent = fld.innerHTML;\n",
       "        textarea.style.position = 'fixed';\n",
       "        document.body.appendChild(textarea);\n",
       "        textarea.select();\n",
       "\n",
       "        try {\n",
       "            return document.execCommand('copy'); // Security exception may be thrown by some browsers.\n",
       "        } catch (ex) {\n",
       "\n",
       "        } finally {\n",
       "            document.body.removeChild(textarea);\n",
       "        }\n",
       "    }\n",
       "}\n",
       "function expandPanel(el) {\n",
       "  const panelName = \"#\" + el.getAttribute('paneName');\n",
       "  console.log(el.title);\n",
       "\n",
       "  document.querySelector(panelName + \"-title\").innerHTML = el.title\n",
       "  iframe = document.querySelector(panelName + \"-body\");\n",
       "\n",
       "  const tblcss = `<style> body { font-family: Arial, Helvetica, sans-serif;}\n",
       "    #csv { margin-bottom: 15px; }\n",
       "    #csv table { border-collapse: collapse;}\n",
       "    #csv table td { padding: 4px 8px; border: 1px solid silver;} </style>`;\n",
       "\n",
       "  function csvToHtmlTable(str) {\n",
       "    return '<div id=\"csv\"><table><tr><td>' +  str.replace(/[\\n\\r]+$/g, '').replace(/[\\n\\r]+/g, '</td></tr><tr><td>')\n",
       "      .replace(/,/g, '</td><td>') + '</td></tr></table></div>';\n",
       "  }\n",
       "\n",
       "  function reqListener () {\n",
       "    if (el.title.endsWith(\".csv\")) {\n",
       "      iframe.setAttribute(\"srcdoc\", tblcss + csvToHtmlTable(this.responseText));\n",
       "    } else {\n",
       "      iframe.setAttribute(\"srcdoc\", this.responseText);\n",
       "    }\n",
       "    console.log(this.responseText);\n",
       "  }\n",
       "\n",
       "  const oReq = new XMLHttpRequest();\n",
       "  oReq.addEventListener(\"load\", reqListener);\n",
       "  oReq.open(\"GET\", el.title);\n",
       "  oReq.send();\n",
       "\n",
       "\n",
       "  //iframe.src = el.title;\n",
       "  const resultPane = document.querySelector(panelName + \"-pane\");\n",
       "  if (resultPane.classList.contains(\"hidden\")) {\n",
       "    resultPane.classList.remove(\"hidden\");\n",
       "  }\n",
       "}\n",
       "function closePanel(el) {\n",
       "  const panelName = \"#\" + el.getAttribute('paneName')\n",
       "  const resultPane = document.querySelector(panelName + \"-pane\");\n",
       "  if (!resultPane.classList.contains(\"hidden\")) {\n",
       "    resultPane.classList.add(\"hidden\");\n",
       "  }\n",
       "}\n",
       "\n",
       "</script>\n",
       "<div class=\"master-wrapper\">\n",
       "  <div class=\"block master-tbl\"><div>\n",
       "<style scoped>\n",
       "    .dataframe tbody tr th:only-of-type {\n",
       "        vertical-align: middle;\n",
       "    }\n",
       "\n",
       "    .dataframe tbody tr th {\n",
       "        vertical-align: top;\n",
       "    }\n",
       "\n",
       "    .dataframe thead th {\n",
       "        text-align: right;\n",
       "    }\n",
       "</style>\n",
       "<table border=\"1\" class=\"dataframe\">\n",
       "  <thead>\n",
       "    <tr style=\"text-align: right;\">\n",
       "      <th>project</th>\n",
       "      <th>uid</th>\n",
       "      <th>iter</th>\n",
       "      <th>start</th>\n",
       "      <th>state</th>\n",
       "      <th>name</th>\n",
       "      <th>labels</th>\n",
       "      <th>inputs</th>\n",
       "      <th>parameters</th>\n",
       "      <th>results</th>\n",
       "      <th>artifacts</th>\n",
       "    </tr>\n",
       "  </thead>\n",
       "  <tbody>\n",
       "    <tr>\n",
       "      <td>network-operations-dani</td>\n",
       "      <td><div title=\"35c47dd36e1c429582b06ae329496987\"><a href=\"https://dashboard.default-tenant.app.dev8.lab.iguazeng.com/mlprojects/network-operations-dani/jobs/monitor/35c47dd36e1c429582b06ae329496987/overview\" target=\"_blank\" >...29496987</a></div></td>\n",
       "      <td>0</td>\n",
       "      <td>Oct 05 05:20:52</td>\n",
       "      <td>completed</td>\n",
       "      <td>aggregate</td>\n",
       "      <td><div class=\"dictlist\">v3io_user=dani</div><div class=\"dictlist\">kind=job</div><div class=\"dictlist\">owner=dani</div><div class=\"dictlist\">host=aggregate-vrdcn</div></td>\n",
       "      <td><div title=\"store://network-operations-dani/netops-project_metrics\">df_artifact</div></td>\n",
       "      <td><div class=\"dictlist\">metrics=['cpu_utilization', 'throughput', 'packet_loss', 'latency']</div><div class=\"dictlist\">metric_aggs=['mean', 'sum', 'std', 'var', 'min', 'max', 'median']</div><div class=\"dictlist\">suffix=daily</div><div class=\"dictlist\">append_to_df=True</div><div class=\"dictlist\">window=20</div><div class=\"dictlist\">center=False</div><div class=\"dictlist\">save_to=data/aggregate.pq</div><div class=\"dictlist\">drop_na=True</div></td>\n",
       "      <td></td>\n",
       "      <td><div title=\"/User/test/demos/network-operations/artifacts/data/aggregate.pq\">aggregate</div></td>\n",
       "    </tr>\n",
       "  </tbody>\n",
       "</table>\n",
       "</div></div>\n",
       "  <div id=\"resulte6ce247c-pane\" class=\"right-pane block hidden\">\n",
       "    <div class=\"pane-header\">\n",
       "      <span id=\"resulte6ce247c-title\" class=\"pane-header-title\">Title</span>\n",
       "      <span onclick=\"closePanel(this)\" paneName=\"resulte6ce247c\" class=\"close clickable\">&times;</span>\n",
       "    </div>\n",
       "    <iframe class=\"fileview\" id=\"resulte6ce247c-body\"></iframe>\n",
       "  </div>\n",
       "</div>\n"
      ],
      "text/plain": [
       "<IPython.core.display.HTML object>"
      ]
     },
     "metadata": {},
     "output_type": "display_data"
    },
    {
     "name": "stdout",
     "output_type": "stream",
     "text": [
      "\n"
     ]
    },
    {
     "data": {
      "text/html": [
       "<b> > to track results use the .show() or .logs() methods  or <a href=\"https://dashboard.default-tenant.app.dev8.lab.iguazeng.com/mlprojects/network-operations-dani/jobs/monitor/35c47dd36e1c429582b06ae329496987/overview\" target=\"_blank\">click here</a> to open in UI</b>"
      ],
      "text/plain": [
       "<IPython.core.display.HTML object>"
      ]
     },
     "metadata": {},
     "output_type": "display_data"
    },
    {
     "name": "stdout",
     "output_type": "stream",
     "text": [
      "> 2021-10-05 05:20:53,414 [info] run executed, status=completed\n"
     ]
    }
   ],
   "source": [
    "aggregate_run = newproj.func('aggregate').apply(mount_v3io()).run(aggregate_task)"
   ]
  },
  {
   "cell_type": "markdown",
   "metadata": {},
   "source": [
    "### Get statistics about the feature vector"
   ]
  },
  {
   "cell_type": "code",
   "execution_count": 12,
   "metadata": {},
   "outputs": [],
   "source": [
    "aggregate_describe_task = NewTask(\n",
    "    name=\"describe-aggregate\", \n",
    "    handler=\"summarize\",  \n",
    "    params={\"key\": \"summary\", \n",
    "            \"label_column\": label_column, \n",
    "            'class_labels': ['0', '1'],\n",
    "            'plot_hist': True,\n",
    "            'plot_dest': 'plots-aggregate',\n",
    "            'sample': 0.3},\n",
    "    inputs={\"table\": aggregate_run.outputs['aggregate']},\n",
    "    artifact_path=artifact_path)"
   ]
  },
  {
   "cell_type": "code",
   "execution_count": 13,
   "metadata": {},
   "outputs": [
    {
     "name": "stdout",
     "output_type": "stream",
     "text": [
      "> 2021-10-05 05:20:53,428 [info] starting run describe-aggregate uid=a284e3d586cc4c9884ef20bcbb8d7bb8 DB=http://mlrun-api:8080\n",
      "> 2021-10-05 05:20:53,535 [info] Job is running in the background, pod: describe-aggregate-dsct7\n",
      "> 2021-10-05 05:35:16,846 [info] run executed, status=completed\n",
      "Tight layout not applied. tight_layout cannot make axes height small enough to accommodate all axes decorations\n",
      "final state: completed\n"
     ]
    },
    {
     "data": {
      "text/html": [
       "<style>\n",
       ".dictlist {\n",
       "  background-color: #4EC64B;\n",
       "  text-align: center;\n",
       "  margin: 4px;\n",
       "  border-radius: 3px; padding: 0px 3px 1px 3px; display: inline-block;}\n",
       ".artifact {\n",
       "  cursor: pointer;\n",
       "  background-color: #4EC64B;\n",
       "  text-align: left;\n",
       "  margin: 4px; border-radius: 3px; padding: 0px 3px 1px 3px; display: inline-block;\n",
       "}\n",
       "div.block.hidden {\n",
       "  display: none;\n",
       "}\n",
       ".clickable {\n",
       "  cursor: pointer;\n",
       "}\n",
       ".ellipsis {\n",
       "  display: inline-block;\n",
       "  max-width: 60px;\n",
       "  white-space: nowrap;\n",
       "  overflow: hidden;\n",
       "  text-overflow: ellipsis;\n",
       "}\n",
       ".master-wrapper {\n",
       "  display: flex;\n",
       "  flex-flow: row nowrap;\n",
       "  justify-content: flex-start;\n",
       "  align-items: stretch;\n",
       "}\n",
       ".master-tbl {\n",
       "  flex: 3\n",
       "}\n",
       ".master-wrapper > div {\n",
       "  margin: 4px;\n",
       "  padding: 10px;\n",
       "}\n",
       "iframe.fileview {\n",
       "  border: 0 none;\n",
       "  height: 100%;\n",
       "  width: 100%;\n",
       "  white-space: pre-wrap;\n",
       "}\n",
       ".pane-header-title {\n",
       "  width: 80%;\n",
       "  font-weight: 500;\n",
       "}\n",
       ".pane-header {\n",
       "  line-height: 1;\n",
       "  background-color: #4EC64B;\n",
       "  padding: 3px;\n",
       "}\n",
       ".pane-header .close {\n",
       "  font-size: 20px;\n",
       "  font-weight: 700;\n",
       "  float: right;\n",
       "  margin-top: -5px;\n",
       "}\n",
       ".master-wrapper .right-pane {\n",
       "  border: 1px inset silver;\n",
       "  width: 40%;\n",
       "  min-height: 300px;\n",
       "  flex: 3\n",
       "  min-width: 500px;\n",
       "}\n",
       ".master-wrapper * {\n",
       "  box-sizing: border-box;\n",
       "}\n",
       "</style><script>\n",
       "function copyToClipboard(fld) {\n",
       "    if (document.queryCommandSupported && document.queryCommandSupported('copy')) {\n",
       "        var textarea = document.createElement('textarea');\n",
       "        textarea.textContent = fld.innerHTML;\n",
       "        textarea.style.position = 'fixed';\n",
       "        document.body.appendChild(textarea);\n",
       "        textarea.select();\n",
       "\n",
       "        try {\n",
       "            return document.execCommand('copy'); // Security exception may be thrown by some browsers.\n",
       "        } catch (ex) {\n",
       "\n",
       "        } finally {\n",
       "            document.body.removeChild(textarea);\n",
       "        }\n",
       "    }\n",
       "}\n",
       "function expandPanel(el) {\n",
       "  const panelName = \"#\" + el.getAttribute('paneName');\n",
       "  console.log(el.title);\n",
       "\n",
       "  document.querySelector(panelName + \"-title\").innerHTML = el.title\n",
       "  iframe = document.querySelector(panelName + \"-body\");\n",
       "\n",
       "  const tblcss = `<style> body { font-family: Arial, Helvetica, sans-serif;}\n",
       "    #csv { margin-bottom: 15px; }\n",
       "    #csv table { border-collapse: collapse;}\n",
       "    #csv table td { padding: 4px 8px; border: 1px solid silver;} </style>`;\n",
       "\n",
       "  function csvToHtmlTable(str) {\n",
       "    return '<div id=\"csv\"><table><tr><td>' +  str.replace(/[\\n\\r]+$/g, '').replace(/[\\n\\r]+/g, '</td></tr><tr><td>')\n",
       "      .replace(/,/g, '</td><td>') + '</td></tr></table></div>';\n",
       "  }\n",
       "\n",
       "  function reqListener () {\n",
       "    if (el.title.endsWith(\".csv\")) {\n",
       "      iframe.setAttribute(\"srcdoc\", tblcss + csvToHtmlTable(this.responseText));\n",
       "    } else {\n",
       "      iframe.setAttribute(\"srcdoc\", this.responseText);\n",
       "    }\n",
       "    console.log(this.responseText);\n",
       "  }\n",
       "\n",
       "  const oReq = new XMLHttpRequest();\n",
       "  oReq.addEventListener(\"load\", reqListener);\n",
       "  oReq.open(\"GET\", el.title);\n",
       "  oReq.send();\n",
       "\n",
       "\n",
       "  //iframe.src = el.title;\n",
       "  const resultPane = document.querySelector(panelName + \"-pane\");\n",
       "  if (resultPane.classList.contains(\"hidden\")) {\n",
       "    resultPane.classList.remove(\"hidden\");\n",
       "  }\n",
       "}\n",
       "function closePanel(el) {\n",
       "  const panelName = \"#\" + el.getAttribute('paneName')\n",
       "  const resultPane = document.querySelector(panelName + \"-pane\");\n",
       "  if (!resultPane.classList.contains(\"hidden\")) {\n",
       "    resultPane.classList.add(\"hidden\");\n",
       "  }\n",
       "}\n",
       "\n",
       "</script>\n",
       "<div class=\"master-wrapper\">\n",
       "  <div class=\"block master-tbl\"><div>\n",
       "<style scoped>\n",
       "    .dataframe tbody tr th:only-of-type {\n",
       "        vertical-align: middle;\n",
       "    }\n",
       "\n",
       "    .dataframe tbody tr th {\n",
       "        vertical-align: top;\n",
       "    }\n",
       "\n",
       "    .dataframe thead th {\n",
       "        text-align: right;\n",
       "    }\n",
       "</style>\n",
       "<table border=\"1\" class=\"dataframe\">\n",
       "  <thead>\n",
       "    <tr style=\"text-align: right;\">\n",
       "      <th>project</th>\n",
       "      <th>uid</th>\n",
       "      <th>iter</th>\n",
       "      <th>start</th>\n",
       "      <th>state</th>\n",
       "      <th>name</th>\n",
       "      <th>labels</th>\n",
       "      <th>inputs</th>\n",
       "      <th>parameters</th>\n",
       "      <th>results</th>\n",
       "      <th>artifacts</th>\n",
       "    </tr>\n",
       "  </thead>\n",
       "  <tbody>\n",
       "    <tr>\n",
       "      <td>network-operations-dani</td>\n",
       "      <td><div title=\"a284e3d586cc4c9884ef20bcbb8d7bb8\"><a href=\"https://dashboard.default-tenant.app.dev8.lab.iguazeng.com/mlprojects/network-operations-dani/jobs/monitor/a284e3d586cc4c9884ef20bcbb8d7bb8/overview\" target=\"_blank\" >...bb8d7bb8</a></div></td>\n",
       "      <td>0</td>\n",
       "      <td>Oct 05 05:20:59</td>\n",
       "      <td>completed</td>\n",
       "      <td>describe-aggregate</td>\n",
       "      <td><div class=\"dictlist\">v3io_user=dani</div><div class=\"dictlist\">kind=job</div><div class=\"dictlist\">owner=dani</div><div class=\"dictlist\">host=describe-aggregate-dsct7</div></td>\n",
       "      <td><div title=\"store://artifacts/network-operations-dani/aggregate_aggregate:35c47dd36e1c429582b06ae329496987\">table</div></td>\n",
       "      <td><div class=\"dictlist\">key=summary</div><div class=\"dictlist\">label_column=is_error</div><div class=\"dictlist\">class_labels=['0', '1']</div><div class=\"dictlist\">plot_hist=True</div><div class=\"dictlist\">plot_dest=plots-aggregate</div><div class=\"dictlist\">sample=0.3</div></td>\n",
       "      <td></td>\n",
       "      <td><div class=\"artifact\" onclick=\"expandPanel(this)\" paneName=\"result43a9bcec\" title=\"/files/test/demos/network-operations/artifacts/plots/hist.html\">histograms</div><div class=\"artifact\" onclick=\"expandPanel(this)\" paneName=\"result43a9bcec\" title=\"/files/test/demos/network-operations/artifacts/plots/violin.html\">violin</div><div class=\"artifact\" onclick=\"expandPanel(this)\" paneName=\"result43a9bcec\" title=\"/files/test/demos/network-operations/artifacts/plots/imbalance.html\">imbalance</div><div class=\"artifact\" onclick=\"expandPanel(this)\" paneName=\"result43a9bcec\" title=\"/files/test/demos/network-operations/artifacts/plots/imbalance-weights-vec.csv\">imbalance-weights-vec</div><div class=\"artifact\" onclick=\"expandPanel(this)\" paneName=\"result43a9bcec\" title=\"/files/test/demos/network-operations/artifacts/plots/correlation-matrix.csv\">correlation-matrix</div><div class=\"artifact\" onclick=\"expandPanel(this)\" paneName=\"result43a9bcec\" title=\"/files/test/demos/network-operations/artifacts/plots/corr.html\">correlation</div></td>\n",
       "    </tr>\n",
       "  </tbody>\n",
       "</table>\n",
       "</div></div>\n",
       "  <div id=\"result43a9bcec-pane\" class=\"right-pane block hidden\">\n",
       "    <div class=\"pane-header\">\n",
       "      <span id=\"result43a9bcec-title\" class=\"pane-header-title\">Title</span>\n",
       "      <span onclick=\"closePanel(this)\" paneName=\"result43a9bcec\" class=\"close clickable\">&times;</span>\n",
       "    </div>\n",
       "    <iframe class=\"fileview\" id=\"result43a9bcec-body\"></iframe>\n",
       "  </div>\n",
       "</div>\n"
      ],
      "text/plain": [
       "<IPython.core.display.HTML object>"
      ]
     },
     "metadata": {},
     "output_type": "display_data"
    },
    {
     "name": "stdout",
     "output_type": "stream",
     "text": [
      "\n"
     ]
    },
    {
     "data": {
      "text/html": [
       "<b> > to track results use the .show() or .logs() methods  or <a href=\"https://dashboard.default-tenant.app.dev8.lab.iguazeng.com/mlprojects/network-operations-dani/jobs/monitor/a284e3d586cc4c9884ef20bcbb8d7bb8/overview\" target=\"_blank\">click here</a> to open in UI</b>"
      ],
      "text/plain": [
       "<IPython.core.display.HTML object>"
      ]
     },
     "metadata": {},
     "output_type": "display_data"
    },
    {
     "name": "stdout",
     "output_type": "stream",
     "text": [
      "> 2021-10-05 05:35:17,543 [info] run executed, status=completed\n"
     ]
    }
   ],
   "source": [
    "aggregate_decsribe_run = newproj.func('describe').apply(mount_v3io()).run(aggregate_describe_task)"
   ]
  },
  {
   "cell_type": "markdown",
   "metadata": {},
   "source": [
    "## Create workflow to train the model\n",
    "After reviewing the data and creating the feature vector we move to training our model.  \n",
    "For this task we will use an **LGBM** classifier.  To control the training process we will supply a `model_config` dictionary with the following parameters:\n",
    "- **CLASS**: Model-specific parameters.\n",
    "- **FIT**: Training parameters (like epoch when needed)\n",
    "- **META**: Model and Package version"
   ]
  },
  {
   "cell_type": "markdown",
   "metadata": {},
   "source": [
    "### Setup model configurations"
   ]
  },
  {
   "cell_type": "code",
   "execution_count": 14,
   "metadata": {},
   "outputs": [],
   "source": [
    "model_configs = {\n",
    "    \"CLASS\" : {\n",
    "        \"boosting_type\"      : \"gbdt\",\n",
    "        \"num_leaves\"         : 300,\n",
    "        \"max_depth\"          : 50,\n",
    "        \"learning_rate\"      : 0.1,\n",
    "        \"n_estimators\"       : 300,\n",
    "        \"objective\"          : \"binary\",\n",
    "        \"scale_pos_weight\"   : 1,    \n",
    "        \"min_split_gain\"     : 0.0,\n",
    "        \"min_child_samples\"  : 20,\n",
    "        \"subsample\"          : 1,\n",
    "        \"colsample_bytree\"   : 1,\n",
    "        \"reg_alpha\"          : 0,\n",
    "        \"reg_lambda\"         : 1,\n",
    "        \"n_jobs\"             : 16,\n",
    "        \"silent\"             : True,\n",
    "        \"importance_type\"    : \"split\",\n",
    "        \"random_state\"       : 1},\n",
    "    \"FIT\" : {\n",
    "        \"verbose\"               : False\n",
    "    },\n",
    "    \"META\" : {\n",
    "        \"class\" : \"lightgbm.sklearn.LGBMClassifier\",\n",
    "        \"version\" : \"2.3.1\"\n",
    "    }\n",
    "}\n",
    "\n",
    "config_dir = os.path.join(os.path.abspath(newproj.context), 'config')\n",
    "model_config_path = os.path.join(config_dir, 'lgb_model.json')\n",
    "os.makedirs(config_dir, exist_ok=True)\n",
    "with open(model_config_path, 'w') as f:\n",
    "          f.write(json.dumps(model_configs))"
   ]
  },
  {
   "cell_type": "code",
   "execution_count": 15,
   "metadata": {},
   "outputs": [
    {
     "data": {
      "text/plain": [
       "<mlrun.artifacts.base.Artifact at 0x7fb5f0a9b090>"
      ]
     },
     "execution_count": 15,
     "metadata": {},
     "output_type": "execute_result"
    }
   ],
   "source": [
    "newproj.log_artifact('lgb_configs',\n",
    "                     target_path = os.path.abspath(model_config_path))"
   ]
  },
  {
   "cell_type": "markdown",
   "metadata": {},
   "source": [
    "### Create Pipeline Workflow"
   ]
  },
  {
   "cell_type": "code",
   "execution_count": 21,
   "metadata": {},
   "outputs": [
    {
     "name": "stdout",
     "output_type": "stream",
     "text": [
      "Overwriting src/workflow.py\n"
     ]
    }
   ],
   "source": [
    "%%writefile src/workflow.py\n",
    "from kfp import dsl\n",
    "from mlrun import mount_v3io, mlconf\n",
    "import os\n",
    "from nuclio.triggers import V3IOStreamTrigger, CronTrigger\n",
    "\n",
    "funcs = {}\n",
    "projdir = os.getcwd()\n",
    "projdir_path = f\"/{os.environ['V3IO_USERNAME']}{projdir[len('/User'):]}\"\n",
    "labeled_stream_path = os.path.join(projdir_path, 'streaming', 'labeled_stream')\n",
    "container = 'users'\n",
    "full_path_projdir = os.path.join('/', container, os.environ[\"V3IO_USERNAME\"], projdir[6:])\n",
    "\n",
    "# Define a specific hub url?\n",
    "# mlconf.hub_url = 'https://raw.githubusercontent.com/mlrun/functions/{tag}/{name}/function.yaml'\n",
    "# mlconf.hub_url |= '/User/functions/{name}/function.yaml'\n",
    "\n",
    "model_inference_stream = os.path.join(full_path_projdir, 'streaming', 'predictions')\n",
    "labeled_stream = os.path.join(full_path_projdir, 'streaming', 'labeled_stream')\n",
    "\n",
    "webapi_url = 'http://v3io-webapi:8081'\n",
    "model_inference_url = f'{webapi_url}{model_inference_stream}'\n",
    "labeled_stream_url = f'{webapi_url}{labeled_stream}'\n",
    "\n",
    "def init_functions(functions: dict, project=None, secrets=None):\n",
    "    for f in functions.values():\n",
    "        # Add V3IO Mount\n",
    "        f.apply(mount_v3io())\n",
    "        \n",
    "        # Always pull images to keep updates\n",
    "        f.spec.image_pull_policy = 'Always'\n",
    "    \n",
    "    # Define inference-stream related triggers\n",
    "    functions['s2p'].add_trigger('labeled_stream', V3IOStreamTrigger(container=container,\n",
    "                                                                     path=labeled_stream_path,\n",
    "                                                                     seekTo='earliest',\n",
    "                                                                     partitions=[0],\n",
    "                                                                     consumerGroup='s2p',\n",
    "                                                                     name='labeled_stream'))\n",
    "    functions['generator'].add_trigger('cron', CronTrigger(interval='1m'))\n",
    "    functions['labeled_stream'].add_trigger('cron', CronTrigger(interval='1m'))\n",
    "    functions['create_feature_vector'].add_trigger('cron', CronTrigger(interval='1m'))\n",
    "    functions['serving'].add_trigger('cron', CronTrigger(interval='1m'))\n",
    "    \n",
    "    functions['generator'].spec.build.commands = ['pip install pyyaml', 'pip install pytimeparse', 'pip install v3io_frames',\n",
    "                                                 'pip install -i https://test.pypi.org/simple/ v3io-generator',\n",
    "                                                 'pip install faker']\n",
    "                \n",
    "        \n",
    "@dsl.pipeline(\n",
    "    name='Network Operations Demo',\n",
    "    description='Train a Failure Prediction LGBM Model over sensor data'\n",
    ")\n",
    "def kfpipeline(\n",
    "        # aggregate\n",
    "        df_artifact = os.path.join(projdir, 'data', 'metrics.pq'),\n",
    "        metrics: list = ['cpu_utilization', 'throughput', 'packet_loss', 'latency'],\n",
    "        metric_aggs: list = ['mean', 'sum', 'std', 'var', 'min', 'max', 'median'],\n",
    "        suffix = 'daily',\n",
    "        window: int = 10,\n",
    "\n",
    "        # describe\n",
    "        describe_table = 'netops',\n",
    "        describe_sample: float = 0.3,\n",
    "        label_column = 'is_error',\n",
    "        class_labels: list = [1, 0],\n",
    "        plot_hist: bool = True,\n",
    "    \n",
    "        # Feature selection\n",
    "        k: int = 5,\n",
    "        min_votes: int = 3,\n",
    "    \n",
    "        # Train\n",
    "        sample_size: int      = -1,        # -n for random sample of n obs, -1 for entire dataset, +n for n consecutive rows\n",
    "        test_size: float        = 0.1,       # 10% set aside\n",
    "        train_val_split: float  = 0.75,      # remainder split into train and val\n",
    "    \n",
    "        # Test\n",
    "        predictions_col = 'predictions',\n",
    "    \n",
    "        # Deploy\n",
    "        deploy_streaming: bool = True,\n",
    "        aggregate_fn_url = 'hub://aggregate',\n",
    "        streaming_features_table = os.path.join(projdir, 'streaming', 'features'),\n",
    "        streaming_predictions_table = os.path.join(projdir, 'streaming', 'predictions'),\n",
    "    \n",
    "        # Streaming\n",
    "        streaming_metrics_table = os.path.join(projdir, 'streaming', 'metrics'),\n",
    "        generator_metrics_configuration = os.path.join(projdir, 'src', 'metric_configurations.yaml'),\n",
    "        batches_to_generate = 20, # Setting this will define for how many batches the streaming pipeline will run (put -1 to keep always live)\n",
    "    \n",
    "        # labeled stream creator\n",
    "        streaming_labeled_table = labeled_stream,        \n",
    "        \n",
    "        # Concept drift\n",
    "        deploy_concept_drift: bool = True,\n",
    "        secs_to_generate: int = 10,\n",
    "        concept_drift_models: list = ['ddm', 'eddm', 'pagehinkley'],\n",
    "        output_tsdb = os.path.join(projdir, 'streaming', 'drift_tsdb'),\n",
    "        input_stream = labeled_stream_url,\n",
    "        output_stream = os.path.join(projdir, 'streaming', 'drift_stream'),\n",
    "        streaming_parquet_table =  os.path.join(projdir, 'streaming', 'inference_pq'),\n",
    "    \n",
    "        # Virtual drift\n",
    "        results_tsdb_container = 'users',\n",
    "        results_tsdb_table = os.path.join(full_path_projdir[7:], 'streaming', 'drift_magnitude')\n",
    "    ):\n",
    "    \n",
    "    # Run preprocessing on the data\n",
    "    aggregate = funcs['aggregate'].as_step(name='aggregate',\n",
    "                                                  params={'metrics': metrics,\n",
    "                                                          'metric_aggs': metric_aggs,\n",
    "                                                          'suffix': suffix,\n",
    "                                                          'window': window},\n",
    "                                                  inputs={'df_artifact': df_artifact},\n",
    "                                                  outputs=['aggregate'],\n",
    "                                                  handler='aggregate',\n",
    "                                                  image='mlrun/ml-models')\n",
    "\n",
    "    describe = funcs['describe'].as_step(name='describe-aggregation',\n",
    "                                        handler=\"summarize\",  \n",
    "                                        params={\"key\": f\"{describe_table}_aggregate\", \n",
    "                                                \"label_column\": label_column, \n",
    "                                                'class_labels': class_labels,\n",
    "                                                'plot_hist': plot_hist,\n",
    "                                                'plot_dest': 'plots/aggregation',\n",
    "                                                'sample': describe_sample},\n",
    "                                        inputs={\"table\": aggregate.outputs['aggregate']},\n",
    "                                        outputs=[\"summary\", \"scale_pos_weight\"])\n",
    "    \n",
    "    feature_selection = funcs['feature_selection'].as_step(name='feature_selection',\n",
    "                                                           handler='feature_selection',\n",
    "                                                           params={'k': k,\n",
    "                                                                   'min_votes': min_votes,\n",
    "                                                                   'label_column': label_column},\n",
    "                                                           inputs={'df_artifact': aggregate.outputs['aggregate']},\n",
    "                                                           outputs=['feature_scores', \n",
    "                                                                    'max_scaled_scores_feature_scores'\n",
    "                                                                    'selected_features_count', \n",
    "                                                                    'selected_features'],\n",
    "                                                           image='mlrun/ml-models')\n",
    "    \n",
    "    describe = funcs['describe'].as_step(name='describe-feature-vector',\n",
    "                                            handler=\"summarize\",  \n",
    "                                            params={\"key\": f'{describe_table}_features', \n",
    "                                                    \"label_column\": label_column, \n",
    "                                                    'class_labels': class_labels,\n",
    "                                                    'plot_hist': plot_hist,\n",
    "                                                    'plot_dest': 'plots/feature_vector'},\n",
    "                                            inputs={\"table\": feature_selection.outputs['selected_features']},\n",
    "                                            outputs=[\"summary\", \"scale_pos_weight\"])\n",
    "    \n",
    "    train = funcs['train'].as_step(name='train',\n",
    "                                   params={\"sample\"          : sample_size, \n",
    "                                           \"label_column\"    : label_column,\n",
    "                                           \"test_size\"       : test_size,\n",
    "                                           \"train_val_split\" : train_val_split},\n",
    "                                   inputs={\"dataset\"         : feature_selection.outputs['selected_features']},\n",
    "                                   hyperparams={'model_pkg_class': [\"sklearn.ensemble.RandomForestClassifier\", \n",
    "                                                                    \"sklearn.linear_model.LogisticRegression\",\n",
    "                                                                    \"sklearn.ensemble.AdaBoostClassifier\"]},\n",
    "                                   selector='max.accuracy',\n",
    "                                   outputs=['model', 'test_set'],\n",
    "                                   image='mlrun/ml-models')\n",
    "    \n",
    "    test = funcs['test'].as_step(name='test',\n",
    "                                 handler='test_classifier',\n",
    "                                 params={'label_column': label_column,\n",
    "                                         'predictions_column': predictions_col},\n",
    "                                 inputs={'models_path': train.outputs['model'],\n",
    "                                         'test_set': train.outputs['test_set']},\n",
    "                                 outputs=['test_set_preds'],\n",
    "                                 image='mlrun/ml-models')\n",
    "\n",
    "    \n",
    "    with dsl.Condition(deploy_streaming == True):\n",
    "        \n",
    "        # deploy the model using nuclio functions\n",
    "        deploy = funcs['serving'].deploy_step(env={'model_path': train.outputs['model'],\n",
    "                                                   'FEATURES_TABLE': streaming_features_table,\n",
    "                                                   'PREDICTIONS_TABLE': streaming_predictions_table,\n",
    "                                                   'prediction_col': predictions_col,\n",
    "                                                   'BATCHES_TO_GENERATE': batches_to_generate}, \n",
    "                                              tag='v1')\n",
    "\n",
    "        # test out new model server (via REST API calls)\n",
    "        tester = funcs[\"model_server-tester\"].as_step(name='model-tester',\n",
    "                                                      params={'addr': deploy.outputs['endpoint'], \n",
    "                                                              'model': \"predictor\",\n",
    "                                                              'label_column': label_column},\n",
    "                                                      inputs={'table': train.outputs['test_set']},\n",
    "                                                      outputs=['test_set_preds'])\n",
    "    \n",
    "        # Streaming demo functions\n",
    "        preprocessor = funcs['create_feature_vector'].deploy_step(env={'data_path' : os.path.join(os.path.abspath(''), 'data'),\n",
    "                                                                        'features_path' : os.path.join(os.path.abspath(''), 'features'),\n",
    "                                                                        'artifacts_path' : os.path.join(os.path.abspath(''), 'artifacts'),\n",
    "                                                                        'keys' : 'timestamp,company,data_center,device',\n",
    "                                                                        'window' : '3',\n",
    "                                                                        'center' : '0',\n",
    "                                                                        'inplace' : '0',\n",
    "                                                                        'drop_na' : '1',\n",
    "                                                                        'files_to_select' : '1',\n",
    "                                                                        'is_save_to_tsdb' : '0',\n",
    "                                                                        'aggregate_fn_url': aggregate_fn_url,\n",
    "                                                                        'METRICS_TABLE': streaming_metrics_table,\n",
    "                                                                        'FEATURES_TABLE': streaming_features_table,\n",
    "                                                                        'metrics': metrics,\n",
    "                                                                        'metric_aggs': metric_aggs,\n",
    "                                                                        'suffix': suffix,\n",
    "                                                                        'base_dataset': train.outputs['test_set'],\n",
    "                                                                        'label_col': label_column,\n",
    "                                                                        'BATCHES_TO_GENERATE': batches_to_generate}).after(tester)\n",
    "\n",
    "        labeled_stream_creator = funcs['labeled_stream'].deploy_step(env={'METRICS_TABLE': streaming_metrics_table,\n",
    "                                                                          'PREDICTIONS_TABLE': streaming_predictions_table,\n",
    "                                                                          'OUTPUT_STREAM': streaming_labeled_table,\n",
    "                                                                          'label_col': label_column,\n",
    "                                                                          'prediction_col': predictions_col,\n",
    "                                                                          'BATCHES_TO_GENERATE': batches_to_generate}).after(tester)\n",
    "\n",
    "        generator = funcs['generator'].deploy_step(env={'SAVE_TO': streaming_metrics_table,\n",
    "                                                        'SECS_TO_GENERATE': secs_to_generate,\n",
    "                                                        'METRICS_CONFIGURATION_FILEPATH': generator_metrics_configuration,\n",
    "                                                        'BATCHES_TO_GENERATE': batches_to_generate,\n",
    "                                                        'SAVE_DEPLOYMENT':1,\n",
    "                                                        'DEPLOYMENT_TABLE': 'devices',\n",
    "                                                        'SAVE_TO_TSDB':0}).after(preprocessor)\n",
    "        \n",
    "        with dsl.Condition(deploy_concept_drift == True):\n",
    "\n",
    "            concept_builder = funcs['concept_drift'].deploy_step(skip_deployed=True)\n",
    "\n",
    "            concept_drift = funcs['concept_drift'].as_step(name='concept_drift_deployer',\n",
    "                                                           params={'models': concept_drift_models,\n",
    "                                                                   'label_col': label_column,\n",
    "                                                                   'prediction_col': predictions_col,\n",
    "                                                                   'output_tsdb': output_tsdb,\n",
    "                                                                   'input_stream': f'{input_stream}@cds',\n",
    "                                                                   'output_stream': output_stream},\n",
    "                                                           inputs={'base_dataset': test.outputs['test_set_preds']},\n",
    "                                                           artifact_path=mlconf.artifact_path,\n",
    "                                                           image=concept_builder.outputs['image']).after(labeled_stream_creator)\n",
    "\n",
    "            s2p = funcs['s2p'].deploy_step(env={'window': 100,\n",
    "                                                'features': metrics,\n",
    "                                                'save_to': streaming_parquet_table,\n",
    "                                                'base_dataset': test.outputs['test_set_preds'],\n",
    "                                                'results_tsdb_container': 'users',\n",
    "                                                'results_tsdb_table': results_tsdb_table,\n",
    "                                                'mount_path': '/users/orz',\n",
    "                                                'mount_remote': '/User'}).after(labeled_stream_creator)\n",
    "    "
   ]
  },
  {
   "cell_type": "markdown",
   "metadata": {},
   "source": [
    "## Add workflow"
   ]
  },
  {
   "cell_type": "code",
   "execution_count": 22,
   "metadata": {},
   "outputs": [],
   "source": [
    "newproj.set_workflow('main', os.path.join(os.path.abspath(newproj.context), 'src', 'workflow.py'))"
   ]
  },
  {
   "cell_type": "markdown",
   "metadata": {},
   "source": [
    "## Save Project"
   ]
  },
  {
   "cell_type": "code",
   "execution_count": 23,
   "metadata": {},
   "outputs": [],
   "source": [
    "newproj.save(os.path.join(newproj.context, 'project.yaml'))"
   ]
  },
  {
   "cell_type": "markdown",
   "metadata": {},
   "source": [
    "## Run the pipeline\n",
    "In this cell we will run the `main` workflow via `KubeFlow Pipelines` on top of our cluster.  \n",
    "Running the pipeline may take some time. Due to possible jupyter timeout, it's best to track the pipeline's progress via KFP or the MLRun UI."
   ]
  },
  {
   "cell_type": "code",
   "execution_count": 24,
   "metadata": {},
   "outputs": [
    {
     "name": "stdout",
     "output_type": "stream",
     "text": [
      "> 2021-10-05 05:42:03,598 [info] submitted pipeline network-operations-dani-main 2021-10-05 05-42-02 id=5ab0152f-4bef-4d46-ae40-282bbd8c3d4e\n",
      "> 2021-10-05 05:42:03,599 [info] Pipeline run id=5ab0152f-4bef-4d46-ae40-282bbd8c3d4e, check UI for progress\n"
     ]
    },
    {
     "data": {
      "text/html": [
       "Pipeline started in project network-operations-dani id=5ab0152f-4bef-4d46-ae40-282bbd8c3d4e<div><a href=\"https://dashboard.default-tenant.app.dev8.lab.iguazeng.com/mlprojects/network-operations-dani/jobs\" target=\"_blank\">click here to check progress</a></div>"
      ],
      "text/plain": [
       "<IPython.core.display.HTML object>"
      ]
     },
     "metadata": {},
     "output_type": "display_data"
    },
    {
     "data": {
      "text/plain": [
       "5ab0152f-4bef-4d46-ae40-282bbd8c3d4e"
      ]
     },
     "execution_count": 24,
     "metadata": {},
     "output_type": "execute_result"
    }
   ],
   "source": [
    "newproj.run('main', artifact_path=artifact_path, dirty=True)"
   ]
  },
  {
   "cell_type": "code",
   "execution_count": 20,
   "metadata": {},
   "outputs": [
    {
     "data": {
      "text/plain": [
       "'/User/test/demos/network-operations'"
      ]
     },
     "execution_count": 20,
     "metadata": {},
     "output_type": "execute_result"
    }
   ],
   "source": [
    "import os\n",
    "os.path.abspath('')"
   ]
  }
 ],
 "metadata": {
  "kernelspec": {
   "display_name": "Python [conda env:root] *",
   "language": "python",
   "name": "conda-root-py"
  },
  "language_info": {
   "codemirror_mode": {
    "name": "ipython",
    "version": 3
   },
   "file_extension": ".py",
   "mimetype": "text/x-python",
   "name": "python",
   "nbconvert_exporter": "python",
   "pygments_lexer": "ipython3",
   "version": "3.7.6"
  }
 },
 "nbformat": 4,
 "nbformat_minor": 4
}
