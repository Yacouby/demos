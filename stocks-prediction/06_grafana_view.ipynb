{
 "cells": [
  {
   "cell_type": "markdown",
   "id": "98aeb56c",
   "metadata": {},
   "source": [
    "# Deploy a Grafana Dashboard\n",
    "To track the different stocks on a live dashboard we will use **Grafana**.<br>\n",
    "We will use [Grafwiz](https://github.com/v3io/grafwiz) to define and deploy the dashboard directly from this notebook"
   ]
  },
  {
   "cell_type": "code",
   "execution_count": 1,
   "id": "42f203c4",
   "metadata": {},
   "outputs": [],
   "source": [
    "# install prerequsits \n",
    "# !pip install git+https://github.com/v3io/grafwiz --upgrade\n",
    "# !pip install v3io_frames"
   ]
  },
  {
   "cell_type": "code",
   "execution_count": 2,
   "id": "6776c12d",
   "metadata": {},
   "outputs": [
    {
     "name": "stdout",
     "output_type": "stream",
     "text": [
      "> 2022-09-05 10:38:30,284 [info] loaded project stocks from MLRun DB\n"
     ]
    }
   ],
   "source": [
    "import mlrun\n",
    "project = mlrun.get_or_create_project(name='stocks',user_project=True, context=\"src/\")"
   ]
  },
  {
   "cell_type": "code",
   "execution_count": 3,
   "id": "157ce651",
   "metadata": {},
   "outputs": [
    {
     "name": "stdout",
     "output_type": "stream",
     "text": [
      "Datasource iguazio already exists\n",
      "Datasource iguazio created successfully\n",
      "Dashboard stocks created successfully\n"
     ]
    }
   ],
   "source": [
    "import grafwiz\n",
    "import os\n",
    "import v3io_frames as v3f\n",
    "\n",
    "framesd = os.getenv(\"V3IO_FRAMESD\",'framesd:8081')\n",
    "client = v3f.Client(framesd, container=os.getenv('V3IO_CONTAINER', 'projects'))\n",
    "\n",
    "grafwiz.DataSource(name='iguazio').deploy('http://grafana',use_auth=True)\n",
    "\n",
    "dash = grafwiz.Dashboard(\"stocks\", start='now-7d', dataSource='iguazio')\n",
    "\n",
    "df_columns = ['datetime', 'prediction', 'tickers', 'true']\n",
    "news_kv = '/stocks-'+ os.environ['V3IO_USERNAME'] + '/artifacts/stocks_prediction'\n",
    "client.execute(\"kv\",table = news_kv, command = \"infer\")\n",
    "\n",
    "tbl = grafwiz.Table(title='Current news Value', span=12,columns=df_columns).source(table=news_kv,fields=df_columns,container='projects')\n",
    "dash.row([tbl])\n",
    "\n",
    "dash.deploy('http://grafana')"
   ]
  },
  {
   "cell_type": "markdown",
   "id": "a5ba4d74",
   "metadata": {},
   "source": [
    "## Adding stocks_serving function scheduler"
   ]
  },
  {
   "cell_type": "code",
   "execution_count": 4,
   "id": "f6a1c2be",
   "metadata": {},
   "outputs": [],
   "source": [
    "fn = project.get_function('serving_stocks')\n",
    "serving_address = fn.spec.command"
   ]
  },
  {
   "cell_type": "code",
   "execution_count": 5,
   "id": "e4f5982a",
   "metadata": {},
   "outputs": [
    {
     "name": "stdout",
     "output_type": "stream",
     "text": [
      "Overwriting src/invoker.py\n"
     ]
    }
   ],
   "source": [
    "%%writefile src/invoker.py\n",
    "\n",
    "import requests\n",
    "import datetime\n",
    "\n",
    "def ingestion_service_invoker(endpoint):     \n",
    "    t = requests.post(endpoint,json={\"vector_name\": 'stocks',\n",
    "                                          \"start_time\" : 59,\n",
    "                                          \"end_time\"   : 0,\n",
    "                                          \"seq_size\"   : 5})"
   ]
  },
  {
   "cell_type": "code",
   "execution_count": 6,
   "id": "0c64720b",
   "metadata": {},
   "outputs": [
    {
     "name": "stdout",
     "output_type": "stream",
     "text": [
      "> 2022-09-05 10:38:30,785 [info] starting run prediction-kv-ingestion_service_invoker uid=57a4d061eb154f27be76bec38bfebd84 DB=http://mlrun-api:8080\n",
      "> 2022-09-05 10:38:36,491 [info] task scheduled, {'schedule': '0 */1 * * *', 'project': 'stocks-dani', 'name': 'prediction-kv-ingestion_service_invoker'}\n"
     ]
    }
   ],
   "source": [
    "# specifying '0 8 * * *' as schedule will trigger the function every day at 08:00 AM\n",
    "fn = mlrun.code_to_function(name='prediction_kv',kind='job',image='mlrun/mlrun',handler='ingestion_service_invoker', filename='src/invoker.py')\n",
    "fn.run(params={'endpoint':serving_address}, schedule='*/10 * * * *')"
   ]
  }
 ],
 "metadata": {
  "kernelspec": {
   "display_name": "Python 3",
   "language": "python",
   "name": "python3"
  },
  "language_info": {
   "codemirror_mode": {
    "name": "ipython",
    "version": 3
   },
   "file_extension": ".py",
   "mimetype": "text/x-python",
   "name": "python",
   "nbconvert_exporter": "python",
   "pygments_lexer": "ipython3",
   "version": "3.7.6"
  }
 },
 "nbformat": 4,
 "nbformat_minor": 5
}
