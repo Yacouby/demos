{
 "cells": [
  {
   "cell_type": "markdown",
   "id": "63b11609",
   "metadata": {},
   "source": [
    "# Deploy a Grafana Dashboard\n",
    "To track the different stocks on a live dashboard we will use **Grafana**.<br>\n",
    "We will use [Grafwiz](https://github.com/v3io/grafwiz) to define and deploy the dashboard directly from this notebook"
   ]
  },
  {
   "cell_type": "code",
   "execution_count": 1,
   "id": "16a4dfa5",
   "metadata": {},
   "outputs": [],
   "source": [
    "# install prerequsits \n",
    "# !pip install git+https://github.com/v3io/grafwiz --upgrade\n",
    "# !pip install v3io_frames"
   ]
  },
  {
   "cell_type": "code",
   "execution_count": 2,
   "id": "91630b6e",
   "metadata": {},
   "outputs": [
    {
     "name": "stdout",
     "output_type": "stream",
     "text": [
      "> 2022-08-08 14:38:06,653 [info] loaded project stocks from MLRun DB\n"
     ]
    }
   ],
   "source": [
    "import mlrun\n",
    "project = mlrun.get_or_create_project(name='stocks',user_project=True, context=\"src/\")"
   ]
  },
  {
   "cell_type": "code",
   "execution_count": 3,
   "id": "54e98721",
   "metadata": {},
   "outputs": [
    {
     "name": "stdout",
     "output_type": "stream",
     "text": [
      "Datasource iguazio already exists\n",
      "Datasource iguazio created successfully\n",
      "Dashboard stocks created successfully\n"
     ]
    }
   ],
   "source": [
    "import grafwiz\n",
    "import os\n",
    "import v3io_frames as v3f\n",
    "\n",
    "framesd = os.getenv(\"V3IO_FRAMESD\",'framesd:8081')\n",
    "client = v3f.Client(framesd, container=os.getenv('V3IO_CONTAINER', 'projects'))\n",
    "\n",
    "grafwiz.DataSource(name='iguazio').deploy('http://grafana',use_auth=True)\n",
    "\n",
    "dash = grafwiz.Dashboard(\"stocks\", start='now-7d', dataSource='iguazio')\n",
    "\n",
    "\n",
    "# folder_name = os.listdir(path='/v3io/projects/stocks-'+ os.environ['V3IO_USERNAME'] + '/FeatureStore/news/nosql/sets/news')[0]\n",
    "# news_kv = '/stocks-'+ os.environ['V3IO_USERNAME'] + '/FeatureStore/news/nosql/sets/news/'+ folder_name\n",
    "# # client.execute(\"kv\",table = news_kv, command = \"infer\")\n",
    "\n",
    "# tbl = grafwiz.Table(title='Current news Value', span=12,columns=['ticker','sentiment']).source(table=news_kv,fields=['ticker','sentiment'],container='projects')\n",
    "# dash.row([tbl])\n",
    "\n",
    "\n",
    "df_columns = ['Close', 'High', 'Low', 'Open', 'Volume', 'sentiment',\n",
    "              'ticker2onehot_A', 'ticker2onehot_AAL', 'ticker2onehot_AAP',\n",
    "              'ticker2onehot_AAPL', 'tickers', 'datetime']\n",
    "\n",
    "prediction_kv = '/stocks-'+ os.environ['V3IO_USERNAME'] + '/artifacts/stocks_prediction'\n",
    "# client.execute(\"kv\",table = prediction_kv, command = \"infer\")\n",
    "\n",
    "log = grafwiz.Table(title='Stocks Prediction Values', span=12).source(table=prediction_kv,fields=df_columns,container='projects')\n",
    "dash.row([log])\n",
    "\n",
    "dash.deploy('http://grafana')"
   ]
  },
  {
   "cell_type": "code",
   "execution_count": 4,
   "id": "1b058144",
   "metadata": {},
   "outputs": [],
   "source": [
    "# framesd = os.getenv(\"V3IO_FRAMESD\",'framesd:8081')\n",
    "# client = v3f.Client(framesd, container=os.getenv('V3IO_CONTAINER', 'projects'))\n",
    "\n",
    "# dash = grafwiz.Dashboard(\"stocks\", start='now-7d', dataSource='iguazio')\n",
    "\n",
    "\n",
    "\n",
    "# grafana_url = 'http://grafana'\n",
    "# grafwiz.DataSource(name='iguazio').deploy(grafana_url,use_auth=True)\n",
    "\n",
    "# prediction_kv = '/stocks-'+ os.environ['V3IO_USERNAME'] + '/artifacts/stocks_prediction'\n",
    "# dash.template(name=\"SYMBOL\", label=\"Symbol\", query=\"fields=Close\" + \";table=\" + prediction_kv + \";backend=kv;container=projects\")\n",
    "# grafwiz.DataSource(name='stocks-prediction', frames_url=prediction_kv).deploy(grafana_url, use_auth=False, overwrite=False)\n",
    "\n",
    "# log = grafwiz.Table('Articles Log', dataSource='stocks-prediction', span=12).source(container='projects',fields=df_columns)\n",
    "# dash.row([log])\n",
    "\n",
    "# dash.deploy(grafana_url)"
   ]
  }
 ],
 "metadata": {
  "kernelspec": {
   "display_name": "Python 3",
   "language": "python",
   "name": "python3"
  },
  "language_info": {
   "codemirror_mode": {
    "name": "ipython",
    "version": 3
   },
   "file_extension": ".py",
   "mimetype": "text/x-python",
   "name": "python",
   "nbconvert_exporter": "python",
   "pygments_lexer": "ipython3",
   "version": "3.7.6"
  }
 },
 "nbformat": 4,
 "nbformat_minor": 5
}
