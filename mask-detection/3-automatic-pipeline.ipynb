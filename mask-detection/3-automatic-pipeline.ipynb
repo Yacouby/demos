{
 "cells": [
  {
   "cell_type": "markdown",
   "metadata": {},
   "source": [
    "# Mask Detection Demo - Automatic Pipeline (3 / 3)\n",
    "The following example demonstrates an automatic pipeline for training, evaluating, optimizing and serving the mask detection model using our saved MLRun functions from the previous notebooks.\n",
    "\n",
    "1. [Setup the Project](#section_1)\n",
    "2. [Plan Our Pipeline](#section_2)\n",
    "3. [Write the Workflow](#section_3)\n",
    "4. [Run the Pipeline](#section_4)"
   ]
  },
  {
   "cell_type": "markdown",
   "metadata": {},
   "source": [
    "Before we begin, **please select the desired framework** (comment and uncomment the below lines as needed):"
   ]
  },
  {
   "cell_type": "code",
   "execution_count": 1,
   "metadata": {},
   "outputs": [],
   "source": [
    "framework = \"tf-keras\""
   ]
  },
  {
   "cell_type": "markdown",
   "metadata": {},
   "source": [
    "<a id=\"section_1\"></a>\n",
    "## 1. Setup the Project\n",
    "\n",
    "Create a project using `mlrun.get_or_create_project` (ensuring loading it in case it already exists), creating the paths where we'll store the project's artifacts:"
   ]
  },
  {
   "cell_type": "code",
   "execution_count": 2,
   "metadata": {},
   "outputs": [
    {
     "name": "stdout",
     "output_type": "stream",
     "text": [
      "> 2021-11-05 12:52:53,043 [info] loaded project tf-keras-mask-detection from MLRun DB\n"
     ]
    }
   ],
   "source": [
    "import mlrun\n",
    "import os\n",
    "\n",
    "# Set our project's name and directory:\n",
    "project_name = f\"{framework}-mask-detection\"\n",
    "project_dir = os.path.abspath(\"./\")\n",
    "\n",
    "# Create the project:\n",
    "project = mlrun.get_or_create_project(project_name, project_dir, user_project=True)"
   ]
  },
  {
   "attachments": {
    "67a4b239-b608-45c5-adb5-9b8349d5ba7f.png": {
     "image/png": "[encoded data removed]"
    }
   },
   "cell_type": "markdown",
   "metadata": {},
   "source": [
    "<a id=\"section_2\"></a>\n",
    "## 2. Plan Our Pipeline\n",
    "\n",
    "Our pipeline will follow the strecture below:\n",
    "\n",
    "![image.png](attachment:67a4b239-b608-45c5-adb5-9b8349d5ba7f.png)\n"
   ]
  },
  {
   "cell_type": "markdown",
   "metadata": {},
   "source": [
    "### 2.1. Get the Training, Evaluation and Serving Functions\n",
    "We wish to use our training, evaluation and serving functions from the previous notebooks. In order to get them, we will set them into the project using `project.set_function`:"
   ]
  },
  {
   "cell_type": "code",
   "execution_count": 3,
   "metadata": {},
   "outputs": [
    {
     "data": {
      "text/plain": [
       "<mlrun.runtimes.serving.ServingRuntime at 0x7f6fcb120050>"
      ]
     },
     "execution_count": 3,
     "metadata": {},
     "output_type": "execute_result"
    }
   ],
   "source": [
    "# Get our train/evaluation function like in the first notebook:\n",
    "project.set_function(\n",
    "    os.path.join(framework, \"training-and-evaluation.py\"),\n",
    "    name=\"training-and-evaluation\",\n",
    "    kind=\"job\",\n",
    "    image=\"mlrun/ml-models\",\n",
    ")\n",
    "\n",
    "# Get our serving function like in the second notebook:\n",
    "project.set_function(\n",
    "    os.path.join(framework, \"serving.py\"),\n",
    "    name=\"serving-function\", \n",
    "    kind=\"serving\", \n",
    "    image=\"mlrun/ml-models\",\n",
    ")"
   ]
  },
  {
   "cell_type": "markdown",
   "metadata": {},
   "source": [
    "### 2.2. Get the Open Archive and ONNX Functions\n",
    "\n",
    "We will import the following Marketplace MLRun functions to our project:\n",
    "* `open_archive` - Download the images dataset as seen in the first notebook.\n",
    "* `onnx_utils` - ONNX intigration in MLRun, some utils functions for the ONNX framework, optimizing and converting models from different framework to ONNX using MLRun.\n",
    "\n",
    "**Notice** we are using the same `project.set_function`."
   ]
  },
  {
   "cell_type": "code",
   "execution_count": 4,
   "metadata": {},
   "outputs": [
    {
     "data": {
      "text/plain": [
       "<mlrun.runtimes.kubejob.KubejobRuntime at 0x7f6fc00272d0>"
      ]
     },
     "execution_count": 4,
     "metadata": {},
     "output_type": "execute_result"
    }
   ],
   "source": [
    "# Import the `open_archive` function to download the images:\n",
    "project.set_function(\"hub://open_archive\", name=\"open_archive\")\n",
    "\n",
    "# Import the `onnx_utils` function to optimize the model:\n",
    "project.set_function(\"hub://onnx_utils:development\", name=\"onnx_utils\")"
   ]
  },
  {
   "cell_type": "markdown",
   "metadata": {},
   "source": [
    "<a id=\"section_3\"></a>\n",
    "## 3. Write the Workflow\n",
    "\n",
    "In order to follow our plan we will use 3 functions:\n",
    "* `mlrun.build_function` - Build an image to use in a MLRun function. ONNX requires extra packages so we will prepare its image in advance.\n",
    "* `mlrun.run_function` - Run a local or remote task as part of a local/kubeflow pipeline. Using this function to run our training and the rest of our functions will insure that if the function is using output from another function, it will run only if the relying function is done.\n",
    "* `mlrun.deploy_function` - Deploy a real-time (nuclio based) function. Our serving function will be deployed using it.\n",
    "\n",
    "All of the functions above can receive a function object or just the function name (if it is set using `project.set_function` as we did above). We will access our project's functions when needed using the `project.get_function` method - returns a function object by its name.\n",
    "\n",
    "**Notice** the serving graph will now serve an ONNX model (not a tf.keras model like before), so we will use `mlrun.frameworks.onnx.ONNXModelServer`."
   ]
  },
  {
   "cell_type": "code",
   "execution_count": 5,
   "metadata": {},
   "outputs": [],
   "source": [
    "from kfp import dsl\n",
    "\n",
    "\n",
    "@dsl.pipeline(name=\"Mask Detection Pipeline\")\n",
    "def workflow(\n",
    "    archive_url: str,\n",
    "    dataset_path: str,\n",
    "    epochs: int,\n",
    "    batch_size: int,\n",
    "    lr: float,\n",
    "    build_flag: int = 1,\n",
    "    download_data_flag: int = 1\n",
    "):\n",
    "    # Get our project object:\n",
    "    project = mlrun.get_current_project()\n",
    "    \n",
    "    # Write down the ONNX requirements:\n",
    "    onnx_requirements = [\n",
    "        \"onnx~=1.10.1\",\n",
    "        \"onnxruntime~=1.8.1\",\n",
    "        \"onnxoptimizer~=0.2.0\",\n",
    "        \"onnxmltools~=1.9.0\",\n",
    "        \"tf2onnx~=1.9.0\"\n",
    "    ]\n",
    "    \n",
    "    ###########################################################\n",
    "    ###############    Build the ONNX image:    ###############\n",
    "    ###########################################################\n",
    "    # Build only if needed:\n",
    "    with dsl.Condition(build_flag == 1) as build_condition:\n",
    "        mlrun.build_function(\n",
    "            function=\"onnx_utils\",\n",
    "            base_image=\"mlrun/ml-models\",\n",
    "            requirements=onnx_requirements\n",
    "        )\n",
    "    \n",
    "    ###########################################################\n",
    "    ###############    Download the dataset:    ###############\n",
    "    ###########################################################\n",
    "    # Download only if needed:\n",
    "    with dsl.Condition(download_data_flag == 1) as download_data_condition:\n",
    "        # Mount it:\n",
    "        project.get_function(\"open_archive\").apply(mlrun.mount_v3io())\n",
    "        # Run it using the 'open_archive' handler:\n",
    "        open_archive_run = mlrun.run_function(\n",
    "            function=\"open_archive\",\n",
    "            handler=\"open_archive\",\n",
    "            name=\"download_data\",\n",
    "            inputs={\"archive_url\": archive_url},\n",
    "            params={\"target_path\": dataset_path}\n",
    "        )\n",
    "    \n",
    "    ####################################################\n",
    "    ###############    Train a model:    ###############\n",
    "    ####################################################\n",
    "    # Mount it:\n",
    "    project.get_function(\"training-and-evaluation\").apply(mlrun.mount_v3io())\n",
    "    # Run it using our 'train' handler:\n",
    "    training_run = mlrun.run_function(\n",
    "        function=\"training-and-evaluation\",\n",
    "        handler=\"train\",\n",
    "        name=\"training\",\n",
    "        params={\n",
    "            \"dataset_path\": dataset_path,\n",
    "            \"batch_size\": batch_size,\n",
    "            \"lr\": lr,\n",
    "            \"epochs\": epochs\n",
    "        },\n",
    "        outputs=[\"mask_detector\"]\n",
    "    ).after(download_data_condition)\n",
    "    \n",
    "    ###################################################################\n",
    "    ###############    Convert to ONNX and optimize:    ###############\n",
    "    ###################################################################\n",
    "    # Mount it:\n",
    "    project.get_function(\"onnx_utils\").apply(mlrun.mount_v3io())\n",
    "    # Run it using the 'to_onnx' handler:\n",
    "    to_onnx_run = mlrun.run_function(\n",
    "        function=\"onnx_utils\",\n",
    "        handler=\"to_onnx\",\n",
    "        name=\"optimizing\",\n",
    "        params={\n",
    "            \"model_name\": 'mask_detector',\n",
    "            \"model_path\": training_run.outputs['mask_detector'],\n",
    "        },\n",
    "        outputs=[\"onnx_mask_detector\"],\n",
    "    ).after(build_condition)\n",
    "    \n",
    "    #########################################################\n",
    "    ###############    Evaluate the model:    ###############\n",
    "    #########################################################\n",
    "    # Run it using our 'evaluate' handler:\n",
    "    evaluation_run = mlrun.run_function(\n",
    "        function=\"training-and-evaluation\",\n",
    "        handler=\"evaluate\",\n",
    "        name=\"evaluating\",\n",
    "        params={\n",
    "            \"model_path\": training_run.outputs['mask_detector'],\n",
    "            \"dataset_path\": dataset_path,\n",
    "            \"batch_size\": batch_size\n",
    "        }\n",
    "    )\n",
    "    \n",
    "    ################################################################################\n",
    "    ###############    Deploy the model as a serverless function:    ###############\n",
    "    ################################################################################\n",
    "    # Get the function:\n",
    "    serving_function = project.get_function(\"serving-function\")\n",
    "    # Mount it:\n",
    "    serving_function.apply(mlrun.mount_v3io())\n",
    "    # Set the topology and get the graph object:\n",
    "    graph = serving_function.set_topology(\"flow\", engine=\"async\")\n",
    "    # Build the serving graph:\n",
    "    graph.to(handler=\"resize\", name=\"resize\")\\\n",
    "         .to(handler=\"preprocess\", name=\"preprocess\")\\\n",
    "         .to(\"mlrun.frameworks.onnx.ONNXModelServer\", \"onnx_mask_detector\", model_path=project.get_artifact_uri(\"onnx_mask_detector\"))\\\n",
    "         .to(handler=\"postprocess\", name=\"postprocess\").respond()\n",
    "    # Set the desired requirements:\n",
    "    serving_function.with_requirements(requirements=onnx_requirements)\n",
    "    # Deploy the serving function:\n",
    "    mlrun.deploy_function(\"serving-function\").after(to_onnx_run)"
   ]
  },
  {
   "cell_type": "markdown",
   "metadata": {},
   "source": [
    "<a id=\"section_4\"></a>\n",
    "## 4. Run the Pipeline:\n",
    "\n",
    "We will run the pipeline using `project.run` with the workflow we just wrote:"
   ]
  },
  {
   "cell_type": "code",
   "execution_count": 6,
   "metadata": {},
   "outputs": [
    {
     "data": {
      "image/svg+xml": [
       "<?xml version=\"1.0\" encoding=\"UTF-8\" standalone=\"no\"?>\n",
       "<!DOCTYPE svg PUBLIC \"-//W3C//DTD SVG 1.1//EN\"\n",
       " \"http://www.w3.org/Graphics/SVG/1.1/DTD/svg11.dtd\">\n",
       "<!-- Generated by graphviz version 2.40.1 (20161225.0304)\n",
       " -->\n",
       "<!-- Title: kfp Pages: 1 -->\n",
       "<svg width=\"536pt\" height=\"332pt\"\n",
       " viewBox=\"0.00 0.00 536.43 332.00\" xmlns=\"http://www.w3.org/2000/svg\" xmlns:xlink=\"http://www.w3.org/1999/xlink\">\n",
       "<g id=\"graph0\" class=\"graph\" transform=\"scale(1 1) rotate(0) translate(4 328)\">\n",
       "<title>kfp</title>\n",
       "<polygon fill=\"#ffffff\" stroke=\"transparent\" points=\"-4,4 -4,-328 532.4273,-328 532.4273,4 -4,4\"/>\n",
       "<!-- mask&#45;detection&#45;pipeline&#45;zk58c&#45;1428213396 -->\n",
       "<g id=\"node1\" class=\"node\">\n",
       "<title>mask&#45;detection&#45;pipeline&#45;zk58c&#45;1428213396</title>\n",
       "<ellipse fill=\"#00ff00\" stroke=\"#000000\" cx=\"351.2416\" cy=\"-162\" rx=\"144.0747\" ry=\"18\"/>\n",
       "<text text-anchor=\"middle\" x=\"351.2416\" y=\"-158.3\" font-family=\"Times,serif\" font-size=\"14.00\" fill=\"#000000\">training&#45;and&#45;evaluation&#45;train</text>\n",
       "</g>\n",
       "<!-- mask&#45;detection&#45;pipeline&#45;zk58c&#45;2508653453 -->\n",
       "<g id=\"node2\" class=\"node\">\n",
       "<title>mask&#45;detection&#45;pipeline&#45;zk58c&#45;2508653453</title>\n",
       "<ellipse fill=\"#00ff00\" stroke=\"#000000\" cx=\"367.2416\" cy=\"-90\" rx=\"161.3716\" ry=\"18\"/>\n",
       "<text text-anchor=\"middle\" x=\"367.2416\" y=\"-86.3\" font-family=\"Times,serif\" font-size=\"14.00\" fill=\"#000000\">training&#45;and&#45;evaluation&#45;evaluate</text>\n",
       "</g>\n",
       "<!-- mask&#45;detection&#45;pipeline&#45;zk58c&#45;1428213396&#45;&gt;mask&#45;detection&#45;pipeline&#45;zk58c&#45;2508653453 -->\n",
       "<g id=\"edge1\" class=\"edge\">\n",
       "<title>mask&#45;detection&#45;pipeline&#45;zk58c&#45;1428213396&#45;&gt;mask&#45;detection&#45;pipeline&#45;zk58c&#45;2508653453</title>\n",
       "<path fill=\"none\" stroke=\"#000000\" d=\"M355.2791,-143.8314C356.9903,-136.131 359.0251,-126.9743 360.9268,-118.4166\"/>\n",
       "<polygon fill=\"#000000\" stroke=\"#000000\" points=\"364.3971,-118.9344 363.1498,-108.4133 357.5638,-117.4159 364.3971,-118.9344\"/>\n",
       "</g>\n",
       "<!-- mask&#45;detection&#45;pipeline&#45;zk58c&#45;1580687561 -->\n",
       "<g id=\"node3\" class=\"node\">\n",
       "<title>mask&#45;detection&#45;pipeline&#45;zk58c&#45;1580687561</title>\n",
       "<ellipse fill=\"#00ff00\" stroke=\"#000000\" cx=\"94.2416\" cy=\"-90\" rx=\"94.4839\" ry=\"18\"/>\n",
       "<text text-anchor=\"middle\" x=\"94.2416\" y=\"-86.3\" font-family=\"Times,serif\" font-size=\"14.00\" fill=\"#000000\">onnx&#45;utils&#45;to&#45;onnx</text>\n",
       "</g>\n",
       "<!-- mask&#45;detection&#45;pipeline&#45;zk58c&#45;1428213396&#45;&gt;mask&#45;detection&#45;pipeline&#45;zk58c&#45;1580687561 -->\n",
       "<g id=\"edge2\" class=\"edge\">\n",
       "<title>mask&#45;detection&#45;pipeline&#45;zk58c&#45;1428213396&#45;&gt;mask&#45;detection&#45;pipeline&#45;zk58c&#45;1580687561</title>\n",
       "<path fill=\"none\" stroke=\"#000000\" d=\"M292.2806,-145.4817C251.9453,-134.1816 198.5289,-119.2167 157.3379,-107.6768\"/>\n",
       "<polygon fill=\"#000000\" stroke=\"#000000\" points=\"158.2534,-104.2986 147.68,-104.971 156.365,-111.039 158.2534,-104.2986\"/>\n",
       "</g>\n",
       "<!-- mask&#45;detection&#45;pipeline&#45;zk58c&#45;4214167397 -->\n",
       "<g id=\"node4\" class=\"node\">\n",
       "<title>mask&#45;detection&#45;pipeline&#45;zk58c&#45;4214167397</title>\n",
       "<polygon fill=\"#00ff00\" stroke=\"#000000\" points=\"186.7416,-36 5.7416,-36 1.7416,-32 1.7416,0 182.7416,0 186.7416,-4 186.7416,-36\"/>\n",
       "<polyline fill=\"none\" stroke=\"#000000\" points=\"182.7416,-32 1.7416,-32 \"/>\n",
       "<polyline fill=\"none\" stroke=\"#000000\" points=\"182.7416,-32 182.7416,0 \"/>\n",
       "<polyline fill=\"none\" stroke=\"#000000\" points=\"182.7416,-32 186.7416,-36 \"/>\n",
       "<text text-anchor=\"middle\" x=\"94.2416\" y=\"-14.3\" font-family=\"Times,serif\" font-size=\"14.00\" fill=\"#000000\">deploy&#45;serving&#45;function</text>\n",
       "</g>\n",
       "<!-- mask&#45;detection&#45;pipeline&#45;zk58c&#45;1580687561&#45;&gt;mask&#45;detection&#45;pipeline&#45;zk58c&#45;4214167397 -->\n",
       "<g id=\"edge3\" class=\"edge\">\n",
       "<title>mask&#45;detection&#45;pipeline&#45;zk58c&#45;1580687561&#45;&gt;mask&#45;detection&#45;pipeline&#45;zk58c&#45;4214167397</title>\n",
       "<path fill=\"none\" stroke=\"#000000\" d=\"M94.2416,-71.8314C94.2416,-64.131 94.2416,-54.9743 94.2416,-46.4166\"/>\n",
       "<polygon fill=\"#000000\" stroke=\"#000000\" points=\"97.7417,-46.4132 94.2416,-36.4133 90.7417,-46.4133 97.7417,-46.4132\"/>\n",
       "</g>\n",
       "<!-- mask&#45;detection&#45;pipeline&#45;zk58c&#45;2537954971 -->\n",
       "<g id=\"node5\" class=\"node\">\n",
       "<title>mask&#45;detection&#45;pipeline&#45;zk58c&#45;2537954971</title>\n",
       "<polygon fill=\"#00ff00\" stroke=\"#000000\" points=\"94.2416,-252 4.9248,-234 94.2416,-216 183.5584,-234 94.2416,-252\"/>\n",
       "<text text-anchor=\"middle\" x=\"94.2416\" y=\"-230.3\" font-family=\"Times,serif\" font-size=\"14.00\" fill=\"#000000\">condition&#45;1</text>\n",
       "</g>\n",
       "<!-- mask&#45;detection&#45;pipeline&#45;zk58c&#45;4023627136 -->\n",
       "<g id=\"node6\" class=\"node\">\n",
       "<title>mask&#45;detection&#45;pipeline&#45;zk58c&#45;4023627136</title>\n",
       "<polygon fill=\"#00ff00\" stroke=\"#000000\" points=\"163.7416,-180 24.7416,-180 24.7416,-144 163.7416,-144 163.7416,-180\"/>\n",
       "<text text-anchor=\"middle\" x=\"94.2416\" y=\"-158.3\" font-family=\"Times,serif\" font-size=\"14.00\" fill=\"#000000\">deploy&#45;onnx&#45;utils</text>\n",
       "</g>\n",
       "<!-- mask&#45;detection&#45;pipeline&#45;zk58c&#45;2537954971&#45;&gt;mask&#45;detection&#45;pipeline&#45;zk58c&#45;4023627136 -->\n",
       "<g id=\"edge4\" class=\"edge\">\n",
       "<title>mask&#45;detection&#45;pipeline&#45;zk58c&#45;2537954971&#45;&gt;mask&#45;detection&#45;pipeline&#45;zk58c&#45;4023627136</title>\n",
       "<path fill=\"none\" stroke=\"#000000\" d=\"M94.2416,-215.8314C94.2416,-208.131 94.2416,-198.9743 94.2416,-190.4166\"/>\n",
       "<polygon fill=\"#000000\" stroke=\"#000000\" points=\"97.7417,-190.4132 94.2416,-180.4133 90.7417,-190.4133 97.7417,-190.4132\"/>\n",
       "</g>\n",
       "<!-- mask&#45;detection&#45;pipeline&#45;zk58c&#45;4023627136&#45;&gt;mask&#45;detection&#45;pipeline&#45;zk58c&#45;1580687561 -->\n",
       "<g id=\"edge6\" class=\"edge\">\n",
       "<title>mask&#45;detection&#45;pipeline&#45;zk58c&#45;4023627136&#45;&gt;mask&#45;detection&#45;pipeline&#45;zk58c&#45;1580687561</title>\n",
       "<path fill=\"none\" stroke=\"#000000\" d=\"M94.2416,-143.8314C94.2416,-136.131 94.2416,-126.9743 94.2416,-118.4166\"/>\n",
       "<polygon fill=\"#000000\" stroke=\"#000000\" points=\"97.7417,-118.4132 94.2416,-108.4133 90.7417,-118.4133 97.7417,-118.4132\"/>\n",
       "</g>\n",
       "<!-- mask&#45;detection&#45;pipeline&#45;zk58c&#45;2554732590 -->\n",
       "<g id=\"node7\" class=\"node\">\n",
       "<title>mask&#45;detection&#45;pipeline&#45;zk58c&#45;2554732590</title>\n",
       "<polygon fill=\"#00ff00\" stroke=\"#000000\" points=\"351.2416,-324 261.9248,-306 351.2416,-288 440.5584,-306 351.2416,-324\"/>\n",
       "<text text-anchor=\"middle\" x=\"351.2416\" y=\"-302.3\" font-family=\"Times,serif\" font-size=\"14.00\" fill=\"#000000\">condition&#45;2</text>\n",
       "</g>\n",
       "<!-- mask&#45;detection&#45;pipeline&#45;zk58c&#45;4073822809 -->\n",
       "<g id=\"node8\" class=\"node\">\n",
       "<title>mask&#45;detection&#45;pipeline&#45;zk58c&#45;4073822809</title>\n",
       "<ellipse fill=\"#00ff00\" stroke=\"#000000\" cx=\"351.2416\" cy=\"-234\" rx=\"133.7763\" ry=\"18\"/>\n",
       "<text text-anchor=\"middle\" x=\"351.2416\" y=\"-230.3\" font-family=\"Times,serif\" font-size=\"14.00\" fill=\"#000000\">open&#45;archive&#45;open&#45;archive</text>\n",
       "</g>\n",
       "<!-- mask&#45;detection&#45;pipeline&#45;zk58c&#45;2554732590&#45;&gt;mask&#45;detection&#45;pipeline&#45;zk58c&#45;4073822809 -->\n",
       "<g id=\"edge5\" class=\"edge\">\n",
       "<title>mask&#45;detection&#45;pipeline&#45;zk58c&#45;2554732590&#45;&gt;mask&#45;detection&#45;pipeline&#45;zk58c&#45;4073822809</title>\n",
       "<path fill=\"none\" stroke=\"#000000\" d=\"M351.2416,-287.8314C351.2416,-280.131 351.2416,-270.9743 351.2416,-262.4166\"/>\n",
       "<polygon fill=\"#000000\" stroke=\"#000000\" points=\"354.7417,-262.4132 351.2416,-252.4133 347.7417,-262.4133 354.7417,-262.4132\"/>\n",
       "</g>\n",
       "<!-- mask&#45;detection&#45;pipeline&#45;zk58c&#45;4073822809&#45;&gt;mask&#45;detection&#45;pipeline&#45;zk58c&#45;1428213396 -->\n",
       "<g id=\"edge7\" class=\"edge\">\n",
       "<title>mask&#45;detection&#45;pipeline&#45;zk58c&#45;4073822809&#45;&gt;mask&#45;detection&#45;pipeline&#45;zk58c&#45;1428213396</title>\n",
       "<path fill=\"none\" stroke=\"#000000\" d=\"M351.2416,-215.8314C351.2416,-208.131 351.2416,-198.9743 351.2416,-190.4166\"/>\n",
       "<polygon fill=\"#000000\" stroke=\"#000000\" points=\"354.7417,-190.4132 351.2416,-180.4133 347.7417,-190.4133 354.7417,-190.4132\"/>\n",
       "</g>\n",
       "</g>\n",
       "</svg>\n"
      ],
      "text/plain": [
       "<graphviz.dot.Digraph at 0x7f6fbfe95dd0>"
      ]
     },
     "metadata": {},
     "output_type": "display_data"
    },
    {
     "data": {
      "text/html": [
       "<h2>Run Results</h2>Workflow 2e8f8c40-eaac-4544-9e8f-e358c5d490fb finished, state=Succeeded<br>click the hyper links below to see detailed results<br><table border=\"1\" class=\"dataframe\">\n",
       "  <thead>\n",
       "    <tr style=\"text-align: right;\">\n",
       "      <th>uid</th>\n",
       "      <th>start</th>\n",
       "      <th>state</th>\n",
       "      <th>name</th>\n",
       "      <th>results</th>\n",
       "      <th>artifacts</th>\n",
       "    </tr>\n",
       "  </thead>\n",
       "  <tbody>\n",
       "    <tr>\n",
       "      <td><div title=\"2346f7df67b14def8660d51803fd98b5\"><a href=\"https://dashboard.default-tenant.app.yh38.iguazio-cd2.com/mlprojects/tf-keras-mask-detection-guyl/jobs/monitor/2346f7df67b14def8660d51803fd98b5/overview\" target=\"_blank\" >...03fd98b5</a></div></td>\n",
       "      <td>Nov 05 12:55:49</td>\n",
       "      <td>completed</td>\n",
       "      <td>onnx-utils-to_onnx</td>\n",
       "      <td></td>\n",
       "      <td><div title=\"v3io:///projects/tf-keras-mask-detection-guyl/artifacts/onnx_mask_detector/onnx_mask_detector.onnx\">onnx_mask_detector.onnx</div><div title=\"v3io:///projects/tf-keras-mask-detection-guyl/artifacts/\">onnx_mask_detector</div></td>\n",
       "    </tr>\n",
       "    <tr>\n",
       "      <td><div title=\"005a7092cdcd40c9a70b3928bc28fc9e\"><a href=\"https://dashboard.default-tenant.app.yh38.iguazio-cd2.com/mlprojects/tf-keras-mask-detection-guyl/jobs/monitor/005a7092cdcd40c9a70b3928bc28fc9e/overview\" target=\"_blank\" >...bc28fc9e</a></div></td>\n",
       "      <td>Nov 05 12:55:39</td>\n",
       "      <td>completed</td>\n",
       "      <td>training-and-evaluation-evaluate</td>\n",
       "      <td><div class=\"dictlist\">model_path=store://artifacts/tf-keras-mask-detection-guyl/mask_detector:2e8f8c40-eaac-4544-9e8f-e358c5d490fb</div><div class=\"dictlist\">dataset_path=/User/demos/mask-detection/tf-keras/Dataset</div><div class=\"dictlist\">batch_size=32</div><div class=\"dictlist\">evaluation_loss=0.007536282373029132</div><div class=\"dictlist\">evaluation_accuracy=0.997093023255814</div></td>\n",
       "      <td><div class=\"artifact\" onclick=\"expandPanel(this)\" paneName=\"result\" title=\"files/v3io/projects/tf-keras-mask-detection-guyl/artifacts/evaluation_loss_epoch_1.html\">evaluation_loss_epoch_1.html</div><div class=\"artifact\" onclick=\"expandPanel(this)\" paneName=\"result\" title=\"files/v3io/projects/tf-keras-mask-detection-guyl/artifacts/evaluation_accuracy_epoch_1.html\">evaluation_accuracy_epoch_1.html</div></td>\n",
       "    </tr>\n",
       "    <tr>\n",
       "      <td><div title=\"226a573a55b44e2aa6c24c6e0fdc1175\"><a href=\"https://dashboard.default-tenant.app.yh38.iguazio-cd2.com/mlprojects/tf-keras-mask-detection-guyl/jobs/monitor/226a573a55b44e2aa6c24c6e0fdc1175/overview\" target=\"_blank\" >...0fdc1175</a></div></td>\n",
       "      <td>Nov 05 12:53:46</td>\n",
       "      <td>completed</td>\n",
       "      <td>training-and-evaluation-train</td>\n",
       "      <td><div class=\"dictlist\">dataset_path=/User/demos/mask-detection/tf-keras/Dataset</div><div class=\"dictlist\">batch_size=32</div><div class=\"dictlist\">epochs=3</div><div class=\"dictlist\">lr=0.0010000000474974513</div><div class=\"dictlist\">training_loss=0.0011849403381347656</div><div class=\"dictlist\">training_accuracy=1.0001335144042969</div><div class=\"dictlist\">validation_loss=0.007276227904690636</div><div class=\"dictlist\">validation_accuracy=1.0</div></td>\n",
       "      <td><div class=\"artifact\" onclick=\"expandPanel(this)\" paneName=\"result\" title=\"files/v3io/projects/tf-keras-mask-detection-guyl/artifacts/training_loss_epoch_1.html\">training_loss_epoch_1.html</div><div class=\"artifact\" onclick=\"expandPanel(this)\" paneName=\"result\" title=\"files/v3io/projects/tf-keras-mask-detection-guyl/artifacts/training_accuracy_epoch_1.html\">training_accuracy_epoch_1.html</div><div class=\"artifact\" onclick=\"expandPanel(this)\" paneName=\"result\" title=\"files/v3io/projects/tf-keras-mask-detection-guyl/artifacts/validation_loss_epoch_1.html\">validation_loss_epoch_1.html</div><div class=\"artifact\" onclick=\"expandPanel(this)\" paneName=\"result\" title=\"files/v3io/projects/tf-keras-mask-detection-guyl/artifacts/validation_accuracy_epoch_1.html\">validation_accuracy_epoch_1.html</div><div class=\"artifact\" onclick=\"expandPanel(this)\" paneName=\"result\" title=\"files/v3io/projects/tf-keras-mask-detection-guyl/artifacts/training_loss_epoch_2.html\">training_loss_epoch_2.html</div><div class=\"artifact\" onclick=\"expandPanel(this)\" paneName=\"result\" title=\"files/v3io/projects/tf-keras-mask-detection-guyl/artifacts/training_accuracy_epoch_2.html\">training_accuracy_epoch_2.html</div><div class=\"artifact\" onclick=\"expandPanel(this)\" paneName=\"result\" title=\"files/v3io/projects/tf-keras-mask-detection-guyl/artifacts/validation_loss_epoch_2.html\">validation_loss_epoch_2.html</div><div class=\"artifact\" onclick=\"expandPanel(this)\" paneName=\"result\" title=\"files/v3io/projects/tf-keras-mask-detection-guyl/artifacts/validation_accuracy_epoch_2.html\">validation_accuracy_epoch_2.html</div><div class=\"artifact\" onclick=\"expandPanel(this)\" paneName=\"result\" title=\"files/v3io/projects/tf-keras-mask-detection-guyl/artifacts/training_loss_epoch_3.html\">training_loss_epoch_3.html</div><div class=\"artifact\" onclick=\"expandPanel(this)\" paneName=\"result\" title=\"files/v3io/projects/tf-keras-mask-detection-guyl/artifacts/training_accuracy_epoch_3.html\">training_accuracy_epoch_3.html</div><div class=\"artifact\" onclick=\"expandPanel(this)\" paneName=\"result\" title=\"files/v3io/projects/tf-keras-mask-detection-guyl/artifacts/validation_loss_epoch_3.html\">validation_loss_epoch_3.html</div><div class=\"artifact\" onclick=\"expandPanel(this)\" paneName=\"result\" title=\"files/v3io/projects/tf-keras-mask-detection-guyl/artifacts/validation_accuracy_epoch_3.html\">validation_accuracy_epoch_3.html</div><div class=\"artifact\" onclick=\"expandPanel(this)\" paneName=\"result\" title=\"files/v3io/projects/tf-keras-mask-detection-guyl/artifacts/loss_summary.html\">loss_summary.html</div><div class=\"artifact\" onclick=\"expandPanel(this)\" paneName=\"result\" title=\"files/v3io/projects/tf-keras-mask-detection-guyl/artifacts/accuracy_summary.html\">accuracy_summary.html</div><div class=\"artifact\" onclick=\"expandPanel(this)\" paneName=\"result\" title=\"files/v3io/projects/tf-keras-mask-detection-guyl/artifacts/lr.html.html\">lr.html.html</div><div title=\"v3io:///projects/tf-keras-mask-detection-guyl/artifacts/mask_detector/mask_detector.zip\">mask_detector.zip</div><div title=\"v3io:///projects/tf-keras-mask-detection-guyl/artifacts/\">mask_detector</div></td>\n",
       "    </tr>\n",
       "    <tr>\n",
       "      <td><div title=\"08ec660ab6a3415280da6de0182d545e\"><a href=\"https://dashboard.default-tenant.app.yh38.iguazio-cd2.com/mlprojects/tf-keras-mask-detection-guyl/jobs/monitor/08ec660ab6a3415280da6de0182d545e/overview\" target=\"_blank\" >...182d545e</a></div></td>\n",
       "      <td>Nov 05 12:53:22</td>\n",
       "      <td>completed</td>\n",
       "      <td>open-archive-open_archive</td>\n",
       "      <td></td>\n",
       "      <td><div title=\"/User/demos/mask-detection/tf-keras/Dataset\">content</div></td>\n",
       "    </tr>\n",
       "  </tbody>\n",
       "</table>"
      ],
      "text/plain": [
       "<IPython.core.display.HTML object>"
      ]
     },
     "metadata": {},
     "output_type": "display_data"
    },
    {
     "data": {
      "text/plain": [
       "2e8f8c40-eaac-4544-9e8f-e358c5d490fb"
      ]
     },
     "execution_count": 6,
     "metadata": {},
     "output_type": "execute_result"
    }
   ],
   "source": [
    "project.run(\n",
    "    name=\"mask-detection-pipeline\",\n",
    "    workflow_handler=workflow,\n",
    "    arguments={\n",
    "        \"archive_url\": f\"{mlrun.mlconf.default_samples_path}data/prajnasb-generated-mask-detection/prajnasb_generated_mask_detection.zip\",\n",
    "        \"dataset_path\": os.path.abspath('./Dataset'),\n",
    "        \"epochs\": 3,\n",
    "        \"batch_size\": 32, \n",
    "        \"lr\": 1e-3,\n",
    "        \"build_flag\": 1,\n",
    "        \"download_data_flag\": 1\n",
    "    },\n",
    "    watch=True\n",
    ")"
   ]
  },
  {
   "cell_type": "code",
   "execution_count": null,
   "metadata": {},
   "outputs": [],
   "source": []
  }
 ],
 "metadata": {
  "kernelspec": {
   "display_name": "Python 3",
   "language": "python",
   "name": "python3"
  },
  "language_info": {
   "codemirror_mode": {
    "name": "ipython",
    "version": 3
   },
   "file_extension": ".py",
   "mimetype": "text/x-python",
   "name": "python",
   "nbconvert_exporter": "python",
   "pygments_lexer": "ipython3",
   "version": "3.7.6"
  }
 },
 "nbformat": 4,
 "nbformat_minor": 4
}
