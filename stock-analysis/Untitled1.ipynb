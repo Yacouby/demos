{
 "cells": [
  {
   "cell_type": "code",
   "execution_count": 99,
   "metadata": {},
   "outputs": [
    {
     "name": "stdout",
     "output_type": "stream",
     "text": [
      "Project name: test-dani\n",
      "Artifacts path: v3io:///projects/{{run.project}}/artifacts\n"
     ]
    }
   ],
   "source": [
    "from os import path\n",
    "import os\n",
    "import mlrun\n",
    "\n",
    "# Set the base project name\n",
    "project_name_base = 'test'\n",
    "# Initialize the MLRun environment and save the project name and artifacts path\n",
    "project_name, artifact_path = mlrun.set_environment(project=project_name_base,\n",
    "                                                    user_project=True)\n",
    "\n",
    "project_path = path.abspath('./')\n",
    "\n",
    "project = mlrun.new_project(project_name_base,\n",
    "                            context=project_path,                           \n",
    "                            user_project=True)\n",
    "                                                    \n",
    "# Display the current project name and artifacts path\n",
    "print(f'Project name: {project_name}')\n",
    "print(f'Artifacts path: {artifact_path}')"
   ]
  },
  {
   "cell_type": "code",
   "execution_count": 100,
   "metadata": {},
   "outputs": [
    {
     "data": {
      "text/plain": [
       "<mlrun.runtimes.kubejob.KubejobRuntime at 0x7fcbb8862210>"
      ]
     },
     "execution_count": 100,
     "metadata": {},
     "output_type": "execute_result"
    }
   ],
   "source": [
    "project.set_function(\"code/function_invoker.ipynb\", name='func_invoke')"
   ]
  },
  {
   "cell_type": "code",
   "execution_count": 105,
   "metadata": {},
   "outputs": [
    {
     "name": "stdout",
     "output_type": "stream",
     "text": [
      "Overwriting code/workflow.py\n"
     ]
    }
   ],
   "source": [
    "%%writefile code/workflow.py\n",
    "from kfp import dsl\n",
    "from mlrun import mount_v3io, mlconf, load_project\n",
    "def init_functions(functions: dict, project=None, secrets=None):\n",
    "    for f in functions.values():\n",
    "        # Add V3IO Mount\n",
    "        f.apply(mount_v3io())\n",
    "def kfpipeline():\n",
    "    funcs['func_invoke'].spec.image = \"mlrun/mlrun\"\n",
    "#     news_reader_deploy = funcs['func_invoke'].deploy_step()\n",
    "        \n",
    "    news_reader_invok = funcs['func_invoke'].as_step(params = {\"endpoint\" : \"http://default-tenant.app.dev39.lab.iguazeng.com:32167\"},\n",
    "                                                     handler = \"handler\")"
   ]
  },
  {
   "cell_type": "code",
   "execution_count": 106,
   "metadata": {},
   "outputs": [],
   "source": [
    "project.set_workflow('main', os.path.join(os.path.abspath(project.context), 'code', 'workflow.py'))"
   ]
  },
  {
   "cell_type": "code",
   "execution_count": 107,
   "metadata": {},
   "outputs": [],
   "source": [
    "project.save(os.path.join(project.context, 'project.yaml'))"
   ]
  },
  {
   "cell_type": "code",
   "execution_count": 108,
   "metadata": {},
   "outputs": [
    {
     "data": {
      "text/html": [
       "Experiment link <a href=\"https://dashboard.default-tenant.app.dev39.lab.iguazeng.com/pipelines/#/experiments/details/ace99cd4-4eb7-40d1-8965-bfb3255450d9\" target=\"_blank\" >here</a>"
      ],
      "text/plain": [
       "<IPython.core.display.HTML object>"
      ]
     },
     "metadata": {},
     "output_type": "display_data"
    },
    {
     "data": {
      "text/html": [
       "Run link <a href=\"https://dashboard.default-tenant.app.dev39.lab.iguazeng.com/pipelines/#/runs/details/794decf0-288f-4b68-9cb6-8a9c6cb80ea9\" target=\"_blank\" >here</a>"
      ],
      "text/plain": [
       "<IPython.core.display.HTML object>"
      ]
     },
     "metadata": {},
     "output_type": "display_data"
    },
    {
     "name": "stdout",
     "output_type": "stream",
     "text": [
      "> 2021-07-13 11:17:37,826 [info] Pipeline run id=794decf0-288f-4b68-9cb6-8a9c6cb80ea9, check UI or DB for progress\n"
     ]
    },
    {
     "data": {
      "text/plain": [
       "'794decf0-288f-4b68-9cb6-8a9c6cb80ea9'"
      ]
     },
     "execution_count": 108,
     "metadata": {},
     "output_type": "execute_result"
    }
   ],
   "source": [
    "project.run('main', artifact_path=artifact_path, dirty=True)"
   ]
  },
  {
   "cell_type": "code",
   "execution_count": null,
   "metadata": {},
   "outputs": [],
   "source": []
  },
  {
   "cell_type": "code",
   "execution_count": null,
   "metadata": {},
   "outputs": [],
   "source": []
  },
  {
   "cell_type": "code",
   "execution_count": null,
   "metadata": {},
   "outputs": [],
   "source": []
  },
  {
   "cell_type": "code",
   "execution_count": null,
   "metadata": {},
   "outputs": [],
   "source": []
  },
  {
   "cell_type": "code",
   "execution_count": 50,
   "metadata": {},
   "outputs": [],
   "source": [
    "import mlrun.feature_store as fs"
   ]
  },
  {
   "cell_type": "code",
   "execution_count": 74,
   "metadata": {},
   "outputs": [
    {
     "data": {
      "text/plain": [
       "('stocks-dani', 'v3io:///projects/{{run.project}}/artifacts')"
      ]
     },
     "execution_count": 74,
     "metadata": {},
     "output_type": "execute_result"
    }
   ],
   "source": [
    "mlrun.set_environment(project=\"stocks-dani\")"
   ]
  },
  {
   "cell_type": "code",
   "execution_count": 75,
   "metadata": {},
   "outputs": [],
   "source": [
    "df = fs.get_offline_features('stocks-vec').to_dataframe()"
   ]
  },
  {
   "cell_type": "code",
   "execution_count": 76,
   "metadata": {},
   "outputs": [
    {
     "data": {
      "text/plain": [
       "array(['INTC', 'MSFT', 'AMZN', 'GOOGL', 'AAPL'], dtype=object)"
      ]
     },
     "execution_count": 76,
     "metadata": {},
     "output_type": "execute_result"
    }
   ],
   "source": [
    "df.symbol.unique()"
   ]
  },
  {
   "cell_type": "code",
   "execution_count": 79,
   "metadata": {},
   "outputs": [
    {
     "data": {
      "text/plain": [
       "Timestamp('2021-07-07 13:30:00')"
      ]
     },
     "execution_count": 79,
     "metadata": {},
     "output_type": "execute_result"
    }
   ],
   "source": [
    "df.sort_values(by=[\"Datetime\"],ascending=False)[\"Datetime\"][0]"
   ]
  },
  {
   "cell_type": "code",
   "execution_count": 88,
   "metadata": {},
   "outputs": [
    {
     "data": {
      "text/html": [
       "<div>\n",
       "<style scoped>\n",
       "    .dataframe tbody tr th:only-of-type {\n",
       "        vertical-align: middle;\n",
       "    }\n",
       "\n",
       "    .dataframe tbody tr th {\n",
       "        vertical-align: top;\n",
       "    }\n",
       "\n",
       "    .dataframe thead th {\n",
       "        text-align: right;\n",
       "    }\n",
       "</style>\n",
       "<table border=\"1\" class=\"dataframe\">\n",
       "  <thead>\n",
       "    <tr style=\"text-align: right;\">\n",
       "      <th></th>\n",
       "      <th>symbol</th>\n",
       "      <th>Datetime</th>\n",
       "      <th>Opens_min_1h</th>\n",
       "      <th>Opens_max_1h</th>\n",
       "      <th>Volumes_min_1h</th>\n",
       "      <th>Volumes_max_1h</th>\n",
       "      <th>Open</th>\n",
       "      <th>High</th>\n",
       "      <th>Low</th>\n",
       "      <th>Close</th>\n",
       "      <th>Volume</th>\n",
       "      <th>Content</th>\n",
       "      <th>Link</th>\n",
       "      <th>Sentiment</th>\n",
       "    </tr>\n",
       "  </thead>\n",
       "  <tbody>\n",
       "    <tr>\n",
       "      <th>0</th>\n",
       "      <td>INTC</td>\n",
       "      <td>2021-07-07 13:30:00</td>\n",
       "      <td>56.369999</td>\n",
       "      <td>56.369999</td>\n",
       "      <td>365754.0</td>\n",
       "      <td>365754.0</td>\n",
       "      <td>56.369999</td>\n",
       "      <td>56.389999</td>\n",
       "      <td>56.165001</td>\n",
       "      <td>56.180000</td>\n",
       "      <td>365754</td>\n",
       "      <td>Non-Fungible Tokens, or NFTs, are widely succe...</td>\n",
       "      <td>https://www.investing.com/news/cryptocurrency-...</td>\n",
       "      <td>1.000000</td>\n",
       "    </tr>\n",
       "    <tr>\n",
       "      <th>1</th>\n",
       "      <td>MSFT</td>\n",
       "      <td>2021-07-07 13:30:00</td>\n",
       "      <td>279.399994</td>\n",
       "      <td>279.399994</td>\n",
       "      <td>778863.0</td>\n",
       "      <td>778863.0</td>\n",
       "      <td>279.399994</td>\n",
       "      <td>279.950012</td>\n",
       "      <td>279.359985</td>\n",
       "      <td>279.549988</td>\n",
       "      <td>778863</td>\n",
       "      <td>NaN</td>\n",
       "      <td>NaN</td>\n",
       "      <td>NaN</td>\n",
       "    </tr>\n",
       "    <tr>\n",
       "      <th>2</th>\n",
       "      <td>INTC</td>\n",
       "      <td>2021-07-07 13:30:00</td>\n",
       "      <td>56.369999</td>\n",
       "      <td>56.369999</td>\n",
       "      <td>365754.0</td>\n",
       "      <td>365754.0</td>\n",
       "      <td>56.369999</td>\n",
       "      <td>56.389999</td>\n",
       "      <td>56.165001</td>\n",
       "      <td>56.180000</td>\n",
       "      <td>365754</td>\n",
       "      <td>Non-Fungible Tokens, or NFTs, are widely succe...</td>\n",
       "      <td>https://www.investing.com/news/cryptocurrency-...</td>\n",
       "      <td>1.000000</td>\n",
       "    </tr>\n",
       "    <tr>\n",
       "      <th>3</th>\n",
       "      <td>INTC</td>\n",
       "      <td>2021-07-07 13:30:00</td>\n",
       "      <td>56.369999</td>\n",
       "      <td>56.369999</td>\n",
       "      <td>365754.0</td>\n",
       "      <td>365754.0</td>\n",
       "      <td>56.369999</td>\n",
       "      <td>56.389999</td>\n",
       "      <td>56.165001</td>\n",
       "      <td>56.180000</td>\n",
       "      <td>365754</td>\n",
       "      <td>Non-Fungible Tokens, or NFTs, are widely succe...</td>\n",
       "      <td>https://www.investing.com/news/cryptocurrency-...</td>\n",
       "      <td>1.000000</td>\n",
       "    </tr>\n",
       "    <tr>\n",
       "      <th>4</th>\n",
       "      <td>INTC</td>\n",
       "      <td>2021-07-07 13:30:00</td>\n",
       "      <td>56.369999</td>\n",
       "      <td>56.369999</td>\n",
       "      <td>365754.0</td>\n",
       "      <td>365754.0</td>\n",
       "      <td>56.369999</td>\n",
       "      <td>56.389999</td>\n",
       "      <td>56.165001</td>\n",
       "      <td>56.180000</td>\n",
       "      <td>365754</td>\n",
       "      <td>Non-Fungible Tokens, or NFTs, are widely succe...</td>\n",
       "      <td>https://www.investing.com/news/cryptocurrency-...</td>\n",
       "      <td>1.000000</td>\n",
       "    </tr>\n",
       "    <tr>\n",
       "      <th>...</th>\n",
       "      <td>...</td>\n",
       "      <td>...</td>\n",
       "      <td>...</td>\n",
       "      <td>...</td>\n",
       "      <td>...</td>\n",
       "      <td>...</td>\n",
       "      <td>...</td>\n",
       "      <td>...</td>\n",
       "      <td>...</td>\n",
       "      <td>...</td>\n",
       "      <td>...</td>\n",
       "      <td>...</td>\n",
       "      <td>...</td>\n",
       "      <td>...</td>\n",
       "    </tr>\n",
       "    <tr>\n",
       "      <th>219790</th>\n",
       "      <td>MSFT</td>\n",
       "      <td>2021-07-12 19:59:00</td>\n",
       "      <td>276.980011</td>\n",
       "      <td>277.709900</td>\n",
       "      <td>16693.0</td>\n",
       "      <td>363763.0</td>\n",
       "      <td>277.274994</td>\n",
       "      <td>277.429993</td>\n",
       "      <td>277.140015</td>\n",
       "      <td>277.320007</td>\n",
       "      <td>363763</td>\n",
       "      <td>By Yasin Ebrahim\\nInvesting.com – The S&amp;P 500 ...</td>\n",
       "      <td>https://www.investing.com/news/stock-market-ne...</td>\n",
       "      <td>0.000000</td>\n",
       "    </tr>\n",
       "    <tr>\n",
       "      <th>219791</th>\n",
       "      <td>AAPL</td>\n",
       "      <td>2021-07-12 19:59:00</td>\n",
       "      <td>144.428604</td>\n",
       "      <td>144.768997</td>\n",
       "      <td>46042.0</td>\n",
       "      <td>917328.0</td>\n",
       "      <td>144.449997</td>\n",
       "      <td>144.610001</td>\n",
       "      <td>144.440002</td>\n",
       "      <td>144.500000</td>\n",
       "      <td>917328</td>\n",
       "      <td>By Yasin Ebrahim\\nInvesting.com – The S&amp;P 500 ...</td>\n",
       "      <td>https://www.investing.com/news/stock-market-ne...</td>\n",
       "      <td>0.000000</td>\n",
       "    </tr>\n",
       "    <tr>\n",
       "      <th>219792</th>\n",
       "      <td>GOOGL</td>\n",
       "      <td>2021-07-12 19:59:00</td>\n",
       "      <td>2532.620117</td>\n",
       "      <td>2541.314209</td>\n",
       "      <td>486.0</td>\n",
       "      <td>16725.0</td>\n",
       "      <td>2539.290039</td>\n",
       "      <td>2539.620117</td>\n",
       "      <td>2537.030029</td>\n",
       "      <td>2537.979980</td>\n",
       "      <td>16725</td>\n",
       "      <td>Shares of Newegg Commerce (NEGG) were up big l...</td>\n",
       "      <td>https://www.investing.com/news/stock-market-ne...</td>\n",
       "      <td>-0.333333</td>\n",
       "    </tr>\n",
       "    <tr>\n",
       "      <th>219793</th>\n",
       "      <td>AMZN</td>\n",
       "      <td>2021-07-12 19:59:00</td>\n",
       "      <td>3711.800049</td>\n",
       "      <td>3717.790039</td>\n",
       "      <td>803.0</td>\n",
       "      <td>30218.0</td>\n",
       "      <td>3716.989990</td>\n",
       "      <td>3718.520020</td>\n",
       "      <td>3715.989990</td>\n",
       "      <td>3718.520020</td>\n",
       "      <td>30218</td>\n",
       "      <td>By Dhirendra Tripathi\\nInvesting.com -- Invest...</td>\n",
       "      <td>https://www.investing.com/news/stock-market-ne...</td>\n",
       "      <td>-2.333333</td>\n",
       "    </tr>\n",
       "    <tr>\n",
       "      <th>219794</th>\n",
       "      <td>INTC</td>\n",
       "      <td>2021-07-12 19:59:00</td>\n",
       "      <td>56.570099</td>\n",
       "      <td>56.709999</td>\n",
       "      <td>3172.0</td>\n",
       "      <td>323615.0</td>\n",
       "      <td>56.685001</td>\n",
       "      <td>56.750000</td>\n",
       "      <td>56.680000</td>\n",
       "      <td>56.709999</td>\n",
       "      <td>323615</td>\n",
       "      <td>Non-Fungible Tokens, or NFTs, are widely succe...</td>\n",
       "      <td>https://www.investing.com/news/cryptocurrency-...</td>\n",
       "      <td>1.000000</td>\n",
       "    </tr>\n",
       "  </tbody>\n",
       "</table>\n",
       "<p>219795 rows × 14 columns</p>\n",
       "</div>"
      ],
      "text/plain": [
       "       symbol            Datetime  Opens_min_1h  Opens_max_1h  Volumes_min_1h  \\\n",
       "0        INTC 2021-07-07 13:30:00     56.369999     56.369999        365754.0   \n",
       "1        MSFT 2021-07-07 13:30:00    279.399994    279.399994        778863.0   \n",
       "2        INTC 2021-07-07 13:30:00     56.369999     56.369999        365754.0   \n",
       "3        INTC 2021-07-07 13:30:00     56.369999     56.369999        365754.0   \n",
       "4        INTC 2021-07-07 13:30:00     56.369999     56.369999        365754.0   \n",
       "...       ...                 ...           ...           ...             ...   \n",
       "219790   MSFT 2021-07-12 19:59:00    276.980011    277.709900         16693.0   \n",
       "219791   AAPL 2021-07-12 19:59:00    144.428604    144.768997         46042.0   \n",
       "219792  GOOGL 2021-07-12 19:59:00   2532.620117   2541.314209           486.0   \n",
       "219793   AMZN 2021-07-12 19:59:00   3711.800049   3717.790039           803.0   \n",
       "219794   INTC 2021-07-12 19:59:00     56.570099     56.709999          3172.0   \n",
       "\n",
       "        Volumes_max_1h         Open         High          Low        Close  \\\n",
       "0             365754.0    56.369999    56.389999    56.165001    56.180000   \n",
       "1             778863.0   279.399994   279.950012   279.359985   279.549988   \n",
       "2             365754.0    56.369999    56.389999    56.165001    56.180000   \n",
       "3             365754.0    56.369999    56.389999    56.165001    56.180000   \n",
       "4             365754.0    56.369999    56.389999    56.165001    56.180000   \n",
       "...                ...          ...          ...          ...          ...   \n",
       "219790        363763.0   277.274994   277.429993   277.140015   277.320007   \n",
       "219791        917328.0   144.449997   144.610001   144.440002   144.500000   \n",
       "219792         16725.0  2539.290039  2539.620117  2537.030029  2537.979980   \n",
       "219793         30218.0  3716.989990  3718.520020  3715.989990  3718.520020   \n",
       "219794        323615.0    56.685001    56.750000    56.680000    56.709999   \n",
       "\n",
       "        Volume                                            Content  \\\n",
       "0       365754  Non-Fungible Tokens, or NFTs, are widely succe...   \n",
       "1       778863                                                NaN   \n",
       "2       365754  Non-Fungible Tokens, or NFTs, are widely succe...   \n",
       "3       365754  Non-Fungible Tokens, or NFTs, are widely succe...   \n",
       "4       365754  Non-Fungible Tokens, or NFTs, are widely succe...   \n",
       "...        ...                                                ...   \n",
       "219790  363763  By Yasin Ebrahim\\nInvesting.com – The S&P 500 ...   \n",
       "219791  917328  By Yasin Ebrahim\\nInvesting.com – The S&P 500 ...   \n",
       "219792   16725  Shares of Newegg Commerce (NEGG) were up big l...   \n",
       "219793   30218  By Dhirendra Tripathi\\nInvesting.com -- Invest...   \n",
       "219794  323615  Non-Fungible Tokens, or NFTs, are widely succe...   \n",
       "\n",
       "                                                     Link  Sentiment  \n",
       "0       https://www.investing.com/news/cryptocurrency-...   1.000000  \n",
       "1                                                     NaN        NaN  \n",
       "2       https://www.investing.com/news/cryptocurrency-...   1.000000  \n",
       "3       https://www.investing.com/news/cryptocurrency-...   1.000000  \n",
       "4       https://www.investing.com/news/cryptocurrency-...   1.000000  \n",
       "...                                                   ...        ...  \n",
       "219790  https://www.investing.com/news/stock-market-ne...   0.000000  \n",
       "219791  https://www.investing.com/news/stock-market-ne...   0.000000  \n",
       "219792  https://www.investing.com/news/stock-market-ne...  -0.333333  \n",
       "219793  https://www.investing.com/news/stock-market-ne...  -2.333333  \n",
       "219794  https://www.investing.com/news/cryptocurrency-...   1.000000  \n",
       "\n",
       "[219795 rows x 14 columns]"
      ]
     },
     "execution_count": 88,
     "metadata": {},
     "output_type": "execute_result"
    }
   ],
   "source": [
    "df"
   ]
  }
 ],
 "metadata": {
  "kernelspec": {
   "display_name": "Python 3",
   "language": "python",
   "name": "python3"
  },
  "language_info": {
   "codemirror_mode": {
    "name": "ipython",
    "version": 3
   },
   "file_extension": ".py",
   "mimetype": "text/x-python",
   "name": "python",
   "nbconvert_exporter": "python",
   "pygments_lexer": "ipython3",
   "version": "3.7.6"
  }
 },
 "nbformat": 4,
 "nbformat_minor": 4
}
