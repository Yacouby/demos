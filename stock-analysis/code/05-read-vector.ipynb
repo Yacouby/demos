{
 "cells": [
  {
   "cell_type": "code",
   "execution_count": 1,
   "metadata": {},
   "outputs": [],
   "source": [
    "import nuclio "
   ]
  },
  {
   "cell_type": "code",
   "execution_count": 7,
   "metadata": {},
   "outputs": [],
   "source": [
    "# nuclio: start-code"
   ]
  },
  {
   "cell_type": "code",
   "execution_count": 2,
   "metadata": {},
   "outputs": [],
   "source": [
    "import mlrun.feature_store as fs\n",
    "from mlrun.feature_store.steps import *\n",
    "import mlrun\n",
    "import os\n",
    "import datetime"
   ]
  },
  {
   "cell_type": "code",
   "execution_count": 4,
   "metadata": {},
   "outputs": [],
   "source": [
    "def handler(context, event):\n",
    "    context.logger.info(\"Reading features from feature vector\")\n",
    "    # Reading the data from feature service\n",
    "    start = datetime.datetime.now()-datetime.timedelta(5)\n",
    "    end = datetime.datetime.now()\n",
    "    df = fs.get_offline_features(\"stocks-vec\",start_time = start, end_time = end,entity_timestamp_column=\"Datetime\").to_dataframe()\n",
    "    df = df[:20 if df.shape[0]>20 else df.shape[0]] \n",
    "#     df[\"Datetime\"] = df[\"Datetime\"].apply(lambda x:datetime.datetime.strftime(x,\"%Y-%m-%d %H:%M:%S\"))\n",
    "    df = df.drop([\"Content\",\"Link\"],axis = 1)\n",
    "    data = df.fillna(0).values.tolist()\n",
    "    \n",
    "    columns = [{'text': key, 'type': 'object'} for key in df.columns]\n",
    "    \n",
    "    response = [{'columns': columns,\n",
    "                'rows': data,\n",
    "                'type': 'table'}]\n",
    "    return response"
   ]
  },
  {
   "cell_type": "code",
   "execution_count": 5,
   "metadata": {},
   "outputs": [],
   "source": [
    "def init_context(context):\n",
    "    # Setting our enviornment\n",
    "    context.logger.info(\"Initalizing context & constructing featrure vector\")\n",
    "    setattr(context, 'PROJECT_NAME', os.getenv('PROJECT_NAME', 'stocks-' + os.getenv('V3IO_USERNAME')))\n",
    "    setattr(context, 'ARTIFACT_PATH', os.getenv('ARTIFACT_PATH', './'))\n",
    "    mlrun.set_environment(project=context.PROJECT_NAME, artifact_path = context.ARTIFACT_PATH)\n",
    "    \n",
    "    sym_to_url = {'GOOGL': 'google-inc', 'MSFT': 'microsoft-corp', 'AMZN': 'amazon-com-inc',\n",
    "                  'AAPL': 'apple-computer-inc', 'INTC' : 'intel-corp'}\n",
    "    setattr(context, 'sym_to_url', sym_to_url)\n",
    "    setattr(context, 'stocks_vec', \"stocks-vec\")\n",
    "    \n",
    "    # Declaring the features we would like to add to our vector\n",
    "    features = [\"stocks.*\",\n",
    "                \"news.*\"]\n",
    "    \n",
    "    # Making our vector\n",
    "    vector = fs.FeatureVector(context.stocks_vec, features, description=\"stocks demo feature vector\")\n",
    "    vector.spec.with_indexes=True\n",
    "    vector.save()"
   ]
  },
  {
   "cell_type": "code",
   "execution_count": 6,
   "metadata": {},
   "outputs": [],
   "source": [
    "# nuclio: end-code"
   ]
  },
  {
   "cell_type": "code",
   "execution_count": null,
   "metadata": {},
   "outputs": [],
   "source": [
    "mlrun.set_environment(project=\"stocks-\" + os.getenv('V3IO_USERNAME'))"
   ]
  },
  {
   "cell_type": "code",
   "execution_count": null,
   "metadata": {},
   "outputs": [],
   "source": [
    "# test local\n",
    "init_context(context)\n",
    "event = \"\"\n",
    "df = handler(context,event)"
   ]
  },
  {
   "cell_type": "markdown",
   "metadata": {},
   "source": [
    "## test remote deployment"
   ]
  },
  {
   "cell_type": "code",
   "execution_count": 1,
   "metadata": {},
   "outputs": [
    {
     "data": {
      "text/plain": [
       "<mlrun.runtimes.function.RemoteRuntime at 0x7fe426b95150>"
      ]
     },
     "execution_count": 1,
     "metadata": {},
     "output_type": "execute_result"
    }
   ],
   "source": [
    "import mlrun\n",
    "import os\n",
    "fn = mlrun.code_to_function('vector_reader',\n",
    "                      handler='handler',kind='nuclio',image='mlrun/mlrun:0.6.5')\n",
    "\n",
    "# Set parameters for current deployment\n",
    "fn.set_envs({'PROJECT_NAME' : \"stocks-\" + os.getenv('V3IO_USERNAME'),\n",
    "             'STOCKS_STREAM':  os.getenv('V3IO_USERNAME') +' /stocks/stocks_stream',\n",
    "             'ARTIFACT_PATH' :  \"v3io:///projects/\" + \"stocks-\" + os.getenv('V3IO_USERNAME') + '/artifacts'})\n",
    "fn.spec.max_replicas = 2\n",
    "\n",
    "fn.apply(mlrun.platforms.v3io_cred())\n",
    "fn.apply(mlrun.mount_v3io())"
   ]
  },
  {
   "cell_type": "code",
   "execution_count": 2,
   "metadata": {},
   "outputs": [
    {
     "name": "stdout",
     "output_type": "stream",
     "text": [
      "> 2021-09-29 07:06:23,740 [info] Starting remote function deploy\n",
      "2021-09-29 07:06:24  (info) Deploying function\n",
      "2021-09-29 07:06:24  (info) Building\n",
      "2021-09-29 07:06:24  (info) Staging files and preparing base images\n",
      "2021-09-29 07:06:24  (info) Building processor image\n",
      "2021-09-29 07:06:28  (info) Build complete\n",
      "2021-09-29 07:06:50  (info) Function deploy complete\n",
      "> 2021-09-29 07:06:51,516 [info] successfully deployed function: {'internal_invocation_urls': ['nuclio-stocks-dani-vector-reader.default-tenant.svc.cluster.local:8080'], 'external_invocation_urls': ['default-tenant.app.dev8.lab.iguazeng.com:31963']}\n"
     ]
    }
   ],
   "source": [
    "addr = fn.deploy(project=\"stocks-\" + os.getenv('V3IO_USERNAME'))"
   ]
  },
  {
   "cell_type": "code",
   "execution_count": null,
   "metadata": {},
   "outputs": [],
   "source": [
    "!curl {addr}"
   ]
  }
 ],
 "metadata": {
  "kernelspec": {
   "display_name": "Python 3",
   "language": "python",
   "name": "python3"
  },
  "language_info": {
   "codemirror_mode": {
    "name": "ipython",
    "version": 3
   },
   "file_extension": ".py",
   "mimetype": "text/x-python",
   "name": "python",
   "nbconvert_exporter": "python",
   "pygments_lexer": "ipython3",
   "version": "3.7.6"
  }
 },
 "nbformat": 4,
 "nbformat_minor": 4
}
