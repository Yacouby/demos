{
 "cells": [
  {
   "cell_type": "markdown",
   "metadata": {},
   "source": [
    "# Real-Time Stream Viewer (HTTP)\n",
    "the following function responds to HTTP requests with the list of last 10 processed twitter messages + sentiments in reverse order (newest on top), it reads records from the enriched stream, take the recent 10 messages, and reverse sort them. the function is using nuclio context to store the last results and stream pointers for max efficiency.<br> \n",
    "\n",
    "The code is automatically converted into a nuclio (serverless) function and and respond to HTTP requests<br>\n",
    "\n",
    "the example demonstrate the use of `%nuclio` magic commands to specify environment variables, package dependencies,<br>configurations, and to deploy functions automatically onto a cluster.\n",
    "\n",
    "\n",
    "## Initialize nuclio emulation, environment variables and configuration\n",
    "use `# nuclio: ignore` for sections that don't need to be copied to the function"
   ]
  },
  {
   "cell_type": "code",
   "execution_count": 1,
   "metadata": {},
   "outputs": [],
   "source": [
    "# nuclio: ignore\n",
    "# if the nuclio-jupyter package is not installed run !pip install nuclio-jupyter\n",
    "import nuclio "
   ]
  },
  {
   "cell_type": "code",
   "execution_count": 57,
   "metadata": {},
   "outputs": [],
   "source": [
    "%nuclio env -c V3IO_ACCESS_KEY=${V3IO_ACCESS_KEY}\n",
    "%nuclio env -c V3IO_USERNAME=${V3IO_USERNAME}\n",
    "%nuclio env -c V3IO_API=${V3IO_API}"
   ]
  },
  {
   "cell_type": "markdown",
   "metadata": {},
   "source": [
    "### Set function configuration \n",
    "use a cron trigger with 5min interval and define the base image<br>\n",
    "for more details check [nuclio function configuration reference](https://github.com/nuclio/nuclio/blob/master/docs/reference/function-configuration/function-configuration-reference.md)"
   ]
  },
  {
   "cell_type": "code",
   "execution_count": 58,
   "metadata": {},
   "outputs": [
    {
     "name": "stdout",
     "output_type": "stream",
     "text": [
      "%nuclio: setting kind to 'nuclio'\n",
      "%nuclio: setting spec.build.baseImage to 'mlrun/mlrun'\n"
     ]
    }
   ],
   "source": [
    "%%nuclio config \n",
    "kind = \"nuclio\"\n",
    "spec.build.baseImage = \"mlrun/mlrun:0.6.5-rc15\""
   ]
  },
  {
   "cell_type": "markdown",
   "metadata": {},
   "source": [
    "### Install required packages\n",
    "`%nuclio cmd` allows you to run image build instructions and install packages<br>\n",
    "Note: `-c` option will only install in nuclio, not locally"
   ]
  },
  {
   "cell_type": "code",
   "execution_count": 59,
   "metadata": {},
   "outputs": [],
   "source": [
    "%nuclio cmd -c pip install v3io"
   ]
  },
  {
   "cell_type": "markdown",
   "metadata": {},
   "source": [
    "## Nuclio function implementation\n",
    "this function can run in Jupyter or in nuclio (real-time serverless)"
   ]
  },
  {
   "cell_type": "code",
   "execution_count": 60,
   "metadata": {},
   "outputs": [],
   "source": [
    "import v3io.dataplane\n",
    "import json\n",
    "import os\n",
    "\n",
    "def init_context(context):\n",
    "    access_key = os.getenv('V3IO_ACCESS_KEY', None)\n",
    "    setattr(context, 'container', os.getenv('V3IO_CONTAINER', 'users'))\n",
    "    setattr(context, 'stream_path', os.getenv('STOCKS_STREAM',os.getenv('V3IO_USERNAME') + '/stocks/stocks_stream'))\n",
    "    \n",
    "    v3io_client = v3io.dataplane.Client(endpoint=os.getenv('V3IO_API', None), access_key=access_key)\n",
    "    setattr(context, 'data', [])\n",
    "    setattr(context, 'v3io_client', v3io_client) \n",
    "    setattr(context, 'limit', os.getenv('LIMIT', 10))\n",
    "    \n",
    "    \n",
    "def handler(context, event):\n",
    "    resp = context.v3io_client.seek_shard(container=context.container, path=f'{context.stream_path}/0', seek_type='EARLIEST')\n",
    "    setattr(context, 'next_location', resp.output.location)\n",
    "    resp = context.v3io_client.get_records(container=context.container, path=f'{context.stream_path}/0', location=context.next_location, limit=context.limit)\n",
    "#     context.next_location = resp.output.next_location\n",
    "    context.logger.info('location: %s', context.next_location)\n",
    "\n",
    "    for rec in resp.output.records:\n",
    "        rec_data = rec.data.decode('utf-8')\n",
    "        rec_json = json.loads(rec_data)\n",
    "        context.data.append({'Time': rec_json['time'],\n",
    "                             'Symbol': rec_json['symbol'],\n",
    "                             'Sentiment': rec_json['sentiment'],\n",
    "                             'Link': rec_json['link'],\n",
    "                             'Content': rec_json['content']})\n",
    "\n",
    "    context.data = context.data[-context.limit:]\n",
    "    \n",
    "    columns = [{'text': key, 'type': 'object'} for key in ['Time', 'Symbol', 'Sentiment', 'Link', 'Content']]\n",
    "    data = [list(item.values()) for item in context.data]\n",
    "    response = [{'columns': columns,\n",
    "                'rows': data,\n",
    "                'type': 'table'}]\n",
    "    return response              "
   ]
  },
  {
   "cell_type": "code",
   "execution_count": 61,
   "metadata": {},
   "outputs": [],
   "source": [
    "# nuclio: end-code"
   ]
  },
  {
   "cell_type": "markdown",
   "metadata": {},
   "source": [
    "## Function invocation\n",
    "the following section simulates nuclio function invocation and will emit the function results"
   ]
  },
  {
   "cell_type": "code",
   "execution_count": 62,
   "metadata": {},
   "outputs": [
    {
     "name": "stdout",
     "output_type": "stream",
     "text": [
      "Python> 2021-03-25 14:01:20,229 [info] location: AQAAAGYAAABHAEBeFwAAAA==\n"
     ]
    }
   ],
   "source": [
    "# create a test event and invoke the function locally\n",
    "init_context(context)\n",
    "event = nuclio.Event(body='')\n",
    "resp = handler(context, event)"
   ]
  },
  {
   "cell_type": "markdown",
   "metadata": {},
   "source": [
    "## Deploy a function onto a cluster\n",
    "the `%nuclio deploy` command deploy functions into a cluster, make sure the notebook is saved prior to running it !<br>check the help (`%nuclio help deploy`) for more information"
   ]
  },
  {
   "cell_type": "code",
   "execution_count": 1,
   "metadata": {},
   "outputs": [
    {
     "name": "stdout",
     "output_type": "stream",
     "text": [
      "> 2021-07-28 12:06:43,318 [info] function spec saved to path: 03-stream-viewer.yaml\n"
     ]
    }
   ],
   "source": [
    "from mlrun import code_to_function\n",
    "import os\n",
    "\n",
    "# Export the bare function\n",
    "fn = code_to_function('stream-viewer',\n",
    "                      handler='handler')\n",
    "fn.export('03-stream-viewer.yaml')\n",
    "\n",
    "# Set parameters for current deployment\n",
    "fn.set_envs({'V3IO_CONTAINER': 'users',\n",
    "             'STOCKS_STREAM':  os.getenv('V3IO_USERNAME') + '/stocks/stocks_stream'})\n",
    "fn.spec.max_replicas = 2"
   ]
  },
  {
   "cell_type": "code",
   "execution_count": 2,
   "metadata": {},
   "outputs": [
    {
     "name": "stdout",
     "output_type": "stream",
     "text": [
      "> 2021-07-28 12:06:43,326 [info] Starting remote function deploy\n",
      "2021-07-28 12:06:43  (info) Deploying function\n",
      "2021-07-28 12:06:43  (info) Building\n",
      "2021-07-28 12:06:43  (info) Staging files and preparing base images\n",
      "2021-07-28 12:06:43  (info) Building processor image\n",
      "2021-07-28 12:06:45  (info) Build complete\n",
      "2021-07-28 12:06:49  (info) Function deploy complete\n",
      "> 2021-07-28 12:06:50,209 [info] function deployed, address=default-tenant.app.app-lab-testing.iguazio-cd2.com:31039\n"
     ]
    }
   ],
   "source": [
    "addr = fn.deploy(project=\"stocks-\" + os.getenv('V3IO_USERNAME'))"
   ]
  },
  {
   "cell_type": "code",
   "execution_count": 5,
   "metadata": {},
   "outputs": [
    {
     "name": "stdout",
     "output_type": "stream",
     "text": [
      "[{\"columns\": [{\"text\": \"Time\", \"type\": \"object\"}, {\"text\": \"Symbol\", \"type\": \"object\"}, {\"text\": \"Sentiment\", \"type\": \"object\"}, {\"text\": \"Link\", \"type\": \"object\"}, {\"text\": \"Content\", \"type\": \"object\"}], \"rows\": [[\"2021-06-23 04:20:15\", \"GOOGL\", 0, \"https://www.investing.com/news/cryptocurrency-news/brave-takes-aim-at-google-with-privacyprotecting-search-engine-beta-2539608\", \"Crypto-powered web browser Brave has branched out into the world of search with a new privacy-protecting beta search engine.\\nThe platform aims to take on the likes of Google , which harvests personal data and browsing habits while serving up targeted ads and tailored search results. But it faces an uphill battle against the tech giant which accounts for more than 90% of the market.\"], [\"2021-06-22 23:40:48\", \"GOOGL\", 0, \"https://www.investing.com/news/stock-market-news/google-likely-to-soon-face-antitrust-claims-over-play-store-from-us-states--sources-2539515\", \"By Karen Freifeld, Diane Bartz and Paresh Dave\\nWASHINGTON (Reuters) - A group of state attorneys general may file a lawsuit against Alphabet  Inc s Google as early as next week, accusing the search and advertising giant of violating antitrust law in running its mobile app store, according to three sources familiar with the matter. \\nThe anticipated lawsuit follows complaints from app developers about Google s management of its Play Store for Android devices, according to one source. The lawsuit has been in the works since last year and has already been delayed, but seems close again, the sources said. \\nThe investigation by the state attorneys general is being led by Utah, Tennessee, North Carolina and New York. It is unclear how many states will participate. \\nTwo sources said the case is likely to be filed in federal court in Northern California, where related cases are being heard. These include a lawsuit that video game maker Epic Games Inc filed against Google last year, accusing it of having anticompetitive app store rules. It is expected to go to trial in 2022. \\nThere also are two proposed class-action lawsuits over the Play store before the same judge. If the states want to participate in depositions and other pre-trial activities, they would have to file fairly soon, one source said.\\nApple Inc  and Epic are awaiting the verdict in a similar California lawsuit after a trial that ended last month. \\nA Google spokesperson defended their app store as open. \\n\\\"Android is the only major operating system that allows people to download apps from multiple app stores. In fact, most Android devices ship with two or more app stores preinstalled. They can also install additional app stores or apps directly from their browser if they choose,\\\" the spokesperson said.\\nGoogle was originally seen as more open in how it ran its app store than Apple but has tightened rules recently and increased enforcement of those rules.\\nThe lawsuit is expected to focus on Google s requirement that some apps use the company s payment tools to sell subscriptions and content and pay Google as much as 30% of sales, according to two sources. \\nApp makers like music streaming service  Spotify Technology  SA  and dating services giant Match Group , which owns the Tinder app, have long accused both Google, as well as Apple, of being anti-competitive in demanding mandatory revenue sharing.\\n\\nThis latest lawsuit is being planned at a time of unusually vigorous debate over whether federal antitrust enforcement is too lax. Many people, including Senator Amy Klobuchar who chairs the Senate Judiciary Committee s antitrust panel, have pressed for tougher enforcement. \\nGoogle already faces a federal lawsuit brought by the Justice Department last year and related antitrust cases brought by two separate groups of attorneys general. One is led by Texas and focused on advertising while the other targets Google s alleged efforts to extend its dominance in search to newer markets, like voice assistants. \\n\"], [\"2021-06-22 23:01:13\", \"GOOGL\", 0, \"https://www.investing.com/news/stock-market-news/biden-sees-work-needed-to-address-problems-created-by-big-tech-firms-white-house-2539531\", \"By Andrea Shalal\\nWASHINGTON (Reuters) - U.S. President Joe Biden believes steps are needed to safeguard privacy, bolster innovation and deal with other problems created by big technology platforms, the White House said on Tuesday, signaling his support for legislation concerning Big Tech.\\nBiden is encouraged by bipartisan work underway in Congress to tackle these issues, the official said, a day before the U.S. House Judiciary Committee votes on a package of antitrust bills, some of which target the market power of large tech firms.\\n\\\"These platforms have transformed our daily lives, and showcase our country s ingenuity and potential, but also create real problems for users, small businesses, and tech startups,\\\" said the White House official.\\n\\\"The president believes we need to address the problems these platforms create to protect privacy, generate more innovation, and make sure the great tech companies of the future can emerge and grow right here in the U.S.,\\\" the official said.\\nThe House Judiciary Committee will vote on Wednesday on a package of six antitrust bills, including two that address the issue of giant companies, such as Amazon.com Inc  and Alphabet  Inc s Google, creating a platform for other businesses and then competing against those same businesses.\\nThe legislation drew fire on Tuesday from the U.S. Chamber of Commerce, the largest U.S. business group, which warned it would have \\\"dangerous consequences for America.\\\"\\nIt said antitrust laws \\\"should not be rigged against a small number of companies.\\\" \\nThe White House hoped the bipartisan proposals would move forward in the legislative process and looked forward to working with Congress on the issue, the official added.\\n\\nIn a separate development, the Federal Trade Commission, whose new chairwoman has been critical of Amazon, has decided to review the company s planned purchase of U.S. movie studio MGM, a source familiar with the matter said.\\nLina Khan was sworn in as FTC chair on June 15 in what was broadly seen as a victory for progressives seeking tougher antitrust enforcement. \\n\"], [\"2021-06-22 20:08:48\", \"GOOGL\", 0, \"https://www.investing.com/news/stock-market-news/nasdaq-closes-at-record-high-as-tech-shines-2539382\", \"By Yasin Ebrahim\\nInvesting.com \\u2013 The Nasdaq closed at a record highs Tuesday with big tech making strong gains as Federal Reserve Chairman Jerome Powell in testimony before Congress continued to downplay fears over the sharp pace of inflation. \\nThe S&P 500 rose 0.51%, the Dow Jones Industrial Average gained 0.20%, or 68 points, and the Nasdaq Composite was up 0.79% at 14,223.27.\\nPowell largely stuck to his prepared remarks in testimony before a House select subcommittee hearing on the Fed\\u2019s pandemic response and the economy, reiterating the rapid pace of inflation will fade and job gains will pick up in the coming months.\\n\\u201c[P]erhaps all of the overshoot in inflation comes from categories such as rising used car and trucks, airplane tickets, hotel prices that have been affected by the reopening of the economy,\\\" Powell said in response to questioning from lawmakers on whether inflation is transitory. These factors \\\"will ultimately start to decline.\\\"\\n\\u201c[W]hile these effects have turned out to be larger than we expected, the incoming data are consistent with the view that these factors will wane over time,\\u201d he added.\\nAhead of the speech, differing remarks from several Fed members \\u2013 who lean dovish or hawkish \\u2013 on how soon to rein in easy monetary policy measures have raised concerns over a possible growing divide among Fed members.\\nSt. Louis Fed President James Bullard and Dallas Fed president Robert Kaplan signaled that tapering could come sooner rather than later. Meanwhile New York Fed President John Williams called for support to remain in place as the economy is still a ways off from achieving the Fed s goals.\\nTechnology stocks benefited from the weakness in bond yields, with the United States 10-Year remaining below 1.5%.\\nMicrosoft (NASDAQ:MSFT, Apple , Facebook , Amazon.com  and Google-parent Alphabet  were higher.\\nAlphabet pared intraday losses that followed reports that the EU launched a formal antitrust investigation into the company s core digital ad business. \\nAs well as falling yields, the broader tech sector was helped by a boost from semiconductor stocks, led by Nvidia.\\nNvidia  ended up more than 2% higher after the chipmaker made further efforts to deter cryptocurrency miners from purchasing its chips to avoid the boom and bust demand cycle seen a few years ago when a sharp turn lower in cryptocurrency mining activity resulted in a chip supply overhang.\\nSome on Wall Street sees further gains for tech ahead, with quarterly results on the horizon.\\n\\\"Overall we remain very bullish on tech stocks for 2H as robust June results and guidance around the corner will be another positive catalyst for the tech sector in our opinion,\\\" Wedbush said.\"], [\"2021-06-22 19:58:43\", \"GOOGL\", 0, \"https://www.investing.com/news/stock-market-news/more-fed-home-sales-crypto-3-things-to-watch-2539369\", \"By Christiana Sciaudone\\nInvesting.com -- Stocks greeted Jerome Powell s congressional testimony warmly, breaking higher after the Federal Reserve Chair reiterated his belief that the current inflation pressures will ease as the recovery continues.\\nPowell said he had a \\\"level of confidence\\\" that prices will eventually come down and noted that a 5% inflation environment wouldn t be acceptable. He urged patience. Powell s comments came on the heels of others from the Fed s John Williams and Loretta Mester on what was a day of heavy Fedspeak.\\n Microsoft Corp  . hit a $2 trillion valuation for the first time, riding the wave of stocks higher after Powell s comments.\\nAlphabet  was in the spotlight after the EU launched a formal antitrust investigation into the company s core digital ad business.\\nNvidia   rose after the chipmaker made further efforts to deter cryptocurrency miners from purchasing its chips to avoid the boom and bust demand cycle seen a few years ago when a sharp turn lower in cryptocurrency mining activity resulted in a chip supply overhang.\\nBitcoin had a heck of a day, falling below the $30,000 for the first time since January, but later rebounding back above that mark.\\nHere are three things that could affect markets tomorrow:\\n1. More Fed speak\\nAfter Jerome Powell s relatively uneventful congressional testimony today, regional governors continue the conversation on Wednesday. Michelle Bowman, Raphael Bostic and Eric Rosengren are all slated to speak at events throughout the day.\\n2. New home sales\\nWhile sales of previously owned homes fell for a fourth straight month, new home sales for May should show a gain from April s 863,000. Consensus is calling for a 1.4% increase, and a total of 875,000 when the number hits at 10:00 AM ET (1400 GMT).\\n3. Crypto crazy\\nKeep an eye on everybody s favorite volatile cryptocurrency. Bitcoin dropped below $30,000 earlier today for the first time since January, giving back its gains for the year and erasing more than half of its value since April s high of almost $65,000. Ongoing concerns about China cracking down on cryptos was blamed for the latest dip.\\n \\n \\n \\n \\n \\n \\n \\n \\n \\n \\n\\n \\n \\n \"], [\"2021-06-22 19:15:08\", \"GOOGL\", 0, \"https://www.investing.com/news/stock-market-news/sp-500-climbs-as-powell-gets-testimony-underway-2539242\", \"By Yasin Ebrahim\\nInvesting.com \\u2013 The S&P 500 inched higher as Federal Reserve Chairman Jerome Powell in testimony before Congress Tuesday, largely stuck to script, shrugging off the factors boosting inflation as temporary, and talking up the prospect of jobs gains ahead. \\nThe S&P 500 rose 0.57%, the Dow Jones Industrial Average gained 0.30%, or 101 points, and the Nasdaq Composite was up 0.68%.\\nPowell largely stuck to his prepared remarks in testimony before a House select subcommittee hearing on the Fed\\u2019s pandemic response and the economy, reiterating the rapid pace of inflation will fade, and job gains will pick up in the coming months.\\n\\u201c[P]erhaps all of the overshoot in inflation comes from categories such as rising used car and trucks, airplane tickets, hotel prices that have been affected by the reopening of the economy,\\\" Powell said, in response to questioning from lawmakers on whether inflation is transitory. These factors \\\"will ultimately start to decline.\\\"\\n\\u201c[W]hile these effects have turned out to be larger than we expected, the incoming data are consistent with the view that these factors will wane over time,\\u201d he added.\\nAhead of the speech, differing remarks from several Fed members \\u2013 who lean dovish or hawkish \\u2013 on how soon to rein in easy monetary policy measures have raised concerns over a possible growing divide among Fed members.\\nSt. Louis Fed President James Bullard and Dallas Fed president Robert Kaplan signaled that tapering could come sooner rather than later. Meanwhile New York Fed President John Williams called for support to remain in place as the economy is still a ways off from achieving the Fed s goals.\\nSentiment on the broader market remains tentatively positive following Monday s rally, with consumer discretionary stocks, materials and technology leading to the upside.\\nTechnology stocks continued to ride the weakness in bond yields, with the United States 10-Year remaining below 1.5%.\\nMicrosoft (NASDAQ:MSFT, Apple , Facebook  and Amazon.com  were higher, while Google-parent Alphabet  was flat.\\nAlphabet came under the spotlight after the EU launched a formal antitrust investigation into the company s core digital ad business. \\nAs well as falling yields, the broader tech sector was helped by a boost from semiconductor stocks, led by Nvidia.\\nNvidia  was up 2% after the chipmaker made further efforts to deter cryptocurrency miners from purchasing its chips to avoid the boom and bust demand cycle seen a few years ago when a sharp turn lower in cryptocurrency mining activity resulted in a chip supply overhang.\\nSome on Wall Street sees further gains for tech ahead, with quarterly results on the horizon.\\n\\\"Overall we remain very bullish on tech stocks for 2H as robust June results and guidance around the corner will be another positive catalyst for the tech sector in our opinion,\\\" Wedbush said.\"], [\"2021-06-22 13:58:07\", \"GOOGL\", 0, \"https://www.investing.com/news/stock-market-news/eu-top-court-says-youtube-not-liable-for-user-copyright-breaches-2538453\", \"By Foo Yun Chee\\nLUXEMBOURG (Reuters) -Google s YouTube won its latest copyright-infringement challenge after Europe s top court said online platforms are not liable for users uploading unauthorised works unless the platforms failed to take quick action to remove or block access to the content.\\nThe case marks the latest development in a long-running battle between Europe s $1 trillion creative industry and online platforms, with the former seeking redress for unauthorised works that are uploaded.\\nIt is also part of the wider debate on how much online platforms and social media should do to police the posting of unauthorised, illegal or hateful content, an issue that European Union regulators are targeting with tough new rules that could come into force next year.\\n\\\"As currently stands, operators of online platforms do not, in principle, themselves make a communication to the public of copyright-protected content illegally posted online by users of those platforms,\\\" the EU Court of Justice said.\\n\\\"However, those operators do make such a communication in breach of copyright where they contribute, beyond merely making those platforms available, to giving access to such content to the public,\\\" judges said.\\nThe EU court said platforms could also be liable if they do not put in place the appropriate technological tools to tackle copyright breaches by their users or where they provide tools on their platforms for illegal sharing of content.\\nIn response to the court ruling a YouTube spokesperson said: \\\"YouTube is a leader in copyright and supports rights holders being paid their fair share.\\\"\\n\\\"That s why we ve invested in state of the art copyright tools which have created an entirely new revenue stream for the industry. In the past 12 months alone we have paid $4 billion to the music industry, over 30% of which comes from monetised user generated content.\\\"\\nThe case underlines a long-running debate on the responsibilities of online platforms, with the CJEU giving useful guidance to national courts assessing such disagreements, said Nils Rauer, a partner at law firm Pinsent Masons.\\n\\\"The core question is and remains whether the platform is in a rather passive role (no liability) or in an active role (liability). There is a fine line between those two roles,\\\" he said.\\n\\\"With today s ruling, the domestic courts will be able to build on more guidance from Luxembourg where to draw the line between the good ones (platforms) and the bad ones,\\\" he said. \\nYouTube found itself in the dock after Frank Peterson, a music producer, sued the company and Google  in Germany over the uploading to YouTube by users in 2008 of several phonograms to which he holds the rights.\\nIn a second case, publishing group Elsevier took legal action against file-hosting service Cyando in Germany after its users uploaded several Elsevier works on its platform Uploaded in 2013 without its approval.\\nA German court subsequently sought advice from the EU Court of Justice, which ruled on both cases on Tuesday.\\nExisting EU rules exempt YouTube and its peers from such liability regarding copyright when they are told of violations and remove them.\\nThe EU last year overhauled its copyright rules for the first time in two decades to help its creative industries by adopting a key provision known as Article 17. This requires YouTube, Facebook  s Instagram and other sharing platforms to install filters to prevent users from uploading copyrighted materials.\\nBut this has drawn criticism from civil rights groups worried about potential censorship by authoritarian governments and risks to freedom of expression.\\nSeveral EU countries have yet to transpose the EU law into national legislation, due in part to the COVID-19 pandemic.\\nThe European Commission has also proposed much a more wide-ranging Digital Services Act, which sets stringent obligations on very large online companies, online platforms and hosting services, backed by fines up to 6% of a company s revenue for non-compliance.\\nThis would apply to websites, internet infrastructure services and online platforms such as online marketplaces, social networks, content-sharing platforms, app stores, and online travel and accommodation platforms.\\n\\nThe draft rules need to be thrashed out with EU countries and EU lawmakers before they can become law, likely to be next year.\\nThe cases are C-682/18 YouTube and C-683/18 Cyando.\"], [\"2021-06-22 13:00:46\", \"GOOGL\", 0, \"https://www.investing.com/news/cryptocurrency-news/influencer-galore-neil-patrick-harris-to-work-with-coinflip-2538842\", \" \\nCryptocurrency adoption is once again on the agenda of firms as they look to access new financial investments. DeFi, HODLing, and interest-based yielding are some of the typical ways users enter the cryptocurrency market. Exiting market solutions represent another method of accessing the crypto market, although they require the user to be versed in the use of such platforms. CoinFlip, a leading US BTC operator, has started a PR marketing campaign to expand its reach in the market.\\nNeil Patrick Harris, an Avid Crypto Investor\\nCoinFlip has announced a partnership with Neil Patrick Harris, which sees him become a spokesperson, in an effort to promote the US-based ATM crypto operator. The actor is already an avid crypto investor, who claimed that he was already aware of Bitcoin when people, including himself, \\u201cdidn\\u2019t fully understand it.\\u201d Even so, he invested in cryptocurrencies when \\u201cthe price of Bitcoin was so low,\\u201d which ultimately proved to be a wise financial decision. \\nThe collaboration between Neil Patrick Harris and CoinFlip aims to empower anyone to access cryptocurrencies by using their cash, without the need to be tech-savvy. Through the \\u201cSo Flipping Easy\\u201d campaign, CoinFlip seeks to lead the way in enabling anyone to access new financial investment opportunities and to join the new wave of crypto purchases. Coinflip\\u2019s CEO, Ben Weiss, highlighted that crypto could be \\u201cintimidating,\\u201d and the company wants to showcase its usefulness and simplicity to access.\\nThe PR campaign describes the effort of businesses to create positive associations between their brands and cryptocurrencies. They leverage celebrities such as Neil Patrick Harris to increase the likelihood of ingratiating CoinFlip to the everyday person as a leading BTC provider in the growing crypto investment space.\\nOn the Flipside\\n\\nThe New Crypto Demographic\\nThe crypto bull run of 2021 increased the consumption of crypto due to the rising demographic of new users. Gen Z and millennials, according to STILT, represent 94% of all cryptocurrency buyers, yet only 16.9% of Gen Z buyers fully understand the implications of blockchain. With that in mind, FinTok and social media represent potentially dangerous mediums for the promotion and education of crypto. As the SEC cautioned in 2017, \\u201cit is never a good idea to make an investment decision just because someone famous\\u201d says it is a good investment.\\nFacebook  and Google  banned crypto-related ads, restricting the firm\\u2019s ability to reach its intended target audience, meaning that influencer marketing and endorsement are the de facto gateways to anchor crypto to major social media platforms. 2021 is no different than 2017 was, except that the platforms used by crypto traders have changed.\\nCrypto Influencers\\nAs reported by CNBC, only one-third of crypto investors \\u201cknow what they are doing,\\u201d a dangerous premise considering that the crypto market is not as \\u201cforgiving\\u201d as in 2017. Crypto has garnered mainstream attention, with notable examples such as EthereumMax being promoted as a payment method during a high profile boxing match. Additionally, influencers such as Kim Kardashian and Jake Paul have used their social media accounts as marketing billboards for new crypto projects such as EthereumMax and Yummy.\\nRegardless of professional and regulatory opinion, FinTok and social media are being used as a platform for crypto investment advice and are likely to remain that way. While Safemoon proved that social media can be a boon when generating awareness, investors have warned that information gleaned in this way could be misleading, as not everyone is well versed in crypto tokenomics and its underlying fabrications. To that end, James Ledbetter argues that influencers are an \\u201ceffective\\u201d marketing channel, however investing in the unknown could likely \\u201charm investors.\\u201d\\nEMAIL NEWSLETTER\\nJoin to get the flipside of crypto\\nUpgrade your inbox and get our DailyCoin editors\\u2019 picks 1x a week delivered straight to your inbox.\\n[contact-form-7] You can always unsubscribe with just 1 click.\"], [\"2021-06-22 23:12:49\", \"MSFT\", 0, \"https://www.investing.com/news/economy/sp-futures-about-1-below-record-level-ahead-of-powell-testimony-2538649\", \"By Noel Randewich and Devik Jain\\n(Reuters) - The Nasdaq ended at a record high on Tuesday, lifted by Amazon , Microsoft  and other top-shelf tech companies as investors shifted their focus to growth stocks.\\nMicrosoft rose 1.1% and its stock market value briefly breached $2 trillion for the first time, while Apple , Facebook  and Amazon also rallied more than 1% each.\\nAmazon had over $5.6 billion in total online sales in the United States on the first day of its Prime promotional event, according to Adobe  Digital Economy Index.\\nIn a congressional hearing, meanwhile, Federal Reserve Chair Jerome Powell reaffirmed the U.S. central bank s intent to encourage a \\\"broad and inclusive\\\" recovery of the job market and not to raise interest rates too quickly based only on the fear of coming inflation.\\nSo-called value stocks, expected to benefit from the economic recovery, have outperformed in 2021, while growth stocks, including major tech names like Apple and Nvidia , have rallied since the Fed last week took a stance on future rate hikes viewed by many as more aggressive than expected.\\nThe S&P growth index has added almost 2% since before the Fed last Wednesday projected an accelerated timetable for interest rate increases, compared with a drop of almost 2% in the value index.\\n\\\"The market was caught off guard regarding the Fed\\u2019s hawkish commentary, and that\\u2019s 100% of what is happening,\\\" said Andrew Mies, chief investment officer of 6 Meridian. \\\"All the smart people were surprised about how hawkish the Fed was, and now they are adjusting their portfolios.\\\"\\nNine of the 11 major S&P sector indexes rose, with consumer discretionary and tech the biggest gainers, each up about 1%.\\n(Graphic: S&P 500 sectors YTD, https://fingfx.thomsonreuters.com/gfx/mkt/oakvebdxapr/Pasted%20image%201624375167038.png) \\n\\nThe Dow Jones Industrial Average rose 0.2% to end at 33,945.58, while the S&P 500 gained 0.51% to 4,246.44. \\nThe Nasdaq Composite climbed 0.79% to 14,253.27.\\nGameStop  jumped 10% after the videogame retailer said it raised over $1 billion in its latest share offering, cashing in further on this year s Reddit-driven surge in its stock price.\\n Sanderson Farms   rallied about 10% to a record high after J.P. Morgan raised its price target on the stock after a source told Reuters that the poultry producer was exploring a sale.\\nTwitter ended almost 3% higher after it said it will seek applications from users to test new content subscription and ticketing features, as the social platform works to build more ways for users to earn money.\\n Moderna   Inc rose 6.3% after the European Union decided to take up an option under a supply contract with the drugmaker that allows the bloc to order 150 million additional COVID-19 vaccines.\\nSplunk  Inc surged over 11% after the data analytics software maker said private equity firm Silver Lake invested $1 billion in the company s convertible senior notes.\\nAdvancing issues outnumbered declining ones on the NYSE by a 1.26-to-1 ratio; on Nasdaq, a 1.08-to-1 ratio favored advancers.\\n\\nThe S&P 500 posted 28 new 52-week highs and 1 new low; the Nasdaq Composite recorded 78 new highs and 56 new lows. \\nVolume on U.S. exchanges was 9.5 billion shares, compared with the 11.1 billion average over the last 20 trading days. \\n\"], [\"2021-06-22 20:08:48\", \"MSFT\", 0, \"https://www.investing.com/news/stock-market-news/nasdaq-closes-at-record-high-as-tech-shines-2539382\", \"By Yasin Ebrahim\\nInvesting.com \\u2013 The Nasdaq closed at a record highs Tuesday with big tech making strong gains as Federal Reserve Chairman Jerome Powell in testimony before Congress continued to downplay fears over the sharp pace of inflation. \\nThe S&P 500 rose 0.51%, the Dow Jones Industrial Average gained 0.20%, or 68 points, and the Nasdaq Composite was up 0.79% at 14,223.27.\\nPowell largely stuck to his prepared remarks in testimony before a House select subcommittee hearing on the Fed\\u2019s pandemic response and the economy, reiterating the rapid pace of inflation will fade and job gains will pick up in the coming months.\\n\\u201c[P]erhaps all of the overshoot in inflation comes from categories such as rising used car and trucks, airplane tickets, hotel prices that have been affected by the reopening of the economy,\\\" Powell said in response to questioning from lawmakers on whether inflation is transitory. These factors \\\"will ultimately start to decline.\\\"\\n\\u201c[W]hile these effects have turned out to be larger than we expected, the incoming data are consistent with the view that these factors will wane over time,\\u201d he added.\\nAhead of the speech, differing remarks from several Fed members \\u2013 who lean dovish or hawkish \\u2013 on how soon to rein in easy monetary policy measures have raised concerns over a possible growing divide among Fed members.\\nSt. Louis Fed President James Bullard and Dallas Fed president Robert Kaplan signaled that tapering could come sooner rather than later. Meanwhile New York Fed President John Williams called for support to remain in place as the economy is still a ways off from achieving the Fed s goals.\\nTechnology stocks benefited from the weakness in bond yields, with the United States 10-Year remaining below 1.5%.\\nMicrosoft (NASDAQ:MSFT, Apple , Facebook , Amazon.com  and Google-parent Alphabet  were higher.\\nAlphabet pared intraday losses that followed reports that the EU launched a formal antitrust investigation into the company s core digital ad business. \\nAs well as falling yields, the broader tech sector was helped by a boost from semiconductor stocks, led by Nvidia.\\nNvidia  ended up more than 2% higher after the chipmaker made further efforts to deter cryptocurrency miners from purchasing its chips to avoid the boom and bust demand cycle seen a few years ago when a sharp turn lower in cryptocurrency mining activity resulted in a chip supply overhang.\\nSome on Wall Street sees further gains for tech ahead, with quarterly results on the horizon.\\n\\\"Overall we remain very bullish on tech stocks for 2H as robust June results and guidance around the corner will be another positive catalyst for the tech sector in our opinion,\\\" Wedbush said.\"]], \"type\": \"table\"}]"
     ]
    }
   ],
   "source": [
    "!curl {addr}"
   ]
  },
  {
   "cell_type": "code",
   "execution_count": null,
   "metadata": {},
   "outputs": [],
   "source": []
  }
 ],
 "metadata": {
  "kernelspec": {
   "display_name": "Python 3",
   "language": "python",
   "name": "python3"
  },
  "language_info": {
   "codemirror_mode": {
    "name": "ipython",
    "version": 3
   },
   "file_extension": ".py",
   "mimetype": "text/x-python",
   "name": "python",
   "nbconvert_exporter": "python",
   "pygments_lexer": "ipython3",
   "version": "3.7.6"
  }
 },
 "nbformat": 4,
 "nbformat_minor": 4
}
