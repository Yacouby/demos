{
 "cells": [
  {
   "cell_type": "code",
   "execution_count": 5,
   "metadata": {},
   "outputs": [],
   "source": [
    "import nuclio \n",
    "import mlrun\n",
    "import os"
   ]
  },
  {
   "cell_type": "code",
   "execution_count": 88,
   "metadata": {},
   "outputs": [
    {
     "name": "stdout",
     "output_type": "stream",
     "text": [
      "%nuclio: setting kind to 'nuclio'\n",
      "%nuclio: setting spec.build.baseImage to 'mlrun/mlrun'\n"
     ]
    }
   ],
   "source": [
    "%%nuclio config \n",
    "kind = \"nuclio\"\n",
    "spec.build.baseImage = \"mlrun/mlrun\""
   ]
  },
  {
   "cell_type": "code",
   "execution_count": 2,
   "metadata": {},
   "outputs": [],
   "source": [
    "# nuclio: start-code"
   ]
  },
  {
   "cell_type": "code",
   "execution_count": 6,
   "metadata": {},
   "outputs": [],
   "source": [
    "import mlrun.feature_store as fs\n",
    "import mlrun\n",
    "import datetime\n",
    "import pandas as pd\n",
    "from sklearn.preprocessing import MinMaxScaler\n",
    "import os\n",
    "import requests\n",
    "import json\n",
    "import numpy as np"
   ]
  },
  {
   "cell_type": "code",
   "execution_count": 61,
   "metadata": {},
   "outputs": [],
   "source": [
    "def modify_data(context,ticker_data):\n",
    "    ticker_to_int = {'GOOGL' : 0,'MSFT' : 1,'AMZN' : 2,'AAPL' : 3,'INTC' : 4}\n",
    "    ticker_data[\"ticker\"] = ticker_data[\"ticker\"].apply(lambda x: ticker_to_int.get(x))\n",
    "    for col in [x for x in ticker_data.columns if \"Open\" in x or \"Close\" in x or \"High\" in x or \"Low\" in x]:\n",
    "        ticker_data[[col]] = context.priceMMS.fit_transform(ticker_data[[col]])\n",
    "    for col in [x for x in ticker_data.columns if \"Volume\" in x]:\n",
    "        ticker_data[[col]] = context.volumeMMS.fit_transform(ticker_data[[col]])\n",
    "    for col in [x for x in ticker_data.columns if \"Sentiment\" in x]:\n",
    "        ticker_data[[col]] = context.sentimentMMS.fit_transform(ticker_data[[col]])\n",
    "        \n",
    "    return ticker_data"
   ]
  },
  {
   "cell_type": "code",
   "execution_count": 62,
   "metadata": {},
   "outputs": [],
   "source": [
    "def predict(context,data):\n",
    "    event_data = {'inputs': data}\n",
    "    endpoint = context.endpoint #+ \"/v2/models/model2/predict\"\n",
    "    resp = requests.put(endpoint, json=json.dumps(event_data))\n",
    "    return json.loads(resp.text)"
   ]
  },
  {
   "cell_type": "code",
   "execution_count": 75,
   "metadata": {},
   "outputs": [],
   "source": [
    "def handler(context,event):\n",
    "    start_time = datetime.datetime.now()-datetime.timedelta(5)\n",
    "    data = fs.get_offline_features(context.vector,entity_timestamp_column=\"Datetime\",\n",
    "                           start_time = start_time,\n",
    "                           end_time = datetime.datetime.now()).to_dataframe()\n",
    "    all_ticker_predictions = []\n",
    "    for ticker in context.sym_to_url.keys():\n",
    "        ticker_df = data[data[\"ticker\"] == ticker].fillna(0)\n",
    "        ticker_df = ticker_df[-10:]\n",
    "        modified_ticker = modify_data(context,ticker_df)\n",
    "        context.logger.info(f\"predicting stock price for {ticker}\")\n",
    "        stock_prediction = predict(context,modified_ticker.values.reshape(1,ticker_df.shape[0],ticker_df.shape[1]).tolist())\n",
    "        stock_prediction = json.loads(stock_prediction[\"outputs\"])\n",
    "        all_ticker_predictions.append(context.priceMMS.inverse_transform(stock_prediction)[0][0])\n",
    "                \n",
    "    df = pd.DataFrame()\n",
    "    df[\"ticker\"] = context.sym_to_url.keys()\n",
    "    df[\"predicted\"] = all_ticker_predictions\n",
    "    \n",
    "    data = df.values.tolist()\n",
    "    \n",
    "    columns = [{'text': key, 'type': 'object'} for key in df.columns]\n",
    "    response = [{'columns': columns,\n",
    "                'rows': data,\n",
    "                'type': 'table'}]\n",
    "    return response"
   ]
  },
  {
   "cell_type": "code",
   "execution_count": 76,
   "metadata": {},
   "outputs": [],
   "source": [
    "def init_context(context):\n",
    "    context.logger.info(\"Initalizing context\")\n",
    "    setattr(context, 'PROJECT_NAME', os.getenv('PROJECT_NAME', 'stocks-' + os.getenv('V3IO_USERNAME')))\n",
    "    mlrun.set_environment(project=context.PROJECT_NAME)\n",
    "    \n",
    "    features = [\"stocks.Opens_min_1h\",\n",
    "            \"stocks.Opens_max_1h\",\n",
    "            \"stocks.Volumes_min_1h\",\n",
    "            \"stocks.Volumes_max_1h\",\n",
    "            \"stocks.Open\",\n",
    "            \"stocks.High\",\n",
    "            \"stocks.Low\",\n",
    "            \"stocks.Close\",\n",
    "            \"stocks.Volume\",\n",
    "            \"stocks.ticker\",\n",
    "            \"news.Sentiment\"]\n",
    "    \n",
    "    vector = fs.FeatureVector(\"stocks-vec\", features, description=\"stocks demo feature vector\")\n",
    "    vector.save()\n",
    "    setattr(context,'vector',vector)\n",
    "    \n",
    "    sym_to_url = {'GOOGL': 'google-inc', 'MSFT': 'microsoft-corp', 'AMZN': 'amazon-com-inc',\n",
    "                'AAPL': 'apple-computer-inc', 'INTC' : 'intel-corp'}\n",
    "    setattr(context, 'sym_to_url', sym_to_url)\n",
    "    \n",
    "    setattr(context,\"priceMMS\",MinMaxScaler(feature_range = (0, 1)))\n",
    "    setattr(context,\"volumeMMS\",MinMaxScaler(feature_range = (0, 1)))\n",
    "    setattr(context,\"sentimentMMS\",MinMaxScaler(feature_range = (0, 1)))\n",
    "    \n",
    "    setattr(context,\"endpoint\",os.getenv('endpoint', \"http://default-tenant.app.app-lab-b117.iguazio-cd1.com:30585\"))"
   ]
  },
  {
   "cell_type": "code",
   "execution_count": 77,
   "metadata": {},
   "outputs": [],
   "source": [
    "# nuclio: end-code"
   ]
  },
  {
   "cell_type": "code",
   "execution_count": 78,
   "metadata": {},
   "outputs": [
    {
     "name": "stdout",
     "output_type": "stream",
     "text": [
      "Python> 2021-07-01 11:33:39,119 [info] Initalizing context\n",
      "Python> 2021-07-01 11:33:39,817 [info] predicting stock price for GOOGL\n",
      "Python> 2021-07-01 11:33:39,897 [info] predicting stock price for MSFT\n",
      "Python> 2021-07-01 11:33:39,966 [info] predicting stock price for AMZN\n",
      "Python> 2021-07-01 11:33:40,034 [info] predicting stock price for AAPL\n",
      "Python> 2021-07-01 11:33:40,104 [info] predicting stock price for INTC\n"
     ]
    }
   ],
   "source": [
    "#test locally\n",
    "mlrun.set_environment(project=\"stocks-\" + os.getenv('V3IO_USERNAME'))\n",
    "init_context(context)\n",
    "data = handler(context,\"\")"
   ]
  },
  {
   "cell_type": "code",
   "execution_count": 79,
   "metadata": {},
   "outputs": [
    {
     "data": {
      "text/plain": [
       "[{'columns': [{'text': 'ticker', 'type': 'object'},\n",
       "   {'text': 'predicted', 'type': 'object'}],\n",
       "  'rows': [['GOOGL', 2440.325043225952],\n",
       "   ['MSFT', 270.94796436812067],\n",
       "   ['AMZN', 3442.4882586227754],\n",
       "   ['AAPL', 137.11272962329258],\n",
       "   ['INTC', 56.09725701435514]],\n",
       "  'type': 'table'}]"
      ]
     },
     "execution_count": 79,
     "metadata": {},
     "output_type": "execute_result"
    }
   ],
   "source": [
    "data"
   ]
  },
  {
   "cell_type": "code",
   "execution_count": 58,
   "metadata": {},
   "outputs": [],
   "source": [
    "#test remotly\n",
    "# test remote deployment\n",
    "from mlrun import code_to_function\n",
    "import os\n",
    "fn = code_to_function('rnn_model_prediction',\n",
    "                      handler='handler')\n",
    "\n",
    "# Set parameters for current deployment\n",
    "fn.set_envs({'PROJECT_NAME' : \"stocks-\" + os.getenv('V3IO_USERNAME'),\n",
    "             'STOCKS_STREAM':  os.getenv('V3IO_USERNAME') +' /stocks/stocks_stream'})\n",
    "fn.spec.max_replicas = 2"
   ]
  },
  {
   "cell_type": "code",
   "execution_count": null,
   "metadata": {},
   "outputs": [],
   "source": [
    "addr = fn.deploy(project=\"stocks-\" + os.getenv('V3IO_USERNAME'))"
   ]
  },
  {
   "cell_type": "code",
   "execution_count": null,
   "metadata": {},
   "outputs": [],
   "source": [
    "!curl {addr}"
   ]
  }
 ],
 "metadata": {
  "kernelspec": {
   "display_name": "Python 3",
   "language": "python",
   "name": "python3"
  },
  "language_info": {
   "codemirror_mode": {
    "name": "ipython",
    "version": 3
   },
   "file_extension": ".py",
   "mimetype": "text/x-python",
   "name": "python",
   "nbconvert_exporter": "python",
   "pygments_lexer": "ipython3",
   "version": "3.7.6"
  }
 },
 "nbformat": 4,
 "nbformat_minor": 4
}
