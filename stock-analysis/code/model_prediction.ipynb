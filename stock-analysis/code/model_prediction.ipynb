{
 "cells": [
  {
   "cell_type": "code",
   "execution_count": 1,
   "metadata": {},
   "outputs": [],
   "source": [
    "import nuclio \n",
    "import mlrun\n",
    "import os"
   ]
  },
  {
   "cell_type": "code",
   "execution_count": 88,
   "metadata": {},
   "outputs": [
    {
     "name": "stdout",
     "output_type": "stream",
     "text": [
      "%nuclio: setting kind to 'nuclio'\n",
      "%nuclio: setting spec.build.baseImage to 'mlrun/mlrun'\n"
     ]
    }
   ],
   "source": [
    "%%nuclio config \n",
    "kind = \"nuclio\"\n",
    "spec.build.baseImage = \"mlrun/mlrun\""
   ]
  },
  {
   "cell_type": "code",
   "execution_count": 2,
   "metadata": {},
   "outputs": [],
   "source": [
    "# nuclio: start-code"
   ]
  },
  {
   "cell_type": "code",
   "execution_count": 48,
   "metadata": {},
   "outputs": [],
   "source": [
    "import mlrun.feature_store as fs\n",
    "import mlrun\n",
    "import datetime\n",
    "import pandas as pd\n",
    "from sklearn.preprocessing import MinMaxScaler"
   ]
  },
  {
   "cell_type": "code",
   "execution_count": 51,
   "metadata": {},
   "outputs": [],
   "source": [
    "def modify_data(context,ticker_data):\n",
    "    ticker_to_int = {'GOOGL' : 0,'MSFT' : 1,'AMZN' : 2,'AAPL' : 3,'INTC' : 4}\n",
    "    ticker_data[\"ticker\"] = ticker_data[\"ticker\"].apply(lambda x: ticker_to_int.get(x))\n",
    "    for col in [x for x in ticker_data.columns if \"Open\" in x or \"Close\" in x or \"High\" in x or \"Low\" in x]:\n",
    "        ticker_data[[col]] = context.priceMMS.fit_transform(ticker_data[[col]])\n",
    "    for col in [x for x in ticker_data.columns if \"Volume\" in x]:\n",
    "        ticker_data[[col]] = context.volumeMMS.fit_transform(ticker_data[[col]])\n",
    "    for col in [x for x in ticker_data.columns if \"Sentiment\" in x]:\n",
    "        ticker_data[[col]] = context.sentimentMMS.fit_transform(ticker_data[[col]])\n",
    "        \n",
    "    return ticker_data"
   ]
  },
  {
   "cell_type": "code",
   "execution_count": 83,
   "metadata": {},
   "outputs": [],
   "source": [
    "def predict(context,data):\n",
    "    event_data = {'inputs': data}\n",
    "    endpoint = context.endpoint + \"/v2/models/model2/predict\"\n",
    "    resp = requests.put(endpoint, json=json.dumps(event_data))\n",
    "    return json.loads(resp.text)"
   ]
  },
  {
   "cell_type": "code",
   "execution_count": 77,
   "metadata": {},
   "outputs": [],
   "source": [
    "def handler(context):\n",
    "    start_time = datetime.datetime.now()-datetime.timedelta(5)\n",
    "    data = fs.get_offline_features(context.vector,entity_timestamp_column=\"Datetime\",\n",
    "                           start_time = start_time,\n",
    "                           end_time = datetime.datetime.now()).to_dataframe()\n",
    "    all_ticker_predictions = []\n",
    "    for ticker in context.sym_to_url.keys():\n",
    "        ticker_df = data[data[\"ticker\"] == ticker].fillna(0)\n",
    "        ticker_df = ticker_df[-10:]\n",
    "        modified_ticker = modify_data(context,ticker_df)\n",
    "        context.logger.info(f\"predicting stock price for {ticker}\")\n",
    "        stock_prediction = predict(context,modified_ticker.values.reshape(1,ticker_df[0],ticker_df[1]).tolist())\n",
    "        all_ticker_predictions.append(stock_prediction)\n",
    "        \n",
    "    df = pd.DataFrame()\n",
    "    df[\"ticker\"] = context.sym_to_url.keys()\n",
    "    df[\"predicted\"] = all_ticker_predictions\n",
    "    \n",
    "    data = df.values\n",
    "    columns = [{'text': key, 'type': 'object'} for key in df.columns]\n",
    "    response = [{'columns': columns,\n",
    "                'rows': data,\n",
    "                'type': 'table'}]\n",
    "    return response"
   ]
  },
  {
   "cell_type": "code",
   "execution_count": 78,
   "metadata": {},
   "outputs": [],
   "source": [
    "def init_context(context):\n",
    "    context.logger.info(\"Initalizing context\")\n",
    "    setattr(context, 'PROJECT_NAME', os.getenv('PROJECT_NAME', 'stocks-' + os.getenv('V3IO_USERNAME')))\n",
    "    mlrun.set_environment(project=context.PROJECT_NAME)\n",
    "    \n",
    "    features = [\"stocks.Opens_min_1h\",\n",
    "            \"stocks.Opens_max_1h\",\n",
    "            \"stocks.Volumes_min_1h\",\n",
    "            \"stocks.Volumes_max_1h\",\n",
    "            \"stocks.Open\",\n",
    "            \"stocks.High\",\n",
    "            \"stocks.Low\",\n",
    "            \"stocks.Close\",\n",
    "            \"stocks.Volume\",\n",
    "            \"stocks.ticker\",\n",
    "            \"news.Sentiment\"]\n",
    "    \n",
    "    vector = fs.FeatureVector(\"stocks-vec\", features, description=\"stocks demo feature vector\")\n",
    "    vector.save()\n",
    "    setattr(context,'vector',vector)\n",
    "    \n",
    "    sym_to_url = {'GOOGL': 'google-inc', 'MSFT': 'microsoft-corp', 'AMZN': 'amazon-com-inc',\n",
    "                'AAPL': 'apple-computer-inc', 'INTC' : 'intel-corp'}\n",
    "    setattr(context, 'sym_to_url', sym_to_url)\n",
    "    \n",
    "    setattr(context,\"priceMMS\",MinMaxScaler(feature_range = (0, 1)))\n",
    "    setattr(context,\"volumeMMS\",MinMaxScaler(feature_range = (0, 1)))\n",
    "    setattr(context,\"sentimentMMS\",MinMaxScaler(feature_range = (0, 1)))\n",
    "    \n",
    "    setattr(context,\"endpoint\",os.environ[\"endpoint\"])"
   ]
  },
  {
   "cell_type": "code",
   "execution_count": null,
   "metadata": {},
   "outputs": [],
   "source": [
    "# nuclio: end-code"
   ]
  },
  {
   "cell_type": "code",
   "execution_count": 80,
   "metadata": {},
   "outputs": [
    {
     "name": "stdout",
     "output_type": "stream",
     "text": [
      "Python> 2021-06-30 08:40:55,804 [info] Initalizing context\n"
     ]
    }
   ],
   "source": [
    "mlrun.set_environment(project=\"stocks-\" + os.getenv('V3IO_USERNAME'))\n",
    "init_context(context)\n",
    "data = handler(context)"
   ]
  }
 ],
 "metadata": {
  "kernelspec": {
   "display_name": "Python 3",
   "language": "python",
   "name": "python3"
  },
  "language_info": {
   "codemirror_mode": {
    "name": "ipython",
    "version": 3
   },
   "file_extension": ".py",
   "mimetype": "text/x-python",
   "name": "python",
   "nbconvert_exporter": "python",
   "pygments_lexer": "ipython3",
   "version": "3.7.6"
  }
 },
 "nbformat": 4,
 "nbformat_minor": 4
}
