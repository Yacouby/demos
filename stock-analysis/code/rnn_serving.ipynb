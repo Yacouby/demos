{
 "cells": [
  {
   "cell_type": "code",
   "execution_count": null,
   "metadata": {},
   "outputs": [],
   "source": [
    "import mlrun\n",
    "import nuclio\n",
    "import os"
   ]
  },
  {
   "cell_type": "code",
   "execution_count": null,
   "metadata": {},
   "outputs": [],
   "source": [
    "# nuclio: ignore"
   ]
  },
  {
   "cell_type": "code",
   "execution_count": null,
   "metadata": {},
   "outputs": [],
   "source": [
    "%nuclio env -c V3IO_ACCESS_KEY=${V3IO_ACCESS_KEY}\n",
    "%nuclio env -c V3IO_USERNAME=${V3IO_USERNAME}\n",
    "%nuclio env -c V3IO_API=${V3IO_API}"
   ]
  },
  {
   "cell_type": "code",
   "execution_count": null,
   "metadata": {},
   "outputs": [],
   "source": [
    "%%nuclio config \n",
    "spec.build.baseImage = \"mlrun/mlrun:0.6.5-rc15\""
   ]
  },
  {
   "cell_type": "code",
   "execution_count": null,
   "metadata": {},
   "outputs": [],
   "source": [
    "%nuclio config kind=\"serving\"\n",
    "%nuclio cmd python -m pip install tensorflow==2.2.0\n",
    "%nuclio cmd python -m pip install keras"
   ]
  },
  {
   "cell_type": "code",
   "execution_count": 35,
   "metadata": {},
   "outputs": [],
   "source": [
    "import pandas as pd\n",
    "from mlrun import MLClientCtx\n",
    "import os\n",
    "import mlrun\n",
    "import numpy as np\n",
    "import tensorflow\n",
    "import json"
   ]
  },
  {
   "cell_type": "code",
   "execution_count": 39,
   "metadata": {},
   "outputs": [],
   "source": [
    "class RNN_Model_Serving(mlrun.serving.V2ModelServer):    \n",
    "    def load(self):\n",
    "        \"\"\"load and initialize the model and/or other elements\"\"\"\n",
    "        model_file,extra_data = self.get_model(suffix = \".h5\")\n",
    "        self.model = tensorflow.keras.models.load_model(model_file)\n",
    "        \n",
    "    def predict(self, body):\n",
    "        try:\n",
    "            \"\"\"Generate model predictions from sample.\"\"\"\n",
    "            feats = np.asarray(body['inputs'])\n",
    "            result = self.model.predict(feats)\n",
    "            result = json.dumps(result.tolist())\n",
    "            return result\n",
    "        except Exception as e:\n",
    "            raise Exception(\"Failed to predict %s\" % e)"
   ]
  },
  {
   "cell_type": "code",
   "execution_count": 40,
   "metadata": {},
   "outputs": [],
   "source": [
    "# nuclio: end-code"
   ]
  },
  {
   "cell_type": "code",
   "execution_count": null,
   "metadata": {},
   "outputs": [],
   "source": [
    "myclass = RNN_Model_Serving(context = context,name = \"rnn_serving\",model_path=\"/User/test/demos/stock-analysis/models/mymodel.h5\")\n",
    "myclass.load()"
   ]
  },
  {
   "cell_type": "code",
   "execution_count": 5,
   "metadata": {},
   "outputs": [],
   "source": [
    "import mlrun\n",
    "import os \n",
    "fn = mlrun.code_to_function(\"RNN_Model_Serving\",kind=\"serving\")\n",
    "fn.apply(mlrun.auto_mount())"
   ]
  },
  {
   "cell_type": "code",
   "execution_count": 2,
   "metadata": {},
   "outputs": [
    {
     "data": {
      "text/plain": [
       "<mlrun.serving.states.TaskStep at 0x7f09b8a33d90>"
      ]
     },
     "execution_count": 2,
     "metadata": {},
     "output_type": "execute_result"
    }
   ],
   "source": [
    "fn.add_model(\"model2\",class_name=\"RNN_Model_Serving\", model_path = \"/User/test/demos/stock-analysis/models/mymodel.h5\")"
   ]
  },
  {
   "cell_type": "code",
   "execution_count": 6,
   "metadata": {},
   "outputs": [
    {
     "name": "stdout",
     "output_type": "stream",
     "text": [
      "> 2021-07-12 05:54:35,845 [info] Starting remote function deploy\n",
      "2021-07-12 05:54:35  (info) Deploying function\n",
      "2021-07-12 05:54:35  (info) Building\n",
      "2021-07-12 05:54:36  (info) Staging files and preparing base images\n",
      "2021-07-12 05:54:36  (info) Building processor image\n",
      "2021-07-12 05:54:37  (info) Build complete\n",
      "2021-07-12 05:54:58  (info) Function deploy complete\n",
      "> 2021-07-12 05:54:59,114 [info] function deployed, address=default-tenant.app.dev39.lab.iguazeng.com:31269\n"
     ]
    }
   ],
   "source": [
    "addr = fn.deploy(project = \"stocks-\" + os.getenv('V3IO_USERNAME'))"
   ]
  },
  {
   "cell_type": "code",
   "execution_count": 56,
   "metadata": {},
   "outputs": [
    {
     "name": "stdout",
     "output_type": "stream",
     "text": [
      "> 2021-07-01 10:14:59,310 [info] model model2 was loaded\n",
      "> 2021-07-01 10:14:59,311 [info] Loaded ['model2']\n"
     ]
    }
   ],
   "source": [
    "server = fn.to_mock_server()"
   ]
  },
  {
   "cell_type": "code",
   "execution_count": 57,
   "metadata": {},
   "outputs": [],
   "source": [
    "x = np.array([[6.9955170e-01, 6.9952875e-01, 2.7922913e-02, 2.7853036e-02,\n",
    "6.9955170e-01, 7.0086759e-01, 7.0118028e-01, 7.0142627e-01,\n",
    "2.7922913e-02, 0.0000000e+00, 0.0000000e+00],\n",
    "[6.9955170e-01, 6.9998503e-01, 1.6527303e-03, 2.7853036e-02,\n",
    "7.0000792e-01, 7.0085293e-01, 7.0118028e-01, 7.0203447e-01,\n",
    "1.6527303e-03, 0.0000000e+00, 0.0000000e+00],\n",
    "[6.9955170e-01, 7.0025057e-01, 1.6904050e-04, 2.7853036e-02,\n",
    "7.0027345e-01, 7.0014298e-01, 7.0190376e-01, 7.0128226e-01,\n",
    "1.6904050e-04, 0.0000000e+00, 0.0000000e+00],\n",
    "[6.9955170e-01, 7.0144778e-01, 1.6904050e-04, 2.7853036e-02,\n",
    "7.0147055e-01, 7.0178574e-01, 7.0236105e-01, 7.0295709e-01,\n",
    "7.3906886e-03, 0.0000000e+00, 0.0000000e+00],\n",
    "[6.9955170e-01, 7.0324355e-01, 1.6904050e-04, 2.7853036e-02,\n",
    "7.0326620e-01, 7.0308524e-01, 7.0490342e-01, 7.0427048e-01,\n",
    "2.4815742e-03, 0.0000000e+00, 0.0000000e+00],\n",
    "[6.9955170e-01, 7.0324355e-01, 1.6904050e-04, 2.7853036e-02,\n",
    "7.0191067e-01, 7.0173001e-01, 7.0354480e-01, 7.0291305e-01,\n",
    "2.9976186e-03, 0.0000000e+00, 0.0000000e+00],\n",
    "[6.9955170e-01, 7.0324355e-01, 1.6904050e-04, 2.7853036e-02,\n",
    "7.0166123e-01, 7.0148063e-01, 7.0284635e-01, 7.0249581e-01,\n",
    "2.7904075e-03, 0.0000000e+00, 0.0000000e+00],\n",
    "[6.9955170e-01, 7.0324355e-01, 1.6904050e-04, 2.7853036e-02,\n",
    "7.0133996e-01, 7.0143080e-01, 7.0297277e-01, 7.0250750e-01,\n",
    "4.1491759e-04, 0.0000000e+00, 0.0000000e+00],\n",
    "[6.9955170e-01, 7.0324355e-01, 1.6904050e-04, 2.7853036e-02,\n",
    "7.0150572e-01, 7.0251614e-01, 7.0281982e-01, 7.0370042e-01,\n",
    "2.1256472e-03, 0.0000000e+00, 0.0000000e+00],\n",
    "[6.9955170e-01, 7.0324355e-01, 1.6904050e-04, 2.7853036e-02,\n",
    "7.0272487e-01, 7.0258951e-01, 7.0429617e-01, 7.0376801e-01,\n",
    "1.4207334e-03, 0.0000000e+00, 0.0000000e+00]]).reshape(1,10,11).tolist()"
   ]
  },
  {
   "cell_type": "code",
   "execution_count": 58,
   "metadata": {},
   "outputs": [
    {
     "data": {
      "text/plain": [
       "{'id': '7d68eea27a9447f8a46e96ef8c0bb04e',\n",
       " 'model_name': 'model2',\n",
       " 'outputs': '[[0.7206476926803589]]'}"
      ]
     },
     "execution_count": 58,
     "metadata": {},
     "output_type": "execute_result"
    }
   ],
   "source": [
    "server.test(\"/v2/models/model2/infer\", {\"inputs\": x})"
   ]
  },
  {
   "cell_type": "code",
   "execution_count": null,
   "metadata": {},
   "outputs": [],
   "source": []
  }
 ],
 "metadata": {
  "kernelspec": {
   "display_name": "Python 3",
   "language": "python",
   "name": "python3"
  },
  "language_info": {
   "codemirror_mode": {
    "name": "ipython",
    "version": 3
   },
   "file_extension": ".py",
   "mimetype": "text/x-python",
   "name": "python",
   "nbconvert_exporter": "python",
   "pygments_lexer": "ipython3",
   "version": "3.7.6"
  }
 },
 "nbformat": 4,
 "nbformat_minor": 4
}
