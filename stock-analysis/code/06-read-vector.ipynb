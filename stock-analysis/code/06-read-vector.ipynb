{
 "cells": [
  {
   "cell_type": "code",
   "execution_count": 1,
   "metadata": {},
   "outputs": [],
   "source": [
    "import nuclio \n",
    "import mlrun"
   ]
  },
  {
   "cell_type": "code",
   "execution_count": 2,
   "metadata": {},
   "outputs": [],
   "source": [
    "import storey"
   ]
  },
  {
   "cell_type": "code",
   "execution_count": 3,
   "metadata": {},
   "outputs": [],
   "source": [
    "%nuclio env -c V3IO_ACCESS_KEY=${V3IO_ACCESS_KEY}\n",
    "%nuclio env -c V3IO_USERNAME=${V3IO_USERNAME}\n",
    "%nuclio env -c V3IO_API=${V3IO_API}"
   ]
  },
  {
   "cell_type": "code",
   "execution_count": 4,
   "metadata": {},
   "outputs": [],
   "source": [
    "%%nuclio cmd -c\n",
    "pip install beautifulsoup4\n",
    "pip install pandas\n",
    "pip install v3io_frames\n",
    "pip install storey==0.4.0"
   ]
  },
  {
   "cell_type": "code",
   "execution_count": 5,
   "metadata": {},
   "outputs": [
    {
     "name": "stdout",
     "output_type": "stream",
     "text": [
      "%nuclio: setting kind to 'nuclio'\n",
      "%nuclio: setting spec.build.baseImage to 'mlrun/ml-models'\n"
     ]
    }
   ],
   "source": [
    "%%nuclio config \n",
    "kind = \"nuclio\"\n",
    "spec.build.baseImage = \"mlrun/mlrun\""
   ]
  },
  {
   "cell_type": "code",
   "execution_count": 6,
   "metadata": {},
   "outputs": [],
   "source": [
    "%nuclio cmd -c pip install v3io"
   ]
  },
  {
   "cell_type": "code",
   "execution_count": 7,
   "metadata": {},
   "outputs": [],
   "source": [
    "# nuclio: start-code"
   ]
  },
  {
   "cell_type": "code",
   "execution_count": 7,
   "metadata": {},
   "outputs": [],
   "source": [
    "import mlrun.feature_store as fs\n",
    "from mlrun.feature_store.steps import *\n",
    "import mlrun\n",
    "import pandas as pd\n",
    "import numpy\n",
    "import os\n",
    "import math"
   ]
  },
  {
   "cell_type": "code",
   "execution_count": 8,
   "metadata": {},
   "outputs": [],
   "source": [
    "def rm_inf(data):\n",
    "    print(data)\n",
    "    data = [0 if item == math.inf or item == -math.inf else item for item in data ]\n",
    "    #data = [0 for item in data if item == -math.inf]\n",
    "    return data"
   ]
  },
  {
   "cell_type": "code",
   "execution_count": 119,
   "metadata": {},
   "outputs": [],
   "source": [
    "def handler(context, event):\n",
    "    context.logger.info(\"Reading features from feature vector\")\n",
    "    \n",
    "    # Reading the data from feature service\n",
    "    df = fs.get_offline_features(\"stocks-vec\").to_dataframe()\n",
    "    df = df.dropna()\n",
    "    \n",
    "    data = df.values\n",
    "    \n",
    "    columns = [{'text': key, 'type': 'object'} for key in df.columns]\n",
    "    \n",
    "    response = [{'columns': columns,\n",
    "                'rows': data,\n",
    "                'type': 'table'}]\n",
    "    return response"
   ]
  },
  {
   "cell_type": "code",
   "execution_count": 120,
   "metadata": {},
   "outputs": [],
   "source": [
    "def init_context(context):\n",
    "    # Setting our enviornment\n",
    "    context.logger.info(\"Initalizing context & constructing featrure vector\")\n",
    "    setattr(context, 'PROJECT_NAME', os.getenv('PROJECT_NAME', 'stocks-' + os.getenv('V3IO_USERNAME')))\n",
    "    mlrun.set_environment(project=context.PROJECT_NAME)\n",
    "    \n",
    "    sym_to_url = {'GOOGL': 'google-inc', 'MSFT': 'microsoft-corp', 'AMZN': 'amazon-com-inc',\n",
    "                  'AAPL': 'apple-computer-inc', 'INTC' : 'intel-corp'}\n",
    "    setattr(context, 'sym_to_url', sym_to_url)\n",
    "    setattr(context, 'stocks_vec', \"stocks-vec\")\n",
    "    \n",
    "    # Declaring the features we would like to add to our vector\n",
    "    features = [\"stocks.Closes_min_1h\",\n",
    "                \"stocks.Closes_max_1h\",\n",
    "                \"stocks.Volumes_min_1h\",\n",
    "                \"stocks.Volumes_max_1h\",\n",
    "                \"stocks.Open\",\n",
    "                \"stocks.High\",\n",
    "                \"stocks.Low\",\n",
    "                \"stocks.Close\",\n",
    "                \"stocks.Volume\",\n",
    "#                 \"news.Content\",\n",
    "#                 \"news.Link\",\n",
    "                \"news.Sentiment\"]\n",
    "#     features = [\"stocks.*\", \"news.*\"]\n",
    "    \n",
    "    # Making our vector\n",
    "    vector = fs.FeatureVector(context.stocks_vec, features, description=\"stocks demo feature vector\")\n",
    "    vector.save()"
   ]
  },
  {
   "cell_type": "code",
   "execution_count": 121,
   "metadata": {},
   "outputs": [],
   "source": [
    "# nuclio: end-code"
   ]
  },
  {
   "cell_type": "code",
   "execution_count": 117,
   "metadata": {},
   "outputs": [
    {
     "name": "stdout",
     "output_type": "stream",
     "text": [
      "Python> 2021-06-23 09:26:06,339 [info] Initalizing context & constructing featrure vector\n",
      "Python> 2021-06-23 09:26:06,426 [info] Reading features from feature vector\n"
     ]
    }
   ],
   "source": [
    "# test local\n",
    "init_context(context)\n",
    "event = \"\"#nuclio.Event(body='')\n",
    "df = handler(context,event)"
   ]
  },
  {
   "cell_type": "code",
   "execution_count": 124,
   "metadata": {},
   "outputs": [],
   "source": [
    "# test remote deployment\n",
    "from mlrun import code_to_function\n",
    "fn = code_to_function('vector_reader',\n",
    "                      handler='handler')\n",
    "\n",
    "# Set parameters for current deployment\n",
    "fn.set_envs({'PROJECT_NAME' : 'stocks-dani',\n",
    "             'STOCKS_STREAM':  os.getenv('V3IO_USERNAME') +' /stocks/stocks_stream'})\n",
    "fn.spec.max_replicas = 2"
   ]
  },
  {
   "cell_type": "code",
   "execution_count": 125,
   "metadata": {},
   "outputs": [
    {
     "name": "stdout",
     "output_type": "stream",
     "text": [
      "> 2021-06-23 09:27:46,711 [info] Starting remote function deploy\n",
      "2021-06-23 09:27:47  (info) Deploying function\n",
      "2021-06-23 09:27:47  (info) Building\n",
      "2021-06-23 09:27:48  (info) Staging files and preparing base images\n",
      "2021-06-23 09:27:48  (info) Building processor image\n",
      "2021-06-23 09:28:08  (info) Build complete\n",
      "2021-06-23 09:28:21  (info) Function deploy complete\n",
      "> 2021-06-23 09:28:21,884 [info] function deployed, address=default-tenant.app.vmdev31.lab.iguazeng.com:32572\n"
     ]
    }
   ],
   "source": [
    "addr = fn.deploy(project='stocks-dani')"
   ]
  },
  {
   "cell_type": "code",
   "execution_count": 126,
   "metadata": {},
   "outputs": [
    {
     "name": "stdout",
     "output_type": "stream",
     "text": [
      "[{\"columns\": [{\"text\": \"Closes_min_1h\", \"type\": \"object\"}, {\"text\": \"Closes_max_1h\", \"type\": \"object\"}, {\"text\": \"Volumes_min_1h\", \"type\": \"object\"}, {\"text\": \"Volumes_max_1h\", \"type\": \"object\"}, {\"text\": \"Open\", \"type\": \"object\"}, {\"text\": \"High\", \"type\": \"object\"}, {\"text\": \"Low\", \"type\": \"object\"}, {\"text\": \"Close\", \"type\": \"object\"}, {\"text\": \"Volume\", \"type\": \"object\"}, {\"text\": \"Sentiment\", \"type\": \"object\"}], \"rows\": \"array([[2.61696014e+02, 2.62312805e+02, 1.31510000e+04, ...,\\n        2.62312805e+02, 2.14820000e+04, 0.00000000e+00],\\n       [2.61696014e+02, 2.62359985e+02, 1.31510000e+04, ...,\\n        2.62359985e+02, 4.39850000e+04, 0.00000000e+00],\\n       [2.61696014e+02, 2.62359985e+02, 1.31510000e+04, ...,\\n        2.62309998e+02, 2.34850000e+04, 0.00000000e+00],\\n       ...,\\n       [2.65079987e+02, 2.65769989e+02, 2.50130000e+04, ...,\\n        2.65130005e+02, 1.18529000e+05, 0.00000000e+00],\\n       [2.43975000e+03, 2.44800000e+03, 7.21000000e+02, ...,\\n        2.44661011e+03, 2.89830000e+04, 0.00000000e+00],\\n       [2.65079987e+02, 2.65769989e+02, 2.50130000e+04, ...,\\n        2.65510010e+02, 2.83208000e+05, 0.00000000e+00]])\", \"type\": \"table\"}]"
     ]
    }
   ],
   "source": [
    "!curl {addr}"
   ]
  },
  {
   "cell_type": "code",
   "execution_count": null,
   "metadata": {},
   "outputs": [],
   "source": []
  }
 ],
 "metadata": {
  "kernelspec": {
   "display_name": "Python 3",
   "language": "python",
   "name": "python3"
  },
  "language_info": {
   "codemirror_mode": {
    "name": "ipython",
    "version": 3
   },
   "file_extension": ".py",
   "mimetype": "text/x-python",
   "name": "python",
   "nbconvert_exporter": "python",
   "pygments_lexer": "ipython3",
   "version": "3.7.6"
  }
 },
 "nbformat": 4,
 "nbformat_minor": 4
}
