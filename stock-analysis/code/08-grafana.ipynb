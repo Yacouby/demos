{
 "cells": [
  {
   "cell_type": "markdown",
   "metadata": {},
   "source": [
    "## Deploy a Grafana Dashboard  \n",
    "To track the different stocks on a live dashboard we will use **Grafana**.  <br>\n",
    "We will use [Grafwiz](https://github.com/v3io/grafwiz) to define and deploy the dashboard directly from this notebook"
   ]
  },
  {
   "cell_type": "code",
   "execution_count": 7,
   "metadata": {},
   "outputs": [],
   "source": [
    "# nuclio: ignore\n",
    "import nuclio"
   ]
  },
  {
   "cell_type": "code",
   "execution_count": 8,
   "metadata": {},
   "outputs": [],
   "source": [
    "# nuclio: start-code"
   ]
  },
  {
   "cell_type": "code",
   "execution_count": 9,
   "metadata": {},
   "outputs": [],
   "source": [
    "from grafwiz import *\n",
    "import os\n",
    "import v3io_frames as v3f"
   ]
  },
  {
   "cell_type": "code",
   "execution_count": 10,
   "metadata": {},
   "outputs": [],
   "source": [
    "def handler(context,streamview_url,readvector_url,rnn_serving_url,v3io_container,stocks_kv,stocks_tsdb,grafana_url):\n",
    "    \n",
    "    context.logger.info(\"Initializing DataSources1\")\n",
    "    context.logger.info(streamview_url)\n",
    "    context.logger.info(readvector_url)\n",
    "    \n",
    "    DataSource(name='iguazio').deploy(grafana_url, use_auth=True)\n",
    "    DataSource(name='stream-viewer', frames_url=streamview_url).deploy(grafana_url, use_auth=False, overwrite=False)\n",
    "    DataSource(name='read-vector', frames_url=readvector_url).deploy(grafana_url, use_auth=False, overwrite=False)\n",
    "    DataSource(name='rnn-serving', frames_url=rnn_serving_url).deploy(grafana_url, use_auth=False, overwrite=False)\n",
    "    \n",
    "    dash = Dashboard(\"stocks\", start='now-7d', dataSource='iguazio')\n",
    "    \n",
    "    # Add a symbol combo box (template) with data from the stocks table\n",
    "    dash.template(name=\"SYMBOL\", label=\"Symbol\", query=\"fields=symbol;table=\" + os.getenv('V3IO_USERNAME') + \"/stocks/stocks_kv;backend=kv;container=users\")\n",
    "\n",
    "    # Create a table and log viewer in one row\n",
    "    tbl = Table('Current Stocks Value', span=12).source(table=stocks_kv,fields=['symbol','price', 'volume','last_updated'],container=v3io_container)\n",
    "    dash.row([tbl])\n",
    "    \n",
    "    # Create 2 charts on the second row\n",
    "    metrics_row = [Graph(metric).series(table=stocks_tsdb, fields=[metric], filter='symbol==\"$SYMBOL\"',container=v3io_container) for metric in ['price','volume']]\n",
    "    dash.row(metrics_row)\n",
    "    \n",
    "    log = Table('Articles Log', dataSource='stream-viewer', span=12)\n",
    "    dash.row([log])\n",
    "\n",
    "    log = Table('Vector Log', dataSource='read-vector', span=12)\n",
    "    dash.row([log])\n",
    "    \n",
    "    log = Table('Predictions', dataSource='rnn-serving', span=12)\n",
    "    dash.row([log])\n",
    "    \n",
    "    dash.deploy(grafana_url)\n",
    "    \n",
    "    return \"Done\""
   ]
  },
  {
   "cell_type": "code",
   "execution_count": 11,
   "metadata": {},
   "outputs": [],
   "source": [
    "def init_context(context):\n",
    "    context.logger.info(\"init context\") "
   ]
  },
  {
   "cell_type": "code",
   "execution_count": 12,
   "metadata": {},
   "outputs": [],
   "source": [
    "# nuclio: end-code"
   ]
  },
  {
   "cell_type": "code",
   "execution_count": 13,
   "metadata": {},
   "outputs": [
    {
     "name": "stdout",
     "output_type": "stream",
     "text": [
      "Python> 2021-09-29 08:29:55,910 [info] init context\n",
      "Python> 2021-09-29 08:29:55,911 [info] Initializing DataSources1\n",
      "Python> 2021-09-29 08:29:55,912 [info] http://default-tenant.app.dev8.lab.iguazeng.com:32272\n",
      "Python> 2021-09-29 08:29:55,912 [info] http://default-tenant.app.dev8.lab.iguazeng.com:32565\n",
      "Datasource iguazio already exists\n",
      "Datasource iguazio created successfully\n",
      "Datasource stream-viewer created successfully\n",
      "Datasource read-vector created successfully\n",
      "Datasource rnn-serving created successfully\n",
      "Dashboard stocks created successfully\n"
     ]
    }
   ],
   "source": [
    "# create a test event and invoke the function locally\n",
    "init_context(context)\n",
    "event = nuclio.Event(body='')\n",
    "resp = handler(context,\n",
    "               \"\", # here you need to insert the nuclio function endpoint - streamview_url\n",
    "               \"\", # here you need to insert the nuclio function endpoint - readvector_url\n",
    "               \"\", # here you need to insert the nuclio function endpoint - rnn_serving_url\n",
    "               \"users\",\n",
    "               os.getenv('V3IO_USERNAME')  + 'stocks/stocks_kv',\n",
    "               os.getenv('V3IO_USERNAME') + '/stocks/stocks_tsdb', \n",
    "               \"http://grafana\")"
   ]
  },
  {
   "cell_type": "code",
   "execution_count": 19,
   "metadata": {},
   "outputs": [
    {
     "name": "stdout",
     "output_type": "stream",
     "text": [
      "> 2021-09-29 09:29:21,647 [info] Started building image: .mlrun/func-default-grafana-tryout:latest\n",
      "E0929 09:30:04.637148       1 aws_credentials.go:77] while getting AWS credentials NoCredentialProviders: no valid providers in chain. Deprecated.\n",
      "\tFor verbose messaging see aws.Config.CredentialsChainVerboseErrors\n",
      "\u001b[36mINFO\u001b[0m[0040] Retrieving image manifest mlrun/mlrun:0.7.0-rc7 \n",
      "\u001b[36mINFO\u001b[0m[0042] Retrieving image manifest mlrun/mlrun:0.7.0-rc7 \n",
      "\u001b[36mINFO\u001b[0m[0045] Built cross stage deps: map[]                \n",
      "\u001b[36mINFO\u001b[0m[0045] Retrieving image manifest mlrun/mlrun:0.7.0-rc7 \n",
      "\u001b[36mINFO\u001b[0m[0047] Retrieving image manifest mlrun/mlrun:0.7.0-rc7 \n",
      "\u001b[36mINFO\u001b[0m[0049] Executing 0 build triggers                   \n",
      "\u001b[36mINFO\u001b[0m[0049] Unpacking rootfs as cmd RUN pip install git+https://github.com/v3io/grafwiz --upgrade requires it. \n",
      "\u001b[36mINFO\u001b[0m[0074] RUN pip install git+https://github.com/v3io/grafwiz --upgrade \n",
      "\u001b[36mINFO\u001b[0m[0074] Taking snapshot of full filesystem...        \n",
      "\u001b[36mINFO\u001b[0m[0081] cmd: /bin/sh                                 \n",
      "\u001b[36mINFO\u001b[0m[0081] args: [-c pip install git+https://github.com/v3io/grafwiz --upgrade] \n",
      "\u001b[36mINFO\u001b[0m[0081] Running: [/bin/sh -c pip install git+https://github.com/v3io/grafwiz --upgrade] \n",
      "Collecting git+https://github.com/v3io/grafwiz\n",
      "  Cloning https://github.com/v3io/grafwiz to /tmp/pip-req-build-m348vgog\n",
      "Collecting grafanalib==0.5.3\n",
      "  Downloading grafanalib-0.5.3-py3-none-any.whl (26 kB)\n",
      "Collecting attrs==19.1.0\n",
      "  Downloading attrs-19.1.0-py2.py3-none-any.whl (35 kB)\n",
      "Building wheels for collected packages: grafwiz\n",
      "  Building wheel for grafwiz (setup.py): started\n",
      "  Building wheel for grafwiz (setup.py): finished with status 'done'\n",
      "  Created wheel for grafwiz: filename=grafwiz-_0.1.0_-py3-none-any.whl size=9302 sha256=3432ee15b503f2a12aa2e726f3b058b9660d79209cbe61a5b5360f6e07716213\n",
      "  Stored in directory: /tmp/pip-ephem-wheel-cache-1_w4j92_/wheels/2f/6d/71/443942a9d87f91125fc43e7353667ca41489b2fa023fd0fc48\n",
      "Successfully built grafwiz\n",
      "Installing collected packages: attrs, grafanalib, grafwiz\n",
      "  Attempting uninstall: attrs\n",
      "    Found existing installation: attrs 21.2.0\n",
      "    Uninstalling attrs-21.2.0:\n",
      "      Successfully uninstalled attrs-21.2.0\n",
      "Successfully installed attrs-19.1.0 grafanalib-0.5.3 grafwiz--0.1.0-\n",
      "WARNING: You are using pip version 20.2.4; however, version 21.2.4 is available.\n",
      "You should consider upgrading via the '/usr/local/bin/python -m pip install --upgrade pip' command.\n",
      "\u001b[36mINFO\u001b[0m[0085] Taking snapshot of full filesystem...        \n",
      "\u001b[36mINFO\u001b[0m[0086] RUN pip install v3io_frames                  \n",
      "\u001b[36mINFO\u001b[0m[0086] cmd: /bin/sh                                 \n",
      "\u001b[36mINFO\u001b[0m[0086] args: [-c pip install v3io_frames]           \n",
      "\u001b[36mINFO\u001b[0m[0086] Running: [/bin/sh -c pip install v3io_frames] \n",
      "Requirement already satisfied: v3io_frames in /usr/local/lib/python3.7/site-packages (0.8.17)\n",
      "Requirement already satisfied: grpcio<1.33,>=1.30 in /usr/local/lib/python3.7/site-packages (from v3io_frames) (1.32.0)\n",
      "Requirement already satisfied: requests>=2.19.1 in /usr/local/lib/python3.7/site-packages (from v3io_frames) (2.26.0)\n",
      "Requirement already satisfied: pandas>=0.23.4 in /usr/local/lib/python3.7/site-packages (from v3io_frames) (1.3.2)\n",
      "Requirement already satisfied: googleapis-common-protos>=1.5.3 in /usr/local/lib/python3.7/site-packages (from v3io_frames) (1.53.0)\n",
      "Requirement already satisfied: grpcio-tools<1.33,>=1.30 in /usr/local/lib/python3.7/site-packages (from v3io_frames) (1.32.0)\n",
      "Requirement already satisfied: six>=1.5.2 in /usr/local/lib/python3.7/site-packages (from grpcio<1.33,>=1.30->v3io_frames) (1.16.0)\n",
      "Requirement already satisfied: charset-normalizer~=2.0.0; python_version >= \"3\" in /usr/local/lib/python3.7/site-packages (from requests>=2.19.1->v3io_frames) (2.0.4)\n",
      "Requirement already satisfied: certifi>=2017.4.17 in /usr/local/lib/python3.7/site-packages (from requests>=2.19.1->v3io_frames) (2021.5.30)\n",
      "Requirement already satisfied: urllib3<1.27,>=1.21.1 in /usr/local/lib/python3.7/site-packages (from requests>=2.19.1->v3io_frames) (1.26.6)\n",
      "Requirement already satisfied: idna<4,>=2.5; python_version >= \"3\" in /usr/local/lib/python3.7/site-packages (from requests>=2.19.1->v3io_frames) (3.2)\n",
      "Requirement already satisfied: pytz>=2017.3 in /usr/local/lib/python3.7/site-packages (from pandas>=0.23.4->v3io_frames) (2021.1)\n",
      "Requirement already satisfied: python-dateutil>=2.7.3 in /usr/local/lib/python3.7/site-packages (from pandas>=0.23.4->v3io_frames) (2.8.2)\n",
      "Requirement already satisfied: numpy>=1.17.3 in /usr/local/lib/python3.7/site-packages (from pandas>=0.23.4->v3io_frames) (1.19.5)\n",
      "Requirement already satisfied: protobuf>=3.12.0 in /usr/local/lib/python3.7/site-packages (from googleapis-common-protos>=1.5.3->v3io_frames) (3.17.3)\n",
      "WARNING: You are using pip version 20.2.4; however, version 21.2.4 is available.\n",
      "You should consider upgrading via the '/usr/local/bin/python -m pip install --upgrade pip' command.\n",
      "\u001b[36mINFO\u001b[0m[0088] Taking snapshot of full filesystem...        \n",
      "\u001b[36mINFO\u001b[0m[0089] RUN pip install attrs==19.1.0                \n",
      "\u001b[36mINFO\u001b[0m[0089] cmd: /bin/sh                                 \n",
      "\u001b[36mINFO\u001b[0m[0089] args: [-c pip install attrs==19.1.0]         \n",
      "\u001b[36mINFO\u001b[0m[0089] Running: [/bin/sh -c pip install attrs==19.1.0] \n",
      "Requirement already satisfied: attrs==19.1.0 in /usr/local/lib/python3.7/site-packages (19.1.0)\n",
      "WARNING: You are using pip version 20.2.4; however, version 21.2.4 is available.\n",
      "You should consider upgrading via the '/usr/local/bin/python -m pip install --upgrade pip' command.\n",
      "\u001b[36mINFO\u001b[0m[0091] Taking snapshot of full filesystem...        \n"
     ]
    },
    {
     "data": {
      "text/plain": [
       "True"
      ]
     },
     "execution_count": 19,
     "metadata": {},
     "output_type": "execute_result"
    }
   ],
   "source": [
    "import mlrun\n",
    "import os \n",
    "fn = mlrun.code_to_function('grafana-tryout',\n",
    "                      handler='handler', kind='job', image='mlrun/mlrun:0.6.5')\n",
    "\n",
    "fn.apply(mlrun.platforms.v3io_cred())\n",
    "fn.apply(mlrun.mount_v3io())\n",
    "fn.spec.build.commands = ['pip install git+https://github.com/v3io/grafwiz --upgrade', 'pip install v3io_frames', 'pip install attrs==19.1.0']\n",
    "fn.deploy()"
   ]
  },
  {
   "cell_type": "code",
   "execution_count": 20,
   "metadata": {},
   "outputs": [
    {
     "name": "stdout",
     "output_type": "stream",
     "text": [
      "> 2021-09-29 09:30:58,293 [info] starting run grafana-tryout-handler uid=3520bf1e09274c16928f333c1a5aa06f DB=http://mlrun-api:8080\n",
      "> 2021-09-29 09:30:58,496 [info] Job is running in the background, pod: grafana-tryout-handler-sx6dq\n",
      "> 2021-09-29 09:31:05,042 [info] Initializing DataSources1\n",
      "> 2021-09-29 09:31:05,042 [info] http://default-tenant.app.dev8.lab.iguazeng.com:32272\n",
      "> 2021-09-29 09:31:05,042 [info] http://default-tenant.app.dev8.lab.iguazeng.com:32565\n",
      "Datasource iguazio already exists\n",
      "Datasource iguazio created successfully\n",
      "Datasource stream-viewer already exists\n",
      "Datasource stream-viewer created successfully\n",
      "Datasource read-vector already exists\n",
      "Datasource read-vector created successfully\n",
      "Datasource rnn-serving already exists\n",
      "Datasource rnn-serving created successfully\n",
      "Dashboard stocks created successfully\n",
      "> 2021-09-29 09:31:05,268 [info] run executed, status=completed\n",
      "final state: completed\n"
     ]
    },
    {
     "data": {
      "text/html": [
       "<style>\n",
       ".dictlist {\n",
       "  background-color: #4EC64B;\n",
       "  text-align: center;\n",
       "  margin: 4px;\n",
       "  border-radius: 3px; padding: 0px 3px 1px 3px; display: inline-block;}\n",
       ".artifact {\n",
       "  cursor: pointer;\n",
       "  background-color: #4EC64B;\n",
       "  text-align: left;\n",
       "  margin: 4px; border-radius: 3px; padding: 0px 3px 1px 3px; display: inline-block;\n",
       "}\n",
       "div.block.hidden {\n",
       "  display: none;\n",
       "}\n",
       ".clickable {\n",
       "  cursor: pointer;\n",
       "}\n",
       ".ellipsis {\n",
       "  display: inline-block;\n",
       "  max-width: 60px;\n",
       "  white-space: nowrap;\n",
       "  overflow: hidden;\n",
       "  text-overflow: ellipsis;\n",
       "}\n",
       ".master-wrapper {\n",
       "  display: flex;\n",
       "  flex-flow: row nowrap;\n",
       "  justify-content: flex-start;\n",
       "  align-items: stretch;\n",
       "}\n",
       ".master-tbl {\n",
       "  flex: 3\n",
       "}\n",
       ".master-wrapper > div {\n",
       "  margin: 4px;\n",
       "  padding: 10px;\n",
       "}\n",
       "iframe.fileview {\n",
       "  border: 0 none;\n",
       "  height: 100%;\n",
       "  width: 100%;\n",
       "  white-space: pre-wrap;\n",
       "}\n",
       ".pane-header-title {\n",
       "  width: 80%;\n",
       "  font-weight: 500;\n",
       "}\n",
       ".pane-header {\n",
       "  line-height: 1;\n",
       "  background-color: #4EC64B;\n",
       "  padding: 3px;\n",
       "}\n",
       ".pane-header .close {\n",
       "  font-size: 20px;\n",
       "  font-weight: 700;\n",
       "  float: right;\n",
       "  margin-top: -5px;\n",
       "}\n",
       ".master-wrapper .right-pane {\n",
       "  border: 1px inset silver;\n",
       "  width: 40%;\n",
       "  min-height: 300px;\n",
       "  flex: 3\n",
       "  min-width: 500px;\n",
       "}\n",
       ".master-wrapper * {\n",
       "  box-sizing: border-box;\n",
       "}\n",
       "</style><script>\n",
       "function copyToClipboard(fld) {\n",
       "    if (document.queryCommandSupported && document.queryCommandSupported('copy')) {\n",
       "        var textarea = document.createElement('textarea');\n",
       "        textarea.textContent = fld.innerHTML;\n",
       "        textarea.style.position = 'fixed';\n",
       "        document.body.appendChild(textarea);\n",
       "        textarea.select();\n",
       "\n",
       "        try {\n",
       "            return document.execCommand('copy'); // Security exception may be thrown by some browsers.\n",
       "        } catch (ex) {\n",
       "\n",
       "        } finally {\n",
       "            document.body.removeChild(textarea);\n",
       "        }\n",
       "    }\n",
       "}\n",
       "function expandPanel(el) {\n",
       "  const panelName = \"#\" + el.getAttribute('paneName');\n",
       "  console.log(el.title);\n",
       "\n",
       "  document.querySelector(panelName + \"-title\").innerHTML = el.title\n",
       "  iframe = document.querySelector(panelName + \"-body\");\n",
       "\n",
       "  const tblcss = `<style> body { font-family: Arial, Helvetica, sans-serif;}\n",
       "    #csv { margin-bottom: 15px; }\n",
       "    #csv table { border-collapse: collapse;}\n",
       "    #csv table td { padding: 4px 8px; border: 1px solid silver;} </style>`;\n",
       "\n",
       "  function csvToHtmlTable(str) {\n",
       "    return '<div id=\"csv\"><table><tr><td>' +  str.replace(/[\\n\\r]+$/g, '').replace(/[\\n\\r]+/g, '</td></tr><tr><td>')\n",
       "      .replace(/,/g, '</td><td>') + '</td></tr></table></div>';\n",
       "  }\n",
       "\n",
       "  function reqListener () {\n",
       "    if (el.title.endsWith(\".csv\")) {\n",
       "      iframe.setAttribute(\"srcdoc\", tblcss + csvToHtmlTable(this.responseText));\n",
       "    } else {\n",
       "      iframe.setAttribute(\"srcdoc\", this.responseText);\n",
       "    }\n",
       "    console.log(this.responseText);\n",
       "  }\n",
       "\n",
       "  const oReq = new XMLHttpRequest();\n",
       "  oReq.addEventListener(\"load\", reqListener);\n",
       "  oReq.open(\"GET\", el.title);\n",
       "  oReq.send();\n",
       "\n",
       "\n",
       "  //iframe.src = el.title;\n",
       "  const resultPane = document.querySelector(panelName + \"-pane\");\n",
       "  if (resultPane.classList.contains(\"hidden\")) {\n",
       "    resultPane.classList.remove(\"hidden\");\n",
       "  }\n",
       "}\n",
       "function closePanel(el) {\n",
       "  const panelName = \"#\" + el.getAttribute('paneName')\n",
       "  const resultPane = document.querySelector(panelName + \"-pane\");\n",
       "  if (!resultPane.classList.contains(\"hidden\")) {\n",
       "    resultPane.classList.add(\"hidden\");\n",
       "  }\n",
       "}\n",
       "\n",
       "</script>\n",
       "<div class=\"master-wrapper\">\n",
       "  <div class=\"block master-tbl\"><div>\n",
       "<style scoped>\n",
       "    .dataframe tbody tr th:only-of-type {\n",
       "        vertical-align: middle;\n",
       "    }\n",
       "\n",
       "    .dataframe tbody tr th {\n",
       "        vertical-align: top;\n",
       "    }\n",
       "\n",
       "    .dataframe thead th {\n",
       "        text-align: right;\n",
       "    }\n",
       "</style>\n",
       "<table border=\"1\" class=\"dataframe\">\n",
       "  <thead>\n",
       "    <tr style=\"text-align: right;\">\n",
       "      <th>project</th>\n",
       "      <th>uid</th>\n",
       "      <th>iter</th>\n",
       "      <th>start</th>\n",
       "      <th>state</th>\n",
       "      <th>name</th>\n",
       "      <th>labels</th>\n",
       "      <th>inputs</th>\n",
       "      <th>parameters</th>\n",
       "      <th>results</th>\n",
       "      <th>artifacts</th>\n",
       "    </tr>\n",
       "  </thead>\n",
       "  <tbody>\n",
       "    <tr>\n",
       "      <td>stocks-dani</td>\n",
       "      <td><div title=\"3520bf1e09274c16928f333c1a5aa06f\"><a href=\"https://dashboard.default-tenant.app.dev8.lab.iguazeng.com/mlprojects/stocks-dani/jobs/monitor/3520bf1e09274c16928f333c1a5aa06f/overview\" target=\"_blank\" >...1a5aa06f</a></div></td>\n",
       "      <td>0</td>\n",
       "      <td>Sep 29 09:31:05</td>\n",
       "      <td>completed</td>\n",
       "      <td>grafana-tryout-handler</td>\n",
       "      <td><div class=\"dictlist\">v3io_user=dani</div><div class=\"dictlist\">kind=job</div><div class=\"dictlist\">owner=dani</div><div class=\"dictlist\">host=grafana-tryout-handler-sx6dq</div></td>\n",
       "      <td></td>\n",
       "      <td><div class=\"dictlist\">streamview_url=http://default-tenant.app.dev8.lab.iguazeng.com:32272</div><div class=\"dictlist\">readvector_url=http://default-tenant.app.dev8.lab.iguazeng.com:32565</div><div class=\"dictlist\">rnn_serving_url=http://default-tenant.app.dev8.lab.iguazeng.com:31789</div><div class=\"dictlist\">v3io_container=users</div><div class=\"dictlist\">stocks_kv=danistocks/stocks_kv</div><div class=\"dictlist\">stocks_tsdb=dani/stocks/stocks_tsdb</div><div class=\"dictlist\">grafana_url=http://grafana</div></td>\n",
       "      <td><div class=\"dictlist\">return=Done</div></td>\n",
       "      <td></td>\n",
       "    </tr>\n",
       "  </tbody>\n",
       "</table>\n",
       "</div></div>\n",
       "  <div id=\"result943a03c5-pane\" class=\"right-pane block hidden\">\n",
       "    <div class=\"pane-header\">\n",
       "      <span id=\"result943a03c5-title\" class=\"pane-header-title\">Title</span>\n",
       "      <span onclick=\"closePanel(this)\" paneName=\"result943a03c5\" class=\"close clickable\">&times;</span>\n",
       "    </div>\n",
       "    <iframe class=\"fileview\" id=\"result943a03c5-body\"></iframe>\n",
       "  </div>\n",
       "</div>\n"
      ],
      "text/plain": [
       "<IPython.core.display.HTML object>"
      ]
     },
     "metadata": {},
     "output_type": "display_data"
    },
    {
     "name": "stdout",
     "output_type": "stream",
     "text": [
      "\n"
     ]
    },
    {
     "data": {
      "text/html": [
       "<b> > to track results use the .show() or .logs() methods  or <a href=\"https://dashboard.default-tenant.app.dev8.lab.iguazeng.com/mlprojects/stocks-dani/jobs/monitor/3520bf1e09274c16928f333c1a5aa06f/overview\" target=\"_blank\">click here</a> to open in UI</b>"
      ],
      "text/plain": [
       "<IPython.core.display.HTML object>"
      ]
     },
     "metadata": {},
     "output_type": "display_data"
    },
    {
     "name": "stdout",
     "output_type": "stream",
     "text": [
      "> 2021-09-29 09:31:07,690 [info] run executed, status=completed\n"
     ]
    },
    {
     "data": {
      "text/plain": [
       "<mlrun.model.RunObject at 0x7f8f600294d0>"
      ]
     },
     "execution_count": 20,
     "metadata": {},
     "output_type": "execute_result"
    }
   ],
   "source": [
    "fn.run(project = \"stocks-\" + os.getenv('V3IO_USERNAME'),\n",
    "       params = {\"streamview_url\": \"\",# here you need to insert the nuclio function endpoint - streamview_url\n",
    "                           \"readvector_url\" : \"\",# here you need to insert the nuclio function endpoint - readvector_url\n",
    "                           \"rnn_serving_url\" : \"\",# here you need to insert the nuclio function endpoint - rnn_serving_url\n",
    "                           \"v3io_container\" : \"users\",\n",
    "                           \"stocks_kv\" : os.getenv('V3IO_USERNAME')  + 'stocks/stocks_kv',\n",
    "                           \"stocks_tsdb\" : os.getenv('V3IO_USERNAME') + '/stocks/stocks_tsdb',\n",
    "                           \"grafana_url\" : \"http://grafana\"})"
   ]
  }
 ],
 "metadata": {
  "kernelspec": {
   "display_name": "Python 3",
   "language": "python",
   "name": "python3"
  },
  "language_info": {
   "codemirror_mode": {
    "name": "ipython",
    "version": 3
   },
   "file_extension": ".py",
   "mimetype": "text/x-python",
   "name": "python",
   "nbconvert_exporter": "python",
   "pygments_lexer": "ipython3",
   "version": "3.7.6"
  }
 },
 "nbformat": 4,
 "nbformat_minor": 4
}
