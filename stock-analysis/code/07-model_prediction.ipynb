{
 "cells": [
  {
   "cell_type": "code",
   "execution_count": 20,
   "metadata": {},
   "outputs": [],
   "source": [
    "import nuclio "
   ]
  },
  {
   "cell_type": "code",
   "execution_count": 2,
   "metadata": {},
   "outputs": [],
   "source": [
    "# nuclio: start-code"
   ]
  },
  {
   "cell_type": "code",
   "execution_count": 19,
   "metadata": {},
   "outputs": [],
   "source": [
    "import mlrun.feature_store as fs\n",
    "import mlrun\n",
    "import datetime\n",
    "import pandas as pd\n",
    "from sklearn.preprocessing import MinMaxScaler\n",
    "import os\n",
    "import requests\n",
    "import json"
   ]
  },
  {
   "cell_type": "code",
   "execution_count": 21,
   "metadata": {},
   "outputs": [],
   "source": [
    "def modify_data(context,ticker_data):\n",
    "    ticker_to_int = {'GOOGL' : 0,'MSFT' : 1,'AMZN' : 2,'AAPL' : 3,'INTC' : 4}\n",
    "    ticker_data[\"symbol\"] = ticker_data[\"symbol\"].apply(lambda x: ticker_to_int.get(x))\n",
    "    for col in [x for x in ticker_data.columns if \"Open\" in x or \"Close\" in x or \"High\" in x or \"Low\" in x]:\n",
    "        ticker_data[[col]] = context.priceMMS.fit_transform(ticker_data[[col]])\n",
    "    for col in [x for x in ticker_data.columns if \"Volume\" in x]:\n",
    "        ticker_data[[col]] = context.volumeMMS.fit_transform(ticker_data[[col]])\n",
    "    for col in [x for x in ticker_data.columns if \"Sentiment\" in x]:\n",
    "        ticker_data[[col]] = context.sentimentMMS.fit_transform(ticker_data[[col]])\n",
    "        \n",
    "    return ticker_data"
   ]
  },
  {
   "cell_type": "code",
   "execution_count": 22,
   "metadata": {},
   "outputs": [],
   "source": [
    "def predict(context,data):\n",
    "    event_data = {'inputs': data}\n",
    "    endpoint = context.endpoint #+ \"/v2/models/model2/predict\"\n",
    "    resp = requests.put(endpoint, json=json.dumps(event_data))\n",
    "    return json.loads(resp.text)"
   ]
  },
  {
   "cell_type": "code",
   "execution_count": 39,
   "metadata": {},
   "outputs": [],
   "source": [
    "def handler(context,event):\n",
    "    start = datetime.datetime.now()-datetime.timedelta(5)\n",
    "    end = datetime.datetime.now()\n",
    "    data = fs.get_offline_features(\"stocks-vec\").to_dataframe()#,start_time = start, end_time = end,entity_timestamp_column=\"Datetime\").to_dataframe()\n",
    "    all_ticker_predictions = []\n",
    "    for ticker in context.sym_to_url.keys():\n",
    "        ticker_df = data[data[\"symbol\"] == ticker].fillna(0)\n",
    "        ticker_df = ticker_df.sort_values(by=[\"Datetime\"],ascending = True)[:10]\n",
    "        ticker_df = ticker_df.drop([\"Datetime\",\"Content\",\"Link\"], axis=1)\n",
    "        modified_ticker = modify_data(context,ticker_df)\n",
    "        context.logger.info(f\"predicting stock price for {ticker}\")\n",
    "        stock_prediction = predict(context,modified_ticker.values.reshape(1,ticker_df.shape[0],ticker_df.shape[1]).tolist())\n",
    "        stock_prediction = json.loads(stock_prediction[\"outputs\"])\n",
    "        all_ticker_predictions.append(context.priceMMS.inverse_transform(stock_prediction)[0][0])\n",
    "                \n",
    "    df = pd.DataFrame()\n",
    "    df[\"ticker\"] = context.sym_to_url.keys()\n",
    "    df[\"predicted\"] = all_ticker_predictions\n",
    "    \n",
    "    data = df.values.tolist()\n",
    "    \n",
    "    columns = [{'text': key, 'type': 'object'} for key in df.columns]\n",
    "    response = [{'columns': columns,\n",
    "                'rows': data,\n",
    "                'type': 'table'}]\n",
    "    return response"
   ]
  },
  {
   "cell_type": "code",
   "execution_count": 40,
   "metadata": {},
   "outputs": [],
   "source": [
    "def init_context(context):\n",
    "    context.logger.info(\"Initalizing context\")\n",
    "    setattr(context, 'PROJECT_NAME', os.getenv('PROJECT_NAME', \"stocks-\" + os.getenv('V3IO_USERNAME',\"dani\")))\n",
    "    setattr(context, 'ARTIFACT_PATH', os.getenv('ARTIFACT_PATH', './'))\n",
    "    mlrun.set_environment(project = context.PROJECT_NAME, artifact_path = context.ARTIFACT_PATH)\n",
    "    \n",
    "    setattr(context,'stocks_vec', os.getenv('stocks_vec',\"stocks-vec\"))\n",
    "    \n",
    "    sym_to_url = {'GOOGL': 'google-inc', 'MSFT': 'microsoft-corp', 'AMZN': 'amazon-com-inc',\n",
    "                'AAPL': 'apple-computer-inc', 'INTC' : 'intel-corp'}\n",
    "    setattr(context, 'sym_to_url', sym_to_url)\n",
    "    \n",
    "    setattr(context,\"priceMMS\",MinMaxScaler(feature_range = (0, 1)))\n",
    "    setattr(context,\"volumeMMS\",MinMaxScaler(feature_range = (0, 1)))\n",
    "    setattr(context,\"sentimentMMS\",MinMaxScaler(feature_range = (0, 1)))\n",
    "    \n",
    "    setattr(context,\"endpoint\",os.getenv('endpoint', \"\"))"
   ]
  },
  {
   "cell_type": "code",
   "execution_count": 41,
   "metadata": {},
   "outputs": [],
   "source": [
    "# nuclio: end-code"
   ]
  },
  {
   "cell_type": "code",
   "execution_count": null,
   "metadata": {},
   "outputs": [],
   "source": [
    "mlrun.set_environment(project=\"stocks-\" + os.getenv('V3IO_USERNAME'))\n",
    "init_context(context)\n",
    "data = handler(context,\"\")"
   ]
  },
  {
   "cell_type": "code",
   "execution_count": 12,
   "metadata": {},
   "outputs": [],
   "source": [
    "from mlrun import code_to_function\n",
    "import os\n",
    "import mlrun\n",
    "fn = code_to_function('rnn_model_prediction',\n",
    "                      handler='handler',kind ='nuclio', image='mlrun/mlrun:0.6.5')\n",
    "fn.apply(mlrun.auto_mount())\n",
    "# Set parameters for current deployment\n",
    "fn.set_envs({'PROJECT_NAME' : \"stocks-\" + os.getenv('V3IO_USERNAME'),\n",
    "             'STOCKS_STREAM':  os.getenv('V3IO_USERNAME') +' /stocks/stocks_stream',\n",
    "             'endpoint' : \"\", # if running manually - please remote below cell and insert rnn_serving endpoint\n",
    "             'ARTIFACT_PATH' :  \"v3io:///projects/\" + \"stocks-\" + os.getenv('V3IO_USERNAME') + '/artifacts'})\n",
    "fn.spec.max_replicas = 1"
   ]
  },
  {
   "cell_type": "code",
   "execution_count": 13,
   "metadata": {},
   "outputs": [
    {
     "name": "stdout",
     "output_type": "stream",
     "text": [
      "> 2021-09-29 08:04:02,067 [info] Starting remote function deploy\n",
      "2021-09-29 08:04:02  (info) Deploying function\n",
      "2021-09-29 08:04:02  (info) Building\n",
      "2021-09-29 08:04:02  (info) Staging files and preparing base images\n",
      "2021-09-29 08:04:02  (info) Building processor image\n",
      "2021-09-29 08:04:03  (info) Build complete\n",
      "> 2021-09-29 08:04:11,858 [info] successfully deployed function: {'internal_invocation_urls': ['nuclio-stocks-dani-rnn-model-prediction.default-tenant.svc.cluster.local:8080'], 'external_invocation_urls': ['default-tenant.app.dev8.lab.iguazeng.com:31789']}\n"
     ]
    }
   ],
   "source": [
    "addr = fn.deploy(project=\"stocks-\" + os.getenv('V3IO_USERNAME'))"
   ]
  },
  {
   "cell_type": "code",
   "execution_count": 14,
   "metadata": {},
   "outputs": [
    {
     "name": "stdout",
     "output_type": "stream",
     "text": [
      "[{\"columns\": [{\"text\": \"ticker\", \"type\": \"object\"}, {\"text\": \"predicted\", \"type\": \"object\"}], \"rows\": [[\"GOOGL\", 2781.563621066991], [\"MSFT\", 296.3408577446053], [\"AMZN\", 3345.6822047322635], [\"AAPL\", 144.10383379329778], [\"INTC\", 53.356361077707334]], \"type\": \"table\"}]"
     ]
    }
   ],
   "source": [
    "!curl {addr}"
   ]
  },
  {
   "cell_type": "markdown",
   "metadata": {},
   "source": [
    "if not running entire pipeline (this notebook seperatly) <br>\n",
    "please run below cells to deploy rnn serving function"
   ]
  },
  {
   "cell_type": "code",
   "execution_count": 10,
   "metadata": {},
   "outputs": [
    {
     "name": "stdout",
     "output_type": "stream",
     "text": [
      "> 2021-09-29 08:03:25,553 [info] Starting remote function deploy\n",
      "2021-09-29 08:03:25  (info) Deploying function\n",
      "2021-09-29 08:03:25  (info) Building\n",
      "2021-09-29 08:03:25  (info) Staging files and preparing base images\n",
      "2021-09-29 08:03:25  (info) Building processor image\n",
      "2021-09-29 08:03:27  (info) Build complete\n",
      "> 2021-09-29 08:03:37,581 [info] successfully deployed function: {'internal_invocation_urls': ['nuclio-default-rnn-serving.default-tenant.svc.cluster.local:8080'], 'external_invocation_urls': ['default-tenant.app.dev8.lab.iguazeng.com:31890']}\n"
     ]
    }
   ],
   "source": [
    "import mlrun\n",
    "import os\n",
    "\n",
    "fn = mlrun.import_function(\"hub://rnn_serving\",project = \"stocks-\" + os.getenv('V3IO_USERNAME'))\n",
    "fn.apply(mlrun.platforms.v3io_cred())\n",
    "fn.apply(mlrun.mount_v3io())\n",
    "\n",
    "fn.add_model(\"model2\",class_name=\"RNN_Model_Serving\",model_path = os.path.dirname(os.getcwd()) + \"/models\")\n",
    "addr = fn.deploy()"
   ]
  },
  {
   "cell_type": "code",
   "execution_count": 11,
   "metadata": {},
   "outputs": [
    {
     "name": "stdout",
     "output_type": "stream",
     "text": [
      "{\"name\": \"ModelRouter\", \"version\": \"v2\", \"extensions\": []}"
     ]
    }
   ],
   "source": [
    "!curl {addr}"
   ]
  },
  {
   "cell_type": "code",
   "execution_count": null,
   "metadata": {},
   "outputs": [],
   "source": []
  }
 ],
 "metadata": {
  "kernelspec": {
   "display_name": "Python 3",
   "language": "python",
   "name": "python3"
  },
  "language_info": {
   "codemirror_mode": {
    "name": "ipython",
    "version": 3
   },
   "file_extension": ".py",
   "mimetype": "text/x-python",
   "name": "python",
   "nbconvert_exporter": "python",
   "pygments_lexer": "ipython3",
   "version": "3.7.6"
  }
 },
 "nbformat": 4,
 "nbformat_minor": 4
}
