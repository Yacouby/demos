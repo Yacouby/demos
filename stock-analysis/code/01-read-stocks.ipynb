{
 "cells": [
  {
   "cell_type": "markdown",
   "metadata": {},
   "source": [
    "# Ingest Real-Time Stock Data to Iguazio NoSQL and Time-series DB\n",
    "the following example function ingest real-time stock information from an internet service (Yahoo finance api) into iguazio platform.<br>\n",
    "everytime the data is updated it updates a NoSQL table with the recent metadata and updates the time-series DB with the new metrics (price and volume)\n",
    "\n",
    "The same code can run inside a nuclio (serverless) function and be automatically triggered on a predefined schedule (cron) or through HTTP requests<br>\n",
    "\n",
    "the example demonstrate the use of `%nuclio` magic commands to specify environment variables, package dependencies,<br>configurations (such as the cron schedule), and to deploy functions automatically onto a cluster."
   ]
  },
  {
   "cell_type": "code",
   "execution_count": 1,
   "metadata": {},
   "outputs": [],
   "source": [
    "# if the nuclio-jupyter package is not installed run !pip install nuclio-jupyter\n",
    "import nuclio \n",
    "import os"
   ]
  },
  {
   "cell_type": "markdown",
   "metadata": {},
   "source": [
    "## Environment"
   ]
  },
  {
   "cell_type": "markdown",
   "metadata": {},
   "source": [
    "copy the local credentials to the nuclio function config (-c option doesn't initialize locally)"
   ]
  },
  {
   "cell_type": "code",
   "execution_count": 18,
   "metadata": {},
   "outputs": [],
   "source": [
    "%nuclio env -c V3IO_ACCESS_KEY=${V3IO_ACCESS_KEY}\n",
    "%nuclio env -c V3IO_USERNAME=${V3IO_USERNAME}\n",
    "%nuclio env -c V3IO_API=${V3IO_API}"
   ]
  },
  {
   "cell_type": "markdown",
   "metadata": {},
   "source": [
    "### Set function configuration \n",
    "use a cron trigger with 5min interval and define the base image<br>\n",
    "for more details check [nuclio function configuration reference](https://github.com/nuclio/nuclio/blob/master/docs/reference/function-configuration/function-configuration-reference.md)"
   ]
  },
  {
   "cell_type": "code",
   "execution_count": 19,
   "metadata": {},
   "outputs": [
    {
     "name": "stdout",
     "output_type": "stream",
     "text": [
      "%nuclio: setting kind to 'nuclio'\n",
      "%nuclio: setting spec.build.baseImage to 'mlrun/ml-models'\n"
     ]
    }
   ],
   "source": [
    "%%nuclio config \n",
    "kind = \"nuclio\"\n",
    "spec.build.baseImage = \"mlrun/ml-models\""
   ]
  },
  {
   "cell_type": "markdown",
   "metadata": {},
   "source": [
    "### Install required packages\n",
    "`%nuclio cmd` allows you to run image build instructions and install packages<br>\n",
    "Note: `-c` option will only install in nuclio, not locally"
   ]
  },
  {
   "cell_type": "code",
   "execution_count": 20,
   "metadata": {},
   "outputs": [],
   "source": [
    "%%nuclio cmd -c\n",
    "pip install lxml\n",
    "pip install yfinance\n",
    "pip install requests\n",
    "pip install v3io_frames"
   ]
  },
  {
   "cell_type": "code",
   "execution_count": 54,
   "metadata": {},
   "outputs": [
    {
     "name": "stdout",
     "output_type": "stream",
     "text": [
      "Collecting pandas==1.2.3\n",
      "  Downloading pandas-1.2.3-cp37-cp37m-manylinux1_x86_64.whl (9.9 MB)\n",
      "\u001b[K     |████████████████████████████████| 9.9 MB 5.2 MB/s eta 0:00:01\n",
      "\u001b[?25hRequirement already satisfied: pytz>=2017.3 in /conda/lib/python3.7/site-packages (from pandas==1.2.3) (2020.1)\n",
      "Requirement already satisfied: numpy>=1.16.5 in /conda/lib/python3.7/site-packages (from pandas==1.2.3) (1.19.2)\n",
      "Requirement already satisfied: python-dateutil>=2.7.3 in /conda/lib/python3.7/site-packages (from pandas==1.2.3) (2.8.1)\n",
      "Requirement already satisfied: six>=1.5 in /conda/lib/python3.7/site-packages (from python-dateutil>=2.7.3->pandas==1.2.3) (1.12.0)\n",
      "Installing collected packages: pandas\n",
      "  Attempting uninstall: pandas\n",
      "    Found existing installation: pandas 1.0.3\n",
      "    Uninstalling pandas-1.0.3:\n",
      "      Successfully uninstalled pandas-1.0.3\n",
      "Successfully installed pandas-1.2.3\n"
     ]
    }
   ],
   "source": [
    "!pip install pandas==1.2.3"
   ]
  },
  {
   "cell_type": "markdown",
   "metadata": {},
   "source": [
    "## Nuclio function implementation\n",
    "this function can run in Jupyter or in nuclio (real-time serverless)"
   ]
  },
  {
   "cell_type": "code",
   "execution_count": 6,
   "metadata": {},
   "outputs": [],
   "source": [
    "# nuclio: start-code"
   ]
  },
  {
   "cell_type": "code",
   "execution_count": 271,
   "metadata": {},
   "outputs": [],
   "source": [
    "import yfinance as yf\n",
    "import os\n",
    "import pandas as pd\n",
    "import v3io_frames as v3f\n",
    "import ast\n",
    "import mlrun.feature_store as fs\n",
    "import mlrun\n",
    "import datetime\n",
    "from mlrun.datastore.targets import ParquetTarget"
   ]
  },
  {
   "cell_type": "code",
   "execution_count": 170,
   "metadata": {},
   "outputs": [],
   "source": [
    "start = datetime.datetime.now()-datetime.timedelta(5)\n",
    "end = datetime.datetime.now()"
   ]
  },
  {
   "cell_type": "code",
   "execution_count": 172,
   "metadata": {},
   "outputs": [
    {
     "data": {
      "text/html": [
       "<div>\n",
       "<style scoped>\n",
       "    .dataframe tbody tr th:only-of-type {\n",
       "        vertical-align: middle;\n",
       "    }\n",
       "\n",
       "    .dataframe tbody tr th {\n",
       "        vertical-align: top;\n",
       "    }\n",
       "\n",
       "    .dataframe thead th {\n",
       "        text-align: right;\n",
       "    }\n",
       "</style>\n",
       "<table border=\"1\" class=\"dataframe\">\n",
       "  <thead>\n",
       "    <tr style=\"text-align: right;\">\n",
       "      <th></th>\n",
       "      <th>Open</th>\n",
       "      <th>High</th>\n",
       "      <th>Low</th>\n",
       "      <th>Close</th>\n",
       "      <th>Volume</th>\n",
       "      <th>Dividends</th>\n",
       "      <th>Stock Splits</th>\n",
       "    </tr>\n",
       "    <tr>\n",
       "      <th>Datetime</th>\n",
       "      <th></th>\n",
       "      <th></th>\n",
       "      <th></th>\n",
       "      <th></th>\n",
       "      <th></th>\n",
       "      <th></th>\n",
       "      <th></th>\n",
       "    </tr>\n",
       "  </thead>\n",
       "  <tbody>\n",
       "    <tr>\n",
       "      <th>2021-06-10 09:30:00-04:00</th>\n",
       "      <td>2406.919922</td>\n",
       "      <td>2410.000000</td>\n",
       "      <td>2403.780029</td>\n",
       "      <td>2410.000000</td>\n",
       "      <td>24985</td>\n",
       "      <td>0</td>\n",
       "      <td>0</td>\n",
       "    </tr>\n",
       "    <tr>\n",
       "      <th>2021-06-10 09:31:00-04:00</th>\n",
       "      <td>2410.750000</td>\n",
       "      <td>2416.209961</td>\n",
       "      <td>2408.465088</td>\n",
       "      <td>2416.010010</td>\n",
       "      <td>8467</td>\n",
       "      <td>0</td>\n",
       "      <td>0</td>\n",
       "    </tr>\n",
       "    <tr>\n",
       "      <th>2021-06-10 09:32:00-04:00</th>\n",
       "      <td>2414.790039</td>\n",
       "      <td>2416.729980</td>\n",
       "      <td>2413.947998</td>\n",
       "      <td>2415.665039</td>\n",
       "      <td>5223</td>\n",
       "      <td>0</td>\n",
       "      <td>0</td>\n",
       "    </tr>\n",
       "    <tr>\n",
       "      <th>2021-06-10 09:33:00-04:00</th>\n",
       "      <td>2416.520020</td>\n",
       "      <td>2418.860107</td>\n",
       "      <td>2416.399902</td>\n",
       "      <td>2418.669922</td>\n",
       "      <td>6340</td>\n",
       "      <td>0</td>\n",
       "      <td>0</td>\n",
       "    </tr>\n",
       "    <tr>\n",
       "      <th>2021-06-10 09:34:00-04:00</th>\n",
       "      <td>2418.574951</td>\n",
       "      <td>2420.320068</td>\n",
       "      <td>2418.574951</td>\n",
       "      <td>2419.379883</td>\n",
       "      <td>5728</td>\n",
       "      <td>0</td>\n",
       "      <td>0</td>\n",
       "    </tr>\n",
       "    <tr>\n",
       "      <th>...</th>\n",
       "      <td>...</td>\n",
       "      <td>...</td>\n",
       "      <td>...</td>\n",
       "      <td>...</td>\n",
       "      <td>...</td>\n",
       "      <td>...</td>\n",
       "      <td>...</td>\n",
       "    </tr>\n",
       "    <tr>\n",
       "      <th>2021-06-14 15:55:00-04:00</th>\n",
       "      <td>2447.617920</td>\n",
       "      <td>2447.617920</td>\n",
       "      <td>2446.340088</td>\n",
       "      <td>2446.340088</td>\n",
       "      <td>10902</td>\n",
       "      <td>0</td>\n",
       "      <td>0</td>\n",
       "    </tr>\n",
       "    <tr>\n",
       "      <th>2021-06-14 15:56:00-04:00</th>\n",
       "      <td>2445.870117</td>\n",
       "      <td>2446.790039</td>\n",
       "      <td>2445.449951</td>\n",
       "      <td>2445.899902</td>\n",
       "      <td>10903</td>\n",
       "      <td>0</td>\n",
       "      <td>0</td>\n",
       "    </tr>\n",
       "    <tr>\n",
       "      <th>2021-06-14 15:57:00-04:00</th>\n",
       "      <td>2445.770020</td>\n",
       "      <td>2446.949951</td>\n",
       "      <td>2445.669922</td>\n",
       "      <td>2446.949951</td>\n",
       "      <td>9279</td>\n",
       "      <td>0</td>\n",
       "      <td>0</td>\n",
       "    </tr>\n",
       "    <tr>\n",
       "      <th>2021-06-14 15:58:00-04:00</th>\n",
       "      <td>2446.820068</td>\n",
       "      <td>2447.840088</td>\n",
       "      <td>2446.000000</td>\n",
       "      <td>2447.699951</td>\n",
       "      <td>22700</td>\n",
       "      <td>0</td>\n",
       "      <td>0</td>\n",
       "    </tr>\n",
       "    <tr>\n",
       "      <th>2021-06-14 15:59:00-04:00</th>\n",
       "      <td>2447.324951</td>\n",
       "      <td>2448.919922</td>\n",
       "      <td>2444.429932</td>\n",
       "      <td>2448.919922</td>\n",
       "      <td>36204</td>\n",
       "      <td>0</td>\n",
       "      <td>0</td>\n",
       "    </tr>\n",
       "  </tbody>\n",
       "</table>\n",
       "<p>1079 rows × 7 columns</p>\n",
       "</div>"
      ],
      "text/plain": [
       "                                  Open         High          Low        Close  \\\n",
       "Datetime                                                                        \n",
       "2021-06-10 09:30:00-04:00  2406.919922  2410.000000  2403.780029  2410.000000   \n",
       "2021-06-10 09:31:00-04:00  2410.750000  2416.209961  2408.465088  2416.010010   \n",
       "2021-06-10 09:32:00-04:00  2414.790039  2416.729980  2413.947998  2415.665039   \n",
       "2021-06-10 09:33:00-04:00  2416.520020  2418.860107  2416.399902  2418.669922   \n",
       "2021-06-10 09:34:00-04:00  2418.574951  2420.320068  2418.574951  2419.379883   \n",
       "...                                ...          ...          ...          ...   \n",
       "2021-06-14 15:55:00-04:00  2447.617920  2447.617920  2446.340088  2446.340088   \n",
       "2021-06-14 15:56:00-04:00  2445.870117  2446.790039  2445.449951  2445.899902   \n",
       "2021-06-14 15:57:00-04:00  2445.770020  2446.949951  2445.669922  2446.949951   \n",
       "2021-06-14 15:58:00-04:00  2446.820068  2447.840088  2446.000000  2447.699951   \n",
       "2021-06-14 15:59:00-04:00  2447.324951  2448.919922  2444.429932  2448.919922   \n",
       "\n",
       "                           Volume  Dividends  Stock Splits  \n",
       "Datetime                                                    \n",
       "2021-06-10 09:30:00-04:00   24985          0             0  \n",
       "2021-06-10 09:31:00-04:00    8467          0             0  \n",
       "2021-06-10 09:32:00-04:00    5223          0             0  \n",
       "2021-06-10 09:33:00-04:00    6340          0             0  \n",
       "2021-06-10 09:34:00-04:00    5728          0             0  \n",
       "...                           ...        ...           ...  \n",
       "2021-06-14 15:55:00-04:00   10902          0             0  \n",
       "2021-06-14 15:56:00-04:00   10903          0             0  \n",
       "2021-06-14 15:57:00-04:00    9279          0             0  \n",
       "2021-06-14 15:58:00-04:00   22700          0             0  \n",
       "2021-06-14 15:59:00-04:00   36204          0             0  \n",
       "\n",
       "[1079 rows x 7 columns]"
      ]
     },
     "execution_count": 172,
     "metadata": {},
     "output_type": "execute_result"
    }
   ],
   "source": [
    "yf.Ticker(\"GOOGL\").history(start=start, end=end,interval = \"1m\")"
   ]
  },
  {
   "cell_type": "code",
   "execution_count": 272,
   "metadata": {},
   "outputs": [],
   "source": [
    "def update_tickers(context, start, end, interval):\n",
    "    all_records=[]\n",
    "    stocks_df = pd.DataFrame()\n",
    "    for sym in context.stock_syms:\n",
    "        hist = yf.Ticker(sym).history(start=start, end=end,interval=interval).drop([\"Dividends\",\"Stock Splits\"],axis=1)\n",
    "        time = hist.index[len(hist) - 1]\n",
    "        record = hist.loc[time]\n",
    "        last = context.last_trade_times.get(sym)\n",
    "        if last:\n",
    "            hist = hist[hist.index>last]\n",
    "        context.logger.info(f'Received {sym} data from yfinance, including {len(hist)} candles ending at {last}')\n",
    "        # update the stocks table and TSDB metrics in case of new data\n",
    "        if not last or time > last:\n",
    "            fs_data = hist.copy().reset_index()\n",
    "            fs_data[\"symbol\"]=sym\n",
    "            fs_data.set_index(\"symbol\",inplace=True)\n",
    "            # ingesting new data to a featureset\n",
    "            context.logger.info(f\"Writing new dataframe with shape {fs_data.shape} to feature store\")\n",
    "            fs.ingest(context.stock_info_feature_set, fs_data, infer_options=fs.InferOptions.default())\n",
    "            \n",
    "            # update NoSQL table with stock data\n",
    "            stock = {'symbol': sym, 'price': record['Close'], 'volume': record['Volume'], 'last_updated': time}\n",
    "            #all_records.append(stock)\n",
    "            expr = context.expr_template.format(**stock)\n",
    "            context.logger.debug_with('update expression', symbol=sym, expr=expr)\n",
    "            context.v3c.execute('kv', context.stocks_kv_table, 'update', args={'key': sym, 'expression': expr})\n",
    "         \n",
    "            context.logger.info(f'Updated records from {last} to {time}')\n",
    "            # update time-series DB with price and volume metrics (use pandas dataframe with a single row, indexed by date)\n",
    "            context.last_trade_times[sym] = time\n",
    "            hist['symbol'] = sym\n",
    "            hist = hist.reset_index()\n",
    "            hist = hist.set_index(['Datetime', 'symbol'])\n",
    "            hist = hist.loc[:, ['Close', 'Volume']]\n",
    "            hist = hist.rename(columns={'Close': 'price', 'Volume': 'volume'})\n",
    "            stocks_df = stocks_df.append(hist)\n",
    "            context.logger.info(f'Added records {hist.shape[0]} records for {sym} to history')\n",
    "        else:\n",
    "            context.logger.info(f'No update was made, current TS: {last} vs. new data {time}')\n",
    "    \n",
    "    # inferring KV to create a scheme\n",
    "#     context.v3c.execute(\"kv\",table = context.stocks_kv_table, command = \"infer\")\n",
    "    \n",
    "    # write price and volume metrics to the Time-Series DB, add exchange label\n",
    "    if stocks_df.shape[0]>0:\n",
    "        stocks_df = stocks_df.sort_index(level=0)\n",
    "        context.logger.debug_with('writing data to TSDB', stocks=stocks_df)\n",
    "        stocks_df.to_csv('history.csv')\n",
    "        context.v3c.write(backend='tsdb', table=context.stocks_tsdb_table, dfs=stocks_df)\n"
   ]
  },
  {
   "cell_type": "code",
   "execution_count": 277,
   "metadata": {},
   "outputs": [],
   "source": [
    "def init_context(context):\n",
    "    context.logger.info(\"init stocks reader context\")\n",
    "    setattr(context, 'PROJECT_NAME', os.getenv('PROJECT_NAME', 'stocks-' + os.getenv('V3IO_USERNAME')))\n",
    "    mlrun.set_environment(project = context.PROJECT_NAME)\n",
    "    # Setup V3IO Client\n",
    "    setattr(context,\"V3IO_FRAMESD\", os.getenv(\"V3IO_FRAMESD\",'framesd:8081'))\n",
    "    client = v3f.Client(context.V3IO_FRAMESD, container=os.getenv('V3IO_CONTAINER', 'users'))\n",
    "    setattr(context, 'v3c', client)\n",
    "    \n",
    "    # Create V3IO Tables and add reference to context\n",
    "    setattr(context, 'stocks_kv_table', os.getenv('STOCKS_KV_TABLE', os.getenv('V3IO_USERNAME') + '/stocks/stocks_kv'))\n",
    "    setattr(context, 'stocks_tsdb_table', os.getenv('STOCKS_TSDB_TABLE', os.getenv('V3IO_USERNAME') + '/stocks/stocks_tsdb'))\n",
    "    context.v3c.create(backend='tsdb', table=context.stocks_tsdb_table, rate='1/m', if_exists=1)\n",
    "    \n",
    "    # Supply the feature set to ingest data to.\n",
    "    stocks_info_set = fs.FeatureSet(\"stocks\", entities=[fs.Entity(\"symbol\")],timestamp_key=\"Datetime\")\n",
    "    stocks_info_set.set_targets(targest=[ParquetTarget(partitioned=True,time_partitioning_granularity=[None, \"day\"])])\n",
    "    setattr(context,'stock_info_feature_set',stocks_info_set)\n",
    "    \n",
    "    # Adding aggregations\n",
    "    context.stock_info_feature_set.add_aggregation(\"Closes\",\"Close\",[\"min\",\"max\"],[\"1h\"])\n",
    "    context.stock_info_feature_set.add_aggregation(\"Volumes\",\"Volume\",[\"min\",\"max\"],[\"1h\"])\n",
    "    \n",
    "    # Initiazling featureset with dummy data that will be overtwritten later on\n",
    "#     stock_dummy = pd.DataFrame({\"symbol\":['GOOGL','MSFT','AMZN','AAPL','INTC'],\"price\":[0,0,0,0,0],\"volume\":[0,0,0,0,0],\"last_updated\":[0,0,0,0,0]})\n",
    "#     fs.ingest(context.stock_info_feature_set, stock_dummy, infer_options=fs.InferOptions.default())\n",
    "    \n",
    "    stocks = os.getenv('STOCK_LIST','GOOGL,MSFT,AMZN,AAPL,INTC')\n",
    "    if stocks.startswith('['):\n",
    "        stock_syms = ast.literal_eval(stocks)\n",
    "    else: \n",
    "        stock_syms = stocks.split(',')\n",
    "    setattr(context, 'stock_syms', stock_syms)\n",
    "    \n",
    "\n",
    "    # v3io update expression template \n",
    "    expr_template = os.getenv('EXPRESSION_TEMPLATE', \"symbol='{symbol}';price={price};volume={volume};last_updated='{last_updated}'\")\n",
    "    setattr(context, 'expr_template', expr_template)\n",
    "\n",
    "    last_trade_times = {}\n",
    "    setattr(context, 'last_trade_times', last_trade_times)\n",
    "    \n",
    "    # Run first initial data preperation\n",
    "    start = datetime.datetime.now()-datetime.timedelta(7)\n",
    "    end = datetime.datetime.now()-datetime.timedelta(3)\n",
    "    s_df = update_tickers(context, start=start, end=end,interval=\"1m\")\n",
    "    "
   ]
  },
  {
   "cell_type": "code",
   "execution_count": 278,
   "metadata": {},
   "outputs": [],
   "source": [
    "def handler(context):\n",
    "    start = datetime.datetime.now()-datetime.timedelta(5)\n",
    "    end = datetime.datetime.now()\n",
    "    stocks_df = update_tickers(context, start=start, end=end,interval=\"1m\")\n",
    "    return stocks_df"
   ]
  },
  {
   "cell_type": "code",
   "execution_count": 279,
   "metadata": {},
   "outputs": [],
   "source": [
    "# nuclio: end-code"
   ]
  },
  {
   "cell_type": "markdown",
   "metadata": {},
   "source": [
    "## Function invocation\n",
    "### Local test\n",
    "the following section simulates nuclio function invocation and will emit the function results"
   ]
  },
  {
   "cell_type": "code",
   "execution_count": 280,
   "metadata": {},
   "outputs": [
    {
     "name": "stdout",
     "output_type": "stream",
     "text": [
      "Python> 2021-06-15 12:02:34,761 [info] init stocks reader context\n"
     ]
    },
    {
     "ename": "TypeError",
     "evalue": "__init__() got an unexpected keyword argument 'partitioned'",
     "output_type": "error",
     "traceback": [
      "\u001b[0;31m---------------------------------------------------------------------------\u001b[0m",
      "\u001b[0;31mTypeError\u001b[0m                                 Traceback (most recent call last)",
      "\u001b[0;32m<ipython-input-280-3d04c569ef20>\u001b[0m in \u001b[0;36m<module>\u001b[0;34m\u001b[0m\n\u001b[1;32m      1\u001b[0m \u001b[0;31m# create a test event and invoke the function locally\u001b[0m\u001b[0;34m\u001b[0m\u001b[0;34m\u001b[0m\u001b[0;34m\u001b[0m\u001b[0m\n\u001b[0;32m----> 2\u001b[0;31m \u001b[0ms_df1\u001b[0m\u001b[0;34m=\u001b[0m\u001b[0minit_context\u001b[0m\u001b[0;34m(\u001b[0m\u001b[0mcontext\u001b[0m\u001b[0;34m)\u001b[0m\u001b[0;34m\u001b[0m\u001b[0;34m\u001b[0m\u001b[0m\n\u001b[0m\u001b[1;32m      3\u001b[0m \u001b[0ms_df2\u001b[0m\u001b[0;34m=\u001b[0m\u001b[0mhandler\u001b[0m\u001b[0;34m(\u001b[0m\u001b[0mcontext\u001b[0m\u001b[0;34m)\u001b[0m\u001b[0;34m\u001b[0m\u001b[0;34m\u001b[0m\u001b[0m\n",
      "\u001b[0;32m<ipython-input-277-e66c68045cc9>\u001b[0m in \u001b[0;36minit_context\u001b[0;34m(context)\u001b[0m\n\u001b[1;32m     15\u001b[0m     \u001b[0;31m# Supply the feature set to ingest data to.\u001b[0m\u001b[0;34m\u001b[0m\u001b[0;34m\u001b[0m\u001b[0;34m\u001b[0m\u001b[0m\n\u001b[1;32m     16\u001b[0m     \u001b[0mstocks_info_set\u001b[0m \u001b[0;34m=\u001b[0m \u001b[0mfs\u001b[0m\u001b[0;34m.\u001b[0m\u001b[0mFeatureSet\u001b[0m\u001b[0;34m(\u001b[0m\u001b[0;34m\"stocks\"\u001b[0m\u001b[0;34m,\u001b[0m \u001b[0mentities\u001b[0m\u001b[0;34m=\u001b[0m\u001b[0;34m[\u001b[0m\u001b[0mfs\u001b[0m\u001b[0;34m.\u001b[0m\u001b[0mEntity\u001b[0m\u001b[0;34m(\u001b[0m\u001b[0;34m\"symbol\"\u001b[0m\u001b[0;34m)\u001b[0m\u001b[0;34m]\u001b[0m\u001b[0;34m,\u001b[0m\u001b[0mtimestamp_key\u001b[0m\u001b[0;34m=\u001b[0m\u001b[0;34m\"Datetime\"\u001b[0m\u001b[0;34m)\u001b[0m\u001b[0;34m\u001b[0m\u001b[0;34m\u001b[0m\u001b[0m\n\u001b[0;32m---> 17\u001b[0;31m     \u001b[0mstocks_info_set\u001b[0m\u001b[0;34m.\u001b[0m\u001b[0mset_targets\u001b[0m\u001b[0;34m(\u001b[0m\u001b[0mtargest\u001b[0m\u001b[0;34m=\u001b[0m\u001b[0;34m[\u001b[0m\u001b[0mParquetTarget\u001b[0m\u001b[0;34m(\u001b[0m\u001b[0mpartitioned\u001b[0m\u001b[0;34m=\u001b[0m\u001b[0;32mTrue\u001b[0m\u001b[0;34m,\u001b[0m\u001b[0mtime_partitioning_granularity\u001b[0m\u001b[0;34m=\u001b[0m\u001b[0;34m[\u001b[0m\u001b[0;32mNone\u001b[0m\u001b[0;34m,\u001b[0m \u001b[0;34m\"day\"\u001b[0m\u001b[0;34m]\u001b[0m\u001b[0;34m)\u001b[0m\u001b[0;34m]\u001b[0m\u001b[0;34m)\u001b[0m\u001b[0;34m\u001b[0m\u001b[0;34m\u001b[0m\u001b[0m\n\u001b[0m\u001b[1;32m     18\u001b[0m     \u001b[0msetattr\u001b[0m\u001b[0;34m(\u001b[0m\u001b[0mcontext\u001b[0m\u001b[0;34m,\u001b[0m\u001b[0;34m'stock_info_feature_set'\u001b[0m\u001b[0;34m,\u001b[0m\u001b[0mstocks_info_set\u001b[0m\u001b[0;34m)\u001b[0m\u001b[0;34m\u001b[0m\u001b[0;34m\u001b[0m\u001b[0m\n\u001b[1;32m     19\u001b[0m \u001b[0;34m\u001b[0m\u001b[0m\n",
      "\u001b[0;31mTypeError\u001b[0m: __init__() got an unexpected keyword argument 'partitioned'"
     ]
    }
   ],
   "source": [
    "# create a test event and invoke the function locally \n",
    "s_df1=init_context(context)\n",
    "s_df2=handler(context)"
   ]
  },
  {
   "cell_type": "code",
   "execution_count": 206,
   "metadata": {},
   "outputs": [],
   "source": [
    "s_df1"
   ]
  },
  {
   "cell_type": "code",
   "execution_count": 207,
   "metadata": {},
   "outputs": [
    {
     "data": {
      "text/html": [
       "<div>\n",
       "<style scoped>\n",
       "    .dataframe tbody tr th:only-of-type {\n",
       "        vertical-align: middle;\n",
       "    }\n",
       "\n",
       "    .dataframe tbody tr th {\n",
       "        vertical-align: top;\n",
       "    }\n",
       "\n",
       "    .dataframe thead th {\n",
       "        text-align: right;\n",
       "    }\n",
       "</style>\n",
       "<table border=\"1\" class=\"dataframe\">\n",
       "  <thead>\n",
       "    <tr style=\"text-align: right;\">\n",
       "      <th></th>\n",
       "      <th>Datetime</th>\n",
       "      <th>Open</th>\n",
       "      <th>High</th>\n",
       "      <th>Low</th>\n",
       "      <th>Close</th>\n",
       "      <th>Volume</th>\n",
       "    </tr>\n",
       "    <tr>\n",
       "      <th>symbol</th>\n",
       "      <th></th>\n",
       "      <th></th>\n",
       "      <th></th>\n",
       "      <th></th>\n",
       "      <th></th>\n",
       "      <th></th>\n",
       "    </tr>\n",
       "  </thead>\n",
       "  <tbody>\n",
       "    <tr>\n",
       "      <th>GOOGL</th>\n",
       "      <td>2021-06-10 09:30:00-04:00</td>\n",
       "      <td>2406.919922</td>\n",
       "      <td>2410.000000</td>\n",
       "      <td>2403.780029</td>\n",
       "      <td>2410.000000</td>\n",
       "      <td>24985</td>\n",
       "    </tr>\n",
       "    <tr>\n",
       "      <th>GOOGL</th>\n",
       "      <td>2021-06-10 09:31:00-04:00</td>\n",
       "      <td>2410.750000</td>\n",
       "      <td>2416.209961</td>\n",
       "      <td>2408.465088</td>\n",
       "      <td>2416.010010</td>\n",
       "      <td>8467</td>\n",
       "    </tr>\n",
       "    <tr>\n",
       "      <th>GOOGL</th>\n",
       "      <td>2021-06-10 09:32:00-04:00</td>\n",
       "      <td>2414.790039</td>\n",
       "      <td>2416.729980</td>\n",
       "      <td>2413.947998</td>\n",
       "      <td>2415.665039</td>\n",
       "      <td>5223</td>\n",
       "    </tr>\n",
       "    <tr>\n",
       "      <th>GOOGL</th>\n",
       "      <td>2021-06-10 09:33:00-04:00</td>\n",
       "      <td>2416.520020</td>\n",
       "      <td>2418.860107</td>\n",
       "      <td>2416.399902</td>\n",
       "      <td>2418.669922</td>\n",
       "      <td>6340</td>\n",
       "    </tr>\n",
       "    <tr>\n",
       "      <th>GOOGL</th>\n",
       "      <td>2021-06-10 09:34:00-04:00</td>\n",
       "      <td>2418.574951</td>\n",
       "      <td>2420.320068</td>\n",
       "      <td>2418.574951</td>\n",
       "      <td>2419.379883</td>\n",
       "      <td>5728</td>\n",
       "    </tr>\n",
       "    <tr>\n",
       "      <th>...</th>\n",
       "      <td>...</td>\n",
       "      <td>...</td>\n",
       "      <td>...</td>\n",
       "      <td>...</td>\n",
       "      <td>...</td>\n",
       "      <td>...</td>\n",
       "    </tr>\n",
       "    <tr>\n",
       "      <th>GOOGL</th>\n",
       "      <td>2021-06-14 15:55:00-04:00</td>\n",
       "      <td>2447.617920</td>\n",
       "      <td>2447.617920</td>\n",
       "      <td>2446.340088</td>\n",
       "      <td>2446.340088</td>\n",
       "      <td>10902</td>\n",
       "    </tr>\n",
       "    <tr>\n",
       "      <th>GOOGL</th>\n",
       "      <td>2021-06-14 15:56:00-04:00</td>\n",
       "      <td>2445.870117</td>\n",
       "      <td>2446.790039</td>\n",
       "      <td>2445.449951</td>\n",
       "      <td>2445.899902</td>\n",
       "      <td>10903</td>\n",
       "    </tr>\n",
       "    <tr>\n",
       "      <th>GOOGL</th>\n",
       "      <td>2021-06-14 15:57:00-04:00</td>\n",
       "      <td>2445.770020</td>\n",
       "      <td>2446.949951</td>\n",
       "      <td>2445.669922</td>\n",
       "      <td>2446.949951</td>\n",
       "      <td>9279</td>\n",
       "    </tr>\n",
       "    <tr>\n",
       "      <th>GOOGL</th>\n",
       "      <td>2021-06-14 15:58:00-04:00</td>\n",
       "      <td>2446.820068</td>\n",
       "      <td>2447.840088</td>\n",
       "      <td>2446.000000</td>\n",
       "      <td>2447.699951</td>\n",
       "      <td>22700</td>\n",
       "    </tr>\n",
       "    <tr>\n",
       "      <th>GOOGL</th>\n",
       "      <td>2021-06-14 15:59:00-04:00</td>\n",
       "      <td>2447.324951</td>\n",
       "      <td>2448.919922</td>\n",
       "      <td>2444.429932</td>\n",
       "      <td>2448.919922</td>\n",
       "      <td>36204</td>\n",
       "    </tr>\n",
       "  </tbody>\n",
       "</table>\n",
       "<p>1079 rows × 6 columns</p>\n",
       "</div>"
      ],
      "text/plain": [
       "                        Datetime         Open         High          Low  \\\n",
       "symbol                                                                    \n",
       "GOOGL  2021-06-10 09:30:00-04:00  2406.919922  2410.000000  2403.780029   \n",
       "GOOGL  2021-06-10 09:31:00-04:00  2410.750000  2416.209961  2408.465088   \n",
       "GOOGL  2021-06-10 09:32:00-04:00  2414.790039  2416.729980  2413.947998   \n",
       "GOOGL  2021-06-10 09:33:00-04:00  2416.520020  2418.860107  2416.399902   \n",
       "GOOGL  2021-06-10 09:34:00-04:00  2418.574951  2420.320068  2418.574951   \n",
       "...                          ...          ...          ...          ...   \n",
       "GOOGL  2021-06-14 15:55:00-04:00  2447.617920  2447.617920  2446.340088   \n",
       "GOOGL  2021-06-14 15:56:00-04:00  2445.870117  2446.790039  2445.449951   \n",
       "GOOGL  2021-06-14 15:57:00-04:00  2445.770020  2446.949951  2445.669922   \n",
       "GOOGL  2021-06-14 15:58:00-04:00  2446.820068  2447.840088  2446.000000   \n",
       "GOOGL  2021-06-14 15:59:00-04:00  2447.324951  2448.919922  2444.429932   \n",
       "\n",
       "              Close  Volume  \n",
       "symbol                       \n",
       "GOOGL   2410.000000   24985  \n",
       "GOOGL   2416.010010    8467  \n",
       "GOOGL   2415.665039    5223  \n",
       "GOOGL   2418.669922    6340  \n",
       "GOOGL   2419.379883    5728  \n",
       "...             ...     ...  \n",
       "GOOGL   2446.340088   10902  \n",
       "GOOGL   2445.899902   10903  \n",
       "GOOGL   2446.949951    9279  \n",
       "GOOGL   2447.699951   22700  \n",
       "GOOGL   2448.919922   36204  \n",
       "\n",
       "[1079 rows x 6 columns]"
      ]
     },
     "execution_count": 207,
     "metadata": {},
     "output_type": "execute_result"
    }
   ],
   "source": [
    "s_df2"
   ]
  },
  {
   "cell_type": "markdown",
   "metadata": {},
   "source": [
    "## Deploy to cluster"
   ]
  },
  {
   "cell_type": "code",
   "execution_count": 7,
   "metadata": {},
   "outputs": [
    {
     "name": "stdout",
     "output_type": "stream",
     "text": [
      "> 2021-03-25 11:00:46,655 [info] function spec saved to path: 01-read-stocks.yaml\n"
     ]
    }
   ],
   "source": [
    "from mlrun import code_to_function\n",
    "\n",
    "# Export bare function\n",
    "fn = code_to_function('read-stocks',\n",
    "                      handler='handler')\n",
    "fn.export('01-read-stocks.yaml')\n",
    "\n",
    "# Set parameters for current deployment\n",
    "fn.add_trigger('cron', nuclio.triggers.CronTrigger('300s'))\n",
    "fn.set_envs({'STOCK_LIST': ['GOOG', 'MSFT', 'AMZN', 'AAPL', 'INTC'],\n",
    "             'V3IO_CONTAINER': 'users' ,\n",
    "             'STOCKS_TSDB_TABLE': os.getenv('V3IO_USERNAME')  + 'stocks/stocks_tsdb',\n",
    "             'STOCKS_KV_TABLE': os.getenv('V3IO_USERNAME')  + 'stocks/stocks_kv',\n",
    "             'EXPRESSION_TEMPLATE': \"symbol='{symbol}';price={price};volume={volume};last_updated='{last_updated}'\",\n",
    "             'PROJECT_NAME' : \"stocks-\" + os.getenv('V3IO_USERNAME')})\n",
    "fn.spec.max_replicas = 1"
   ]
  },
  {
   "cell_type": "code",
   "execution_count": 8,
   "metadata": {},
   "outputs": [
    {
     "name": "stdout",
     "output_type": "stream",
     "text": [
      "> 2021-03-25 11:00:56,616 [info] Starting remote function deploy\n",
      "2021-03-25 11:00:56  (info) Deploying function\n",
      "2021-03-25 11:00:56  (info) Building\n",
      "2021-03-25 11:00:57  (info) Staging files and preparing base images\n",
      "2021-03-25 11:00:57  (info) Building processor image\n",
      "2021-03-25 11:00:58  (info) Build complete\n",
      "2021-03-25 11:01:21  (info) Function deploy complete\n",
      "> 2021-03-25 11:01:21,724 [info] function deployed, address=default-tenant.app.dev8.lab.iguazeng.com:31840\n"
     ]
    }
   ],
   "source": [
    "addr = fn.deploy(project='stocks-dani')"
   ]
  },
  {
   "cell_type": "code",
   "execution_count": 10,
   "metadata": {},
   "outputs": [
    {
     "name": "stdout",
     "output_type": "stream",
     "text": [
      "done"
     ]
    }
   ],
   "source": [
    "!curl {addr}"
   ]
  }
 ],
 "metadata": {
  "kernelspec": {
   "display_name": "Python 3",
   "language": "python",
   "name": "python3"
  },
  "language_info": {
   "codemirror_mode": {
    "name": "ipython",
    "version": 3
   },
   "file_extension": ".py",
   "mimetype": "text/x-python",
   "name": "python",
   "nbconvert_exporter": "python",
   "pygments_lexer": "ipython3",
   "version": "3.7.6"
  },
  "toc-autonumbering": false
 },
 "nbformat": 4,
 "nbformat_minor": 4
}
