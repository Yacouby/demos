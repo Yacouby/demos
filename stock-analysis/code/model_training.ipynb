{
 "cells": [
  {
   "cell_type": "code",
   "execution_count": 6,
   "metadata": {},
   "outputs": [],
   "source": [
    "import mlrun.feature_store as fs\n",
    "import mlrun"
   ]
  },
  {
   "cell_type": "code",
   "execution_count": 7,
   "metadata": {},
   "outputs": [
    {
     "data": {
      "text/plain": [
       "('stocksdani', 'v3io:///projects/{{run.project}}/artifacts')"
      ]
     },
     "execution_count": 7,
     "metadata": {},
     "output_type": "execute_result"
    }
   ],
   "source": [
    "mlrun.set_environment(project=\"stocksdani\")"
   ]
  },
  {
   "cell_type": "code",
   "execution_count": 8,
   "metadata": {},
   "outputs": [],
   "source": [
    "features = [\"stocks.Closes_min_1h\",\n",
    "            \"stocks.Closes_max_1h\",\n",
    "            \"stocks.Volumes_min_1h\",\n",
    "            \"stocks.Volumes_max_1h\",\n",
    "            \"stocks.Open\",\n",
    "            \"stocks.High\",\n",
    "            \"stocks.Low\",\n",
    "            \"stocks.Close\",\n",
    "            \"stocks.Volume\",\n",
    "#                 \"news.Content\",\n",
    "#                 \"news.Link\",\n",
    "            \"news.Sentiment\"]"
   ]
  },
  {
   "cell_type": "code",
   "execution_count": 9,
   "metadata": {},
   "outputs": [],
   "source": [
    "vector = fs.FeatureVector(\"stocks-vec\", features, description=\"stocks demo feature vector\")\n",
    "vector.save()"
   ]
  },
  {
   "cell_type": "code",
   "execution_count": 12,
   "metadata": {},
   "outputs": [],
   "source": [
    "df = fs.get_offline_features(\"stocks-vec\").to_dataframe().dropna()"
   ]
  },
  {
   "cell_type": "code",
   "execution_count": 18,
   "metadata": {},
   "outputs": [],
   "source": [
    "import pandas as pd\n",
    "from mlrun import MLClientCtx\n",
    "import os\n",
    "import mlrun.feature_store as fs\n",
    "import mlrun\n",
    "import numpy as np\n",
    "import yfinance as yf\n",
    "import numpy as np\n",
    "import pandas as pd\n",
    "from sklearn.preprocessing import MinMaxScaler\n",
    "from keras.models import Sequential\n",
    "from keras.layers import Dense\n",
    "from keras.layers import LSTM\n",
    "from keras.layers import Dropout\n",
    "from datetime import datetime\n",
    "import keras\n",
    "import nuclio"
   ]
  },
  {
   "cell_type": "code",
   "execution_count": 33,
   "metadata": {},
   "outputs": [
    {
     "data": {
      "text/html": [
       "<div>\n",
       "<style scoped>\n",
       "    .dataframe tbody tr th:only-of-type {\n",
       "        vertical-align: middle;\n",
       "    }\n",
       "\n",
       "    .dataframe tbody tr th {\n",
       "        vertical-align: top;\n",
       "    }\n",
       "\n",
       "    .dataframe thead th {\n",
       "        text-align: right;\n",
       "    }\n",
       "</style>\n",
       "<table border=\"1\" class=\"dataframe\">\n",
       "  <thead>\n",
       "    <tr style=\"text-align: right;\">\n",
       "      <th></th>\n",
       "      <th>Closes_min_1h</th>\n",
       "      <th>Closes_max_1h</th>\n",
       "      <th>Volumes_min_1h</th>\n",
       "      <th>Volumes_max_1h</th>\n",
       "      <th>Open</th>\n",
       "      <th>High</th>\n",
       "      <th>Low</th>\n",
       "      <th>Close</th>\n",
       "      <th>Volume</th>\n",
       "      <th>Sentiment</th>\n",
       "    </tr>\n",
       "  </thead>\n",
       "  <tbody>\n",
       "    <tr>\n",
       "      <th>13507</th>\n",
       "      <td>262.690002</td>\n",
       "      <td>262.690002</td>\n",
       "      <td>646468.0</td>\n",
       "      <td>646468.0</td>\n",
       "      <td>262.720001</td>\n",
       "      <td>263.480011</td>\n",
       "      <td>262.399994</td>\n",
       "      <td>262.690002</td>\n",
       "      <td>646468</td>\n",
       "      <td>0.0</td>\n",
       "    </tr>\n",
       "    <tr>\n",
       "      <th>13515</th>\n",
       "      <td>262.609985</td>\n",
       "      <td>262.690002</td>\n",
       "      <td>77058.0</td>\n",
       "      <td>646468.0</td>\n",
       "      <td>262.739990</td>\n",
       "      <td>263.058990</td>\n",
       "      <td>262.600006</td>\n",
       "      <td>262.609985</td>\n",
       "      <td>77058</td>\n",
       "      <td>0.0</td>\n",
       "    </tr>\n",
       "    <tr>\n",
       "      <th>13520</th>\n",
       "      <td>262.609985</td>\n",
       "      <td>262.999908</td>\n",
       "      <td>77058.0</td>\n",
       "      <td>646468.0</td>\n",
       "      <td>262.600006</td>\n",
       "      <td>263.170013</td>\n",
       "      <td>262.589996</td>\n",
       "      <td>262.999908</td>\n",
       "      <td>85948</td>\n",
       "      <td>0.0</td>\n",
       "    </tr>\n",
       "    <tr>\n",
       "      <th>13524</th>\n",
       "      <td>262.609985</td>\n",
       "      <td>263.269989</td>\n",
       "      <td>50055.0</td>\n",
       "      <td>646468.0</td>\n",
       "      <td>263.015015</td>\n",
       "      <td>263.279999</td>\n",
       "      <td>262.989990</td>\n",
       "      <td>263.269989</td>\n",
       "      <td>50055</td>\n",
       "      <td>0.0</td>\n",
       "    </tr>\n",
       "    <tr>\n",
       "      <th>13528</th>\n",
       "      <td>262.609985</td>\n",
       "      <td>263.269989</td>\n",
       "      <td>50055.0</td>\n",
       "      <td>646468.0</td>\n",
       "      <td>263.250000</td>\n",
       "      <td>263.429993</td>\n",
       "      <td>263.149994</td>\n",
       "      <td>263.239990</td>\n",
       "      <td>52618</td>\n",
       "      <td>0.0</td>\n",
       "    </tr>\n",
       "    <tr>\n",
       "      <th>...</th>\n",
       "      <td>...</td>\n",
       "      <td>...</td>\n",
       "      <td>...</td>\n",
       "      <td>...</td>\n",
       "      <td>...</td>\n",
       "      <td>...</td>\n",
       "      <td>...</td>\n",
       "      <td>...</td>\n",
       "      <td>...</td>\n",
       "      <td>...</td>\n",
       "    </tr>\n",
       "    <tr>\n",
       "      <th>15419</th>\n",
       "      <td>265.079987</td>\n",
       "      <td>265.769989</td>\n",
       "      <td>25013.0</td>\n",
       "      <td>231546.0</td>\n",
       "      <td>265.380005</td>\n",
       "      <td>265.420013</td>\n",
       "      <td>265.315002</td>\n",
       "      <td>265.359985</td>\n",
       "      <td>113474</td>\n",
       "      <td>0.0</td>\n",
       "    </tr>\n",
       "    <tr>\n",
       "      <th>15424</th>\n",
       "      <td>2439.750000</td>\n",
       "      <td>2448.000000</td>\n",
       "      <td>721.0</td>\n",
       "      <td>17858.0</td>\n",
       "      <td>2447.459961</td>\n",
       "      <td>2447.709961</td>\n",
       "      <td>2447.179932</td>\n",
       "      <td>2447.179932</td>\n",
       "      <td>17549</td>\n",
       "      <td>0.0</td>\n",
       "    </tr>\n",
       "    <tr>\n",
       "      <th>15425</th>\n",
       "      <td>265.079987</td>\n",
       "      <td>265.769989</td>\n",
       "      <td>25013.0</td>\n",
       "      <td>231546.0</td>\n",
       "      <td>265.350006</td>\n",
       "      <td>265.364990</td>\n",
       "      <td>265.130005</td>\n",
       "      <td>265.130005</td>\n",
       "      <td>118529</td>\n",
       "      <td>0.0</td>\n",
       "    </tr>\n",
       "    <tr>\n",
       "      <th>15428</th>\n",
       "      <td>265.079987</td>\n",
       "      <td>265.769989</td>\n",
       "      <td>25013.0</td>\n",
       "      <td>283208.0</td>\n",
       "      <td>265.130005</td>\n",
       "      <td>265.559998</td>\n",
       "      <td>265.109985</td>\n",
       "      <td>265.510010</td>\n",
       "      <td>283208</td>\n",
       "      <td>0.0</td>\n",
       "    </tr>\n",
       "    <tr>\n",
       "      <th>15431</th>\n",
       "      <td>2439.750000</td>\n",
       "      <td>2448.000000</td>\n",
       "      <td>721.0</td>\n",
       "      <td>28983.0</td>\n",
       "      <td>2447.179932</td>\n",
       "      <td>2447.580078</td>\n",
       "      <td>2445.385010</td>\n",
       "      <td>2446.610107</td>\n",
       "      <td>28983</td>\n",
       "      <td>0.0</td>\n",
       "    </tr>\n",
       "  </tbody>\n",
       "</table>\n",
       "<p>434 rows × 10 columns</p>\n",
       "</div>"
      ],
      "text/plain": [
       "       Closes_min_1h  Closes_max_1h  Volumes_min_1h  Volumes_max_1h  \\\n",
       "13507     262.690002     262.690002        646468.0        646468.0   \n",
       "13515     262.609985     262.690002         77058.0        646468.0   \n",
       "13520     262.609985     262.999908         77058.0        646468.0   \n",
       "13524     262.609985     263.269989         50055.0        646468.0   \n",
       "13528     262.609985     263.269989         50055.0        646468.0   \n",
       "...              ...            ...             ...             ...   \n",
       "15419     265.079987     265.769989         25013.0        231546.0   \n",
       "15424    2439.750000    2448.000000           721.0         17858.0   \n",
       "15425     265.079987     265.769989         25013.0        231546.0   \n",
       "15428     265.079987     265.769989         25013.0        283208.0   \n",
       "15431    2439.750000    2448.000000           721.0         28983.0   \n",
       "\n",
       "              Open         High          Low        Close  Volume  Sentiment  \n",
       "13507   262.720001   263.480011   262.399994   262.690002  646468        0.0  \n",
       "13515   262.739990   263.058990   262.600006   262.609985   77058        0.0  \n",
       "13520   262.600006   263.170013   262.589996   262.999908   85948        0.0  \n",
       "13524   263.015015   263.279999   262.989990   263.269989   50055        0.0  \n",
       "13528   263.250000   263.429993   263.149994   263.239990   52618        0.0  \n",
       "...            ...          ...          ...          ...     ...        ...  \n",
       "15419   265.380005   265.420013   265.315002   265.359985  113474        0.0  \n",
       "15424  2447.459961  2447.709961  2447.179932  2447.179932   17549        0.0  \n",
       "15425   265.350006   265.364990   265.130005   265.130005  118529        0.0  \n",
       "15428   265.130005   265.559998   265.109985   265.510010  283208        0.0  \n",
       "15431  2447.179932  2447.580078  2445.385010  2446.610107   28983        0.0  \n",
       "\n",
       "[434 rows x 10 columns]"
      ]
     },
     "execution_count": 33,
     "metadata": {},
     "output_type": "execute_result"
    }
   ],
   "source": [
    "df"
   ]
  },
  {
   "cell_type": "code",
   "execution_count": 29,
   "metadata": {},
   "outputs": [],
   "source": [
    "y_train = df[\"Close\"]\n",
    "X_train = df.drop([\"Close\"],axis = 1).to_numpy()\n",
    "X_train = np.reshape(X_train, (X_train.shape[0], 1, df.drop([\"Close\"],axis = 1).shape[1]))"
   ]
  },
  {
   "cell_type": "code",
   "execution_count": 30,
   "metadata": {},
   "outputs": [],
   "source": [
    "regressor = Sequential()\n",
    "regressor.add(LSTM(units = 50, return_sequences = True, input_shape = (X_train.shape[1], X_train.shape[2])))\n",
    "regressor.add(Dropout(0.2))\n",
    "regressor.add(LSTM(units = 50, return_sequences = True))\n",
    "regressor.add(Dropout(0.2))\n",
    "regressor.add(LSTM(units = 50, return_sequences = True))\n",
    "regressor.add(Dropout(0.2))\n",
    "regressor.add(LSTM(units = 50))\n",
    "regressor.add(Dropout(0.2))\n",
    "regressor.add(Dense(units =  1))\n",
    "\n",
    "#Compiling and fitting the model\n",
    "regressor.compile(optimizer = 'adam', loss = 'mean_squared_error')\n",
    "# regressor.fit(X_train, y_train, epochs = 2, batch_size = 32)"
   ]
  },
  {
   "cell_type": "code",
   "execution_count": 31,
   "metadata": {},
   "outputs": [
    {
     "name": "stdout",
     "output_type": "stream",
     "text": [
      "Epoch 1/2\n",
      "14/14 [==============================] - 0s 22ms/step - loss: 668990.3750\n",
      "Epoch 2/2\n",
      "14/14 [==============================] - 0s 29ms/step - loss: 668871.6875\n"
     ]
    },
    {
     "data": {
      "text/plain": [
       "<tensorflow.python.keras.callbacks.History at 0x7fd6783d4a90>"
      ]
     },
     "execution_count": 31,
     "metadata": {},
     "output_type": "execute_result"
    }
   ],
   "source": [
    "regressor.fit(X_train, y_train, epochs = 2, batch_size = 32)"
   ]
  },
  {
   "cell_type": "code",
   "execution_count": null,
   "metadata": {},
   "outputs": [],
   "source": []
  }
 ],
 "metadata": {
  "kernelspec": {
   "display_name": "Python 3",
   "language": "python",
   "name": "python3"
  },
  "language_info": {
   "codemirror_mode": {
    "name": "ipython",
    "version": 3
   },
   "file_extension": ".py",
   "mimetype": "text/x-python",
   "name": "python",
   "nbconvert_exporter": "python",
   "pygments_lexer": "ipython3",
   "version": "3.7.6"
  }
 },
 "nbformat": 4,
 "nbformat_minor": 4
}
