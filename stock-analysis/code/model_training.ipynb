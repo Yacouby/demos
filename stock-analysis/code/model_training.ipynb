{
 "cells": [
  {
   "cell_type": "markdown",
   "metadata": {},
   "source": [
    "Downloading information from available resources and trains an RNN model"
   ]
  },
  {
   "cell_type": "code",
   "execution_count": 1,
   "metadata": {},
   "outputs": [],
   "source": [
    "import nuclio \n",
    "import mlrun\n",
    "import os"
   ]
  },
  {
   "cell_type": "code",
   "execution_count": 16,
   "metadata": {},
   "outputs": [],
   "source": [
    "%nuclio env -c V3IO_ACCESS_KEY=${V3IO_ACCESS_KEY}\n",
    "%nuclio env -c V3IO_USERNAME=${V3IO_USERNAME}\n",
    "%nuclio env -c V3IO_API=${V3IO_API}"
   ]
  },
  {
   "cell_type": "code",
   "execution_count": null,
   "metadata": {},
   "outputs": [],
   "source": [
    "%%nuclio config \n",
    "kind = \"nuclio\"\n",
    "spec.build.baseImage = \"mlrun/ml-models\""
   ]
  },
  {
   "cell_type": "code",
   "execution_count": null,
   "metadata": {},
   "outputs": [],
   "source": [
    "%%nuclio cmd -c\n",
    "pip install keras"
   ]
  },
  {
   "cell_type": "code",
   "execution_count": null,
   "metadata": {},
   "outputs": [],
   "source": [
    "# nuclio: start-code"
   ]
  },
  {
   "cell_type": "code",
   "execution_count": 2,
   "metadata": {},
   "outputs": [],
   "source": [
    "import mlrun.feature_store as fs\n",
    "import mlrun\n",
    "import datetime\n",
    "import pandas as pd\n",
    "from mlrun import MLClientCtx\n",
    "import os\n",
    "import numpy as np\n",
    "import numpy as np\n",
    "import pandas as pd\n",
    "from sklearn.preprocessing import MinMaxScaler\n",
    "from keras.models import Sequential\n",
    "from keras.layers import Dense\n",
    "from keras.layers import LSTM,Dropout\n",
    "import keras\n",
    "import nuclio"
   ]
  },
  {
   "cell_type": "code",
   "execution_count": 3,
   "metadata": {},
   "outputs": [],
   "source": [
    "def get_data_from_vector(context,ticker):\n",
    "    last = context.last_trained_times.get(ticker)\n",
    "    if not last:\n",
    "        last = datetime.datetime.now()-datetime.timedelta(8)\n",
    "    # change to read only data from the correct time and correct ticker\n",
    "    data = fs.get_offline_features(context.vector,entity_timestamp_column=\"Datetime\",\n",
    "                               start_time = last,\n",
    "                               end_time = datetime.datetime.now()).to_dataframe()\n",
    "    \n",
    "    # after changing to correct reading, remove all this section\n",
    "    data = data[data[\"ticker\"] == ticker]\n",
    "    context.last_trained_times[\"ticker\"] = datetime.datetime.now()-datetime.timedelta(1)\n",
    "    return data"
   ]
  },
  {
   "cell_type": "code",
   "execution_count": 4,
   "metadata": {},
   "outputs": [],
   "source": [
    "def get_model(X_train):\n",
    "    regressor = Sequential()\n",
    "    regressor.add(LSTM(units = 50, return_sequences = True, input_shape = (X_train.shape[1], X_train.shape[2])))\n",
    "    regressor.add(Dropout(0.2))\n",
    "    regressor.add(LSTM(units = 50, return_sequences = True))\n",
    "    regressor.add(Dropout(0.2))\n",
    "    regressor.add(LSTM(units = 50, return_sequences = True))\n",
    "    regressor.add(Dropout(0.2))\n",
    "    regressor.add(LSTM(units = 50))\n",
    "    regressor.add(Dropout(0.2))\n",
    "    regressor.add(Dense(units =  1))\n",
    "    \n",
    "    #Compiling and fitting the model\n",
    "    regressor.compile(optimizer = 'adam', loss = 'mean_squared_error')\n",
    "    return regressor"
   ]
  },
  {
   "cell_type": "code",
   "execution_count": 5,
   "metadata": {},
   "outputs": [],
   "source": [
    "def modify_data(context,ticker_data):\n",
    "    ticker_to_int = {'GOOGL' : 0,'MSFT' : 1,'AMZN' : 2,'AAPL' : 3,'INTC' : 4}\n",
    "    ticker_data[\"ticker\"] = ticker_data[\"ticker\"].apply(lambda x: ticker_to_int.get(x))\n",
    "    for col in [x for x in ticker_data.columns if \"Open\" in x or \"Close\" in x or \"High\" in x or \"Low\" in x]:\n",
    "        ticker_data[[col]] = context.priceMMS.fit_transform(ticker_data[[col]])\n",
    "    for col in [x for x in ticker_data.columns if \"Volume\" in x]:\n",
    "        ticker_data[[col]] = context.volumeMMS.fit_transform(ticker_data[[col]])\n",
    "    for col in [x for x in ticker_data.columns if \"Sentiment\" in x]:\n",
    "        ticker_data[[col]] = context.sentimentMMS.fit_transform(ticker_data[[col]])\n",
    "        \n",
    "    X_train = []\n",
    "    y_train = []\n",
    "    size_of_stamps = 10\n",
    "    data = ticker_data.values\n",
    "    closing = ticker_data[\"Close\"].values\n",
    "    for i in range(size_of_stamps, data.shape[0]):\n",
    "        X_train.append(data[i-size_of_stamps:i])\n",
    "        y_train.append(closing[i])\n",
    "        \n",
    "    X_train = np.asarray(X_train).astype('float32')\n",
    "    y_train = np.asarray(y_train).astype('float32')\n",
    "    \n",
    "    where_are_NaNs = np.isnan(X_train)\n",
    "    X_train[where_are_NaNs] = 0\n",
    "    return X_train,y_train"
   ]
  },
  {
   "cell_type": "code",
   "execution_count": 24,
   "metadata": {},
   "outputs": [],
   "source": [
    "def handler(context,event):   \n",
    "    model_path = os.getenv('model_path', 'mymodel.h5')\n",
    "    all_data = pd.DataFrame()\n",
    "    for ticker in context.sym_to_url.keys():\n",
    "        ticker_data = get_data_from_vector(context,ticker)\n",
    "        all_data = all_data.append(ticker_data)\n",
    "        \n",
    "    X_train,y_train = modify_data(context,all_data) \n",
    "    context.logger.info(\"Finished modifieing data\")\n",
    "    \n",
    "    if os.path.exists(model_path):\n",
    "        context.logger.info(\"Previously trained model loaded\")\n",
    "        model = keras.models.load_model(model_path)\n",
    "    else:\n",
    "        context.logger.info(\"New model created\")\n",
    "        model = get_model(X_train)\n",
    "        \n",
    "    model.fit(X_train, y_train, epochs = 2, batch_size = 32)\n",
    "    context.logger.info(\"Done training\")\n",
    "    model.save(model_path)\n",
    "    context.logger.info(f\"model saved at {model_path}\")\n",
    "    return X_train"
   ]
  },
  {
   "cell_type": "code",
   "execution_count": 11,
   "metadata": {},
   "outputs": [],
   "source": [
    "def init_context(context):\n",
    "    context.logger.info(\"Initalizing context\")\n",
    "    setattr(context, 'PROJECT_NAME', os.getenv('PROJECT_NAME', 'stocks-' + os.getenv('V3IO_USERNAME')))\n",
    "    mlrun.set_environment(project=context.PROJECT_NAME)\n",
    "    \n",
    "    last_trained_times = {}\n",
    "    setattr(context, 'last_trained_times', last_trained_times)\n",
    "\n",
    "    sym_to_url = {'GOOGL': 'google-inc', 'MSFT': 'microsoft-corp', 'AMZN': 'amazon-com-inc',\n",
    "                'AAPL': 'apple-computer-inc', 'INTC' : 'intel-corp'}\n",
    "    setattr(context, 'sym_to_url', sym_to_url)\n",
    "        \n",
    "    features = [\"stocks.Opens_min_1h\",\n",
    "                \"stocks.Opens_max_1h\",\n",
    "                \"stocks.Volumes_min_1h\",\n",
    "                \"stocks.Volumes_max_1h\",\n",
    "                \"stocks.Open\",\n",
    "                \"stocks.High\",\n",
    "                \"stocks.Low\",\n",
    "                \"stocks.Close\",\n",
    "                \"stocks.Volume\",\n",
    "                \"stocks.ticker\",\n",
    "                \"news.Sentiment\"]\n",
    "    vector = fs.FeatureVector(\"stocks-vec\", features, description=\"stocks demo feature vector\")\n",
    "    vector.save()\n",
    "    setattr(context,'vector',vector)\n",
    "    \n",
    "    setattr(context,\"priceMMS\",MinMaxScaler(feature_range = (0, 1)))\n",
    "    setattr(context,\"volumeMMS\",MinMaxScaler(feature_range = (0, 1)))\n",
    "    setattr(context,\"sentimentMMS\",MinMaxScaler(feature_range = (0, 1)))\n",
    "    context.logger.info(\"Finished Initalizing context\")"
   ]
  },
  {
   "cell_type": "code",
   "execution_count": 8,
   "metadata": {},
   "outputs": [],
   "source": [
    "# nuclio: end-code"
   ]
  },
  {
   "cell_type": "code",
   "execution_count": 9,
   "metadata": {},
   "outputs": [
    {
     "data": {
      "text/plain": [
       "('stocks4-dani', 'v3io:///projects/{{run.project}}/artifacts')"
      ]
     },
     "execution_count": 9,
     "metadata": {},
     "output_type": "execute_result"
    }
   ],
   "source": [
    "mlrun.set_environment(project=\"stocks-dani\")"
   ]
  },
  {
   "cell_type": "code",
   "execution_count": 25,
   "metadata": {},
   "outputs": [
    {
     "name": "stdout",
     "output_type": "stream",
     "text": [
      "Python> 2021-06-30 08:32:16,389 [info] Initalizing context\n",
      "Python> 2021-06-30 08:32:16,643 [info] Finished Initalizing context\n",
      "Python> 2021-06-30 08:32:19,585 [info] Finished modifieing data\n",
      "Python> 2021-06-30 08:32:19,587 [info] Previously trained model loaded\n",
      "Epoch 1/2\n",
      "179/179 [==============================] - 25s 138ms/step - loss: 0.0032\n",
      "Epoch 2/2\n",
      "179/179 [==============================] - 26s 145ms/step - loss: 0.0029\n",
      "Python> 2021-06-30 08:33:18,994 [info] Done training\n",
      "Python> 2021-06-30 08:33:19,140 [info] model saved at mymodel.h5\n"
     ]
    }
   ],
   "source": [
    "init_context(context)\n",
    "event = \"\"\n",
    "s = handler(context,event)"
   ]
  },
  {
   "cell_type": "code",
   "execution_count": 33,
   "metadata": {},
   "outputs": [
    {
     "data": {
      "text/plain": [
       "array([[6.9955170e-01, 6.9952875e-01, 2.7922913e-02, 2.7853036e-02,\n",
       "        6.9955170e-01, 7.0086759e-01, 7.0118028e-01, 7.0142627e-01,\n",
       "        2.7922913e-02, 0.0000000e+00, 0.0000000e+00],\n",
       "       [6.9955170e-01, 6.9998503e-01, 1.6527303e-03, 2.7853036e-02,\n",
       "        7.0000792e-01, 7.0085293e-01, 7.0118028e-01, 7.0203447e-01,\n",
       "        1.6527303e-03, 0.0000000e+00, 0.0000000e+00],\n",
       "       [6.9955170e-01, 7.0025057e-01, 1.6904050e-04, 2.7853036e-02,\n",
       "        7.0027345e-01, 7.0014298e-01, 7.0190376e-01, 7.0128226e-01,\n",
       "        1.6904050e-04, 0.0000000e+00, 0.0000000e+00],\n",
       "       [6.9955170e-01, 7.0144778e-01, 1.6904050e-04, 2.7853036e-02,\n",
       "        7.0147055e-01, 7.0178574e-01, 7.0236105e-01, 7.0295709e-01,\n",
       "        7.3906886e-03, 0.0000000e+00, 0.0000000e+00],\n",
       "       [6.9955170e-01, 7.0324355e-01, 1.6904050e-04, 2.7853036e-02,\n",
       "        7.0326620e-01, 7.0308524e-01, 7.0490342e-01, 7.0427048e-01,\n",
       "        2.4815742e-03, 0.0000000e+00, 0.0000000e+00],\n",
       "       [6.9955170e-01, 7.0324355e-01, 1.6904050e-04, 2.7853036e-02,\n",
       "        7.0191067e-01, 7.0173001e-01, 7.0354480e-01, 7.0291305e-01,\n",
       "        2.9976186e-03, 0.0000000e+00, 0.0000000e+00],\n",
       "       [6.9955170e-01, 7.0324355e-01, 1.6904050e-04, 2.7853036e-02,\n",
       "        7.0166123e-01, 7.0148063e-01, 7.0284635e-01, 7.0249581e-01,\n",
       "        2.7904075e-03, 0.0000000e+00, 0.0000000e+00],\n",
       "       [6.9955170e-01, 7.0324355e-01, 1.6904050e-04, 2.7853036e-02,\n",
       "        7.0133996e-01, 7.0143080e-01, 7.0297277e-01, 7.0250750e-01,\n",
       "        4.1491759e-04, 0.0000000e+00, 0.0000000e+00],\n",
       "       [6.9955170e-01, 7.0324355e-01, 1.6904050e-04, 2.7853036e-02,\n",
       "        7.0150572e-01, 7.0251614e-01, 7.0281982e-01, 7.0370042e-01,\n",
       "        2.1256472e-03, 0.0000000e+00, 0.0000000e+00],\n",
       "       [6.9955170e-01, 7.0324355e-01, 1.6904050e-04, 2.7853036e-02,\n",
       "        7.0272487e-01, 7.0258951e-01, 7.0429617e-01, 7.0376801e-01,\n",
       "        1.4207334e-03, 0.0000000e+00, 0.0000000e+00]], dtype=float32)"
      ]
     },
     "execution_count": 33,
     "metadata": {},
     "output_type": "execute_result"
    }
   ],
   "source": [
    "s[0]"
   ]
  },
  {
   "cell_type": "code",
   "execution_count": 19,
   "metadata": {},
   "outputs": [],
   "source": [
    "# test remote deployment\n",
    "from mlrun import code_to_function\n",
    "\n",
    "fn = code_to_function('model_trainer',\n",
    "                      handler='handler')\n",
    "\n",
    "# Set parameters for current deployment\n",
    "fn.set_envs({'PROJECT_NAME' : \"stocks4-\" + os.getenv('V3IO_USERNAME'),\n",
    "             'model_path' : 'mymodel2.h5'})\n",
    "fn.spec.max_replicas = 2"
   ]
  },
  {
   "cell_type": "code",
   "execution_count": 20,
   "metadata": {},
   "outputs": [
    {
     "name": "stdout",
     "output_type": "stream",
     "text": [
      "> 2021-06-30 07:01:39,746 [info] Starting remote function deploy\n",
      "2021-06-30 07:01:39  (info) Deploying function\n",
      "2021-06-30 07:01:39  (info) Building\n",
      "2021-06-30 07:01:40  (info) Staging files and preparing base images\n",
      "2021-06-30 07:01:40  (info) Building processor image\n",
      "2021-06-30 07:01:42  (info) Build complete\n",
      "2021-06-30 07:01:48  (info) Function deploy complete\n",
      "> 2021-06-30 07:01:49,203 [info] function deployed, address=default-tenant.app.vmdev31.lab.iguazeng.com:32065\n"
     ]
    }
   ],
   "source": [
    "addr = fn.deploy(project=\"stocks4-\" + os.getenv('V3IO_USERNAME'))"
   ]
  },
  {
   "cell_type": "code",
   "execution_count": 21,
   "metadata": {},
   "outputs": [],
   "source": [
    "!curl {addr}"
   ]
  },
  {
   "cell_type": "code",
   "execution_count": null,
   "metadata": {},
   "outputs": [],
   "source": []
  },
  {
   "cell_type": "code",
   "execution_count": null,
   "metadata": {},
   "outputs": [],
   "source": []
  },
  {
   "cell_type": "code",
   "execution_count": null,
   "metadata": {},
   "outputs": [],
   "source": []
  }
 ],
 "metadata": {
  "kernelspec": {
   "display_name": "Python 3",
   "language": "python",
   "name": "python3"
  },
  "language_info": {
   "codemirror_mode": {
    "name": "ipython",
    "version": 3
   },
   "file_extension": ".py",
   "mimetype": "text/x-python",
   "name": "python",
   "nbconvert_exporter": "python",
   "pygments_lexer": "ipython3",
   "version": "3.7.6"
  }
 },
 "nbformat": 4,
 "nbformat_minor": 4
}
