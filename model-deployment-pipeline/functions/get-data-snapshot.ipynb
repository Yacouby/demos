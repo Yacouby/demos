{
 "cells": [
  {
   "cell_type": "markdown",
   "metadata": {},
   "source": [
    "# Get Data Snapshot\n",
    " --------------------------------------------------------------------\n",
    " This function will take a snapshot of the feature table to train a model"
   ]
  },
  {
   "cell_type": "markdown",
   "metadata": {},
   "source": [
    "## Create and Test a Function "
   ]
  },
  {
   "cell_type": "code",
   "execution_count": null,
   "metadata": {},
   "outputs": [],
   "source": [
    "import mlrun"
   ]
  },
  {
   "cell_type": "markdown",
   "metadata": {},
   "source": [
    "The following code uses the `# nuclio: start-code` marker to instruct Nuclio to start processing code only from this location, and then performs basic Nuclio function configuration &mdash; defining the name of the function's container image (`mlrun/ml-models`) and the function type (`job`).\n",
    "\n",
    "> **Note:** You can add code to define function dependencies and perform additional configuration after the `# nuclio: start-code` marker."
   ]
  },
  {
   "cell_type": "code",
   "execution_count": null,
   "metadata": {},
   "outputs": [],
   "source": [
    "# nuclio: start-code"
   ]
  },
  {
   "cell_type": "markdown",
   "metadata": {},
   "source": [
    "### Define a Data-Snapshot Function <a id=\"gs-step-ingest-data-define-function\"></a>\n"
   ]
  },
  {
   "cell_type": "code",
   "execution_count": null,
   "metadata": {},
   "outputs": [],
   "source": [
    "from os import path, getenv, getcwd\n",
    "import pandas as pd\n",
    "import v3io_frames as v3f\n",
    "\n",
    "\n",
    "# Ingest a data set into the platform\n",
    "def snapshot_data(context, container, table_path, columns, format='csv'):\n",
    "    \n",
    "    client = v3f.Client(\"framesd:8081\", container=container)\n",
    "    client.execute(backend=\"kv\", table=table_path, command=\"infer\")\n",
    "    df = client.read('kv', table_path, columns=columns)\n",
    "    \n",
    "    target_path = path.join(context.artifact_path, 'data')\n",
    "    # Optionally print data to your logger\n",
    "    context.logger.info('Saving snapshot data set to {} ...'.format(target_path))\n",
    "    \n",
    "    # Store the data set in your artifacts database\n",
    "    context.log_dataset('snapshot_dataset', df=df, format=format,\n",
    "                        index=False, artifact_path=target_path)"
   ]
  },
  {
   "cell_type": "markdown",
   "metadata": {},
   "source": [
    "The following cell uses the `# nuclio: end-code` marker to mark the end of a Nuclio code section and instruct Nuclio to stop parsing the notebook at this point.<br>\n",
    "> **IMPORTANT:** Do not remove the end-code cell."
   ]
  },
  {
   "cell_type": "code",
   "execution_count": null,
   "metadata": {},
   "outputs": [],
   "source": [
    "# nuclio: end-code"
   ]
  },
  {
   "cell_type": "markdown",
   "metadata": {},
   "source": [
    "### Convert code to function"
   ]
  },
  {
   "cell_type": "code",
   "execution_count": 1,
   "metadata": {},
   "outputs": [],
   "source": [
    "from mlrun import code_to_function, mlconf, mount_v3io\n",
    "\n",
    "mlconf.dbpath = mlconf.dbpath or 'http://mlrun-api:8080'\n",
    "mlconf.artifact_path = mlconf.artifact_path or f'{getenv(\"HOME\")}/artifacts'\n",
    "\n",
    "\n",
    "# Convert the local snapshot_data function into a gen_func project function\n",
    "snapshot_data_func = code_to_function(name='snapshot-data',image='mlrun/mlrun',kind='job')\n",
    "snapshot_data_func.spec.build.commands = ['pip install v3io-frames==0.8.*']"
   ]
  },
  {
   "cell_type": "code",
   "execution_count": 5,
   "metadata": {},
   "outputs": [
    {
     "data": {
      "text/plain": [
       "<mlrun.runtimes.kubejob.KubejobRuntime at 0x7f0fb651bf50>"
      ]
     },
     "execution_count": 5,
     "metadata": {},
     "output_type": "execute_result"
    }
   ],
   "source": [
    "# Set the source-data URL\n",
    "from os import path, getcwd, getenv\n",
    "container = 'users'\n",
    "test_path = path.join(getcwd(), 'test')\n",
    "table_path = path.join(getenv('V3IO_USERNAME'), 'examples/model-deployment-pipeline/data/feature-table')\n",
    "\n",
    "columns = ['label', 'socioeconomic_idx', \n",
    "           'purchase_sum', 'purchase_mean', 'purchase_count', 'purchase_var', \n",
    "           'bet_sum', 'bet_mean', 'bet_count' ,'bet_var',\n",
    "           'win_sum', 'win_mean', 'win_count' ,'win_var']\n",
    "format = 'csv'\n",
    "\n",
    "envs = {'V3IO_USERNAME': getenv('V3IO_USERNAME'),\n",
    "       'V3IO_ACCESS_KEY': getenv('V3IO_ACCESS_KEY')}\n",
    "snapshot_data_func.set_envs(envs)\n",
    "snapshot_data_func.apply(mount_v3io())"
   ]
  },
  {
   "cell_type": "markdown",
   "metadata": {},
   "source": [
    "#### Run the Function on a Cluster <a id=\"gs-run-ingest-func-cluster\"></a>\n"
   ]
  },
  {
   "cell_type": "code",
   "execution_count": 6,
   "metadata": {},
   "outputs": [
    {
     "name": "stdout",
     "output_type": "stream",
     "text": [
      "> 2021-10-03 08:37:38,178 [info] Started building image: .mlrun/func-default-snapshot-data:latest\n",
      "E1003 08:38:21.117923       1 aws_credentials.go:77] while getting AWS credentials NoCredentialProviders: no valid providers in chain. Deprecated.\n",
      "\tFor verbose messaging see aws.Config.CredentialsChainVerboseErrors\n",
      "\u001b[36mINFO\u001b[0m[0040] Retrieving image manifest mlrun/mlrun:0.7.0-rc7 \n",
      "\u001b[36mINFO\u001b[0m[0042] Retrieving image manifest mlrun/mlrun:0.7.0-rc7 \n",
      "\u001b[36mINFO\u001b[0m[0044] Built cross stage deps: map[]                \n",
      "\u001b[36mINFO\u001b[0m[0044] Retrieving image manifest mlrun/mlrun:0.7.0-rc7 \n",
      "\u001b[36mINFO\u001b[0m[0046] Retrieving image manifest mlrun/mlrun:0.7.0-rc7 \n",
      "\u001b[36mINFO\u001b[0m[0048] Executing 0 build triggers                   \n",
      "\u001b[36mINFO\u001b[0m[0048] Unpacking rootfs as cmd RUN pip install v3io-frames==0.8.* requires it. \n",
      "\u001b[36mINFO\u001b[0m[0071] RUN pip install v3io-frames==0.8.*           \n",
      "\u001b[36mINFO\u001b[0m[0071] Taking snapshot of full filesystem...        \n",
      "\u001b[36mINFO\u001b[0m[0077] cmd: /bin/sh                                 \n",
      "\u001b[36mINFO\u001b[0m[0077] args: [-c pip install v3io-frames==0.8.*]    \n",
      "\u001b[36mINFO\u001b[0m[0077] Running: [/bin/sh -c pip install v3io-frames==0.8.*] \n",
      "Requirement already satisfied: v3io-frames==0.8.* in /usr/local/lib/python3.7/site-packages (0.8.17)\n",
      "Requirement already satisfied: grpcio<1.33,>=1.30 in /usr/local/lib/python3.7/site-packages (from v3io-frames==0.8.*) (1.32.0)\n",
      "Requirement already satisfied: grpcio-tools<1.33,>=1.30 in /usr/local/lib/python3.7/site-packages (from v3io-frames==0.8.*) (1.32.0)\n",
      "Requirement already satisfied: googleapis-common-protos>=1.5.3 in /usr/local/lib/python3.7/site-packages (from v3io-frames==0.8.*) (1.53.0)\n",
      "Requirement already satisfied: pandas>=0.23.4 in /usr/local/lib/python3.7/site-packages (from v3io-frames==0.8.*) (1.3.2)\n",
      "Requirement already satisfied: requests>=2.19.1 in /usr/local/lib/python3.7/site-packages (from v3io-frames==0.8.*) (2.26.0)\n",
      "Requirement already satisfied: six>=1.5.2 in /usr/local/lib/python3.7/site-packages (from grpcio<1.33,>=1.30->v3io-frames==0.8.*) (1.16.0)\n",
      "Requirement already satisfied: protobuf<4.0dev,>=3.5.0.post1 in /usr/local/lib/python3.7/site-packages (from grpcio-tools<1.33,>=1.30->v3io-frames==0.8.*) (3.17.3)\n",
      "Requirement already satisfied: numpy>=1.17.3 in /usr/local/lib/python3.7/site-packages (from pandas>=0.23.4->v3io-frames==0.8.*) (1.19.5)\n",
      "Requirement already satisfied: pytz>=2017.3 in /usr/local/lib/python3.7/site-packages (from pandas>=0.23.4->v3io-frames==0.8.*) (2021.1)\n",
      "Requirement already satisfied: python-dateutil>=2.7.3 in /usr/local/lib/python3.7/site-packages (from pandas>=0.23.4->v3io-frames==0.8.*) (2.8.2)\n",
      "Requirement already satisfied: idna<4,>=2.5; python_version >= \"3\" in /usr/local/lib/python3.7/site-packages (from requests>=2.19.1->v3io-frames==0.8.*) (3.2)\n",
      "Requirement already satisfied: charset-normalizer~=2.0.0; python_version >= \"3\" in /usr/local/lib/python3.7/site-packages (from requests>=2.19.1->v3io-frames==0.8.*) (2.0.4)\n",
      "Requirement already satisfied: certifi>=2017.4.17 in /usr/local/lib/python3.7/site-packages (from requests>=2.19.1->v3io-frames==0.8.*) (2021.5.30)\n",
      "Requirement already satisfied: urllib3<1.27,>=1.21.1 in /usr/local/lib/python3.7/site-packages (from requests>=2.19.1->v3io-frames==0.8.*) (1.26.6)\n",
      "WARNING: You are using pip version 20.2.4; however, version 21.2.4 is available.\n",
      "You should consider upgrading via the '/usr/local/bin/python -m pip install --upgrade pip' command.\n",
      "\u001b[36mINFO\u001b[0m[0079] Taking snapshot of full filesystem...        \n"
     ]
    },
    {
     "data": {
      "text/plain": [
       "True"
      ]
     },
     "execution_count": 6,
     "metadata": {},
     "output_type": "execute_result"
    }
   ],
   "source": [
    "#Build image\n",
    "snapshot_data_func.deploy()"
   ]
  },
  {
   "cell_type": "markdown",
   "metadata": {},
   "source": [
    "##### Run the Function on the Cluster <a id=\"gs-run-ingest-func-on-the-cluster-run-function\"></a>\n"
   ]
  },
  {
   "cell_type": "code",
   "execution_count": null,
   "metadata": {},
   "outputs": [],
   "source": [
    "snapshot_data_run = snapshot_data_func.run(name='snapshot_data',\n",
    "                                 handler='snapshot_data',\n",
    "                                 params={'container': container, 'table_path': table_path, \n",
    "                                         'columns':columns, 'format': format},\n",
    "                                 artifact_path=test_path)"
   ]
  },
  {
   "cell_type": "code",
   "execution_count": null,
   "metadata": {},
   "outputs": [],
   "source": [
    "#clean up\n",
    "!rm -rf test/data"
   ]
  },
  {
   "cell_type": "markdown",
   "metadata": {},
   "source": [
    "## Done"
   ]
  }
 ],
 "metadata": {
  "kernelspec": {
   "display_name": "Python 3",
   "language": "python",
   "name": "python3"
  },
  "language_info": {
   "codemirror_mode": {
    "name": "ipython",
    "version": 3
   },
   "file_extension": ".py",
   "mimetype": "text/x-python",
   "name": "python",
   "nbconvert_exporter": "python",
   "pygments_lexer": "ipython3",
   "version": "3.7.6"
  },
  "toc-showcode": false,
  "toc-showmarkdowntxt": false
 },
 "nbformat": 4,
 "nbformat_minor": 4
}
