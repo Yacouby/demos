{
 "cells": [
  {
   "cell_type": "markdown",
   "metadata": {},
   "source": [
    "# Running Faces pipeline"
   ]
  },
  {
   "cell_type": "code",
   "execution_count": 1,
   "metadata": {},
   "outputs": [
    {
     "name": "stdout",
     "output_type": "stream",
     "text": [
      "Already installed: mlrun\n"
     ]
    }
   ],
   "source": [
    "import sys\n",
    "import subprocess\n",
    "import pkg_resources\n",
    "import IPython\n",
    "\n",
    "required = {'mlrun'}\n",
    "installed = {pkg.key for pkg in pkg_resources.working_set}\n",
    "missing = required - installed\n",
    "previously_installed = required.intersection(installed)\n",
    "\n",
    "if missing:\n",
    "    print(f'Installing {\",\".join(missing)}')\n",
    "    python = sys.executable\n",
    "    subprocess.check_call([python, '-m', 'pip', 'install', *missing], stdout=subprocess.DEVNULL)\n",
    "    print('Restarting kernel')\n",
    "    IPython.Application.instance().kernel.do_shutdown(True) #automatically restarts kernel\n",
    "if previously_installed:\n",
    "    print(f'Already installed: {\",\".join(previously_installed)}')"
   ]
  },
  {
   "cell_type": "markdown",
   "metadata": {},
   "source": [
    "### create the mlrun project "
   ]
  },
  {
   "cell_type": "code",
   "execution_count": 2,
   "metadata": {},
   "outputs": [
    {
     "name": "stdout",
     "output_type": "stream",
     "text": [
      "Project path: /User/mlrun/demos/faces/notebooks\n",
      "Project name: faces\n"
     ]
    }
   ],
   "source": [
    "from os import path, getenv\n",
    "from mlrun import new_project, mlconf\n",
    "\n",
    "#project_name = '-'.join(filter(None, ['getting-started-iris', getenv('V3IO_USERNAME', None)]))\n",
    "project_name = \"faces\"\n",
    "project_path = path.abspath('./')\n",
    "project = new_project(project_name, project_path)\n",
    "project.save()\n",
    "print(f'Project path: {project_path}\\nProject name: {project_name}')"
   ]
  },
  {
   "cell_type": "code",
   "execution_count": 3,
   "metadata": {},
   "outputs": [
    {
     "name": "stdout",
     "output_type": "stream",
     "text": [
      "env: PYTHONPATH=./\n"
     ]
    }
   ],
   "source": [
    "out = mlconf.artifact_path or path.abspath('./data')\n",
    "# {{run.uid}} will be substituted with the run id, so output will be written to different directoried per run\n",
    "artifact_path = path.join(out, '{{run.uid}}')\n",
    "%env PYTHONPATH=./"
   ]
  },
  {
   "cell_type": "code",
   "execution_count": 4,
   "metadata": {},
   "outputs": [
    {
     "name": "stdout",
     "output_type": "stream",
     "text": [
      "> 2020-11-11 13:42:46,997 [info] starting remote build, image: .mlrun/func-default-encode-images-latest\n",
      "\u001b[36mINFO\u001b[0m[0000] Resolved base name mlrun/ml-models:0.5.4 to mlrun/ml-models:0.5.4 \n",
      "\u001b[36mINFO\u001b[0m[0000] Resolved base name mlrun/ml-models:0.5.4 to mlrun/ml-models:0.5.4 \n",
      "\u001b[36mINFO\u001b[0m[0000] Retrieving image manifest mlrun/ml-models:0.5.4 \n",
      "\u001b[36mINFO\u001b[0m[0002] Retrieving image manifest mlrun/ml-models:0.5.4 \n",
      "\u001b[36mINFO\u001b[0m[0004] Built cross stage deps: map[]                \n",
      "\u001b[36mINFO\u001b[0m[0004] Retrieving image manifest mlrun/ml-models:0.5.4 \n",
      "\u001b[36mINFO\u001b[0m[0005] Retrieving image manifest mlrun/ml-models:0.5.4 \n",
      "\u001b[36mINFO\u001b[0m[0006] Unpacking rootfs as cmd RUN pip install face_recognition imutils opencv-python-headless v3io_frames==0.7.37 requires it. \n",
      "\u001b[36mINFO\u001b[0m[0149] Taking snapshot of full filesystem...        \n",
      "\u001b[36mINFO\u001b[0m[0179] Resolving paths                              \n",
      "\u001b[36mINFO\u001b[0m[0204] RUN pip install face_recognition imutils opencv-python-headless v3io_frames==0.7.37 \n",
      "\u001b[36mINFO\u001b[0m[0204] cmd: /bin/sh                                 \n",
      "\u001b[36mINFO\u001b[0m[0204] args: [-c pip install face_recognition imutils opencv-python-headless v3io_frames==0.7.37] \n",
      "Collecting face_recognition\n",
      "  Downloading face_recognition-1.3.0-py2.py3-none-any.whl (15 kB)\n",
      "Collecting imutils\n",
      "  Downloading imutils-0.5.3.tar.gz (17 kB)\n",
      "Collecting opencv-python-headless\n",
      "  Downloading opencv_python_headless-4.4.0.46-cp37-cp37m-manylinux2014_x86_64.whl (36.7 MB)\n",
      "Collecting v3io_frames==0.7.37\n",
      "  Downloading v3io_frames-0.7.37-py3-none-any.whl (34 kB)\n",
      "Requirement already satisfied: Pillow in /opt/conda/lib/python3.7/site-packages (from face_recognition) (8.0.1)\n",
      "Collecting face-recognition-models>=0.3.0\n",
      "  Downloading face_recognition_models-0.3.0.tar.gz (100.1 MB)\n",
      "Requirement already satisfied: numpy in /opt/conda/lib/python3.7/site-packages (from face_recognition) (1.18.1)\n",
      "Collecting dlib>=19.7\n",
      "  Downloading dlib-19.21.0.tar.gz (3.2 MB)\n",
      "Requirement already satisfied: Click>=6.0 in /opt/conda/lib/python3.7/site-packages (from face_recognition) (7.0)\n",
      "Requirement already satisfied: pandas>=0.23.4 in /opt/conda/lib/python3.7/site-packages (from v3io_frames==0.7.37) (1.0.1)\n",
      "Requirement already satisfied: googleapis-common-protos>=1.5.3 in /opt/conda/lib/python3.7/site-packages (from v3io_frames==0.7.37) (1.52.0)\n",
      "Collecting grpcio-tools>=1.26.0\n",
      "  Downloading grpcio_tools-1.33.2-cp37-cp37m-manylinux2014_x86_64.whl (2.5 MB)\n",
      "Requirement already satisfied: requests>=2.19.1 in /opt/conda/lib/python3.7/site-packages (from v3io_frames==0.7.37) (2.22.0)\n",
      "Requirement already satisfied: python-dateutil>=2.6.1 in /opt/conda/lib/python3.7/site-packages (from pandas>=0.23.4->v3io_frames==0.7.37) (2.8.1)\n",
      "Requirement already satisfied: pytz>=2017.2 in /opt/conda/lib/python3.7/site-packages (from pandas>=0.23.4->v3io_frames==0.7.37) (2019.3)\n",
      "Requirement already satisfied: protobuf>=3.6.0 in /opt/conda/lib/python3.7/site-packages (from googleapis-common-protos>=1.5.3->v3io_frames==0.7.37) (3.13.0)\n",
      "Requirement already satisfied: grpcio>=1.33.2 in /opt/conda/lib/python3.7/site-packages (from grpcio-tools>=1.26.0->v3io_frames==0.7.37) (1.33.2)\n",
      "Requirement already satisfied: certifi>=2017.4.17 in /opt/conda/lib/python3.7/site-packages (from requests>=2.19.1->v3io_frames==0.7.37) (2019.11.28)\n",
      "Requirement already satisfied: chardet<3.1.0,>=3.0.2 in /opt/conda/lib/python3.7/site-packages (from requests>=2.19.1->v3io_frames==0.7.37) (3.0.4)\n",
      "Requirement already satisfied: idna<2.9,>=2.5 in /opt/conda/lib/python3.7/site-packages (from requests>=2.19.1->v3io_frames==0.7.37) (2.8)\n",
      "Requirement already satisfied: urllib3!=1.25.0,!=1.25.1,<1.26,>=1.21.1 in /opt/conda/lib/python3.7/site-packages (from requests>=2.19.1->v3io_frames==0.7.37) (1.24.3)\n",
      "Requirement already satisfied: six>=1.5 in /opt/conda/lib/python3.7/site-packages (from python-dateutil>=2.6.1->pandas>=0.23.4->v3io_frames==0.7.37) (1.14.0)\n",
      "Requirement already satisfied: setuptools in /opt/conda/lib/python3.7/site-packages (from protobuf>=3.6.0->googleapis-common-protos>=1.5.3->v3io_frames==0.7.37) (45.2.0.post20200210)\n",
      "Building wheels for collected packages: imutils, face-recognition-models, dlib\n",
      "  Building wheel for imutils (setup.py): started\n",
      "  Building wheel for imutils (setup.py): finished with status 'done'\n",
      "  Created wheel for imutils: filename=imutils-0.5.3-py3-none-any.whl size=25850 sha256=34feea08e3a2efdc93029ccacd860eec04c1e6b5c7015f45959ecd0aa3fe27dd\n",
      "  Stored in directory: /root/.cache/pip/wheels/fc/9c/6d/1826267c72afa51b564c9c6e0f66abc806879338bc593a2270\n",
      "  Building wheel for face-recognition-models (setup.py): started\n",
      "  Building wheel for face-recognition-models (setup.py): finished with status 'done'\n",
      "  Created wheel for face-recognition-models: filename=face_recognition_models-0.3.0-py2.py3-none-any.whl size=100566172 sha256=2e68b3b179fa7815e95ad3a877a87747540925c53ad14e22e06b204c21b7d86a\n",
      "  Stored in directory: /root/.cache/pip/wheels/d6/81/3c/884bcd5e1c120ff548d57c2ecc9ebf3281c9a6f7c0e7e7947a\n",
      "  Building wheel for dlib (setup.py): started\n",
      "  Building wheel for dlib (setup.py): still running...\n",
      "  Building wheel for dlib (setup.py): finished with status 'done'\n",
      "  Created wheel for dlib: filename=dlib-19.21.0-cp37-cp37m-linux_x86_64.whl size=3899702 sha256=52cdc2f5456736dea9453d248994d62a2dd6b7b49338988651029c0d2156969f\n",
      "  Stored in directory: /root/.cache/pip/wheels/d8/8f/ac/70af71fd636fb03b238ca3f183e64f5dfdb5e4ffffeff89ce6\n",
      "Successfully built imutils face-recognition-models dlib\n",
      "Installing collected packages: face-recognition-models, dlib, face-recognition, imutils, opencv-python-headless, grpcio-tools, v3io-frames\n",
      "Successfully installed dlib-19.21.0 face-recognition-1.3.0 face-recognition-models-0.3.0 grpcio-tools-1.33.2 imutils-0.5.3 opencv-python-headless-4.4.0.46 v3io-frames-0.7.37\n",
      "\u001b[36mINFO\u001b[0m[0331] Taking snapshot of full filesystem...        \n",
      "\u001b[36mINFO\u001b[0m[0333] Resolving paths                              \n",
      "\u001b[36mINFO\u001b[0m[0368] RUN pip install mlrun                        \n",
      "\u001b[36mINFO\u001b[0m[0368] cmd: /bin/sh                                 \n",
      "\u001b[36mINFO\u001b[0m[0368] args: [-c pip install mlrun]                 \n",
      "Requirement already satisfied: mlrun in /opt/conda/lib/python3.7/site-packages (0.5.4)\n",
      "Requirement already satisfied: sqlalchemy>=1.3.0 in /opt/conda/lib/python3.7/site-packages (from mlrun) (1.3.13)\n",
      "Requirement already satisfied: tabulate<=0.8.3,>=0.8.0 in /opt/conda/lib/python3.7/site-packages (from mlrun) (0.8.3)\n",
      "Requirement already satisfied: nest-asyncio>=1.0.0 in /opt/conda/lib/python3.7/site-packages (from mlrun) (1.4.2)\n",
      "Requirement already satisfied: urllib3<1.25,>=1.24.2 in /opt/conda/lib/python3.7/site-packages (from mlrun) (1.24.3)\n",
      "Requirement already satisfied: docutils<0.16,>=0.13.1 in /opt/conda/lib/python3.7/site-packages (from mlrun) (0.15.2)\n",
      "Requirement already satisfied: ipython<7.17,>=5.5 in /opt/conda/lib/python3.7/site-packages (from mlrun) (7.12.0)\n",
      "Requirement already satisfied: matplotlib in /opt/conda/lib/python3.7/site-packages (from mlrun) (3.1.3)\n",
      "Requirement already satisfied: pandas>=1.0.1 in /opt/conda/lib/python3.7/site-packages (from mlrun) (1.0.1)\n",
      "Requirement already satisfied: pyarrow>=0.13 in /opt/conda/lib/python3.7/site-packages (from mlrun) (2.0.0)\n",
      "Requirement already satisfied: GitPython>=2.1.0 in /opt/conda/lib/python3.7/site-packages (from mlrun) (3.1.11)\n",
      "Requirement already satisfied: google-auth<2.0dev,>=1.19.1 in /opt/conda/lib/python3.7/site-packages (from mlrun) (1.23.0)\n",
      "Requirement already satisfied: pydantic~=1.5 in /opt/conda/lib/python3.7/site-packages (from mlrun) (1.7.2)\n",
      "Requirement already satisfied: pyyaml>=5.1.0 in /opt/conda/lib/python3.7/site-packages (from mlrun) (5.3)\n",
      "Requirement already satisfied: click==7.0 in /opt/conda/lib/python3.7/site-packages (from mlrun) (7.0)\n",
      "Requirement already satisfied: nuclio-jupyter>=0.8.7 in /opt/conda/lib/python3.7/site-packages (from mlrun) (0.8.7)\n",
      "Requirement already satisfied: seaborn in /opt/conda/lib/python3.7/site-packages (from mlrun) (0.10.0)\n",
      "Requirement already satisfied: kfp==0.2.5 in /opt/conda/lib/python3.7/site-packages (from mlrun) (0.2.5)\n",
      "Requirement already satisfied: orjson<3.4,>=3 in /opt/conda/lib/python3.7/site-packages (from mlrun) (3.3.1)\n",
      "Requirement already satisfied: v3io>=0.3.3 in /opt/conda/lib/python3.7/site-packages (from mlrun) (0.5.3)\n",
      "Requirement already satisfied: azure-storage-blob in /opt/conda/lib/python3.7/site-packages (from mlrun) (12.5.0)\n",
      "Requirement already satisfied: aiohttp<4.0.0dev,>=3.6.2 in /opt/conda/lib/python3.7/site-packages (from mlrun) (3.7.2)\n",
      "Requirement already satisfied: boto3<1.16,>=1.9 in /opt/conda/lib/python3.7/site-packages (from mlrun) (1.15.18)\n",
      "Requirement already satisfied: requests>=2.20.1 in /opt/conda/lib/python3.7/site-packages (from mlrun) (2.22.0)\n",
      "Requirement already satisfied: scikit-learn in /opt/conda/lib/python3.7/site-packages (from mlrun) (0.23.2)\n",
      "Requirement already satisfied: traitlets>=4.2 in /opt/conda/lib/python3.7/site-packages (from ipython<7.17,>=5.5->mlrun) (4.3.3)\n",
      "Requirement already satisfied: pygments in /opt/conda/lib/python3.7/site-packages (from ipython<7.17,>=5.5->mlrun) (2.5.2)\n",
      "Requirement already satisfied: prompt-toolkit!=3.0.0,!=3.0.1,<3.1.0,>=2.0.0 in /opt/conda/lib/python3.7/site-packages (from ipython<7.17,>=5.5->mlrun) (3.0.3)\n",
      "Requirement already satisfied: pickleshare in /opt/conda/lib/python3.7/site-packages (from ipython<7.17,>=5.5->mlrun) (0.7.5)\n",
      "Requirement already satisfied: pexpect; sys_platform != \"win32\" in /opt/conda/lib/python3.7/site-packages (from ipython<7.17,>=5.5->mlrun) (4.8.0)\n",
      "Requirement already satisfied: decorator in /opt/conda/lib/python3.7/site-packages (from ipython<7.17,>=5.5->mlrun) (4.4.1)\n",
      "Requirement already satisfied: setuptools>=18.5 in /opt/conda/lib/python3.7/site-packages (from ipython<7.17,>=5.5->mlrun) (45.2.0.post20200210)\n",
      "Requirement already satisfied: backcall in /opt/conda/lib/python3.7/site-packages (from ipython<7.17,>=5.5->mlrun) (0.1.0)\n",
      "Requirement already satisfied: jedi>=0.10 in /opt/conda/lib/python3.7/site-packages (from ipython<7.17,>=5.5->mlrun) (0.14.1)\n",
      "Requirement already satisfied: pyparsing!=2.0.4,!=2.1.2,!=2.1.6,>=2.0.1 in /opt/conda/lib/python3.7/site-packages (from matplotlib->mlrun) (2.4.6)\n",
      "Requirement already satisfied: python-dateutil>=2.1 in /opt/conda/lib/python3.7/site-packages (from matplotlib->mlrun) (2.8.1)\n",
      "Requirement already satisfied: kiwisolver>=1.0.1 in /opt/conda/lib/python3.7/site-packages (from matplotlib->mlrun) (1.1.0)\n",
      "Requirement already satisfied: numpy>=1.11 in /opt/conda/lib/python3.7/site-packages (from matplotlib->mlrun) (1.18.1)\n",
      "Requirement already satisfied: cycler>=0.10 in /opt/conda/lib/python3.7/site-packages (from matplotlib->mlrun) (0.10.0)\n",
      "Requirement already satisfied: pytz>=2017.2 in /opt/conda/lib/python3.7/site-packages (from pandas>=1.0.1->mlrun) (2019.3)\n",
      "Requirement already satisfied: gitdb<5,>=4.0.1 in /opt/conda/lib/python3.7/site-packages (from GitPython>=2.1.0->mlrun) (4.0.5)\n",
      "Requirement already satisfied: pyasn1-modules>=0.2.1 in /opt/conda/lib/python3.7/site-packages (from google-auth<2.0dev,>=1.19.1->mlrun) (0.2.8)\n",
      "Requirement already satisfied: cachetools<5.0,>=2.0.0 in /opt/conda/lib/python3.7/site-packages (from google-auth<2.0dev,>=1.19.1->mlrun) (4.1.1)\n",
      "Requirement already satisfied: rsa<5,>=3.1.4; python_version >= \"3.5\" in /opt/conda/lib/python3.7/site-packages (from google-auth<2.0dev,>=1.19.1->mlrun) (4.6)\n",
      "Requirement already satisfied: six>=1.9.0 in /opt/conda/lib/python3.7/site-packages (from google-auth<2.0dev,>=1.19.1->mlrun) (1.14.0)\n",
      "Requirement already satisfied: nbconvert>=5.4 in /opt/conda/lib/python3.7/site-packages (from nuclio-jupyter>=0.8.7->mlrun) (5.6.1)\n",
      "Requirement already satisfied: notebook>=5.2.0 in /opt/conda/lib/python3.7/site-packages (from nuclio-jupyter>=0.8.7->mlrun) (6.0.3)\n",
      "Requirement already satisfied: scipy>=1.0.1 in /opt/conda/lib/python3.7/site-packages (from seaborn->mlrun) (1.4.1)\n",
      "Requirement already satisfied: cloudpickle==1.1.1 in /opt/conda/lib/python3.7/site-packages (from kfp==0.2.5->mlrun) (1.1.1)\n",
      "Requirement already satisfied: google-cloud-storage>=1.13.0 in /opt/conda/lib/python3.7/site-packages (from kfp==0.2.5->mlrun) (1.32.0)\n",
      "Requirement already satisfied: PyJWT>=1.6.4 in /opt/conda/lib/python3.7/site-packages (from kfp==0.2.5->mlrun) (1.7.1)\n",
      "Requirement already satisfied: strip-hints in /opt/conda/lib/python3.7/site-packages (from kfp==0.2.5->mlrun) (0.1.9)\n",
      "Requirement already satisfied: certifi in /opt/conda/lib/python3.7/site-packages (from kfp==0.2.5->mlrun) (2019.11.28)\n",
      "Requirement already satisfied: Deprecated in /opt/conda/lib/python3.7/site-packages (from kfp==0.2.5->mlrun) (1.2.10)\n",
      "Requirement already satisfied: requests-toolbelt>=0.8.0 in /opt/conda/lib/python3.7/site-packages (from kfp==0.2.5->mlrun) (0.9.1)\n",
      "Requirement already satisfied: kfp-server-api<=0.1.40,>=0.1.18 in /opt/conda/lib/python3.7/site-packages (from kfp==0.2.5->mlrun) (0.1.40)\n",
      "Requirement already satisfied: argo-models==2.2.1a in /opt/conda/lib/python3.7/site-packages (from kfp==0.2.5->mlrun) (2.2.1a0)\n",
      "Requirement already satisfied: kubernetes<=10.0.0,>=8.0.0 in /opt/conda/lib/python3.7/site-packages (from kfp==0.2.5->mlrun) (10.0.0)\n",
      "Requirement already satisfied: jsonschema>=3.0.1 in /opt/conda/lib/python3.7/site-packages (from kfp==0.2.5->mlrun) (3.2.0)\n",
      "Requirement already satisfied: cryptography>=2.4.2 in /opt/conda/lib/python3.7/site-packages (from kfp==0.2.5->mlrun) (2.8)\n",
      "Requirement already satisfied: ujson~=2.0 in /opt/conda/lib/python3.7/site-packages (from v3io>=0.3.3->mlrun) (2.0.3)\n",
      "Requirement already satisfied: future>=0.18.2 in /opt/conda/lib/python3.7/site-packages (from v3io>=0.3.3->mlrun) (0.18.2)\n",
      "Requirement already satisfied: azure-core<2.0.0,>=1.6.0 in /opt/conda/lib/python3.7/site-packages (from azure-storage-blob->mlrun) (1.9.0)\n",
      "Requirement already satisfied: msrest>=0.6.10 in /opt/conda/lib/python3.7/site-packages (from azure-storage-blob->mlrun) (0.6.19)\n",
      "Requirement already satisfied: async-timeout<4.0,>=3.0 in /opt/conda/lib/python3.7/site-packages (from aiohttp<4.0.0dev,>=3.6.2->mlrun) (3.0.1)\n",
      "Requirement already satisfied: typing-extensions>=3.6.5 in /opt/conda/lib/python3.7/site-packages (from aiohttp<4.0.0dev,>=3.6.2->mlrun) (3.7.4.3)\n",
      "Requirement already satisfied: multidict<7.0,>=4.5 in /opt/conda/lib/python3.7/site-packages (from aiohttp<4.0.0dev,>=3.6.2->mlrun) (5.0.0)\n",
      "Requirement already satisfied: chardet<4.0,>=2.0 in /opt/conda/lib/python3.7/site-packages (from aiohttp<4.0.0dev,>=3.6.2->mlrun) (3.0.4)\n",
      "Requirement already satisfied: yarl<2.0,>=1.0 in /opt/conda/lib/python3.7/site-packages (from aiohttp<4.0.0dev,>=3.6.2->mlrun) (1.6.2)\n",
      "Requirement already satisfied: attrs>=17.3.0 in /opt/conda/lib/python3.7/site-packages (from aiohttp<4.0.0dev,>=3.6.2->mlrun) (19.3.0)\n",
      "Requirement already satisfied: s3transfer<0.4.0,>=0.3.0 in /opt/conda/lib/python3.7/site-packages (from boto3<1.16,>=1.9->mlrun) (0.3.3)\n",
      "Requirement already satisfied: jmespath<1.0.0,>=0.7.1 in /opt/conda/lib/python3.7/site-packages (from boto3<1.16,>=1.9->mlrun) (0.10.0)\n",
      "Requirement already satisfied: botocore<1.19.0,>=1.18.18 in /opt/conda/lib/python3.7/site-packages (from boto3<1.16,>=1.9->mlrun) (1.18.18)\n",
      "Requirement already satisfied: idna<2.9,>=2.5 in /opt/conda/lib/python3.7/site-packages (from requests>=2.20.1->mlrun) (2.8)\n",
      "Requirement already satisfied: threadpoolctl>=2.0.0 in /opt/conda/lib/python3.7/site-packages (from scikit-learn->mlrun) (2.1.0)\n",
      "Requirement already satisfied: joblib>=0.11 in /opt/conda/lib/python3.7/site-packages (from scikit-learn->mlrun) (0.14.1)\n",
      "Requirement already satisfied: ipython-genutils in /opt/conda/lib/python3.7/site-packages (from traitlets>=4.2->ipython<7.17,>=5.5->mlrun) (0.2.0)\n",
      "Requirement already satisfied: wcwidth in /opt/conda/lib/python3.7/site-packages (from prompt-toolkit!=3.0.0,!=3.0.1,<3.1.0,>=2.0.0->ipython<7.17,>=5.5->mlrun) (0.1.8)\n",
      "Requirement already satisfied: ptyprocess>=0.5 in /opt/conda/lib/python3.7/site-packages (from pexpect; sys_platform != \"win32\"->ipython<7.17,>=5.5->mlrun) (0.6.0)\n",
      "Requirement already satisfied: parso>=0.5.0 in /opt/conda/lib/python3.7/site-packages (from jedi>=0.10->ipython<7.17,>=5.5->mlrun) (0.5.2)\n",
      "Requirement already satisfied: smmap<4,>=3.0.1 in /opt/conda/lib/python3.7/site-packages (from gitdb<5,>=4.0.1->GitPython>=2.1.0->mlrun) (3.0.4)\n",
      "Requirement already satisfied: pyasn1<0.5.0,>=0.4.6 in /opt/conda/lib/python3.7/site-packages (from pyasn1-modules>=0.2.1->google-auth<2.0dev,>=1.19.1->mlrun) (0.4.8)\n",
      "Requirement already satisfied: jupyter-core in /opt/conda/lib/python3.7/site-packages (from nbconvert>=5.4->nuclio-jupyter>=0.8.7->mlrun) (4.6.1)\n",
      "Requirement already satisfied: testpath in /opt/conda/lib/python3.7/site-packages (from nbconvert>=5.4->nuclio-jupyter>=0.8.7->mlrun) (0.4.4)\n",
      "Requirement already satisfied: nbformat>=4.4 in /opt/conda/lib/python3.7/site-packages (from nbconvert>=5.4->nuclio-jupyter>=0.8.7->mlrun) (5.0.4)\n",
      "Requirement already satisfied: mistune<2,>=0.8.1 in /opt/conda/lib/python3.7/site-packages (from nbconvert>=5.4->nuclio-jupyter>=0.8.7->mlrun) (0.8.4)\n",
      "Requirement already satisfied: defusedxml in /opt/conda/lib/python3.7/site-packages (from nbconvert>=5.4->nuclio-jupyter>=0.8.7->mlrun) (0.6.0)\n",
      "Requirement already satisfied: pandocfilters>=1.4.1 in /opt/conda/lib/python3.7/site-packages (from nbconvert>=5.4->nuclio-jupyter>=0.8.7->mlrun) (1.4.2)\n",
      "Requirement already satisfied: jinja2>=2.4 in /opt/conda/lib/python3.7/site-packages (from nbconvert>=5.4->nuclio-jupyter>=0.8.7->mlrun) (2.11.1)\n",
      "Requirement already satisfied: entrypoints>=0.2.2 in /opt/conda/lib/python3.7/site-packages (from nbconvert>=5.4->nuclio-jupyter>=0.8.7->mlrun) (0.3)\n",
      "Requirement already satisfied: bleach in /opt/conda/lib/python3.7/site-packages (from nbconvert>=5.4->nuclio-jupyter>=0.8.7->mlrun) (3.1.0)\n",
      "Requirement already satisfied: tornado>=5.0 in /opt/conda/lib/python3.7/site-packages (from notebook>=5.2.0->nuclio-jupyter>=0.8.7->mlrun) (6.0.4)\n",
      "Requirement already satisfied: pyzmq>=17 in /opt/conda/lib/python3.7/site-packages (from notebook>=5.2.0->nuclio-jupyter>=0.8.7->mlrun) (18.1.1)\n",
      "Requirement already satisfied: Send2Trash in /opt/conda/lib/python3.7/site-packages (from notebook>=5.2.0->nuclio-jupyter>=0.8.7->mlrun) (1.5.0)\n",
      "Requirement already satisfied: jupyter-client>=5.3.4 in /opt/conda/lib/python3.7/site-packages (from notebook>=5.2.0->nuclio-jupyter>=0.8.7->mlrun) (5.3.4)\n",
      "Requirement already satisfied: terminado>=0.8.1 in /opt/conda/lib/python3.7/site-packages (from notebook>=5.2.0->nuclio-jupyter>=0.8.7->mlrun) (0.8.3)\n",
      "Requirement already satisfied: prometheus-client in /opt/conda/lib/python3.7/site-packages (from notebook>=5.2.0->nuclio-jupyter>=0.8.7->mlrun) (0.7.1)\n",
      "Requirement already satisfied: ipykernel in /opt/conda/lib/python3.7/site-packages (from notebook>=5.2.0->nuclio-jupyter>=0.8.7->mlrun) (5.1.4)\n",
      "Requirement already satisfied: google-resumable-media<2.0dev,>=1.0.0 in /opt/conda/lib/python3.7/site-packages (from google-cloud-storage>=1.13.0->kfp==0.2.5->mlrun) (1.1.0)\n",
      "Requirement already satisfied: google-cloud-core<2.0dev,>=1.4.1 in /opt/conda/lib/python3.7/site-packages (from google-cloud-storage>=1.13.0->kfp==0.2.5->mlrun) (1.4.3)\n",
      "Requirement already satisfied: wheel in /opt/conda/lib/python3.7/site-packages (from strip-hints->kfp==0.2.5->mlrun) (0.34.2)\n",
      "Requirement already satisfied: wrapt<2,>=1.10 in /opt/conda/lib/python3.7/site-packages (from Deprecated->kfp==0.2.5->mlrun) (1.12.1)\n",
      "Requirement already satisfied: requests-oauthlib in /opt/conda/lib/python3.7/site-packages (from kubernetes<=10.0.0,>=8.0.0->kfp==0.2.5->mlrun) (1.3.0)\n",
      "Requirement already satisfied: websocket-client!=0.40.0,!=0.41.*,!=0.42.*,>=0.32.0 in /opt/conda/lib/python3.7/site-packages (from kubernetes<=10.0.0,>=8.0.0->kfp==0.2.5->mlrun) (0.57.0)\n",
      "Requirement already satisfied: pyrsistent>=0.14.0 in /opt/conda/lib/python3.7/site-packages (from jsonschema>=3.0.1->kfp==0.2.5->mlrun) (0.15.7)\n",
      "Requirement already satisfied: importlib-metadata; python_version < \"3.8\" in /opt/conda/lib/python3.7/site-packages (from jsonschema>=3.0.1->kfp==0.2.5->mlrun) (1.5.0)\n",
      "Requirement already satisfied: cffi!=1.11.3,>=1.8 in /opt/conda/lib/python3.7/site-packages (from cryptography>=2.4.2->kfp==0.2.5->mlrun) (1.14.0)\n",
      "Requirement already satisfied: isodate>=0.6.0 in /opt/conda/lib/python3.7/site-packages (from msrest>=0.6.10->azure-storage-blob->mlrun) (0.6.0)\n",
      "Requirement already satisfied: MarkupSafe>=0.23 in /opt/conda/lib/python3.7/site-packages (from jinja2>=2.4->nbconvert>=5.4->nuclio-jupyter>=0.8.7->mlrun) (1.1.1)\n",
      "Requirement already satisfied: webencodings in /opt/conda/lib/python3.7/site-packages (from bleach->nbconvert>=5.4->nuclio-jupyter>=0.8.7->mlrun) (0.5.1)\n",
      "Requirement already satisfied: google-crc32c<2.0dev,>=1.0; python_version >= \"3.5\" in /opt/conda/lib/python3.7/site-packages (from google-resumable-media<2.0dev,>=1.0.0->google-cloud-storage>=1.13.0->kfp==0.2.5->mlrun) (1.0.0)\n",
      "Requirement already satisfied: google-api-core<2.0.0dev,>=1.19.0 in /opt/conda/lib/python3.7/site-packages (from google-cloud-core<2.0dev,>=1.4.1->google-cloud-storage>=1.13.0->kfp==0.2.5->mlrun) (1.23.0)\n",
      "Requirement already satisfied: oauthlib>=3.0.0 in /opt/conda/lib/python3.7/site-packages (from requests-oauthlib->kubernetes<=10.0.0,>=8.0.0->kfp==0.2.5->mlrun) (3.1.0)\n",
      "Requirement already satisfied: zipp>=0.5 in /opt/conda/lib/python3.7/site-packages (from importlib-metadata; python_version < \"3.8\"->jsonschema>=3.0.1->kfp==0.2.5->mlrun) (2.2.0)\n",
      "Requirement already satisfied: pycparser in /opt/conda/lib/python3.7/site-packages (from cffi!=1.11.3,>=1.8->cryptography>=2.4.2->kfp==0.2.5->mlrun) (2.19)\n",
      "Requirement already satisfied: protobuf>=3.12.0 in /opt/conda/lib/python3.7/site-packages (from google-api-core<2.0.0dev,>=1.19.0->google-cloud-core<2.0dev,>=1.4.1->google-cloud-storage>=1.13.0->kfp==0.2.5->mlrun) (3.13.0)\n",
      "Requirement already satisfied: googleapis-common-protos<2.0dev,>=1.6.0 in /opt/conda/lib/python3.7/site-packages (from google-api-core<2.0.0dev,>=1.19.0->google-cloud-core<2.0dev,>=1.4.1->google-cloud-storage>=1.13.0->kfp==0.2.5->mlrun) (1.52.0)\n",
      "\u001b[36mINFO\u001b[0m[0371] Taking snapshot of full filesystem...        \n",
      "\u001b[36mINFO\u001b[0m[0373] Resolving paths                              \n"
     ]
    },
    {
     "data": {
      "text/plain": [
       "True"
      ]
     },
     "execution_count": 4,
     "metadata": {},
     "output_type": "execute_result"
    }
   ],
   "source": [
    "from mlrun import mount_v3io, code_to_function\n",
    "encode_images_func = code_to_function('encode_images', kind='job', filename='functions/encode_images.py')\n",
    "encode_images_func.spec.build.commands = ['pip install face_recognition imutils opencv-python-headless v3io_frames==0.7.37']\n",
    "encode_images_func.spec.build.base_image = 'mlrun/ml-models'\n",
    "encode_images_func.deploy()"
   ]
  },
  {
   "cell_type": "code",
   "execution_count": 5,
   "metadata": {},
   "outputs": [
    {
     "name": "stdout",
     "output_type": "stream",
     "text": [
      "> 2020-11-11 13:49:47,715 [info] starting remote build, image: .mlrun/func-default-train-latest\n",
      "\u001b[36mINFO\u001b[0m[0000] Resolved base name mlrun/ml-models:0.5.4 to mlrun/ml-models:0.5.4 \n",
      "\u001b[36mINFO\u001b[0m[0000] Resolved base name mlrun/ml-models:0.5.4 to mlrun/ml-models:0.5.4 \n",
      "\u001b[36mINFO\u001b[0m[0000] Retrieving image manifest mlrun/ml-models:0.5.4 \n",
      "\u001b[36mINFO\u001b[0m[0002] Retrieving image manifest mlrun/ml-models:0.5.4 \n",
      "\u001b[36mINFO\u001b[0m[0003] Built cross stage deps: map[]                \n",
      "\u001b[36mINFO\u001b[0m[0003] Retrieving image manifest mlrun/ml-models:0.5.4 \n",
      "\u001b[36mINFO\u001b[0m[0004] Retrieving image manifest mlrun/ml-models:0.5.4 \n",
      "\u001b[36mINFO\u001b[0m[0006] Unpacking rootfs as cmd RUN pip install v3io_frames==0.7.37 requires it. \n",
      "\u001b[36mINFO\u001b[0m[0152] Taking snapshot of full filesystem...        \n"
     ]
    },
    {
     "name": "stderr",
     "output_type": "stream",
     "text": [
      "2020-11-11 13:52:50,110 WARNING Retrying (Retry(total=2, connect=None, read=None, redirect=None, status=None)) after connection broken by 'ReadTimeoutError(\"HTTPConnectionPool(host='mlrun-api', port=8080): Read timed out. (read timeout=20)\")': /api/build/status?name=train&project=default&tag=&logs=yes&offset=676&last_log_timestamp=0&verbose=no\n"
     ]
    },
    {
     "name": "stdout",
     "output_type": "stream",
     "text": [
      "\u001b[36mINFO\u001b[0m[0180] Resolving paths                              \n",
      "\u001b[36mINFO\u001b[0m[0205] RUN pip install v3io_frames==0.7.37          \n",
      "\u001b[36mINFO\u001b[0m[0205] cmd: /bin/sh                                 \n",
      "\u001b[36mINFO\u001b[0m[0205] args: [-c pip install v3io_frames==0.7.37]   \n",
      "Collecting v3io_frames==0.7.37\n",
      "  Downloading v3io_frames-0.7.37-py3-none-any.whl (34 kB)\n",
      "Requirement already satisfied: requests>=2.19.1 in /opt/conda/lib/python3.7/site-packages (from v3io_frames==0.7.37) (2.22.0)\n",
      "Requirement already satisfied: googleapis-common-protos>=1.5.3 in /opt/conda/lib/python3.7/site-packages (from v3io_frames==0.7.37) (1.52.0)\n",
      "Requirement already satisfied: pandas>=0.23.4 in /opt/conda/lib/python3.7/site-packages (from v3io_frames==0.7.37) (1.0.1)\n",
      "Collecting grpcio-tools>=1.26.0\n",
      "  Downloading grpcio_tools-1.33.2-cp37-cp37m-manylinux2014_x86_64.whl (2.5 MB)\n",
      "Requirement already satisfied: certifi>=2017.4.17 in /opt/conda/lib/python3.7/site-packages (from requests>=2.19.1->v3io_frames==0.7.37) (2019.11.28)\n",
      "Requirement already satisfied: urllib3!=1.25.0,!=1.25.1,<1.26,>=1.21.1 in /opt/conda/lib/python3.7/site-packages (from requests>=2.19.1->v3io_frames==0.7.37) (1.24.3)\n",
      "Requirement already satisfied: idna<2.9,>=2.5 in /opt/conda/lib/python3.7/site-packages (from requests>=2.19.1->v3io_frames==0.7.37) (2.8)\n",
      "Requirement already satisfied: chardet<3.1.0,>=3.0.2 in /opt/conda/lib/python3.7/site-packages (from requests>=2.19.1->v3io_frames==0.7.37) (3.0.4)\n",
      "Requirement already satisfied: protobuf>=3.6.0 in /opt/conda/lib/python3.7/site-packages (from googleapis-common-protos>=1.5.3->v3io_frames==0.7.37) (3.13.0)\n",
      "Requirement already satisfied: numpy>=1.13.3 in /opt/conda/lib/python3.7/site-packages (from pandas>=0.23.4->v3io_frames==0.7.37) (1.18.1)\n",
      "Requirement already satisfied: pytz>=2017.2 in /opt/conda/lib/python3.7/site-packages (from pandas>=0.23.4->v3io_frames==0.7.37) (2019.3)\n",
      "Requirement already satisfied: python-dateutil>=2.6.1 in /opt/conda/lib/python3.7/site-packages (from pandas>=0.23.4->v3io_frames==0.7.37) (2.8.1)\n",
      "Requirement already satisfied: grpcio>=1.33.2 in /opt/conda/lib/python3.7/site-packages (from grpcio-tools>=1.26.0->v3io_frames==0.7.37) (1.33.2)\n",
      "Requirement already satisfied: six>=1.9 in /opt/conda/lib/python3.7/site-packages (from protobuf>=3.6.0->googleapis-common-protos>=1.5.3->v3io_frames==0.7.37) (1.14.0)\n",
      "Requirement already satisfied: setuptools in /opt/conda/lib/python3.7/site-packages (from protobuf>=3.6.0->googleapis-common-protos>=1.5.3->v3io_frames==0.7.37) (45.2.0.post20200210)\n",
      "Installing collected packages: grpcio-tools, v3io-frames\n",
      "Successfully installed grpcio-tools-1.33.2 v3io-frames-0.7.37\n",
      "\u001b[36mINFO\u001b[0m[0211] Taking snapshot of full filesystem...        \n",
      "\u001b[36mINFO\u001b[0m[0212] Resolving paths                              \n",
      "\u001b[36mINFO\u001b[0m[0232] RUN pip install mlrun                        \n",
      "\u001b[36mINFO\u001b[0m[0232] cmd: /bin/sh                                 \n",
      "\u001b[36mINFO\u001b[0m[0232] args: [-c pip install mlrun]                 \n",
      "Requirement already satisfied: mlrun in /opt/conda/lib/python3.7/site-packages (0.5.4)\n",
      "Requirement already satisfied: click==7.0 in /opt/conda/lib/python3.7/site-packages (from mlrun) (7.0)\n",
      "Requirement already satisfied: requests>=2.20.1 in /opt/conda/lib/python3.7/site-packages (from mlrun) (2.22.0)\n",
      "Requirement already satisfied: sqlalchemy>=1.3.0 in /opt/conda/lib/python3.7/site-packages (from mlrun) (1.3.13)\n",
      "Requirement already satisfied: orjson<3.4,>=3 in /opt/conda/lib/python3.7/site-packages (from mlrun) (3.3.1)\n",
      "Requirement already satisfied: boto3<1.16,>=1.9 in /opt/conda/lib/python3.7/site-packages (from mlrun) (1.15.18)\n",
      "Requirement already satisfied: urllib3<1.25,>=1.24.2 in /opt/conda/lib/python3.7/site-packages (from mlrun) (1.24.3)\n",
      "Requirement already satisfied: tabulate<=0.8.3,>=0.8.0 in /opt/conda/lib/python3.7/site-packages (from mlrun) (0.8.3)\n",
      "Requirement already satisfied: azure-storage-blob in /opt/conda/lib/python3.7/site-packages (from mlrun) (12.5.0)\n",
      "Requirement already satisfied: ipython<7.17,>=5.5 in /opt/conda/lib/python3.7/site-packages (from mlrun) (7.12.0)\n",
      "Requirement already satisfied: pandas>=1.0.1 in /opt/conda/lib/python3.7/site-packages (from mlrun) (1.0.1)\n",
      "Requirement already satisfied: GitPython>=2.1.0 in /opt/conda/lib/python3.7/site-packages (from mlrun) (3.1.11)\n",
      "Requirement already satisfied: pydantic~=1.5 in /opt/conda/lib/python3.7/site-packages (from mlrun) (1.7.2)\n",
      "Requirement already satisfied: google-auth<2.0dev,>=1.19.1 in /opt/conda/lib/python3.7/site-packages (from mlrun) (1.23.0)\n",
      "Requirement already satisfied: docutils<0.16,>=0.13.1 in /opt/conda/lib/python3.7/site-packages (from mlrun) (0.15.2)\n",
      "Requirement already satisfied: pyarrow>=0.13 in /opt/conda/lib/python3.7/site-packages (from mlrun) (2.0.0)\n",
      "Requirement already satisfied: nest-asyncio>=1.0.0 in /opt/conda/lib/python3.7/site-packages (from mlrun) (1.4.2)\n",
      "Requirement already satisfied: scikit-learn in /opt/conda/lib/python3.7/site-packages (from mlrun) (0.23.2)\n",
      "Requirement already satisfied: v3io>=0.3.3 in /opt/conda/lib/python3.7/site-packages (from mlrun) (0.5.3)\n",
      "Requirement already satisfied: aiohttp<4.0.0dev,>=3.6.2 in /opt/conda/lib/python3.7/site-packages (from mlrun) (3.7.2)\n",
      "Requirement already satisfied: nuclio-jupyter>=0.8.7 in /opt/conda/lib/python3.7/site-packages (from mlrun) (0.8.7)\n",
      "Requirement already satisfied: seaborn in /opt/conda/lib/python3.7/site-packages (from mlrun) (0.10.0)\n",
      "Requirement already satisfied: kfp==0.2.5 in /opt/conda/lib/python3.7/site-packages (from mlrun) (0.2.5)\n",
      "Requirement already satisfied: pyyaml>=5.1.0 in /opt/conda/lib/python3.7/site-packages (from mlrun) (5.3)\n",
      "Requirement already satisfied: matplotlib in /opt/conda/lib/python3.7/site-packages (from mlrun) (3.1.3)\n",
      "Requirement already satisfied: idna<2.9,>=2.5 in /opt/conda/lib/python3.7/site-packages (from requests>=2.20.1->mlrun) (2.8)\n",
      "Requirement already satisfied: chardet<3.1.0,>=3.0.2 in /opt/conda/lib/python3.7/site-packages (from requests>=2.20.1->mlrun) (3.0.4)\n",
      "Requirement already satisfied: certifi>=2017.4.17 in /opt/conda/lib/python3.7/site-packages (from requests>=2.20.1->mlrun) (2019.11.28)\n",
      "Requirement already satisfied: jmespath<1.0.0,>=0.7.1 in /opt/conda/lib/python3.7/site-packages (from boto3<1.16,>=1.9->mlrun) (0.10.0)\n",
      "Requirement already satisfied: botocore<1.19.0,>=1.18.18 in /opt/conda/lib/python3.7/site-packages (from boto3<1.16,>=1.9->mlrun) (1.18.18)\n",
      "Requirement already satisfied: s3transfer<0.4.0,>=0.3.0 in /opt/conda/lib/python3.7/site-packages (from boto3<1.16,>=1.9->mlrun) (0.3.3)\n",
      "Requirement already satisfied: cryptography>=2.1.4 in /opt/conda/lib/python3.7/site-packages (from azure-storage-blob->mlrun) (2.8)\n",
      "Requirement already satisfied: azure-core<2.0.0,>=1.6.0 in /opt/conda/lib/python3.7/site-packages (from azure-storage-blob->mlrun) (1.9.0)\n",
      "Requirement already satisfied: msrest>=0.6.10 in /opt/conda/lib/python3.7/site-packages (from azure-storage-blob->mlrun) (0.6.19)\n",
      "Requirement already satisfied: pygments in /opt/conda/lib/python3.7/site-packages (from ipython<7.17,>=5.5->mlrun) (2.5.2)\n",
      "Requirement already satisfied: pexpect; sys_platform != \"win32\" in /opt/conda/lib/python3.7/site-packages (from ipython<7.17,>=5.5->mlrun) (4.8.0)\n",
      "Requirement already satisfied: pickleshare in /opt/conda/lib/python3.7/site-packages (from ipython<7.17,>=5.5->mlrun) (0.7.5)\n",
      "Requirement already satisfied: jedi>=0.10 in /opt/conda/lib/python3.7/site-packages (from ipython<7.17,>=5.5->mlrun) (0.14.1)\n",
      "Requirement already satisfied: prompt-toolkit!=3.0.0,!=3.0.1,<3.1.0,>=2.0.0 in /opt/conda/lib/python3.7/site-packages (from ipython<7.17,>=5.5->mlrun) (3.0.3)\n",
      "Requirement already satisfied: backcall in /opt/conda/lib/python3.7/site-packages (from ipython<7.17,>=5.5->mlrun) (0.1.0)\n",
      "Requirement already satisfied: setuptools>=18.5 in /opt/conda/lib/python3.7/site-packages (from ipython<7.17,>=5.5->mlrun) (45.2.0.post20200210)\n",
      "Requirement already satisfied: decorator in /opt/conda/lib/python3.7/site-packages (from ipython<7.17,>=5.5->mlrun) (4.4.1)\n",
      "Requirement already satisfied: traitlets>=4.2 in /opt/conda/lib/python3.7/site-packages (from ipython<7.17,>=5.5->mlrun) (4.3.3)\n",
      "Requirement already satisfied: pytz>=2017.2 in /opt/conda/lib/python3.7/site-packages (from pandas>=1.0.1->mlrun) (2019.3)\n",
      "Requirement already satisfied: python-dateutil>=2.6.1 in /opt/conda/lib/python3.7/site-packages (from pandas>=1.0.1->mlrun) (2.8.1)\n",
      "Requirement already satisfied: numpy>=1.13.3 in /opt/conda/lib/python3.7/site-packages (from pandas>=1.0.1->mlrun) (1.18.1)\n",
      "Requirement already satisfied: gitdb<5,>=4.0.1 in /opt/conda/lib/python3.7/site-packages (from GitPython>=2.1.0->mlrun) (4.0.5)\n",
      "Requirement already satisfied: rsa<5,>=3.1.4; python_version >= \"3.5\" in /opt/conda/lib/python3.7/site-packages (from google-auth<2.0dev,>=1.19.1->mlrun) (4.6)\n",
      "Requirement already satisfied: six>=1.9.0 in /opt/conda/lib/python3.7/site-packages (from google-auth<2.0dev,>=1.19.1->mlrun) (1.14.0)\n",
      "Requirement already satisfied: cachetools<5.0,>=2.0.0 in /opt/conda/lib/python3.7/site-packages (from google-auth<2.0dev,>=1.19.1->mlrun) (4.1.1)\n",
      "Requirement already satisfied: pyasn1-modules>=0.2.1 in /opt/conda/lib/python3.7/site-packages (from google-auth<2.0dev,>=1.19.1->mlrun) (0.2.8)\n",
      "Requirement already satisfied: scipy>=0.19.1 in /opt/conda/lib/python3.7/site-packages (from scikit-learn->mlrun) (1.4.1)\n",
      "Requirement already satisfied: joblib>=0.11 in /opt/conda/lib/python3.7/site-packages (from scikit-learn->mlrun) (0.14.1)\n",
      "Requirement already satisfied: threadpoolctl>=2.0.0 in /opt/conda/lib/python3.7/site-packages (from scikit-learn->mlrun) (2.1.0)\n",
      "Requirement already satisfied: ujson~=2.0 in /opt/conda/lib/python3.7/site-packages (from v3io>=0.3.3->mlrun) (2.0.3)\n",
      "Requirement already satisfied: future>=0.18.2 in /opt/conda/lib/python3.7/site-packages (from v3io>=0.3.3->mlrun) (0.18.2)\n",
      "Requirement already satisfied: multidict<7.0,>=4.5 in /opt/conda/lib/python3.7/site-packages (from aiohttp<4.0.0dev,>=3.6.2->mlrun) (5.0.0)\n",
      "Requirement already satisfied: yarl<2.0,>=1.0 in /opt/conda/lib/python3.7/site-packages (from aiohttp<4.0.0dev,>=3.6.2->mlrun) (1.6.2)\n",
      "Requirement already satisfied: attrs>=17.3.0 in /opt/conda/lib/python3.7/site-packages (from aiohttp<4.0.0dev,>=3.6.2->mlrun) (19.3.0)\n",
      "Requirement already satisfied: typing-extensions>=3.6.5 in /opt/conda/lib/python3.7/site-packages (from aiohttp<4.0.0dev,>=3.6.2->mlrun) (3.7.4.3)\n",
      "Requirement already satisfied: async-timeout<4.0,>=3.0 in /opt/conda/lib/python3.7/site-packages (from aiohttp<4.0.0dev,>=3.6.2->mlrun) (3.0.1)\n",
      "Requirement already satisfied: nbconvert>=5.4 in /opt/conda/lib/python3.7/site-packages (from nuclio-jupyter>=0.8.7->mlrun) (5.6.1)\n",
      "Requirement already satisfied: notebook>=5.2.0 in /opt/conda/lib/python3.7/site-packages (from nuclio-jupyter>=0.8.7->mlrun) (6.0.3)\n",
      "Requirement already satisfied: kubernetes<=10.0.0,>=8.0.0 in /opt/conda/lib/python3.7/site-packages (from kfp==0.2.5->mlrun) (10.0.0)\n",
      "Requirement already satisfied: argo-models==2.2.1a in /opt/conda/lib/python3.7/site-packages (from kfp==0.2.5->mlrun) (2.2.1a0)\n",
      "Requirement already satisfied: jsonschema>=3.0.1 in /opt/conda/lib/python3.7/site-packages (from kfp==0.2.5->mlrun) (3.2.0)\n",
      "Requirement already satisfied: kfp-server-api<=0.1.40,>=0.1.18 in /opt/conda/lib/python3.7/site-packages (from kfp==0.2.5->mlrun) (0.1.40)\n",
      "Requirement already satisfied: PyJWT>=1.6.4 in /opt/conda/lib/python3.7/site-packages (from kfp==0.2.5->mlrun) (1.7.1)\n",
      "Requirement already satisfied: google-cloud-storage>=1.13.0 in /opt/conda/lib/python3.7/site-packages (from kfp==0.2.5->mlrun) (1.32.0)\n",
      "Requirement already satisfied: requests-toolbelt>=0.8.0 in /opt/conda/lib/python3.7/site-packages (from kfp==0.2.5->mlrun) (0.9.1)\n",
      "Requirement already satisfied: cloudpickle==1.1.1 in /opt/conda/lib/python3.7/site-packages (from kfp==0.2.5->mlrun) (1.1.1)\n",
      "Requirement already satisfied: strip-hints in /opt/conda/lib/python3.7/site-packages (from kfp==0.2.5->mlrun) (0.1.9)\n",
      "Requirement already satisfied: Deprecated in /opt/conda/lib/python3.7/site-packages (from kfp==0.2.5->mlrun) (1.2.10)\n",
      "Requirement already satisfied: cycler>=0.10 in /opt/conda/lib/python3.7/site-packages (from matplotlib->mlrun) (0.10.0)\n",
      "Requirement already satisfied: kiwisolver>=1.0.1 in /opt/conda/lib/python3.7/site-packages (from matplotlib->mlrun) (1.1.0)\n",
      "Requirement already satisfied: pyparsing!=2.0.4,!=2.1.2,!=2.1.6,>=2.0.1 in /opt/conda/lib/python3.7/site-packages (from matplotlib->mlrun) (2.4.6)\n",
      "Requirement already satisfied: cffi!=1.11.3,>=1.8 in /opt/conda/lib/python3.7/site-packages (from cryptography>=2.1.4->azure-storage-blob->mlrun) (1.14.0)\n",
      "Requirement already satisfied: requests-oauthlib>=0.5.0 in /opt/conda/lib/python3.7/site-packages (from msrest>=0.6.10->azure-storage-blob->mlrun) (1.3.0)\n",
      "Requirement already satisfied: isodate>=0.6.0 in /opt/conda/lib/python3.7/site-packages (from msrest>=0.6.10->azure-storage-blob->mlrun) (0.6.0)\n",
      "Requirement already satisfied: ptyprocess>=0.5 in /opt/conda/lib/python3.7/site-packages (from pexpect; sys_platform != \"win32\"->ipython<7.17,>=5.5->mlrun) (0.6.0)\n",
      "Requirement already satisfied: parso>=0.5.0 in /opt/conda/lib/python3.7/site-packages (from jedi>=0.10->ipython<7.17,>=5.5->mlrun) (0.5.2)\n",
      "Requirement already satisfied: wcwidth in /opt/conda/lib/python3.7/site-packages (from prompt-toolkit!=3.0.0,!=3.0.1,<3.1.0,>=2.0.0->ipython<7.17,>=5.5->mlrun) (0.1.8)\n",
      "Requirement already satisfied: ipython-genutils in /opt/conda/lib/python3.7/site-packages (from traitlets>=4.2->ipython<7.17,>=5.5->mlrun) (0.2.0)\n",
      "Requirement already satisfied: smmap<4,>=3.0.1 in /opt/conda/lib/python3.7/site-packages (from gitdb<5,>=4.0.1->GitPython>=2.1.0->mlrun) (3.0.4)\n",
      "Requirement already satisfied: pyasn1>=0.1.3 in /opt/conda/lib/python3.7/site-packages (from rsa<5,>=3.1.4; python_version >= \"3.5\"->google-auth<2.0dev,>=1.19.1->mlrun) (0.4.8)\n",
      "Requirement already satisfied: jupyter-core in /opt/conda/lib/python3.7/site-packages (from nbconvert>=5.4->nuclio-jupyter>=0.8.7->mlrun) (4.6.1)\n",
      "Requirement already satisfied: bleach in /opt/conda/lib/python3.7/site-packages (from nbconvert>=5.4->nuclio-jupyter>=0.8.7->mlrun) (3.1.0)\n",
      "Requirement already satisfied: pandocfilters>=1.4.1 in /opt/conda/lib/python3.7/site-packages (from nbconvert>=5.4->nuclio-jupyter>=0.8.7->mlrun) (1.4.2)\n",
      "Requirement already satisfied: mistune<2,>=0.8.1 in /opt/conda/lib/python3.7/site-packages (from nbconvert>=5.4->nuclio-jupyter>=0.8.7->mlrun) (0.8.4)\n",
      "Requirement already satisfied: nbformat>=4.4 in /opt/conda/lib/python3.7/site-packages (from nbconvert>=5.4->nuclio-jupyter>=0.8.7->mlrun) (5.0.4)\n",
      "Requirement already satisfied: defusedxml in /opt/conda/lib/python3.7/site-packages (from nbconvert>=5.4->nuclio-jupyter>=0.8.7->mlrun) (0.6.0)\n",
      "Requirement already satisfied: jinja2>=2.4 in /opt/conda/lib/python3.7/site-packages (from nbconvert>=5.4->nuclio-jupyter>=0.8.7->mlrun) (2.11.1)\n",
      "Requirement already satisfied: entrypoints>=0.2.2 in /opt/conda/lib/python3.7/site-packages (from nbconvert>=5.4->nuclio-jupyter>=0.8.7->mlrun) (0.3)\n",
      "Requirement already satisfied: testpath in /opt/conda/lib/python3.7/site-packages (from nbconvert>=5.4->nuclio-jupyter>=0.8.7->mlrun) (0.4.4)\n",
      "Requirement already satisfied: ipykernel in /opt/conda/lib/python3.7/site-packages (from notebook>=5.2.0->nuclio-jupyter>=0.8.7->mlrun) (5.1.4)\n",
      "Requirement already satisfied: jupyter-client>=5.3.4 in /opt/conda/lib/python3.7/site-packages (from notebook>=5.2.0->nuclio-jupyter>=0.8.7->mlrun) (5.3.4)\n",
      "Requirement already satisfied: Send2Trash in /opt/conda/lib/python3.7/site-packages (from notebook>=5.2.0->nuclio-jupyter>=0.8.7->mlrun) (1.5.0)\n",
      "Requirement already satisfied: terminado>=0.8.1 in /opt/conda/lib/python3.7/site-packages (from notebook>=5.2.0->nuclio-jupyter>=0.8.7->mlrun) (0.8.3)\n",
      "Requirement already satisfied: prometheus-client in /opt/conda/lib/python3.7/site-packages (from notebook>=5.2.0->nuclio-jupyter>=0.8.7->mlrun) (0.7.1)\n",
      "Requirement already satisfied: tornado>=5.0 in /opt/conda/lib/python3.7/site-packages (from notebook>=5.2.0->nuclio-jupyter>=0.8.7->mlrun) (6.0.4)\n",
      "Requirement already satisfied: pyzmq>=17 in /opt/conda/lib/python3.7/site-packages (from notebook>=5.2.0->nuclio-jupyter>=0.8.7->mlrun) (18.1.1)\n",
      "Requirement already satisfied: websocket-client!=0.40.0,!=0.41.*,!=0.42.*,>=0.32.0 in /opt/conda/lib/python3.7/site-packages (from kubernetes<=10.0.0,>=8.0.0->kfp==0.2.5->mlrun) (0.57.0)\n",
      "Requirement already satisfied: pyrsistent>=0.14.0 in /opt/conda/lib/python3.7/site-packages (from jsonschema>=3.0.1->kfp==0.2.5->mlrun) (0.15.7)\n",
      "Requirement already satisfied: importlib-metadata; python_version < \"3.8\" in /opt/conda/lib/python3.7/site-packages (from jsonschema>=3.0.1->kfp==0.2.5->mlrun) (1.5.0)\n",
      "Requirement already satisfied: google-cloud-core<2.0dev,>=1.4.1 in /opt/conda/lib/python3.7/site-packages (from google-cloud-storage>=1.13.0->kfp==0.2.5->mlrun) (1.4.3)\n",
      "Requirement already satisfied: google-resumable-media<2.0dev,>=1.0.0 in /opt/conda/lib/python3.7/site-packages (from google-cloud-storage>=1.13.0->kfp==0.2.5->mlrun) (1.1.0)\n",
      "Requirement already satisfied: wheel in /opt/conda/lib/python3.7/site-packages (from strip-hints->kfp==0.2.5->mlrun) (0.34.2)\n",
      "Requirement already satisfied: wrapt<2,>=1.10 in /opt/conda/lib/python3.7/site-packages (from Deprecated->kfp==0.2.5->mlrun) (1.12.1)\n",
      "Requirement already satisfied: pycparser in /opt/conda/lib/python3.7/site-packages (from cffi!=1.11.3,>=1.8->cryptography>=2.1.4->azure-storage-blob->mlrun) (2.19)\n",
      "Requirement already satisfied: oauthlib>=3.0.0 in /opt/conda/lib/python3.7/site-packages (from requests-oauthlib>=0.5.0->msrest>=0.6.10->azure-storage-blob->mlrun) (3.1.0)\n",
      "Requirement already satisfied: webencodings in /opt/conda/lib/python3.7/site-packages (from bleach->nbconvert>=5.4->nuclio-jupyter>=0.8.7->mlrun) (0.5.1)\n",
      "Requirement already satisfied: MarkupSafe>=0.23 in /opt/conda/lib/python3.7/site-packages (from jinja2>=2.4->nbconvert>=5.4->nuclio-jupyter>=0.8.7->mlrun) (1.1.1)\n",
      "Requirement already satisfied: zipp>=0.5 in /opt/conda/lib/python3.7/site-packages (from importlib-metadata; python_version < \"3.8\"->jsonschema>=3.0.1->kfp==0.2.5->mlrun) (2.2.0)\n",
      "Requirement already satisfied: google-api-core<2.0.0dev,>=1.19.0 in /opt/conda/lib/python3.7/site-packages (from google-cloud-core<2.0dev,>=1.4.1->google-cloud-storage>=1.13.0->kfp==0.2.5->mlrun) (1.23.0)\n",
      "Requirement already satisfied: google-crc32c<2.0dev,>=1.0; python_version >= \"3.5\" in /opt/conda/lib/python3.7/site-packages (from google-resumable-media<2.0dev,>=1.0.0->google-cloud-storage>=1.13.0->kfp==0.2.5->mlrun) (1.0.0)\n",
      "Requirement already satisfied: protobuf>=3.12.0 in /opt/conda/lib/python3.7/site-packages (from google-api-core<2.0.0dev,>=1.19.0->google-cloud-core<2.0dev,>=1.4.1->google-cloud-storage>=1.13.0->kfp==0.2.5->mlrun) (3.13.0)\n",
      "Requirement already satisfied: googleapis-common-protos<2.0dev,>=1.6.0 in /opt/conda/lib/python3.7/site-packages (from google-api-core<2.0.0dev,>=1.19.0->google-cloud-core<2.0dev,>=1.4.1->google-cloud-storage>=1.13.0->kfp==0.2.5->mlrun) (1.52.0)\n",
      "\u001b[36mINFO\u001b[0m[0235] Taking snapshot of full filesystem...        \n",
      "\u001b[36mINFO\u001b[0m[0235] Resolving paths                              \n"
     ]
    },
    {
     "data": {
      "text/plain": [
       "True"
      ]
     },
     "execution_count": 5,
     "metadata": {},
     "output_type": "execute_result"
    }
   ],
   "source": [
    "from mlrun import mount_v3io, code_to_function\n",
    "train_func = code_to_function('train', kind='job', filename='functions/train.py')\n",
    "train_func.spec.build.commands = ['pip install v3io_frames==0.7.37']\n",
    "train_func.spec.build.base_image = 'mlrun/ml-models'\n",
    "train_func.deploy()"
   ]
  },
  {
   "cell_type": "markdown",
   "metadata": {},
   "source": [
    "### set the project functions"
   ]
  },
  {
   "cell_type": "code",
   "execution_count": 7,
   "metadata": {},
   "outputs": [],
   "source": [
    "from mlrun import mount_v3io, code_to_function\n",
    "#project.set_function(\"functions/clean_parquez.py\", 'clean', kind='job', image='aviaigz/parquez')\n",
    "\n",
    "ARTIFACTS_PATH ='/User/faces/artifacts/'\n",
    "\n",
    "project.set_function(encode_images_func,name = 'encode_images')\n",
    "project.set_function(train_func,name = 'train')\n",
    "project.func('encode_images').apply(mount_v3io())\n",
    "project.func('train').apply(mount_v3io())\n",
    "project.func('encode_images').set_env('PYTHONPATH', project_path)\n",
    "project.func('train').set_env('PYTHONPATH', project_path)\n",
    "project.func('encode_images').spec.artifact_path = ARTIFACTS_PATH\n",
    "project.func('train').spec.artifact_path = ARTIFACTS_PATH\n",
    "\n"
   ]
  },
  {
   "cell_type": "markdown",
   "metadata": {},
   "source": [
    "<a id=\"gs-step-create-n-run-ml-pipeline\"></a>\n",
    "## Create and Run a Fully Automated ML Pipeline\n",
    "\n",
    "You're now ready to create a full ML pipeline.\n",
    "This is done by using [Kubeflow Pipelines](https://www.kubeflow.org/docs/pipelines/overview/pipelines-overview/), which is integrated into the Iguazio Data Science Platform.\n",
    "Kubeflow Pipelines is an open-source framework for building and deploying portable, scalable machine-learning workflows based on Docker containers.\n",
    "MLRun leverages this framework to take your existing code and deploy it as steps in the pipeline."
   ]
  },
  {
   "cell_type": "code",
   "execution_count": 8,
   "metadata": {},
   "outputs": [
    {
     "name": "stdout",
     "output_type": "stream",
     "text": [
      "Writing /User/mlrun/demos/faces/notebooks/workflow.py\n"
     ]
    }
   ],
   "source": [
    "%%writefile {path.join(project_path, 'workflow.py')}\n",
    "\n",
    "from kfp import dsl\n",
    "from mlrun import mount_v3io\n",
    "from os import getenv, path\n",
    "\n",
    "DATA_PATH ='/User/faces/dataset/'\n",
    "ARTIFACTS_PATH ='/User/faces/artifacts/'\n",
    "MODELS_PATH = '/User/mlrun/demos/faces/notebooks/functions/models.py'\n",
    "FRAMES_URL = 'framesd:8081'\n",
    "V3IO_ACCESS_KEY = getenv('V3IO_ACCESS_KEY')\n",
    "USER_NAME = getenv('V3IO_USERNAME')\n",
    "ENCODINGS_PATH = '/'.join([USER_NAME,'faces','encodings']) \n",
    "WEB_API = \"http://v3io-webapi:8081\"\n",
    "\n",
    "\n",
    "funcs = {}\n",
    "project_path = path.abspath('./')\n",
    "faces_params = {'data_path' : DATA_PATH,\n",
    "                'artifacts_path': ARTIFACTS_PATH,\n",
    "                'models_path': MODELS_PATH,\n",
    "                'frames_url': FRAMES_URL,\n",
    "                'token' : V3IO_ACCESS_KEY, \n",
    "                'encodings_path': ENCODINGS_PATH }\n",
    "\n",
    "# Configure function resources and local settings\n",
    "def init_functions(functions: dict, project=None, secrets=None):\n",
    "    project_path = path.abspath('./')\n",
    "    for f in functions.values():\n",
    "        f.apply(mount_v3io())\n",
    "        f.set_env('PYTHONPATH', project_path)\n",
    "        f.spec.artifact_path = ARTIFACTS_PATH\n",
    "        \n",
    "        \n",
    "        \n",
    "# Create a Kubeflow Pipelines pipeline\n",
    "@dsl.pipeline(\n",
    "    name = \"faces-pipeline\",\n",
    "    description = \"faces demo pipeline\"\n",
    ")\n",
    "def kfpipeline():\n",
    "\n",
    "    # encode images\n",
    "    encode = funcs['encode_images'].as_step(\n",
    "        name=\"encode_images\",\n",
    "        params=faces_params,\n",
    "        outputs=['encode']\n",
    "    )\n",
    "    \n",
    "    # train the model based on the images\n",
    "    train = funcs['train'].as_step(\n",
    "        name=\"train\",\n",
    "        params = faces_params,\n",
    "        inputs={'table': encode.outputs},                       \n",
    "        outputs=['training']\n",
    "    )"
   ]
  },
  {
   "cell_type": "markdown",
   "metadata": {},
   "source": [
    "<a id=\"gs-register-workflow\"></a>\n",
    "#### Register the Workflow\n",
    "\n",
    "Use the `set_workflow` MLRun project method to register your workflow with MLRun.\n",
    "The following code sets the `name` parameter to the selected workflow name (\"main\") and the `code` parameter to the name of the workflow file that is found in your project directory (**workflow.py**)."
   ]
  },
  {
   "cell_type": "code",
   "execution_count": 9,
   "metadata": {},
   "outputs": [],
   "source": [
    "# Register the workflow file as \"main\"\n",
    "project.set_workflow('main', 'workflow.py')"
   ]
  },
  {
   "cell_type": "code",
   "execution_count": 10,
   "metadata": {},
   "outputs": [],
   "source": [
    "project.save()"
   ]
  },
  {
   "cell_type": "code",
   "execution_count": 11,
   "metadata": {},
   "outputs": [
    {
     "name": "stdout",
     "output_type": "stream",
     "text": [
      "> 2020-11-11 13:55:45,238 [info] using in-cluster config.\n"
     ]
    },
    {
     "data": {
      "text/html": [
       "Experiment link <a href=\"https://dashboard.default-tenant.app.vmdev22.lab.iguazeng.com/pipelines/#/experiments/details/4ba5d9c6-142b-4eed-b768-d68bab2867eb\" target=\"_blank\" >here</a>"
      ],
      "text/plain": [
       "<IPython.core.display.HTML object>"
      ]
     },
     "metadata": {},
     "output_type": "display_data"
    },
    {
     "data": {
      "text/html": [
       "Run link <a href=\"https://dashboard.default-tenant.app.vmdev22.lab.iguazeng.com/pipelines/#/runs/details/e6da3203-49ec-409f-8b65-0fbe685f21fc\" target=\"_blank\" >here</a>"
      ],
      "text/plain": [
       "<IPython.core.display.HTML object>"
      ]
     },
     "metadata": {},
     "output_type": "display_data"
    },
    {
     "name": "stdout",
     "output_type": "stream",
     "text": [
      "> 2020-11-11 13:55:45,691 [info] Pipeline run id=e6da3203-49ec-409f-8b65-0fbe685f21fc, check UI or DB for progress\n"
     ]
    }
   ],
   "source": [
    "run_id = project.run(\n",
    "    'main',\n",
    "    arguments={}, \n",
    "    \n",
    "    artifact_path=path.abspath(path.join('pipeline','{{workflow.uid}}'),\n",
    "    \n",
    "                              )\n",
    "    ,dirty=True)"
   ]
  },
  {
   "cell_type": "code",
   "execution_count": null,
   "metadata": {},
   "outputs": [],
   "source": []
  },
  {
   "cell_type": "code",
   "execution_count": null,
   "metadata": {},
   "outputs": [],
   "source": []
  },
  {
   "cell_type": "code",
   "execution_count": null,
   "metadata": {},
   "outputs": [],
   "source": []
  }
 ],
 "metadata": {
  "kernelspec": {
   "display_name": "Python 3",
   "language": "python",
   "name": "python3"
  },
  "language_info": {
   "codemirror_mode": {
    "name": "ipython",
    "version": 3
   },
   "file_extension": ".py",
   "mimetype": "text/x-python",
   "name": "python",
   "nbconvert_exporter": "python",
   "pygments_lexer": "ipython3",
   "version": "3.7.6"
  }
 },
 "nbformat": 4,
 "nbformat_minor": 4
}
