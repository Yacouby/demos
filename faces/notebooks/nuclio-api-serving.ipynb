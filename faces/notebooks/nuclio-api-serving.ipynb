{
 "cells": [
  {
   "cell_type": "code",
   "execution_count": 84,
   "metadata": {},
   "outputs": [],
   "source": [
    "#nuclio: ignore\n",
    "import nuclio"
   ]
  },
  {
   "cell_type": "code",
   "execution_count": 85,
   "metadata": {},
   "outputs": [
    {
     "name": "stdout",
     "output_type": "stream",
     "text": [
      "Requirement already satisfied: nuclio_sdk in /User/.pythonlibs/avia-jupyter/lib/python3.7/site-packages (0.2.0)\n"
     ]
    }
   ],
   "source": [
    "!pip install nuclio_sdk"
   ]
  },
  {
   "cell_type": "code",
   "execution_count": 86,
   "metadata": {},
   "outputs": [],
   "source": [
    "%%nuclio cmd -c\n",
    "pip install opencv-python-headless\n",
    "pip install pandas\n",
    "pip install v3io_frames\n",
    "pip install nuclio_sdk"
   ]
  },
  {
   "cell_type": "code",
   "execution_count": 87,
   "metadata": {},
   "outputs": [],
   "source": [
    "import nuclio_sdk\n",
    "import json\n",
    "import os\n",
    "import v3io_frames as v3f\n",
    "from requests import post\n",
    "import base64\n",
    "import numpy as np\n",
    "import pandas as pd\n",
    "import cv2\n",
    "import random\n",
    "import string\n",
    "from datetime import datetime\n",
    "from os import getenv, path"
   ]
  },
  {
   "cell_type": "code",
   "execution_count": 88,
   "metadata": {},
   "outputs": [
    {
     "name": "stdout",
     "output_type": "stream",
     "text": [
      "%nuclio: setting 'DATA_PATH' environment variable\n",
      "%nuclio: setting 'V3IO_ACCESS_KEY' environment variable\n"
     ]
    }
   ],
   "source": [
    "%%nuclio env\n",
    "DATA_PATH = /User/faces/dataset/\n",
    "V3IO_ACCESS_KEY=${V3IO_ACCESS_KEY}"
   ]
  },
  {
   "cell_type": "code",
   "execution_count": 89,
   "metadata": {},
   "outputs": [],
   "source": [
    "is_partitioned = True #os.environ['IS_PARTITIONED']\n",
    "\n",
    "def generate_file_name(current_time, is_partitioned):\n",
    "    filename_str = current_time + '.jpg'\n",
    "    if is_partitioned == \"true\":\n",
    "        filename_str = current_time[:-4] + \"/\" + filename_str\n",
    "    return filename_str\n",
    "\n",
    "def generate_image_path(filename, is_unknown):\n",
    "    file_name = filename\n",
    "    if is_unknown:\n",
    "        pathTuple = (os.environ['DATA_PATH'] + 'label_pending', file_name) \n",
    "    else:\n",
    "        pathTuple = (os.environ['DATA_PATH'] + 'images', file_name)   \n",
    "    path = \"/\".join(pathTuple)\n",
    "    return path\n",
    "\n",
    "def jpg_str_to_frame(encoded):\n",
    "    jpg_original = base64.b64decode(encoded)\n",
    "    jpg_as_np = np.frombuffer(jpg_original, dtype=np.uint8)\n",
    "    img = cv2.imdecode(jpg_as_np, flags=1)\n",
    "    return img\n",
    "\n",
    "def save_image(encoded_img, path):\n",
    "    frame = jpg_str_to_frame(encoded_img)\n",
    "    directory = '/'.join(path.split('/')[:-1])\n",
    "    if not os.path.exists(directory):\n",
    "        os.mkdir(directory)\n",
    "    cv2.imwrite(path, frame)\n",
    "    \n",
    "def write_to_kv(client, face, path, camera, time):\n",
    "    USER_NAME = getenv('V3IO_USERNAME')\n",
    "    ENCODINGS_PATH = '/'.join([USER_NAME,'faces','encodings']) \n",
    "    rnd_tag = ''.join(random.choices(string.ascii_uppercase + string.digits, k=5))\n",
    "    name = face['name']\n",
    "    label = face['label']\n",
    "    encoding = face['encoding']\n",
    "    \n",
    "    new_row = {}  \n",
    "    new_row = {'c' + str(i).zfill(3): encoding[i] for i in range(128)}\n",
    "    if name != 'unknown': \n",
    "        new_row['label'] = label\n",
    "        new_row['fileName'] = name.replace(' ', '_') + '_' + rnd_tag\n",
    "    else:\n",
    "        new_row['label'] = -1\n",
    "        new_row['fileName'] = 'unknown_' + rnd_tag\n",
    "            \n",
    "    new_row['imgUrl'] = path\n",
    "    new_row['camera'] = camera\n",
    "    new_row['time'] = datetime.strptime(time, '%Y%m%d%H%M%S')\n",
    "    new_row_df = pd.DataFrame(new_row, index=[0])\n",
    "    new_row_df = new_row_df.set_index('fileName')\n",
    "    print(new_row['fileName'])\n",
    "    client.write(backend='kv', table=ENCODINGS_PATH, dfs=new_row_df) #, save_mode='createNewItemsOnly')   \n",
    "    \n",
    "def init_context(context):\n",
    "    setattr(context.user_data, 'client', v3f.Client(\"framesd:8081\", container=\"users\"))\n",
    "    \n",
    "def handler(context, event):\n",
    "        context.logger.info('extracting metadata')\n",
    "        body = json.loads(event.body)\n",
    "        time = body['time']\n",
    "        camera = body['camera']\n",
    "        encoded_img = body['content']\n",
    "        \n",
    "        content = {'img': encoded_img}\n",
    "\n",
    "        context.logger.info('calling model server')\n",
    "        resp = context.platform.call_function('default-recognize-faces', event)\n",
    "        faces = json.loads(resp.body)\n",
    "        \n",
    "        context.logger.info('going through discovered faces')\n",
    "        for face in faces:\n",
    "            is_unknown = face['name'] == 'unknown'\n",
    "            file_name = generate_file_name(time, is_partitioned) \n",
    "            path = generate_image_path(file_name, is_unknown)\n",
    "            \n",
    "            context.logger.info('saving image to file system')\n",
    "            save_image(encoded_img, path)\n",
    "            \n",
    "            context.logger.info('writing data to kv')\n",
    "            write_to_kv(context.user_data.client, face, path, camera, time)\n",
    "            \n",
    "        return faces"
   ]
  },
  {
   "cell_type": "code",
   "execution_count": 90,
   "metadata": {},
   "outputs": [],
   "source": [
    "#nuclio: end-code"
   ]
  },
  {
   "cell_type": "code",
   "execution_count": 91,
   "metadata": {},
   "outputs": [
    {
     "name": "stdout",
     "output_type": "stream",
     "text": [
      "> 2020-10-25 10:43:34,745 [info] deploy started\n",
      "[nuclio] 2020-10-25 10:43:36,855 (info) Build complete\n",
      "[nuclio] 2020-10-25 10:43:41,924 done updating default-video-api-server, function address: 192.168.224.50:31240\n",
      "> 2020-10-25 10:43:41,933 [warning] warning!, server (0.5.1) and client (0.5.2) ver dont match\n"
     ]
    }
   ],
   "source": [
    "# converts the notebook code to deployable function with configurations\n",
    "from mlrun import code_to_function, mount_v3io\n",
    "fn = code_to_function('video-api-server', kind='nuclio')\n",
    "\n",
    "# set the API/trigger, attach the home dir to the function\n",
    "fn.with_http(workers=2).apply(mount_v3io())\n",
    "\n",
    "# set environment variables\n",
    "fn.set_env('DATA_PATH' ,'/User/faces/dataset/')\n",
    "fn.set_env('V3IO_ACCESS_KEY', os.environ['V3IO_ACCESS_KEY'])\n",
    "addr = fn.deploy(project='default')"
   ]
  },
  {
   "cell_type": "code",
   "execution_count": null,
   "metadata": {},
   "outputs": [],
   "source": []
  }
 ],
 "metadata": {
  "kernelspec": {
   "display_name": "Python 3",
   "language": "python",
   "name": "python3"
  },
  "language_info": {
   "codemirror_mode": {
    "name": "ipython",
    "version": 3
   },
   "file_extension": ".py",
   "mimetype": "text/x-python",
   "name": "python",
   "nbconvert_exporter": "python",
   "pygments_lexer": "ipython3",
   "version": "3.7.6"
  }
 },
 "nbformat": 4,
 "nbformat_minor": 4
}
