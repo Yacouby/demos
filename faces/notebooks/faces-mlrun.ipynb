{
 "cells": [
  {
   "cell_type": "markdown",
   "metadata": {},
   "source": [
    "# Running Faces pipeline"
   ]
  },
  {
   "cell_type": "code",
   "execution_count": 72,
   "metadata": {},
   "outputs": [
    {
     "name": "stdout",
     "output_type": "stream",
     "text": [
      "Collecting mlrun\n",
      "  Using cached https://files.pythonhosted.org/packages/39/b2/8660822b82bbf6a6112694495cee90cd03c51180499ae46060cae30dd89b/mlrun-0.5.2-py3-none-any.whl\n",
      "Collecting ipython<7.17,>=5.5 (from mlrun)\n",
      "  Using cached https://files.pythonhosted.org/packages/23/6a/210816c943c9aeeb29e4e18a298f14bf0e118fe222a23e13bfcc2d41b0a4/ipython-7.16.1-py3-none-any.whl\n",
      "Requirement already satisfied: nuclio-jupyter>=0.8.3 in /conda/lib/python3.7/site-packages (from mlrun) (0.8.5)\n",
      "Requirement already satisfied: tabulate<=0.8.3,>=0.8.0 in /conda/lib/python3.7/site-packages (from mlrun) (0.8.3)\n",
      "Requirement already satisfied: pyarrow>=0.13 in /conda/lib/python3.7/site-packages (from mlrun) (0.16.0)\n",
      "Requirement already satisfied: sqlalchemy>=1.3.0 in /conda/lib/python3.7/site-packages (from mlrun) (1.3.11)\n",
      "Requirement already satisfied: requests>=2.20.1 in /conda/lib/python3.7/site-packages (from mlrun) (2.21.0)\n",
      "Requirement already satisfied: seaborn in /conda/lib/python3.7/site-packages (from mlrun) (0.10.0)\n",
      "Collecting azure-storage-blob (from mlrun)\n",
      "  Using cached https://files.pythonhosted.org/packages/b8/84/7e51b3e1156bcb89a20b9ec641d4fced4800aa79daac3a403898c32046be/azure_storage_blob-12.5.0-py2.py3-none-any.whl\n",
      "Requirement already satisfied: scikit-learn in /conda/lib/python3.7/site-packages (from mlrun) (0.22.1)\n",
      "Requirement already satisfied: matplotlib in /conda/lib/python3.7/site-packages (from mlrun) (3.2.1)\n",
      "Collecting aiohttp>=3.5.0 (from mlrun)\n",
      "  Using cached https://files.pythonhosted.org/packages/12/a2/ca3ba17c50ebeb3e7473330d8d1ce08fb83506a9bc985bcc0716354d2018/aiohttp-3.6.3-cp37-cp37m-manylinux1_x86_64.whl\n",
      "Requirement already satisfied: GitPython>=2.1.0 in /conda/lib/python3.7/site-packages (from mlrun) (3.1.7)\n",
      "Requirement already satisfied: pandas>=1.0.1 in /conda/lib/python3.7/site-packages (from mlrun) (1.0.1)\n",
      "Collecting pydantic~=1.5 (from mlrun)\n",
      "  Using cached https://files.pythonhosted.org/packages/25/69/4be0f2caa2ae3424cd34c0f934b460a02f01aa6897b1d58fc056664b15b7/pydantic-1.6.1-py36.py37.py38-none-any.whl\n",
      "Collecting nest-asyncio>=1.0.0 (from mlrun)\n",
      "  Using cached https://files.pythonhosted.org/packages/a0/68/c917f9679b3206952e13e95434d6e70dacea13161dff3476fa088e610987/nest_asyncio-1.4.1-py3-none-any.whl\n",
      "Requirement already satisfied: docutils<0.16,>=0.13.1 in /conda/lib/python3.7/site-packages (from mlrun) (0.15.2)\n",
      "Requirement already satisfied: kfp==0.2.5 in /conda/lib/python3.7/site-packages (from mlrun) (0.2.5)\n",
      "Requirement already satisfied: pyyaml>=5.1.0 in /conda/lib/python3.7/site-packages (from mlrun) (5.3.1)\n",
      "Requirement already satisfied: google-auth<2.0dev,>=1.19.1 in /conda/lib/python3.7/site-packages (from mlrun) (1.20.1)\n",
      "Requirement already satisfied: click==7.0 in /conda/lib/python3.7/site-packages (from mlrun) (7.0)\n",
      "Requirement already satisfied: boto3>=1.9 in /conda/lib/python3.7/site-packages (from mlrun) (1.14.52)\n",
      "Requirement already satisfied: v3io>=0.3.3 in /conda/lib/python3.7/site-packages (from mlrun) (0.3.20)\n",
      "Collecting urllib3<1.25,>=1.24.2 (from mlrun)\n",
      "  Using cached https://files.pythonhosted.org/packages/01/11/525b02e4acc0c747de8b6ccdab376331597c569c42ea66ab0a1dbd36eca2/urllib3-1.24.3-py2.py3-none-any.whl\n",
      "Requirement already satisfied: backcall in /conda/lib/python3.7/site-packages (from ipython<7.17,>=5.5->mlrun) (0.2.0)\n",
      "Requirement already satisfied: pexpect; sys_platform != \"win32\" in /conda/lib/python3.7/site-packages (from ipython<7.17,>=5.5->mlrun) (4.8.0)\n",
      "Requirement already satisfied: jedi>=0.10 in /conda/lib/python3.7/site-packages (from ipython<7.17,>=5.5->mlrun) (0.17.2)\n",
      "Requirement already satisfied: setuptools>=18.5 in /conda/lib/python3.7/site-packages (from ipython<7.17,>=5.5->mlrun) (41.0.0)\n",
      "Requirement already satisfied: pickleshare in /conda/lib/python3.7/site-packages (from ipython<7.17,>=5.5->mlrun) (0.7.5)\n",
      "Requirement already satisfied: prompt-toolkit!=3.0.0,!=3.0.1,<3.1.0,>=2.0.0 in /conda/lib/python3.7/site-packages (from ipython<7.17,>=5.5->mlrun) (3.0.6)\n",
      "Requirement already satisfied: pygments in /conda/lib/python3.7/site-packages (from ipython<7.17,>=5.5->mlrun) (2.6.1)\n",
      "Requirement already satisfied: decorator in /conda/lib/python3.7/site-packages (from ipython<7.17,>=5.5->mlrun) (4.4.2)\n",
      "Requirement already satisfied: traitlets>=4.2 in /conda/lib/python3.7/site-packages (from ipython<7.17,>=5.5->mlrun) (4.3.3)\n",
      "Requirement already satisfied: notebook>=5.2.0 in /conda/lib/python3.7/site-packages (from nuclio-jupyter>=0.8.3->mlrun) (6.1.1)\n",
      "Requirement already satisfied: nbconvert>=5.4 in /conda/lib/python3.7/site-packages (from nuclio-jupyter>=0.8.3->mlrun) (5.6.1)\n",
      "Requirement already satisfied: numpy>=1.14 in /conda/lib/python3.7/site-packages (from pyarrow>=0.13->mlrun) (1.19.1)\n",
      "Requirement already satisfied: six>=1.0.0 in /conda/lib/python3.7/site-packages (from pyarrow>=0.13->mlrun) (1.12.0)\n",
      "Requirement already satisfied: chardet<3.1.0,>=3.0.2 in /conda/lib/python3.7/site-packages (from requests>=2.20.1->mlrun) (3.0.4)\n",
      "Requirement already satisfied: certifi>=2017.4.17 in /conda/lib/python3.7/site-packages (from requests>=2.20.1->mlrun) (2020.6.20)\n",
      "Requirement already satisfied: idna<2.9,>=2.5 in /conda/lib/python3.7/site-packages (from requests>=2.20.1->mlrun) (2.8)\n",
      "Requirement already satisfied: scipy>=1.0.1 in /conda/lib/python3.7/site-packages (from seaborn->mlrun) (1.5.2)\n",
      "Collecting msrest>=0.6.10 (from azure-storage-blob->mlrun)\n",
      "  Using cached https://files.pythonhosted.org/packages/fa/f5/9e315fe8cb985b0ce052b34bcb767883dc739f46fadb62f05a7e6d6eedbe/msrest-0.6.19-py2.py3-none-any.whl\n",
      "Requirement already satisfied: cryptography>=2.1.4 in /conda/lib/python3.7/site-packages (from azure-storage-blob->mlrun) (2.6.1)\n",
      "Collecting azure-core<2.0.0,>=1.6.0 (from azure-storage-blob->mlrun)\n",
      "  Using cached https://files.pythonhosted.org/packages/4c/fa/46974f4a7ad78b27e3eda8a573cc0c2508849f0d7d360b61c07cc5b46014/azure_core-1.8.2-py2.py3-none-any.whl\n",
      "Requirement already satisfied: joblib>=0.11 in /conda/lib/python3.7/site-packages (from scikit-learn->mlrun) (0.16.0)\n",
      "Requirement already satisfied: cycler>=0.10 in /conda/lib/python3.7/site-packages (from matplotlib->mlrun) (0.10.0)\n",
      "Requirement already satisfied: pyparsing!=2.0.4,!=2.1.2,!=2.1.6,>=2.0.1 in /conda/lib/python3.7/site-packages (from matplotlib->mlrun) (2.4.7)\n",
      "Requirement already satisfied: kiwisolver>=1.0.1 in /conda/lib/python3.7/site-packages (from matplotlib->mlrun) (1.2.0)\n",
      "Requirement already satisfied: python-dateutil>=2.1 in /conda/lib/python3.7/site-packages (from matplotlib->mlrun) (2.8.1)\n",
      "Requirement already satisfied: attrs>=17.3.0 in /conda/lib/python3.7/site-packages (from aiohttp>=3.5.0->mlrun) (20.1.0)\n",
      "Collecting yarl<1.6.0,>=1.0 (from aiohttp>=3.5.0->mlrun)\n",
      "  Using cached https://files.pythonhosted.org/packages/5b/1c/556b99a3a11916e05cd2128367f507dc330fc30ed1f5991e1ffe4dabf635/yarl-1.5.1-cp37-cp37m-manylinux1_x86_64.whl\n",
      "Collecting async-timeout<4.0,>=3.0 (from aiohttp>=3.5.0->mlrun)\n",
      "  Using cached https://files.pythonhosted.org/packages/e1/1e/5a4441be21b0726c4464f3f23c8b19628372f606755a9d2e46c187e65ec4/async_timeout-3.0.1-py3-none-any.whl\n",
      "Collecting multidict<5.0,>=4.5 (from aiohttp>=3.5.0->mlrun)\n",
      "  Using cached https://files.pythonhosted.org/packages/85/b8/a9fe777dab4c6aa067b516a34fe995213707e490ea1e72f823949a830a6a/multidict-4.7.6-cp37-cp37m-manylinux1_x86_64.whl\n",
      "Requirement already satisfied: gitdb<5,>=4.0.1 in /conda/lib/python3.7/site-packages (from GitPython>=2.1.0->mlrun) (4.0.5)\n",
      "Requirement already satisfied: pytz>=2017.2 in /conda/lib/python3.7/site-packages (from pandas>=1.0.1->mlrun) (2020.1)\n",
      "Requirement already satisfied: requests-toolbelt>=0.8.0 in /conda/lib/python3.7/site-packages (from kfp==0.2.5->mlrun) (0.9.1)\n",
      "Requirement already satisfied: PyJWT>=1.6.4 in /conda/lib/python3.7/site-packages (from kfp==0.2.5->mlrun) (1.7.1)\n",
      "Collecting argo-models==2.2.1a (from kfp==0.2.5->mlrun)\n",
      "Requirement already satisfied: jsonschema>=3.0.1 in /conda/lib/python3.7/site-packages (from kfp==0.2.5->mlrun) (3.2.0)\n",
      "Requirement already satisfied: kubernetes<=10.0.0,>=8.0.0 in /conda/lib/python3.7/site-packages (from kfp==0.2.5->mlrun) (10.0.0)\n",
      "Requirement already satisfied: cloudpickle==1.1.1 in /conda/lib/python3.7/site-packages (from kfp==0.2.5->mlrun) (1.1.1)\n",
      "Collecting kfp-server-api<=0.1.40,>=0.1.18 (from kfp==0.2.5->mlrun)\n",
      "Requirement already satisfied: google-cloud-storage>=1.13.0 in /conda/lib/python3.7/site-packages (from kfp==0.2.5->mlrun) (1.28.1)\n",
      "Requirement already satisfied: strip-hints in /conda/lib/python3.7/site-packages (from kfp==0.2.5->mlrun) (0.1.8)\n",
      "Requirement already satisfied: Deprecated in /conda/lib/python3.7/site-packages (from kfp==0.2.5->mlrun) (1.2.10)\n",
      "Requirement already satisfied: pyasn1-modules>=0.2.1 in /conda/lib/python3.7/site-packages (from google-auth<2.0dev,>=1.19.1->mlrun) (0.2.7)\n",
      "Requirement already satisfied: cachetools<5.0,>=2.0.0 in /conda/lib/python3.7/site-packages (from google-auth<2.0dev,>=1.19.1->mlrun) (4.1.1)\n",
      "Requirement already satisfied: rsa<5,>=3.1.4; python_version >= \"3.5\" in /conda/lib/python3.7/site-packages (from google-auth<2.0dev,>=1.19.1->mlrun) (4.6)\n",
      "Requirement already satisfied: jmespath<1.0.0,>=0.7.1 in /conda/lib/python3.7/site-packages (from boto3>=1.9->mlrun) (0.10.0)\n",
      "Requirement already satisfied: botocore<1.18.0,>=1.17.52 in /conda/lib/python3.7/site-packages (from boto3>=1.9->mlrun) (1.17.52)\n",
      "Requirement already satisfied: s3transfer<0.4.0,>=0.3.0 in /conda/lib/python3.7/site-packages (from boto3>=1.9->mlrun) (0.3.3)\n",
      "Requirement already satisfied: ujson~=2.0 in /conda/lib/python3.7/site-packages (from v3io>=0.3.3->mlrun) (2.0.3)\n",
      "Requirement already satisfied: future>=0.18.2 in /conda/lib/python3.7/site-packages (from v3io>=0.3.3->mlrun) (0.18.2)\n",
      "Requirement already satisfied: ptyprocess>=0.5 in /conda/lib/python3.7/site-packages (from pexpect; sys_platform != \"win32\"->ipython<7.17,>=5.5->mlrun) (0.6.0)\n",
      "Requirement already satisfied: parso<0.8.0,>=0.7.0 in /conda/lib/python3.7/site-packages (from jedi>=0.10->ipython<7.17,>=5.5->mlrun) (0.7.0)\n",
      "Requirement already satisfied: wcwidth in /conda/lib/python3.7/site-packages (from prompt-toolkit!=3.0.0,!=3.0.1,<3.1.0,>=2.0.0->ipython<7.17,>=5.5->mlrun) (0.2.5)\n",
      "Requirement already satisfied: ipython-genutils in /conda/lib/python3.7/site-packages (from traitlets>=4.2->ipython<7.17,>=5.5->mlrun) (0.2.0)\n",
      "Requirement already satisfied: tornado>=5.0 in /conda/lib/python3.7/site-packages (from notebook>=5.2.0->nuclio-jupyter>=0.8.3->mlrun) (6.0.4)\n",
      "Requirement already satisfied: pyzmq>=17 in /conda/lib/python3.7/site-packages (from notebook>=5.2.0->nuclio-jupyter>=0.8.3->mlrun) (19.0.1)\n",
      "Requirement already satisfied: jupyter-client>=5.3.4 in /conda/lib/python3.7/site-packages (from notebook>=5.2.0->nuclio-jupyter>=0.8.3->mlrun) (6.1.6)\n",
      "Requirement already satisfied: terminado>=0.8.3 in /conda/lib/python3.7/site-packages (from notebook>=5.2.0->nuclio-jupyter>=0.8.3->mlrun) (0.8.3)\n",
      "Requirement already satisfied: prometheus-client in /conda/lib/python3.7/site-packages (from notebook>=5.2.0->nuclio-jupyter>=0.8.3->mlrun) (0.8.0)\n",
      "Requirement already satisfied: jupyter-core>=4.6.1 in /conda/lib/python3.7/site-packages (from notebook>=5.2.0->nuclio-jupyter>=0.8.3->mlrun) (4.6.3)\n",
      "Requirement already satisfied: nbformat in /conda/lib/python3.7/site-packages (from notebook>=5.2.0->nuclio-jupyter>=0.8.3->mlrun) (5.0.7)\n",
      "Requirement already satisfied: jinja2 in /conda/lib/python3.7/site-packages (from notebook>=5.2.0->nuclio-jupyter>=0.8.3->mlrun) (2.11.2)\n",
      "Requirement already satisfied: ipykernel in /conda/lib/python3.7/site-packages (from notebook>=5.2.0->nuclio-jupyter>=0.8.3->mlrun) (5.3.4)\n",
      "Requirement already satisfied: argon2-cffi in /conda/lib/python3.7/site-packages (from notebook>=5.2.0->nuclio-jupyter>=0.8.3->mlrun) (20.1.0)\n",
      "Requirement already satisfied: Send2Trash in /conda/lib/python3.7/site-packages (from notebook>=5.2.0->nuclio-jupyter>=0.8.3->mlrun) (1.5.0)\n",
      "Requirement already satisfied: defusedxml in /conda/lib/python3.7/site-packages (from nbconvert>=5.4->nuclio-jupyter>=0.8.3->mlrun) (0.6.0)\n",
      "Requirement already satisfied: mistune<2,>=0.8.1 in /conda/lib/python3.7/site-packages (from nbconvert>=5.4->nuclio-jupyter>=0.8.3->mlrun) (0.8.4)\n",
      "Requirement already satisfied: bleach in /conda/lib/python3.7/site-packages (from nbconvert>=5.4->nuclio-jupyter>=0.8.3->mlrun) (3.1.5)\n",
      "Requirement already satisfied: testpath in /conda/lib/python3.7/site-packages (from nbconvert>=5.4->nuclio-jupyter>=0.8.3->mlrun) (0.4.4)\n",
      "Requirement already satisfied: pandocfilters>=1.4.1 in /conda/lib/python3.7/site-packages (from nbconvert>=5.4->nuclio-jupyter>=0.8.3->mlrun) (1.4.2)\n",
      "Requirement already satisfied: entrypoints>=0.2.2 in /conda/lib/python3.7/site-packages (from nbconvert>=5.4->nuclio-jupyter>=0.8.3->mlrun) (0.3)\n",
      "Collecting isodate>=0.6.0 (from msrest>=0.6.10->azure-storage-blob->mlrun)\n",
      "  Using cached https://files.pythonhosted.org/packages/9b/9f/b36f7774ff5ea8e428fdcfc4bb332c39ee5b9362ddd3d40d9516a55221b2/isodate-0.6.0-py2.py3-none-any.whl\n",
      "Requirement already satisfied: requests-oauthlib>=0.5.0 in /conda/lib/python3.7/site-packages (from msrest>=0.6.10->azure-storage-blob->mlrun) (1.3.0)\n",
      "Requirement already satisfied: cffi!=1.11.3,>=1.8 in /conda/lib/python3.7/site-packages (from cryptography>=2.1.4->azure-storage-blob->mlrun) (1.12.2)\n",
      "Requirement already satisfied: asn1crypto>=0.21.0 in /conda/lib/python3.7/site-packages (from cryptography>=2.1.4->azure-storage-blob->mlrun) (0.24.0)\n",
      "Collecting typing-extensions>=3.7.4; python_version < \"3.8\" (from yarl<1.6.0,>=1.0->aiohttp>=3.5.0->mlrun)\n",
      "  Using cached https://files.pythonhosted.org/packages/60/7a/e881b5abb54db0e6e671ab088d079c57ce54e8a01a3ca443f561ccadb37e/typing_extensions-3.7.4.3-py3-none-any.whl\n",
      "Requirement already satisfied: smmap<4,>=3.0.1 in /conda/lib/python3.7/site-packages (from gitdb<5,>=4.0.1->GitPython>=2.1.0->mlrun) (3.0.4)\n",
      "Requirement already satisfied: importlib-metadata; python_version < \"3.8\" in /conda/lib/python3.7/site-packages (from jsonschema>=3.0.1->kfp==0.2.5->mlrun) (1.7.0)\n",
      "Requirement already satisfied: pyrsistent>=0.14.0 in /conda/lib/python3.7/site-packages (from jsonschema>=3.0.1->kfp==0.2.5->mlrun) (0.16.0)\n",
      "Requirement already satisfied: websocket-client!=0.40.0,!=0.41.*,!=0.42.*,>=0.32.0 in /conda/lib/python3.7/site-packages (from kubernetes<=10.0.0,>=8.0.0->kfp==0.2.5->mlrun) (0.57.0)\n",
      "Requirement already satisfied: google-resumable-media<0.6dev,>=0.5.0 in /conda/lib/python3.7/site-packages (from google-cloud-storage>=1.13.0->kfp==0.2.5->mlrun) (0.5.1)\n",
      "Requirement already satisfied: google-cloud-core<2.0dev,>=1.2.0 in /conda/lib/python3.7/site-packages (from google-cloud-storage>=1.13.0->kfp==0.2.5->mlrun) (1.3.0)\n",
      "Requirement already satisfied: wheel in /conda/lib/python3.7/site-packages (from strip-hints->kfp==0.2.5->mlrun) (0.33.1)\n",
      "Requirement already satisfied: wrapt<2,>=1.10 in /conda/lib/python3.7/site-packages (from Deprecated->kfp==0.2.5->mlrun) (1.12.1)\n",
      "Requirement already satisfied: pyasn1<0.5.0,>=0.4.6 in /conda/lib/python3.7/site-packages (from pyasn1-modules>=0.2.1->google-auth<2.0dev,>=1.19.1->mlrun) (0.4.8)\n",
      "Requirement already satisfied: MarkupSafe>=0.23 in /conda/lib/python3.7/site-packages (from jinja2->notebook>=5.2.0->nuclio-jupyter>=0.8.3->mlrun) (1.1.1)\n",
      "Requirement already satisfied: webencodings in /conda/lib/python3.7/site-packages (from bleach->nbconvert>=5.4->nuclio-jupyter>=0.8.3->mlrun) (0.5.1)\n",
      "Requirement already satisfied: packaging in /conda/lib/python3.7/site-packages (from bleach->nbconvert>=5.4->nuclio-jupyter>=0.8.3->mlrun) (20.4)\n",
      "Requirement already satisfied: oauthlib>=3.0.0 in /conda/lib/python3.7/site-packages (from requests-oauthlib>=0.5.0->msrest>=0.6.10->azure-storage-blob->mlrun) (3.1.0)\n",
      "Requirement already satisfied: pycparser in /conda/lib/python3.7/site-packages (from cffi!=1.11.3,>=1.8->cryptography>=2.1.4->azure-storage-blob->mlrun) (2.19)\n",
      "Requirement already satisfied: zipp>=0.5 in /conda/lib/python3.7/site-packages (from importlib-metadata; python_version < \"3.8\"->jsonschema>=3.0.1->kfp==0.2.5->mlrun) (3.1.0)\n",
      "Requirement already satisfied: google-api-core<2.0.0dev,>=1.16.0 in /conda/lib/python3.7/site-packages (from google-cloud-core<2.0dev,>=1.2.0->google-cloud-storage>=1.13.0->kfp==0.2.5->mlrun) (1.17.0)\n",
      "Requirement already satisfied: protobuf>=3.4.0 in /conda/lib/python3.7/site-packages (from google-api-core<2.0.0dev,>=1.16.0->google-cloud-core<2.0dev,>=1.2.0->google-cloud-storage>=1.13.0->kfp==0.2.5->mlrun) (3.13.0)\n",
      "Requirement already satisfied: googleapis-common-protos<2.0dev,>=1.6.0 in /conda/lib/python3.7/site-packages (from google-api-core<2.0.0dev,>=1.16.0->google-cloud-core<2.0dev,>=1.2.0->google-cloud-storage>=1.13.0->kfp==0.2.5->mlrun) (1.52.0)\n",
      "Installing collected packages: ipython, isodate, msrest, azure-core, azure-storage-blob, typing-extensions, multidict, yarl, async-timeout, aiohttp, pydantic, nest-asyncio, urllib3, mlrun, argo-models, kfp-server-api\n",
      "Successfully installed aiohttp-3.6.3 argo-models-2.2.1a0 async-timeout-3.0.1 azure-core-1.8.2 azure-storage-blob-12.5.0 ipython-7.18.1 isodate-0.6.0 kfp-server-api-0.1.40 mlrun-0.5.2 msrest-0.6.19 multidict-4.7.6 nest-asyncio-1.4.1 pydantic-1.6.1 typing-extensions-3.7.4.3 urllib3-1.24.3 yarl-1.5.1\n"
     ]
    }
   ],
   "source": [
    "#!pip uninstall -y mlrun\n",
    "\n",
    "!pip install mlrun\n",
    "!pip show mlrun"
   ]
  },
  {
   "cell_type": "markdown",
   "metadata": {},
   "source": [
    "### create the mlrun project "
   ]
  },
  {
   "cell_type": "code",
   "execution_count": null,
   "metadata": {},
   "outputs": [],
   "source": []
  },
  {
   "cell_type": "code",
   "execution_count": 53,
   "metadata": {},
   "outputs": [
    {
     "name": "stdout",
     "output_type": "stream",
     "text": [
      "Project path: /User/mlrun/demos/faces/notebooks\n",
      "Project name: faces\n"
     ]
    }
   ],
   "source": [
    "from os import path, getenv\n",
    "from mlrun import new_project, mlconf\n",
    "\n",
    "#project_name = '-'.join(filter(None, ['getting-started-iris', getenv('V3IO_USERNAME', None)]))\n",
    "project_name = \"faces\"\n",
    "project_path = path.abspath('./')\n",
    "project = new_project(project_name, project_path)\n",
    "project.save()\n",
    "print(f'Project path: {project_path}\\nProject name: {project_name}')"
   ]
  },
  {
   "cell_type": "code",
   "execution_count": 54,
   "metadata": {},
   "outputs": [
    {
     "name": "stdout",
     "output_type": "stream",
     "text": [
      "env: PYTHONPATH=./\n"
     ]
    }
   ],
   "source": [
    "out = mlconf.artifact_path or path.abspath('./data')\n",
    "# {{run.uid}} will be substituted with the run id, so output will be written to different directoried per run\n",
    "artifact_path = path.join(out, '{{run.uid}}')\n",
    "%env PYTHONPATH=./"
   ]
  },
  {
   "cell_type": "markdown",
   "metadata": {},
   "source": [
    "### set the project functions"
   ]
  },
  {
   "cell_type": "code",
   "execution_count": 55,
   "metadata": {},
   "outputs": [],
   "source": [
    "from mlrun import mount_v3io\n",
    "#project.set_function(\"functions/clean_parquez.py\", 'clean', kind='job', image='aviaigz/parquez')\n",
    "project.set_function(\"../functions/encode_images.py\", 'encode_images', kind='job', image='ml-models/ml-models-gpu')\n",
    "project.set_function(\"../functions/train.py\", 'train', kind='job', image='ml-models/ml-models-gpu')\n",
    "project.func('encode_images').apply(mount_v3io())\n",
    "project.func('train').apply(mount_v3io())\n",
    "project.func('encode_images').set_env('PYTHONPATH', project_path)\n",
    "project.func('train').set_env('PYTHONPATH', project_path)\n",
    "project.func('encode_images').spec.artifact_path = 'User/artifacts'\n",
    "project.func('train').spec.artifact_path = 'User/artifacts'"
   ]
  },
  {
   "cell_type": "markdown",
   "metadata": {},
   "source": [
    "<a id=\"gs-step-create-n-run-ml-pipeline\"></a>\n",
    "## Create and Run a Fully Automated ML Pipeline\n",
    "\n",
    "You're now ready to create a full ML pipeline.\n",
    "This is done by using [Kubeflow Pipelines](https://www.kubeflow.org/docs/pipelines/overview/pipelines-overview/), which is integrated into the Iguazio Data Science Platform.\n",
    "Kubeflow Pipelines is an open-source framework for building and deploying portable, scalable machine-learning workflows based on Docker containers.\n",
    "MLRun leverages this framework to take your existing code and deploy it as steps in the pipeline."
   ]
  },
  {
   "cell_type": "code",
   "execution_count": 66,
   "metadata": {},
   "outputs": [
    {
     "name": "stdout",
     "output_type": "stream",
     "text": [
      "Overwriting /User/mlrun/demos/faces/notebooks/workflow.py\n"
     ]
    }
   ],
   "source": [
    "%%writefile {path.join(project_path, 'workflow.py')}\n",
    "\n",
    "from kfp import dsl\n",
    "from mlrun import mount_v3io\n",
    "from os import path\n",
    "\n",
    "funcs = {}\n",
    "project_path = path.abspath('./')\n",
    "faces_params = {}\n",
    "\n",
    "# Configure function resources and local settings\n",
    "def init_functions(functions: dict, project=None, secrets=None):\n",
    "    project_path = path.abspath('./')\n",
    "    for f in functions.values():\n",
    "        f.apply(mount_v3io())\n",
    "        f.set_env('PYTHONPATH', project_path)\n",
    "        f.spec.artifact_path = 'User/artifacts'\n",
    "        #f.spec.service_account='mlrun-api'\n",
    "        \n",
    "        \n",
    "# Create a Kubeflow Pipelines pipeline\n",
    "@dsl.pipeline(\n",
    "    name = \"faces-pipeline\",\n",
    "    description = \"faces demo pipeline\"\n",
    ")\n",
    "def kfpipeline():\n",
    "\n",
    "    # encode images\n",
    "    encode = funcs['encode_images'].as_step(\n",
    "        name=\"encode_images\",\n",
    "        params=faces_params,\n",
    "        outputs=['encode']\n",
    "    )\n",
    "    \n",
    "    # train the model based on the images\n",
    "    train = funcs['train'].as_step(\n",
    "        name=\"train\",\n",
    "        params = faces_params,\n",
    "        inputs={'table': encode.outputs},                       \n",
    "        outputs=['training']\n",
    "    )"
   ]
  },
  {
   "cell_type": "markdown",
   "metadata": {},
   "source": [
    "<a id=\"gs-register-workflow\"></a>\n",
    "#### Register the Workflow\n",
    "\n",
    "Use the `set_workflow` MLRun project method to register your workflow with MLRun.\n",
    "The following code sets the `name` parameter to the selected workflow name (\"main\") and the `code` parameter to the name of the workflow file that is found in your project directory (**workflow.py**)."
   ]
  },
  {
   "cell_type": "code",
   "execution_count": 67,
   "metadata": {},
   "outputs": [],
   "source": [
    "# Register the workflow file as \"main\"\n",
    "project.set_workflow('main', 'workflow.py')"
   ]
  },
  {
   "cell_type": "code",
   "execution_count": 68,
   "metadata": {},
   "outputs": [],
   "source": [
    "project.save()"
   ]
  },
  {
   "cell_type": "code",
   "execution_count": 69,
   "metadata": {},
   "outputs": [
    {
     "name": "stdout",
     "output_type": "stream",
     "text": [
      "> 2020-10-15 07:22:01,178 [warning] warning!, server (0.5.1) and client (0.5.2) ver dont match\n",
      "> 2020-10-15 07:22:01,262 [warning] warning!, server (0.5.1) and client (0.5.2) ver dont match\n"
     ]
    },
    {
     "data": {
      "text/html": [
       "Experiment link <a href=\"https://dashboard.default-tenant.app.vmdev22.lab.iguazeng.com/pipelines/#/experiments/details/a7a59fa1-c29e-4efe-bf24-88b959601583\" target=\"_blank\" >here</a>"
      ],
      "text/plain": [
       "<IPython.core.display.HTML object>"
      ]
     },
     "metadata": {},
     "output_type": "display_data"
    },
    {
     "data": {
      "text/html": [
       "Run link <a href=\"https://dashboard.default-tenant.app.vmdev22.lab.iguazeng.com/pipelines/#/runs/details/3ddc0d1f-d42f-414a-96e1-5d86f23573c0\" target=\"_blank\" >here</a>"
      ],
      "text/plain": [
       "<IPython.core.display.HTML object>"
      ]
     },
     "metadata": {},
     "output_type": "display_data"
    },
    {
     "name": "stdout",
     "output_type": "stream",
     "text": [
      "> 2020-10-15 07:22:01,628 [info] Pipeline run id=3ddc0d1f-d42f-414a-96e1-5d86f23573c0, check UI or DB for progress\n"
     ]
    }
   ],
   "source": [
    "run_id = project.run(\n",
    "    'main',\n",
    "    arguments={}, \n",
    "    \n",
    "    artifact_path=path.abspath(path.join('pipeline','{{workflow.uid}}'),\n",
    "    \n",
    "                              )\n",
    "    ,dirty=True)"
   ]
  },
  {
   "cell_type": "code",
   "execution_count": null,
   "metadata": {},
   "outputs": [],
   "source": []
  }
 ],
 "metadata": {
  "kernelspec": {
   "display_name": "Python 3",
   "language": "python",
   "name": "python3"
  },
  "language_info": {
   "codemirror_mode": {
    "name": "ipython",
    "version": 3
   },
   "file_extension": ".py",
   "mimetype": "text/x-python",
   "name": "python",
   "nbconvert_exporter": "python",
   "pygments_lexer": "ipython3",
   "version": "3.7.6"
  }
 },
 "nbformat": 4,
 "nbformat_minor": 4
}
