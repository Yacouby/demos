{
 "cells": [
  {
   "cell_type": "code",
   "execution_count": null,
   "id": "6ad40d6d-d7f1-4810-9d27-45cbcaf803cb",
   "metadata": {},
   "outputs": [],
   "source": [
    "image = \"docker.io/yacouby1/mlrun:unstable\""
   ]
  },
  {
   "cell_type": "code",
   "execution_count": null,
   "id": "c548d350-83c5-4886-8f96-401c8c139b7a",
   "metadata": {},
   "outputs": [],
   "source": [
    "%config Completer.use_jedi = False\n",
    "import os\n",
    "import pandas as pd\n",
    "from sklearn.datasets import load_iris\n",
    "import mlrun\n",
    "from mlrun import import_function, get_dataitem, get_or_create_project\n",
    "\n",
    "project_name = \"int-mm-v233\"\n",
    "project = get_or_create_project(project_name, context=\"./\")"
   ]
  },
  {
   "cell_type": "code",
   "execution_count": null,
   "id": "ccfbc8e5-2390-48b9-bb45-6994c4309170",
   "metadata": {
    "tags": []
   },
   "outputs": [],
   "source": [
    "project.enable_model_monitoring(base_period=1,image=image,deploy_histogram_data_drift_app=False)"
   ]
  },
  {
   "cell_type": "code",
   "execution_count": null,
   "id": "ee81d857-7c02-4687-bb3d-92f0f3e05c51",
   "metadata": {
    "tags": []
   },
   "outputs": [],
   "source": [
    "# Download the pre-trained Iris model\n",
    "# get_dataitem(\"https://s3.wasabisys.com/iguazio/models/iris/model.pkl\").download(\"model.pkl\")\n",
    "\n",
    "iris = load_iris()\n",
    "train_set = pd.DataFrame(\n",
    "    iris[\"data\"],\n",
    "    columns=[\"sepal_length_cm\", \"sepal_width_cm\", \"petal_length_cm\", \"petal_width_cm\"],\n",
    ")\n",
    "\n",
    "model_name = \"RandomForestClassifier\"\n",
    "\n",
    "# Log the model through the projects API so that it is available through the feature store API\n",
    "# TODO: log training dataset\n",
    "project.log_model(model_name, model_file=\"model-iris.pkl\", training_set=train_set)"
   ]
  },
  {
   "cell_type": "markdown",
   "id": "1f1993e5-94c8-472d-b026-e1f6e5f89297",
   "metadata": {
    "tags": []
   },
   "source": [
    "# Deploy"
   ]
  },
  {
   "cell_type": "code",
   "execution_count": null,
   "id": "c9ea9061-00d8-4914-b4a5-90c0beb23180",
   "metadata": {},
   "outputs": [],
   "source": [
    "def deply_serv(image=None, monitoring=True, key=\"my_model\", model_name=\"RandomForestClassifier\"):\n",
    "    # Import the serving function from the function hub\n",
    "    serving_fn = import_function(\n",
    "        \"hub://v2_model_server\", project=project_name, new_name=\"serving\"\n",
    "    )\n",
    "\n",
    "    # Add the model to the serving function's routing spec\n",
    "    serving_fn.add_model(\n",
    "        model_name, model_path=f\"store://models/{project_name}/{model_name}:latest\"\n",
    "    )\n",
    "    if monitoring:\n",
    "        tracking_policy = {\n",
    "            \"default_batch_intervals\": \"0 */2 * * *\",\n",
    "            \"stream_image\": image,\n",
    "            \"default_batch_image\": image,\n",
    "            # \"application_batch\": True,\n",
    "        }\n",
    "        serving_fn.set_tracking(tracking_policy=tracking_policy)\n",
    "\n",
    "    serving_fn.spec.build.image = image\n",
    "    serving_fn.spec.image = image\n",
    "    serving_fn.spec.build.requirements = [\"scikit-learn\"]\n",
    "\n",
    "    # Deploy the function\n",
    "    serving_fn.deploy()\n",
    "    return serving_fn"
   ]
  },
  {
   "cell_type": "code",
   "execution_count": null,
   "id": "df6a3cfc-e676-45f4-b816-f3293ff46785",
   "metadata": {},
   "outputs": [],
   "source": [
    "serving_fn = deply_serv(image=image)"
   ]
  },
  {
   "cell_type": "code",
   "execution_count": null,
   "id": "606db0d5-42b4-4d48-83a3-898583ae55a4",
   "metadata": {},
   "outputs": [],
   "source": [
    "notifications = [\n",
    "            {\n",
    "                \"kind\": \"slack\",\n",
    "                \"name\": \"\",\n",
    "                \"message\": \"A drift was detected\",\n",
    "                \"severity\": \"warning\",\n",
    "                \"when\": [\"now\"],\n",
    "                \"condition\": \"failed\",\n",
    "                \"secret_params\": {\n",
    "                    \"webhook\": \"https://hooks.slack.com\",\n",
    "                },\n",
    "            },\n",
    "        ]\n",
    "alert_data = mlrun.common.schemas.AlertConfig(\n",
    "            project=project_name,\n",
    "            name=\"drift_alert\",\n",
    "            summary=\"A drift was detected\",\n",
    "            severity=\"low\",\n",
    "            entity={\"kind\": \"model\", \"project\": project_name, \"id\": \"*\"},\n",
    "            trigger={\"events\": [\"drift_detected\"]},\n",
    "            criteria=None,\n",
    "            notifications=notifications,\n",
    "        ).dict()\n",
    "\n",
    "project.create_alert_config(\"slack_drift_alert\", alert_data)"
   ]
  },
  {
   "cell_type": "markdown",
   "id": "c1386e06-5bd0-4206-84a1-73d88dcf1bbb",
   "metadata": {
    "tags": []
   },
   "source": [
    "# Invoke the model"
   ]
  },
  {
   "cell_type": "code",
   "execution_count": null,
   "id": "d56d6d94-f40a-43d8-b9bf-9a6a8ca401b2",
   "metadata": {
    "scrolled": true,
    "tags": []
   },
   "outputs": [],
   "source": [
    "import json\n",
    "from time import sleep\n",
    "from random import choice, uniform\n",
    "\n",
    "iris = load_iris()\n",
    "iris_data = iris[\"data\"].tolist()\n",
    "\n",
    "model_name = \"RandomForestClassifier\"\n",
    "serving_1 = project.get_function(\"serving\")\n",
    "for i in range(200):\n",
    "    data_point = choice(iris_data)\n",
    "    # data_point = [0.5,0.5,0.5,0.5]\n",
    "    serving_1.invoke(\n",
    "        f\"v2/models/{model_name}/infer\", json.dumps({\"inputs\": [data_point, data_point]})\n",
    "    )\n",
    "    sleep(choice([0.01, 0.04]))"
   ]
  },
  {
   "cell_type": "markdown",
   "id": "367392df-0760-41ef-8881-b7e3b4bd90c9",
   "metadata": {
    "tags": []
   },
   "source": [
    "# APPLICATION REGISTRATION"
   ]
  },
  {
   "cell_type": "code",
   "execution_count": null,
   "id": "6c078d0e-34e3-4c50-8e4e-895414fa000e",
   "metadata": {},
   "outputs": [],
   "source": [
    "app = project.set_model_monitoring_function(\n",
    "    application_class=\"MyApp\",\n",
    "    name=\"myAppv2\",\n",
    "    image=image,\n",
    ")"
   ]
  },
  {
   "cell_type": "code",
   "execution_count": null,
   "id": "513d2462-8341-42fe-94ba-17adc99a5c38",
   "metadata": {},
   "outputs": [],
   "source": [
    "project.deploy_function(app)"
   ]
  },
  {
   "cell_type": "markdown",
   "id": "3073c72f-96cc-455e-89ff-f6f187b9756c",
   "metadata": {
    "tags": []
   },
   "source": [
    "# USER APPLICATION CODE"
   ]
  },
  {
   "cell_type": "code",
   "execution_count": null,
   "id": "181653e7-1a7e-4a05-8c29-ca3d4d12494e",
   "metadata": {},
   "outputs": [],
   "source": [
    "# mlrun: start-code"
   ]
  },
  {
   "cell_type": "code",
   "execution_count": null,
   "id": "6771fa6a-fcd6-4c3b-8b87-b17a083313c6",
   "metadata": {},
   "outputs": [],
   "source": [
    "import mlrun\n",
    "from mlrun.model_monitoring.application import (\n",
    "    ModelMonitoringApplicationBase,\n",
    "    ModelMonitoringApplicationResult,\n",
    ")\n",
    "from mlrun.datastore.targets import ParquetTarget\n",
    "import typing\n",
    "import pandas as pd\n",
    "import json\n",
    "from mlrun.artifacts import (\n",
    "    Artifact,\n",
    "    DatasetArtifact,\n",
    "    PlotlyArtifact,\n",
    "    TableArtifact,\n",
    "    update_dataset_meta,\n",
    ")\n",
    "import os\n",
    "import random\n",
    "from mlrun.artifacts.manager import ArtifactManager, extend_artifact_path\n",
    "\n",
    "from mlrun.datastore import store_manager\n",
    "\n",
    "\n",
    "class MyApp(ModelMonitoringApplicationBase):\n",
    "    def __init__(self):\n",
    "        self.name = \"a\"\n",
    "\n",
    "    def do_tracking(\n",
    "        self,\n",
    "        application_name: str,\n",
    "        sample_df_stats: pd.DataFrame,\n",
    "        feature_stats: pd.DataFrame,\n",
    "        sample_df: pd.DataFrame,\n",
    "        start_infer_time: pd.Timestamp,\n",
    "        end_infer_time: pd.Timestamp,\n",
    "        latest_request: pd.Timestamp,\n",
    "        endpoint_id: str,\n",
    "        output_stream_uri: str,\n",
    "    ) -> typing.Union[\n",
    "        ModelMonitoringApplicationResult, list[ModelMonitoringApplicationResult]\n",
    "    ]:\n",
    "        print(\"sample_df_stats.head()\")\n",
    "        print(sample_df_stats.head())\n",
    "        print(\"feature_stats.head()\")\n",
    "        print(feature_stats.head())\n",
    "        print(\"sample_df.head()\")\n",
    "        print(sample_df.head())\n",
    "\n",
    "        self.context.log_artifact(TableArtifact(\"current_stats\", df=sample_df_stats))\n",
    "        drift_result = random.uniform(-1,5)\n",
    "        if drift_result < 0:\n",
    "            status = mlrun.common.schemas.model_monitoring.constants.ResultStatusApp.irrelevant\n",
    "        elif drift_result < 3:\n",
    "            status = mlrun.common.schemas.model_monitoring.constants.ResultStatusApp.no_detection\n",
    "        elif drift_result < 4:\n",
    "            status = mlrun.common.schemas.model_monitoring.constants.ResultStatusApp.potential_detection\n",
    "        else:\n",
    "            status = mlrun.common.schemas.model_monitoring.constants.ResultStatusApp.detected\n",
    "        return ModelMonitoringApplicationResult(\n",
    "            name=\"data_drift_test\",\n",
    "            value=7.23,\n",
    "            kind=0,\n",
    "            status=mlrun.common.schemas.model_monitoring.constants.ResultStatusApp.detected,\n",
    "            extra_data={},\n",
    "        )"
   ]
  },
  {
   "cell_type": "code",
   "execution_count": null,
   "id": "0e7988b7-aa7a-49e6-9d3d-fd397299c407",
   "metadata": {},
   "outputs": [],
   "source": []
  }
 ],
 "metadata": {
  "kernelspec": {
   "display_name": "mlrun-extended",
   "language": "python",
   "name": "conda-env-mlrun-extended-py"
  },
  "language_info": {
   "codemirror_mode": {
    "name": "ipython",
    "version": 3
   },
   "file_extension": ".py",
   "mimetype": "text/x-python",
   "name": "python",
   "nbconvert_exporter": "python",
   "pygments_lexer": "ipython3",
   "version": "3.9.18"
  }
 },
 "nbformat": 4,
 "nbformat_minor": 5
}
