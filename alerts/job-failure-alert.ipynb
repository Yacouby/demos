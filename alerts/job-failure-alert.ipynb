{
 "cells": [
  {
   "cell_type": "markdown",
   "id": "27203d3a-2bcc-4c46-ada4-750b0bca3338",
   "metadata": {
    "tags": []
   },
   "source": [
    "# Setup the project"
   ]
  },
  {
   "cell_type": "code",
   "execution_count": null,
   "id": "23b02564-24ba-4a12-86fc-f03c5cd96f2e",
   "metadata": {},
   "outputs": [],
   "source": [
    "import mlrun\n",
    "from mlrun import get_or_create_project\n",
    "\n",
    "project_name = \"job-failure-test-project\"\n",
    "project = get_or_create_project(project_name)\n"
   ]
  },
  {
   "cell_type": "markdown",
   "id": "fdab0bd3-d8a7-49a8-95c9-9fcc70c476f3",
   "metadata": {
    "tags": []
   },
   "source": [
    "# Create an alert"
   ]
  },
  {
   "cell_type": "code",
   "execution_count": null,
   "id": "dd49be7a-0f32-4448-becc-9b9c1d4d4749",
   "metadata": {},
   "outputs": [],
   "source": [
    "notifications = [\n",
    "            {\n",
    "                \"kind\": \"slack\",\n",
    "                \"name\": \"\",\n",
    "                \"message\": \"Running a job has failed\",\n",
    "                \"severity\": \"warning\",\n",
    "                \"when\": [\"now\"],\n",
    "                \"condition\": \"failed\",\n",
    "                \"secret_params\": {\n",
    "                    \"webhook\": \"https://hooks.slack.com\",\n",
    "                },\n",
    "            }\n",
    "                ]\n",
    "alert_data = mlrun.common.schemas.AlertConfig(\n",
    "            project=project_name,\n",
    "            name=\"failure\",\n",
    "            summary=\"Running a job has failed\",\n",
    "            severity=\"low\",\n",
    "            entity={\"kind\": \"job\", \"project\": project_name, \"id\": \"*\"},\n",
    "            trigger={\"events\": [\"failed\"]},\n",
    "            criteria=None,\n",
    "            notifications=notifications,\n",
    "        ).dict()\n",
    "\n",
    "project.create_alert_config(\"failed\", alert_data)"
   ]
  },
  {
   "cell_type": "code",
   "execution_count": null,
   "id": "3b6f85cc-e7d0-4398-987c-60f85895fe8f",
   "metadata": {},
   "outputs": [],
   "source": [
    "%%writefile fn.py\n",
    "import mlrun\n",
    "\n",
    "@mlrun.handler()\n",
    "def fail_function(context):\n",
    "    raise Exception(\"This function intentionally fails\")\n"
   ]
  },
  {
   "cell_type": "markdown",
   "id": "8745393e-397a-461b-91c4-5d0e51a965f0",
   "metadata": {
    "tags": []
   },
   "source": [
    "# Create a job and make it fail"
   ]
  },
  {
   "cell_type": "code",
   "execution_count": null,
   "id": "91517821-f88a-4ff7-9065-fc6d339a8c5e",
   "metadata": {
    "tags": []
   },
   "outputs": [],
   "source": [
    "!pip install pytest\n",
    "import pytest\n",
    "\n",
    "function = mlrun.code_to_function(\n",
    "            name=\"test-func\",\n",
    "            project=project_name,\n",
    "            filename='fn.py',\n",
    "            handler=\"fail_function\",\n",
    "            kind=\"job\",\n",
    "            image=\"docker.io/yacouby1/mlrun:unstable3\",\n",
    "        )\n",
    "function.set_image_pull_configuration(image_pull_policy=\"Always\")\n",
    "task = mlrun.new_task()\n",
    "function.run(task)\n"
   ]
  },
  {
   "cell_type": "code",
   "execution_count": null,
   "id": "64c8c839-5558-4ef9-9f69-a57d3f90bd80",
   "metadata": {},
   "outputs": [],
   "source": []
  }
 ],
 "metadata": {
  "kernelspec": {
   "display_name": "mlrun-extended",
   "language": "python",
   "name": "conda-env-mlrun-extended-py"
  },
  "language_info": {
   "codemirror_mode": {
    "name": "ipython",
    "version": 3
   },
   "file_extension": ".py",
   "mimetype": "text/x-python",
   "name": "python",
   "nbconvert_exporter": "python",
   "pygments_lexer": "ipython3",
   "version": "3.9.18"
  }
 },
 "nbformat": 4,
 "nbformat_minor": 5
}
